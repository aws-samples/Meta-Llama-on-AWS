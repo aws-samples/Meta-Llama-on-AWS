{
 "cells": [
  {
   "cell_type": "code",
   "execution_count": null,
   "id": "684133cf-bda4-4bb4-89d2-782f73877f64",
   "metadata": {},
   "outputs": [],
   "source": [
    "import boto3\n",
    "import os\n",
    "from botocore.exceptions import ClientError\n",
    "\n",
    "# Initialize the S3 client\n",
    "s3 = boto3.client('s3')\n",
    "bucket_name = 'genai-accelerate-2024'\n",
    "subdirectory = 'llama-3-2-vision-folder'\n",
    "train_data_location = f\"s3://{bucket_name}/{subdirectory}\"\n",
    "\n",
    "# Files to upload (metadata.jsonl and images folder)\n",
    "files_to_upload = [\n",
    "    '/home/ec2-user/SageMaker/vision-workshop/dataset/metadata.jsonl',\n",
    "    '/home/ec2-user/SageMaker/vision-workshop/dataset/images'\n",
    "]\n",
    "\n",
    "for file_path in files_to_upload:\n",
    "    if os.path.isfile(file_path):\n",
    "        # Upload single file\n",
    "        file_name = os.path.basename(file_path)\n",
    "        key_path = f\"{subdirectory}/{file_name}\"\n",
    "        try:\n",
    "            s3.upload_file(file_path, bucket_name, key_path)\n",
    "            print(f\"File {file_name} uploaded successfully to {key_path}.\")\n",
    "        except ClientError as e:\n",
    "            print(f\"Error uploading file {file_name}: {e}\")\n",
    "    elif os.path.isdir(file_path):\n",
    "        # Upload directory\n",
    "        for root, _, files in os.walk(file_path):\n",
    "            for file in files:\n",
    "                full_file_path = os.path.join(root, file)\n",
    "                relative_path = os.path.relpath(full_file_path, start=file_path)\n",
    "                s3_key = f\"{subdirectory}/images/{relative_path}\"\n",
    "                try:\n",
    "                    s3.upload_file(full_file_path, bucket_name, s3_key)\n",
    "                    print(f\"File {file} uploaded successfully to {s3_key}.\")\n",
    "                except ClientError as e:\n",
    "                    print(f\"Error uploading file {file} to {s3_key}: {e}\")"
   ]
  },
  {
   "cell_type": "code",
   "execution_count": null,
   "id": "8dabdbb2-7c9a-4f62-ba17-aa05a562df2d",
   "metadata": {},
   "outputs": [],
   "source": [
    "from sagemaker import hyperparameters\n",
    "\n",
    "# Set model ID and version\n",
    "model_id, model_version = \"meta-vlm-llama-3-2-11b-vision-instruct\", \"*\"\n",
    "\n",
    "my_hyperparameters = hyperparameters.retrieve_default(\n",
    "    model_id=model_id, model_version=model_version\n",
    ")\n",
    "print(my_hyperparameters)"
   ]
  },
  {
   "cell_type": "code",
   "execution_count": null,
   "id": "0ffbed0d-28ed-4c95-a2c5-40202582be9e",
   "metadata": {},
   "outputs": [],
   "source": [
    "my_hyperparameters[\"epoch\"] = \"4\""
   ]
  },
  {
   "cell_type": "code",
   "execution_count": null,
   "id": "8b09144a-08db-4554-bcca-3e023cc21bd1",
   "metadata": {},
   "outputs": [],
   "source": [
    "hyperparameters.validate(\n",
    "    model_id=model_id, model_version=model_version, hyperparameters=my_hyperparameters\n",
    ")"
   ]
  },
  {
   "cell_type": "code",
   "execution_count": null,
   "id": "f3943fa0-79d4-4c00-acd2-169894aaae10",
   "metadata": {},
   "outputs": [],
   "source": []
  }
 ],
 "metadata": {
  "kernelspec": {
   "display_name": "conda_tensorflow2_p310",
   "language": "python",
   "name": "conda_tensorflow2_p310"
  },
  "language_info": {
   "codemirror_mode": {
    "name": "ipython",
    "version": 3
   },
   "file_extension": ".py",
   "mimetype": "text/x-python",
   "name": "python",
   "nbconvert_exporter": "python",
   "pygments_lexer": "ipython3",
   "version": "3.10.14"
  }
 },
 "nbformat": 4,
 "nbformat_minor": 5
}
