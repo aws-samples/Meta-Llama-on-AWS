{
 "cells": [
  {
   "cell_type": "markdown",
   "id": "5ca1d972-87d9-4956-8991-215e0da5dd96",
   "metadata": {},
   "source": [
    "# Advanced Prompt Engineering for Meta Llama 3\n",
    "---\n",
    "\n",
    "> *This notebook should work well with the **`Python 3`** kernel in SageMaker Studio on **`us-west-2`** region*\n",
    "\n",
    "## What is Prompt Engineering?\n",
    "Prompt engineering is an emerging discipline focused on developing and optimizing prompts to efficiently adapt language model to various tasks. By using various prompt engineering techniques, you can often get better responses from the foundation models (FM) without spending efforts and resources on finetuning them.\n",
    "\n",
    "There are multiple advanced prompt engineering techniques, this notebook will covers:\n",
    "1. **Few-shots example**: This technique involves providing the large language model with a few examples (normally, these can be between 3 and 5) of the desired task or output. It helps the model learn patterns from limited data, making it particularly useful when extensive datasets are unavailable. Few-shot prompting can enable the model to generalize from minimal input effectively.\n",
    "2. **Chain of Thoughts (CoT)**: This technique encourages the language model to articulate its reasoning step-by-step, which can improve transparency and understanding of the model's thought and decision making process. By breaking down complex problems into more manageable parts, CoT prompting increases problem-solving accuracy.\n",
    "3. **Self-consistency**: This technique enhances the performance, and consistency of the language models by generating multiple outputs for the same input and selecting the most consistent answer among them.\n",
    "4. **ReAct (Reasoning and Acting)**: This technique combines reasoning with action by having the model generate both logical reasoning steps and specific actions to take based on those steps. This allows for more dynamic interactions where the model can adapt its responses based on ongoing interactions.\n",
    "5. **Prompt chaining**: This technique involves linking (hence, chaining) multiple prompts together to create a coherent, consistent flow of interactions. By referencing previous inputs or outputs, prompt chaining encourages deeper interactions and provides more consistent responses from language model.\n",
    "\n",
    "\n",
    "### Implementation\n",
    "In this notebook, we will show how to implement various prompt engineering techniques with **Meta Llama 3** foundation model, using the **Amazon Bedrock API** with `Boto3` client.\n",
    "\n",
    "\n",
    "<div class=\"alert alert-block alert-info\">\n",
    "    <b>Remark</b>: If this is your first time user, please make sure you are enable the access to Llama model on the Amazon Bedrock console.\n",
    "</div>"
   ]
  },
  {
   "cell_type": "markdown",
   "id": "7f56b9e4-97c7-45cf-8a77-d1ffdce0962f",
   "metadata": {},
   "source": [
    "### Set up\n",
    "---\n",
    "\n",
    "**Note**: You can ignore the error message during the `pip install`."
   ]
  },
  {
   "cell_type": "code",
   "execution_count": 1,
   "id": "b6933bf8-7093-4d05-8dba-f02434b72123",
   "metadata": {
    "tags": []
   },
   "outputs": [
    {
     "name": "stdout",
     "output_type": "stream",
     "text": [
      "Note: you may need to restart the kernel to use updated packages.\n"
     ]
    }
   ],
   "source": [
    "%pip install --upgrade --quiet boto3"
   ]
  },
  {
   "cell_type": "code",
   "execution_count": 2,
   "id": "38e4ff1f-5c0b-4616-8c3f-17bc9ac9efb6",
   "metadata": {
    "tags": []
   },
   "outputs": [],
   "source": [
    "import boto3\n",
    "from botocore.exceptions import ClientError\n",
    "import ipywidgets as widgets\n",
    "import json\n",
    "import time"
   ]
  },
  {
   "cell_type": "markdown",
   "id": "2384b0d3-1e41-4547-909a-816b211e8fa0",
   "metadata": {},
   "source": [
    "If you want to use other meta foundation model, here is the `model_id` for 8b and 405b:\n",
    "\n",
    "- Llama 3.1 8B: `'meta.llama3-1-8b-instruct-v1:0'`\n",
    "- Llama 3.1 70B: `'meta.llama3-1-70b-instruct-v1:0'`\n",
    "- Llama 3.1 405B: `'meta.llama3-1-405b-instruct-v1:0'`\n",
    "- Llama 3 8B: `'meta.llama3-8b-instruct-v1:0'`\n",
    "- Llama 3 70B: `'meta.llama3-70b-instruct-v1:0'`"
   ]
  },
  {
   "cell_type": "code",
   "execution_count": 3,
   "id": "a578ab89-85de-4f37-9089-030e77767d1d",
   "metadata": {
    "tags": []
   },
   "outputs": [
    {
     "data": {
      "application/vnd.jupyter.widget-view+json": {
       "model_id": "351deac0da0545169be829470e65b4bc",
       "version_major": 2,
       "version_minor": 0
      },
      "text/plain": [
       "Dropdown(description='Select model:', index=3, options=('meta.llama3-1-8b-instruct-v1:0', 'meta.llama3-1-70b-i…"
      ]
     },
     "execution_count": 3,
     "metadata": {},
     "output_type": "execute_result"
    }
   ],
   "source": [
    "model_selection = widgets.Dropdown(\n",
    "    options=[\n",
    "        'meta.llama3-1-8b-instruct-v1:0',\n",
    "        'meta.llama3-1-70b-instruct-v1:0',\n",
    "        'meta.llama3-1-405b-instruct-v1:0',\n",
    "        'meta.llama3-8b-instruct-v1:0',\n",
    "        'meta.llama3-70b-instruct-v1:0'\n",
    "    ],\n",
    "    value='meta.llama3-8b-instruct-v1:0',\n",
    "    description='Select model:',\n",
    "    disabled=False,\n",
    ")\n",
    "model_selection"
   ]
  },
  {
   "cell_type": "code",
   "execution_count": 4,
   "id": "df90827e-22bc-4ac6-8797-1ae9b52a4876",
   "metadata": {
    "tags": []
   },
   "outputs": [
    {
     "name": "stdout",
     "output_type": "stream",
     "text": [
      "You selected: meta.llama3-8b-instruct-v1:0\n"
     ]
    }
   ],
   "source": [
    "model_id = model_selection.value\n",
    "print('You selected: {}'.format(model_id))"
   ]
  },
  {
   "cell_type": "code",
   "execution_count": 5,
   "id": "c3290a21-7083-4d4d-a19f-db3dea46602b",
   "metadata": {
    "tags": []
   },
   "outputs": [],
   "source": [
    "boto_session = boto3.session.Session()\n",
    "bedrock_runtime_client = boto_session.client(\n",
    "    service_name='bedrock-runtime',\n",
    "    region_name=boto_session.region_name,\n",
    ")"
   ]
  },
  {
   "cell_type": "markdown",
   "id": "9cdcf448-0d63-4edf-a36c-bd69905212ac",
   "metadata": {},
   "source": [
    "For this notebook, we will use `converse` API from Boto3 client.\n",
    "\n",
    "For more details please refer to boto3 documentation [here](https://boto3.amazonaws.com/v1/documentation/api/latest/reference/services/bedrock-runtime/client/converse.html) and the user guide [here](https://docs.aws.amazon.com/bedrock/latest/userguide/model-parameters-meta.html)"
   ]
  },
  {
   "cell_type": "code",
   "execution_count": 6,
   "id": "d9394a21-7bc7-4cac-89a7-f4e7111dcb06",
   "metadata": {
    "tags": []
   },
   "outputs": [],
   "source": [
    "def generate_text(\n",
    "    model_id: str,\n",
    "    user_message: str,\n",
    "    max_tokens: int=1024,\n",
    "    temperature: float=0.2,\n",
    "    top_p: float=0.8,\n",
    "    verbose: bool=False\n",
    ") -> dict:\n",
    "    output_dict = dict()\n",
    "    message_payload = [{\n",
    "        'role': 'user',\n",
    "        'content': [{\n",
    "            'text': user_message\n",
    "        }],\n",
    "    }]\n",
    "    inference_config = {\n",
    "        'maxTokens': max_tokens,\n",
    "        'temperature': temperature,\n",
    "        'topP': top_p,\n",
    "    }\n",
    "    if verbose:\n",
    "        print(' -- You are using: {}'.format(model_id))\n",
    "        print(' -- Here is the inference configuration:\\n{}'.format(json.dumps(inference_config, indent=2)))\n",
    "\n",
    "    try:\n",
    "        resp = bedrock_runtime_client.converse(\n",
    "            modelId=model_id,\n",
    "            messages=message_payload,\n",
    "            inferenceConfig=inference_config,\n",
    "            additionalModelRequestFields={}\n",
    "        )\n",
    "        output_dict['text'] = resp['output']['message']['content'][0]['text'].strip()\n",
    "        output_dict['usage'] = resp['usage']\n",
    "        output_dict['metrics'] = resp['metrics']\n",
    "\n",
    "    except (ClientError, Exception) as e:\n",
    "        print('Error: cannot invoke {model_id}. Reason: {error}'.format(model_id=model_id, error=e))\n",
    "\n",
    "    return output_dict\n",
    "\n"
   ]
  },
  {
   "cell_type": "markdown",
   "id": "33c07427-456e-4cb4-806b-62ecb03c40ae",
   "metadata": {},
   "source": [
    "## Few-shot prompting\n",
    "---\n",
    "This  technique involves providing the language model with a **few** specific examples of the desired tasks or outputs, generally resulting in more accurate, and consistent output. The user will supplies a few **input-output** pairs that illustrate the desired response.\n",
    "\n"
   ]
  },
  {
   "cell_type": "markdown",
   "id": "048f5dac-48fd-47f5-8a9c-c44c019c6c34",
   "metadata": {},
   "source": [
    "First, let's look at the input-output (zero-shot) prompting for movie sentimental use case."
   ]
  },
  {
   "cell_type": "code",
   "execution_count": 7,
   "id": "cf796339-28a0-440c-b886-dad39ee8a7e2",
   "metadata": {
    "tags": []
   },
   "outputs": [
    {
     "name": "stdout",
     "output_type": "stream",
     "text": [
      "I would rate this comment 2 stars out of 5. The comment is very brief and lacks specific details or reasons why the movie is excellent. It's a very general and vague statement that doesn't provide much insight or value to others. A more detailed and thoughtful comment would be more helpful and deserving of a higher rating.\n"
     ]
    }
   ],
   "source": [
    "user_prompt = '''Please rate this comment from the scale of 1 to 5 stars.\n",
    "Here is the comment: This movie is excellent.\n",
    "'''\n",
    "\n",
    "resp = generate_text(model_id, user_prompt)\n",
    "print(resp['text'])"
   ]
  },
  {
   "cell_type": "markdown",
   "id": "0a75d560-e174-4f9c-bd45-7667df05a952",
   "metadata": {},
   "source": [
    "Let's continue with movie sentimental use case but with guidelines on how to rate the movie."
   ]
  },
  {
   "cell_type": "code",
   "execution_count": 8,
   "id": "41a516cf-a4a6-4d6f-af2b-c00349fe944d",
   "metadata": {
    "tags": []
   },
   "outputs": [
    {
     "name": "stdout",
     "output_type": "stream",
     "text": [
      "Based on the scale provided, I would rate the comment \"This movie is excellent.\" as 5 stars. The language used is very positive, indicating a high level of enthusiasm and praise for the movie. The comment is similar in tone to \"Probably the best movie of my life!\", which is also rated as 5 stars.\n"
     ]
    }
   ],
   "source": [
    "user_prompt = '''Please rate this comment from the scale of 1 to 5 stars\n",
    "Probably the best movie of my life!: 5 star\n",
    "I'm ok with this movie: 3 star\n",
    "This movie is waste of time: 1 star\n",
    "\n",
    "Here is the comment: This movie is excellent.\n",
    "'''\n",
    "resp = generate_text(model_id, user_prompt)\n",
    "print(resp['text'])"
   ]
  },
  {
   "cell_type": "markdown",
   "id": "e8551ac8-539b-4370-9571-db157ef8be43",
   "metadata": {},
   "source": [
    "As observed from the output, language model provides more consistent, and more accurate rating."
   ]
  },
  {
   "cell_type": "markdown",
   "id": "ae43ccdc-e50a-4727-bc58-9fc8d572c774",
   "metadata": {},
   "source": [
    "## Chain-of-Thoughts (CoT)\n",
    "---\n",
    "This technique involves the language model to articulate its reasoning or follow specific prompt steps, which can improve transparency, help guide its thinking, and generate a more coherent and relevant response. By breaking down complex problems into more manageable steps, CoT prompting improves problem solving accuracy."
   ]
  },
  {
   "cell_type": "markdown",
   "id": "298f16f8-483a-40ee-989b-edde812aefef",
   "metadata": {},
   "source": [
    "Let's start with an example of generic prompts."
   ]
  },
  {
   "cell_type": "code",
   "execution_count": 9,
   "id": "cd8ae45a-87c7-479e-bfaf-f6befe19794b",
   "metadata": {
    "tags": []
   },
   "outputs": [
    {
     "name": "stdout",
     "output_type": "stream",
     "text": [
      "Round 1\n",
      "Tokyo Tower! It's an iconic landmark and a must-visit attraction in Tokyo, Japan. Completed in 1958, Tokyo Tower stands at an impressive 332.6 meters (1,091 feet) tall, making it one of the tallest structures in the world at the time of its completion.\n",
      "\n",
      "The tower's design is a nod to the Eiffel Tower in Paris, with a similar lattice-like structure. However, Tokyo Tower has a unique, octagonal shape, with a distinctive white and orange color scheme. The tower's height is divided into three sections: the first section is a square base, the second section is a circular middle section, and the top section is a spherical observation deck.\n",
      "\n",
      "Tokyo Tower is not only an engineering marvel but also a cultural icon. It was built to commemorate Japan's post-war reconstruction and has since become a symbol of Tokyo and Japan. The tower is also a popular spot for tourists and locals alike, offering breathtaking views of the city from its observation decks.\n",
      "\n",
      "Visitors can take elevators to the main observation deck at 150 meters (492 feet) high, which offers stunning views of Tokyo's skyline. On a clear day, you can see as far as Mount Fuji, the iconic Japanese mountain. There are also two smaller observation decks, one at 100 meters (328 feet) and another at 250 meters (820 feet), offering different perspectives on the city.\n",
      "\n",
      "Tokyo Tower is also a popular spot for romantic dates, with couples often visiting the tower to take in the stunning views and enjoy the romantic atmosphere. In the evening, the tower is beautifully lit up, making it a must-see attraction in Tokyo.\n",
      "\n",
      "In addition to its stunning views, Tokyo Tower is also home to several shops, restaurants, and cafes, making it a great place to grab a bite to eat or do some souvenir shopping.\n",
      "\n",
      "Overall, Tokyo Tower is an unforgettable experience that offers a unique perspective on this vibrant and fascinating city. Whether you're a first-time visitor or a seasoned traveler, Tokyo Tower is a must-visit attraction that is sure to leave you in awe.\n",
      " ----- \n",
      "Round 2\n",
      "Tokyo Tower! It's an iconic landmark and a must-visit attraction in Tokyo, Japan. Completed in 1958, Tokyo Tower is a 333-meter-tall (1,093 feet) communications tower that has become a symbol of the city and a popular tourist destination.\n",
      "\n",
      "Here are some interesting facts about Tokyo Tower:\n",
      "\n",
      "1. Design: Tokyo Tower was designed by architect Takemoto Yoshikazu and engineer Nishizawa Kenji. The tower's unique shape is inspired by the Eiffel Tower in Paris, but with a more modern and futuristic twist.\n",
      "2. Height: At the time of its completion, Tokyo Tower was the tallest structure in the world, surpassing the Eiffel Tower. Although it's no longer the tallest, it remains one of the most recognizable landmarks in Tokyo.\n",
      "3. Function: Tokyo Tower was originally built as a communications tower to serve as a broadcasting tower for radio and television signals. Today, it also houses a museum, observation decks, and a restaurant.\n",
      "4. Observation Decks: The tower has two observation decks: the Main Deck at 150 meters (492 feet) and the Special Observatory at 250 meters (820 feet). The views from the top are breathtaking, offering a panoramic view of the city.\n",
      "5. Museum: The Tokyo Tower Museum is located at the base of the tower and features exhibits on the history of Tokyo Tower, as well as exhibits on Japanese culture and technology.\n",
      "6. Lighting: Tokyo Tower is illuminated at night, making it a stunning sight to behold. The tower's lighting system is designed to change colors and patterns, making it a popular spot for photographers.\n",
      "7. Accessibility: Tokyo Tower is easily accessible by public transportation, with several subway lines and bus routes nearby. Visitors can also walk or take a taxi to the tower.\n",
      "8. Events: Tokyo Tower hosts various events and exhibitions throughout the year, including concerts, festivals, and cultural performances.\n",
      "\n",
      "In summary, Tokyo Tower is an iconic landmark that offers stunning views of the city, a fascinating museum, and a unique experience for visitors. Whether you're interested in history, technology, or simply want to take in the breathtaking views, Tokyo Tower is a must-visit attraction in Tokyo.\n",
      " ----- \n"
     ]
    }
   ],
   "source": [
    "user_prompt = '''Can you describe Tokyo Tower to your audience?\n",
    "'''\n",
    "\n",
    "# Let's generate 2 examples for comparison\n",
    "for i in range(2):\n",
    "    print('Round {}'.format(i+1))\n",
    "    resp = generate_text(model_id, user_prompt, max_tokens=1024, temperature=.5)\n",
    "    print(resp['text'])\n",
    "    print(' ----- ')"
   ]
  },
  {
   "cell_type": "markdown",
   "id": "8756483a-2659-4451-a3e4-f2cfdec8bb97",
   "metadata": {},
   "source": [
    "Now let's test with CoT prompting techniques."
   ]
  },
  {
   "cell_type": "code",
   "execution_count": 10,
   "id": "a7894ae3-4d5f-4cf0-b7fc-f2c730a1bf83",
   "metadata": {
    "tags": []
   },
   "outputs": [
    {
     "name": "stdout",
     "output_type": "stream",
     "text": [
      "Round 1\n",
      "Tokyo Tower!\n",
      "\n",
      "**What is it?**\n",
      "Tokyo Tower is a iconic communications tower located in the heart of Tokyo, Japan. Standing at an impressive 332.6 meters (1,091 feet) tall, it's one of the tallest towers in the world when it was first built in 1958. The tower is a broadcasting tower, designed to transmit radio and television signals to the city.\n",
      "\n",
      "**When was it built, and how long did it take?**\n",
      "Construction on Tokyo Tower began in 1957 and took approximately two years to complete, with a total of 3,400 tons of steel used in its construction. The tower was officially opened on December 23, 1958.\n",
      "\n",
      "**Why was it built?**\n",
      "Tokyo Tower was built to serve as a broadcasting tower for Tokyo's growing radio and television industry. At the time, Japan was experiencing rapid economic growth, and the government wanted to create a symbol of Tokyo's modernization and technological advancements. The tower was also designed to be a iconic landmark, showcasing Japan's engineering and architectural capabilities.\n",
      "\n",
      "**Why should you visit this place?**\n",
      "Tokyo Tower is an absolute must-visit attraction in Tokyo! Here are some reasons why:\n",
      "\n",
      "* **Panoramic views**: Take the elevator to the observation deck on the 5th floor for breathtaking views of Tokyo's skyline, including the famous Tokyo Skytree.\n",
      "* **Unique architecture**: The tower's lattice-like design is a work of art, and you can even spot the intricate details up close.\n",
      "* **History and nostalgia**: Tokyo Tower has been a part of Japanese history and culture for over 60 years, making it a fascinating spot for history buffs.\n",
      "* **Food and shopping**: The tower's base has a variety of restaurants, cafes, and shops, including a souvenir shop with exclusive Tokyo Tower merchandise.\n",
      "* **Fun facts**: Did you know that Tokyo Tower is designed to sway slightly in the wind to prevent damage from earthquakes? Or that it's painted with a special rust-resistant coating to protect it from the elements?\n",
      "\n",
      "Some fun facts to engage with your audience:\n",
      "\n",
      "* Tokyo Tower was originally intended to be 300 meters tall, but the design was modified to make it taller to accommodate more broadcasting equipment.\n",
      "* The tower's distinctive white and orange color scheme was chosen to make it visible from a distance, even in the foggy Tokyo weather.\n",
      "* Tokyo Tower has been featured in numerous films, TV shows, and anime, including the popular Japanese anime series \"Neon Genesis Evangelion\".\n",
      "\n",
      "In conclusion, Tokyo Tower is an iconic landmark that offers stunning views, unique architecture, and a glimpse into Japan's rich history and culture. Whether you're a history buff, a foodie, or just looking for a unique experience, Tokyo Tower is a must-visit attraction in Tokyo!\n",
      "-----\n",
      "\n",
      "\n",
      "Round 2\n",
      "Tokyo Tower! A iconic symbol of Japan's capital city, Tokyo Tower is a must-visit attraction that offers breathtaking views of the city and a glimpse into Japan's rich history.\n",
      "\n",
      "**What is it?**\n",
      "Tokyo Tower is a 333-meter-tall (1,093 ft) communications tower located in the heart of Tokyo, Japan. It's a steel lattice tower with a unique design that's both functional and aesthetically pleasing.\n",
      "\n",
      "**When was it built, and how long did it take?**\n",
      "Construction on Tokyo Tower began in 1957 and took approximately 3 years to complete, with the tower officially opening on December 23, 1960. The tower was built to commemorate Japan's post-war reconstruction and to serve as a symbol of the country's growth and progress.\n",
      "\n",
      "**Why was it built?**\n",
      "Tokyo Tower was built to serve as a radio broadcasting tower, providing a central location for radio and television signals to be transmitted across the city. At the time, Japan was in dire need of a reliable communication system, and Tokyo Tower was designed to fill that gap. The tower's unique design also made it an attractive landmark and a symbol of Japan's modernization.\n",
      "\n",
      "**Why should you visit?**\n",
      "Tokyo Tower is an absolute must-visit attraction in Tokyo! Here are just a few reasons why:\n",
      "\n",
      "* **Breathtaking views**: The tower's observation decks offer stunning 360-degree views of the city, making it a perfect spot for photographers and those looking to take in the sights.\n",
      "* **Historical significance**: Tokyo Tower is a piece of Japan's history, and visiting it gives you a glimpse into the country's post-war reconstruction and growth.\n",
      "* **Unique design**: The tower's lattice design is unlike anything else in the world, making it a fascinating architectural wonder.\n",
      "* **Fun facts**: Did you know that Tokyo Tower was originally intended to be a 200-meter-tall tower, but it was later increased to 333 meters due to the tower's popularity? Or that the tower's antenna is actually a giant metal sphere that's 130 meters tall?\n",
      "\n",
      "Some fun facts to engage with your audience:\n",
      "\n",
      "* Tokyo Tower is often compared to the Eiffel Tower in Paris, but it's actually 13 meters taller!\n",
      "* The tower's lattice design is made up of over 4,000 individual steel beams.\n",
      "* Tokyo Tower is a popular spot for weddings, with over 100 couples getting married at the tower every year.\n",
      "* The tower's observation decks are so popular that they can accommodate over 1,000 visitors at a time!\n",
      "\n",
      "In conclusion, Tokyo Tower is an iconic landmark that offers a unique blend of history, architecture, and stunning views. Whether you're a history buff, a photographer, or just looking for a unique experience, Tokyo Tower is a must-visit attraction in Tokyo.\n",
      "-----\n",
      "\n",
      "\n"
     ]
    }
   ],
   "source": [
    "user_prompt = '''Can you describe Tokyo Tower to your audience? Begin with:\n",
    "1. What is it\n",
    "2. When it was built, and how long it took them to build\n",
    "3. Why it was built\n",
    "4. End it with why should I visit this place, throw in fun facts to engage with the audiences.\n",
    "'''\n",
    "\n",
    "for i in range(2):\n",
    "    print('Round {}'.format(i+1))\n",
    "    resp = generate_text(model_id, user_prompt, max_tokens=1024, temperature=.5)\n",
    "    print(resp['text'])\n",
    "    print('-----\\n\\n')"
   ]
  },
  {
   "cell_type": "markdown",
   "id": "3cb8603b-3d7d-4df8-8e98-f538e3a3d4c7",
   "metadata": {},
   "source": [
    "As you can see from the responses, the language model responds to user in more structured and consistent approach. This way we can provide more control on the language model's output."
   ]
  },
  {
   "cell_type": "markdown",
   "id": "95128fea-6afa-4a05-953e-ee7f856fa68e",
   "metadata": {},
   "source": [
    "## Self-consistency \n",
    "---\n",
    "The language models are probabilistic, so even with Chain-of-Thought technique, a single generation might produce incorrect or inconsistent results. With self-consistency, it selects the most frequent answer from multiple generations, hence improving the consistency to the user.\n",
    "\n",
    "Let's examine the example for customer support use case."
   ]
  },
  {
   "cell_type": "code",
   "execution_count": 11,
   "id": "46ba8d52-e4e2-4ac2-bb71-d090eac6e3e9",
   "metadata": {
    "tags": []
   },
   "outputs": [
    {
     "name": "stdout",
     "output_type": "stream",
     "text": [
      "Round 1\n",
      "A common customer service conundrum! Here are the steps I would take if a customer ordered a laptop but received a tablet instead:\n",
      "\n",
      "1. **Acknowledge and apologize**: Respond promptly to the customer's concern, acknowledging their issue and apologizing for the mistake. This sets a positive tone for the resolution process.\n",
      "\n",
      "Example: \"Dear [Customer], thank you for reaching out to us about the issue with your recent order. I apologize for the mistake and assure you that we're here to help resolve it as quickly as possible.\"\n",
      "\n",
      "2. **Verify the order and product**: Confirm the customer's order details, including the product ordered and the product received. This ensures accuracy and helps identify the root cause of the issue.\n",
      "\n",
      "Example: \"Can you please confirm your order number and the product you received? I'd like to verify the details to better assist you.\"\n",
      "\n",
      "3. **Offer a solution**: Depending on the situation, I would offer one of the following solutions:\n",
      "\t* **Replace the product**: If the tablet is still within the return window or has not been used, I would offer to replace it with the correct laptop.\n",
      "\t* **Return the product**: If the customer is not interested in keeping the tablet, I would guide them through the return process and provide a return shipping label.\n",
      "\t* **Refund or store credit**: If the customer has already used the tablet or is not interested in keeping it, I would offer a full refund or store credit for the correct laptop.\n",
      "\n",
      "Example: \"Based on our investigation, it appears that you received a tablet instead of a laptop. I'd like to offer you the option to return the tablet and receive a replacement laptop or a full refund. Which option would you prefer?\"\n",
      "\n",
      "4. **Provide a resolution timeline**: Communicate the expected timeline for resolving the issue, including any necessary steps or actions required from the customer.\n",
      "\n",
      "Example: \"Once we receive the returned tablet, we'll process your replacement laptop or refund within [timeframe]. You'll receive an email with tracking information once the replacement is shipped or the refund is processed.\"\n",
      "\n",
      "5. **Follow up**: After the issue is resolved, I would follow up with the customer to ensure they're satisfied with the outcome and to gather feedback on the experience.\n",
      "\n",
      "Example: \"Hi [Customer], I wanted to follow up on the issue with your laptop order. We've resolved the issue, and I hope you're enjoying your new laptop. If you have any further concerns or feedback, please don't hesitate to reach out.\"\n",
      "\n",
      "By following these steps, you can ensure a smooth and satisfactory resolution for the customer, while also maintaining a positive reputation for your company.\n",
      "-----\n",
      "\n",
      "\n",
      "Round 2\n",
      "A common customer service scenario! Here are the steps I would take:\n",
      "\n",
      "1. **Acknowledge and apologize**: Respond promptly to the customer's concern, acknowledging their issue and apologizing for the mistake. This sets the tone for a positive resolution.\n",
      "\n",
      "Example: \"Dear [Customer], thank you for reaching out to us about the issue with your recent order. I apologize for the mistake and any inconvenience it may have caused.\"\n",
      "\n",
      "2. **Gather information**: Ask the customer to provide more details about their order, such as the order number, the laptop they were expecting, and the tablet they received. This helps to clarify the situation and identify the root cause of the error.\n",
      "\n",
      "Example: \"Can you please provide me with your order number and a description of the laptop you were expecting? Additionally, can you tell me more about the tablet you received, including the model number and any packaging or documentation that came with it?\"\n",
      "\n",
      "3. **Verify the issue**: Check the customer's order and inventory records to confirm that a mistake was made. This ensures that the issue is not a simple miscommunication or misunderstanding.\n",
      "\n",
      "4. **Offer a solution**: Depending on the situation, I would offer one of the following solutions:\n",
      "\t* **Replace the tablet with the correct laptop**: If the mistake was made by our warehouse or shipping team, I would offer to send the correct laptop to the customer as soon as possible.\n",
      "\t* **Provide a refund or store credit**: If the customer prefers not to wait for the correct laptop to be shipped, I would offer a full refund or store credit for the amount of the laptop.\n",
      "\t* **Offer a discount or incentive**: If the customer is willing to keep the tablet and wait for the correct laptop, I would offer a discount or incentive to make up for the inconvenience.\n",
      "\n",
      "Example: \"Based on our investigation, it appears that we made an error with your order. I'd like to offer to send the correct laptop to you as soon as possible. Alternatively, if you'd prefer, we can provide a full refund or store credit for the amount of the laptop. Which option would you prefer?\"\n",
      "\n",
      "5. **Follow up and ensure resolution**: Once the customer has accepted the solution, I would follow up to ensure that the issue is fully resolved. This includes verifying that the correct laptop has been shipped or that the refund/store credit has been processed.\n",
      "\n",
      "Example: \"I've gone ahead and processed the refund for the laptop. You should receive an email confirmation shortly. If you have any further questions or concerns, please don't hesitate to reach out. Thank you for your patience and understanding.\"\n",
      "\n",
      "By following these steps, I believe that the customer's issue can be resolved quickly and efficiently, while also maintaining a positive relationship with the customer.\n",
      "-----\n",
      "\n",
      "\n"
     ]
    }
   ],
   "source": [
    "user_prompt = '''\n",
    "If a customer have ordered a laptop but received a tablet instead.\n",
    "What are the steps you will take?\n",
    "'''\n",
    "for i in range(2):\n",
    "    print('Round {}'.format(i+1))\n",
    "    resp = generate_text(model_id, user_prompt)\n",
    "    print(resp['text'])\n",
    "    print('-----\\n\\n')\n",
    "    time.sleep(2)"
   ]
  },
  {
   "cell_type": "code",
   "execution_count": 12,
   "id": "03d96f30-19a8-45ca-8b2b-5476304b13aa",
   "metadata": {
    "tags": []
   },
   "outputs": [
    {
     "name": "stdout",
     "output_type": "stream",
     "text": [
      "Round 1\n",
      "Here's an example of how the support agent could handle the situation:\n",
      "\n",
      "**Initial Response**\n",
      "\n",
      "\"Hello [Customer Name], thank you for reaching out to us about the issue with your recent order. I apologize for the mistake - it appears that you received a tablet instead of the laptop you ordered. I'm so sorry for the inconvenience this has caused.\n",
      "\n",
      "Can you please confirm the order number and the tablet's serial number so I can look into this further? Additionally, would you be available to return the tablet to us at your earliest convenience?\"\n",
      "\n",
      "**Return Process**\n",
      "\n",
      "\"Thank you for providing the necessary information. I've gone ahead and initiated a return label for the tablet. You should receive an email with the return shipping instructions shortly. Please make sure to package the tablet securely and include all original accessories before shipping it back to us.\n",
      "\n",
      "Once we receive the tablet, we'll process a refund for the full amount of the order. If you have any questions or concerns about the return process, please don't hesitate to reach out to me directly.\n",
      "\n",
      "**Laptop Shipment**\n",
      "\n",
      "\"I've also gone ahead and expedited the shipping of your laptop. You should receive it within the next [timeframe, e.g. 3-5 business days]. You'll receive an email with tracking information once it ships, so you can keep an eye on its progress.\n",
      "\n",
      "Again, I apologize for the mistake and any inconvenience it may have caused. If there's anything else I can do to make things right, please let me know. Your satisfaction is our top priority, and I'm committed to ensuring that you receive the correct product as soon as possible.\"\n",
      "\n",
      "**Follow-up**\n",
      "\n",
      "\"Hi [Customer Name], just wanted to follow up on the return and shipment of your laptop. We've received the tablet back and processed the refund. Your laptop is on its way to you, and you should receive it within the next [timeframe]. If you have any questions or concerns, please don't hesitate to reach out. Thank you for your patience and understanding.\"\n",
      "-----\n",
      "\n",
      "\n",
      "Round 2\n",
      "Here's an example of a support agent's response:\n",
      "\n",
      "\"Hello [Customer Name],\n",
      "\n",
      "I apologize for the mistake. We understand that you ordered a laptop, but unfortunately, you received a tablet instead. We're truly sorry for the inconvenience this has caused.\n",
      "\n",
      "To resolve this issue, we'll need to arrange for the return of the tablet. Please follow these steps:\n",
      "\n",
      "1. Carefully package the tablet in its original packaging, if possible, and include all original accessories.\n",
      "2. Affix the pre-paid return shipping label that we'll send to you via email.\n",
      "3. Ship the tablet back to us at the address provided on the label.\n",
      "\n",
      "Once we receive the tablet, we'll promptly ship the correct laptop to you. You can expect to receive your laptop within [estimated timeframe].\n",
      "\n",
      "In the meantime, if you have any questions or concerns, please don't hesitate to reach out to us. We're committed to making this right and ensuring your satisfaction.\n",
      "\n",
      "Thank you for your patience and cooperation. We appreciate your business and look forward to getting the correct laptop to you soon.\n",
      "\n",
      "Best regards,\n",
      "[Your Name]\n",
      "Support Agent\"\n",
      "\n",
      "This response acknowledges the mistake, guides the customer on how to return the tablet, and ensures that the laptop is shipped promptly. It also shows empathy and apologizes for the inconvenience caused.\n",
      "-----\n",
      "\n",
      "\n"
     ]
    }
   ],
   "source": [
    "user_prompt = '''\n",
    "If a customer have ordered a laptop but received a tablet instead.\n",
    "The support agent should first acknowledge the mistake,\n",
    "guide the customer on how to return the tablet,\n",
    "and ensure that the laptop is shipped promptly.\n",
    "'''\n",
    "for i in range(2):\n",
    "    print('Round {}'.format(i+1))\n",
    "    resp = generate_text(model_id, user_prompt)\n",
    "    print(resp['text'])\n",
    "    print('-----\\n\\n')\n",
    "    time.sleep(2)"
   ]
  },
  {
   "cell_type": "markdown",
   "id": "43a76abc-b421-4643-9591-3e7e192639a0",
   "metadata": {},
   "source": [
    "## ReAct (Reasoning and Acting)\n",
    "---\n",
    "This technique combines both reasoning and action planning within language models. This allows the models to generate both reasoning traces and task-specific actions, enhancing the models' ability to interact with external environments and adapt their responses accordingly. As a result, this technique can significantly improve the accuracy and reliability of models' responses.\n"
   ]
  },
  {
   "cell_type": "code",
   "execution_count": 13,
   "id": "2b96aa32-4e09-4329-8b40-42b0a1fd6b9e",
   "metadata": {},
   "outputs": [
    {
     "name": "stdout",
     "output_type": "stream",
     "text": [
      "If a tech company wants to expand its operations into Malaysia, here are some steps it can consider:\n",
      "\n",
      "1. Research and understand the market:\n",
      "\t* Study the Malaysian tech industry, its growth prospects, and the competitive landscape.\n",
      "\t* Identify potential customers, partners, and competitors.\n",
      "\t* Analyze the regulatory environment, tax laws, and labor laws.\n",
      "2. Register a company:\n",
      "\t* Register a subsidiary or a branch office in Malaysia, depending on the company's structure and goals.\n",
      "\t* Obtain necessary licenses and permits, such as a business license, tax registration, and employment permit.\n",
      "3. Set up a local presence:\n",
      "\t* Rent or lease office space in a suitable location, such as Kuala Lumpur, Penang, or Cyberjaya.\n",
      "\t* Hire local staff, including a country manager, sales and marketing team, and technical support staff.\n",
      "\t* Establish a local bank account and obtain a local currency (MYR) account.\n",
      "4. Comply with regulations:\n",
      "\t* Register with the Malaysian Communications and Multimedia Commission (MCMC) for telecommunications services.\n",
      "\t* Comply with data protection regulations, such as the Personal Data Protection Act (PDPA).\n",
      "\t* Obtain necessary certifications, such as ISO 9001 for quality management.\n",
      "5. Develop a marketing strategy:\n",
      "\t* Develop a marketing plan to promote the company's products or services in Malaysia.\n",
      "\t* Utilize local media, such as newspapers, magazines, and online platforms.\n",
      "\t* Attend local trade shows and conferences to network with potential customers and partners.\n",
      "6. Establish partnerships:\n",
      "\t* Identify local partners, such as system integrators, resellers, or distributors, to help expand the company's reach.\n",
      "\t* Collaborate with local universities and research institutions to access talent and research expertise.\n",
      "7. Develop a talent acquisition strategy:\n",
      "\t* Attract and retain local talent by offering competitive salaries, benefits, and career development opportunities.\n",
      "\t* Utilize local recruitment agencies and job portals to find suitable candidates.\n",
      "8. Establish a local supply chain:\n",
      "\t* Identify local suppliers for goods and services, such as hardware, software, and infrastructure.\n",
      "\t* Develop relationships with local logistics providers to ensure efficient delivery and storage.\n",
      "9. Comply with tax and accounting requirements:\n",
      "\t* Register with the Inland Revenue Board of Malaysia (IRBM) for tax purposes.\n",
      "\t* Comply with accounting and auditing requirements, such as the Malaysian Financial Reporting Standards (MFRS).\n",
      "10. Monitor and adapt:\n",
      "\t* Continuously monitor the Malaysian market and regulatory environment.\n",
      "\t* Be prepared to adapt to changes and challenges, such as economic fluctuations or regulatory updates.\n",
      "\n",
      "By following these steps, a tech company can successfully expand its operations into Malaysia and establish a strong presence in the region.\n"
     ]
    }
   ],
   "source": [
    "user_prompt = '''\n",
    "What should tech company do if it wants to expand its operations into Malaysia?\n",
    "'''\n",
    "\n",
    "resp = generate_text(model_id, user_prompt,)\n",
    "print(resp['text'])"
   ]
  },
  {
   "cell_type": "code",
   "execution_count": 14,
   "id": "d9a6bbb6-c9c1-4648-b92a-d77b48f99efe",
   "metadata": {
    "tags": []
   },
   "outputs": [
    {
     "name": "stdout",
     "output_type": "stream",
     "text": [
      "**Market Conditions in Malaysia**\n",
      "\n",
      "Malaysia is a rapidly growing economy with a population of over 32 million people. The country has a strong and diverse economy, with a mix of manufacturing, services, and agriculture sectors. Here are some key market conditions to consider:\n",
      "\n",
      "1. **Economic Growth**: Malaysia has a GDP growth rate of around 4.5%, making it one of the fastest-growing economies in Southeast Asia.\n",
      "2. **Labor Costs**: Labor costs in Malaysia are relatively low compared to other developed countries, with an average monthly salary of around $400-$500.\n",
      "3. **Infrastructure**: Malaysia has a well-developed infrastructure, with modern airports, seaports, and transportation networks.\n",
      "4. **Language**: The official language is Malay, but English is widely spoken, making it easier for foreign companies to operate.\n",
      "5. **Regulations**: Malaysia has a relatively business-friendly regulatory environment, with a low tax rate of 24% and a simple process for setting up a business.\n",
      "6. **Market Size**: Malaysia has a large and growing consumer market, with a middle class that is increasingly affluent and tech-savvy.\n",
      "\n",
      "**Potential Risks**\n",
      "\n",
      "1. **Competition**: Malaysia is a competitive market, with many local and international companies operating in the same space.\n",
      "2. **Currency Fluctuations**: The Malaysian ringgit (MYR) is subject to fluctuations in value, which can affect the cost of imports and exports.\n",
      "3. **Regulatory Changes**: Malaysia's regulatory environment is subject to change, which can impact the ease of doing business.\n",
      "4. **Cultural Differences**: Malaysia is a multicultural society with different customs and business practices, which can present challenges for foreign companies.\n",
      "5. **Corruption**: Corruption is a significant issue in Malaysia, and companies must be vigilant in ensuring that they operate in an ethical and transparent manner.\n",
      "\n",
      "**Potential Benefits**\n",
      "\n",
      "1. **Access to ASEAN Market**: Malaysia is a member of the Association of Southeast Asian Nations (ASEAN), providing access to a large and growing market of over 650 million people.\n",
      "2. **Skilled Workforce**: Malaysia has a large and skilled workforce, with a high literacy rate and a strong education system.\n",
      "3. **Government Support**: The Malaysian government offers various incentives and support programs for foreign companies, including tax breaks and investment grants.\n",
      "4. **Strategic Location**: Malaysia is strategically located in Southeast Asia, providing easy access to major markets in Asia and the Pacific.\n",
      "5. **Cost-Effective**: Malaysia offers a cost-effective alternative to other developed countries, with lower labor costs and lower overhead expenses.\n",
      "\n",
      "**Action Plan**\n",
      "\n",
      "Based on the market conditions, potential risks, and benefits, here is a suggested action plan for the tech company:\n",
      "\n",
      "1. **Conduct Market Research**: Conduct thorough market research to understand the Malaysian market, including consumer behavior, competition, and regulatory environment.\n",
      "2. **Establish a Local Presence**: Establish a local presence in Malaysia, including setting up a subsidiary or partnering with a local company.\n",
      "3. **Develop a Localized Product**: Develop a localized product or service that meets the needs of the Malaysian market.\n",
      "4. **Build Relationships**: Build relationships with local partners, suppliers, and customers to ensure a smooth and successful operation.\n",
      "5. **Monitor and Adapt**: Monitor the market and regulatory environment, and be prepared to adapt to changes and challenges.\n",
      "6. **Invest in Training**: Invest in training and development programs for local employees to ensure they have the necessary skills and knowledge to support the business.\n",
      "7. **Comply with Regulations**: Ensure compliance with all relevant regulations and laws in Malaysia, including tax, labor, and intellectual property laws.\n",
      "\n",
      "By following this action plan, the tech company can successfully expand its operations into Malaysia and capitalize on the many opportunities available in this growing market.\n"
     ]
    }
   ],
   "source": [
    "user_prompt = '''\n",
    "A tech company is considering expanding its operations into Malaysia. \n",
    "First, gather information about the market conditions in that country, \n",
    "then evaluate potential risks and benefits, and finally suggest an action plan.\n",
    "'''\n",
    "resp = generate_text(model_id, user_prompt,)\n",
    "print(resp['text'])"
   ]
  },
  {
   "cell_type": "markdown",
   "id": "c6c08714-91b5-4d9c-81a7-662309ee7738",
   "metadata": {},
   "source": [
    "## Prompt chaining\n",
    "---\n",
    "This technique involves breaking down a complex task into smaller, manageable subtasks, where the output of one prompt serves as the input for the next one. This technique enhaces the reliability and performance of language model to process information in more structured manner and on specific task at a time.\n",
    "\n",
    "One common **use case** is writing a long document (i.e., proposal, marketing plan). Let's first observe the traditional prompting."
   ]
  },
  {
   "cell_type": "code",
   "execution_count": 15,
   "id": "31b41af0-0f52-4552-a869-2392ff8e75b5",
   "metadata": {},
   "outputs": [
    {
     "name": "stdout",
     "output_type": "stream",
     "text": [
      "Marketing Plan: EcoCycle - The Revolutionary Compostable Bag\n",
      "\n",
      "Executive Summary:\n",
      "EcoCycle is a new, eco-friendly product that offers a sustainable alternative to traditional plastic bags. Our compostable bags are made from plant-based materials and are designed to reduce waste and minimize environmental impact. Our marketing plan aims to raise awareness about the importance of sustainable living and position EcoCycle as the go-to solution for environmentally conscious consumers.\n",
      "\n",
      "Target Market:\n",
      "\n",
      "* Demographics: Health-conscious individuals, families with young children, and environmentally aware consumers\n",
      "* Psychographics: People who prioritize sustainability, reduce waste, and support eco-friendly products\n",
      "* Online presence: Active on social media platforms, frequent online shoppers, and subscribers to eco-friendly newsletters\n",
      "\n",
      "Marketing Objectives:\n",
      "\n",
      "* Increase brand awareness by 20% within the first 6 months\n",
      "* Drive sales by 30% within the first year\n",
      "* Position EcoCycle as a leader in the eco-friendly bag market\n",
      "\n",
      "Marketing Strategies:\n",
      "\n",
      "1. Social Media Campaigns:\n",
      "\t* Launch a social media contest, \"Go Green,\" encouraging followers to share their eco-friendly habits and tag friends who care about the environment\n",
      "\t* Collaborate with eco-influencers and bloggers to promote EcoCycle\n",
      "\t* Share educational content, such as \"5 Ways to Reduce Plastic Waste\" and \"The Benefits of Composting\"\n",
      "2. Online Advertising:\n",
      "\t* Run targeted Google Ads and Facebook Ads focusing on keywords like \"eco-friendly bags,\" \"compostable bags,\" and \"sustainable living\"\n",
      "\t* Partner with eco-friendly websites and blogs to promote EcoCycle\n",
      "3. Influencer Partnerships:\n",
      "\t* Partner with eco-conscious celebrities and thought leaders to promote EcoCycle\n",
      "\t* Collaborate with eco-friendly brands to cross-promote each other's products\n",
      "4. Content Marketing:\n",
      "\t* Create a blog on the EcoCycle website, featuring articles on sustainable living, eco-friendly tips, and product updates\n",
      "\t* Produce a series of educational videos on composting, recycling, and reducing waste\n",
      "5. Trade Shows and Events:\n",
      "\t* Attend eco-friendly trade shows and events to showcase EcoCycle and connect with potential customers\n",
      "\n",
      "Budget Allocation:\n",
      "\n",
      "* Social Media: 30%\n",
      "* Online Advertising: 25%\n",
      "* Influencer Partnerships: 20%\n",
      "* Content Marketing: 15%\n",
      "* Trade Shows and Events: 10%\n",
      "\n",
      "Timeline:\n",
      "\n",
      "* Month 1-3: Launch social media campaign, online advertising, and influencer partnerships\n",
      "* Month 4-6: Optimize and refine marketing strategies based on performance data\n",
      "* Month 7-12: Continue marketing efforts, expand content marketing, and plan for future growth\n"
     ]
    }
   ],
   "source": [
    "user_prompt = '''\n",
    "Write a 300-words marketing plan for an eco-friendly product.\n",
    "'''\n",
    "resp = generate_text(model_id, user_prompt,)\n",
    "print(resp['text'])"
   ]
  },
  {
   "cell_type": "markdown",
   "id": "5aaaefe2-d161-4eb2-a872-d7c16b32d4f1",
   "metadata": {},
   "source": [
    "Now, let's implement it with prompt chaining."
   ]
  },
  {
   "cell_type": "code",
   "execution_count": 16,
   "id": "c80aca9a-e4f7-4474-9bb9-a75beeb74bab",
   "metadata": {},
   "outputs": [
    {
     "name": "stdout",
     "output_type": "stream",
     "text": [
      "Based on market trends and consumer behavior, here are the top 3 target audiences for an eco-friendly product:\n",
      "\n",
      "1. Millennials (born between 1981 and 1996):\n",
      "\t* This age group is highly concerned about the environment and is more likely to prioritize sustainability in their purchasing decisions.\n",
      "\t* Millennials are also tech-savvy and active on social media, making them a prime target for eco-friendly brands that can leverage digital marketing and influencer partnerships.\n",
      "\t* Key characteristics: values-driven, socially conscious, and willing to pay a premium for sustainable products.\n",
      "2. Gen Z (born between 1997 and 2012):\n",
      "\t* Gen Z is even more environmentally conscious than millennials, with 75% of them saying they're willing to make lifestyle changes to reduce their carbon footprint.\n",
      "\t* This age group is also highly influenced by social media and online reviews, making them a prime target for eco-friendly brands that can showcase their products' eco-credentials and customer testimonials.\n",
      "\t* Key characteristics: digitally native, socially conscious, and demanding of transparency and authenticity.\n",
      "3. Health-conscious consumers (across all age groups):\n",
      "\t* This audience is driven by concerns about their personal health and well-being, as well as the health of the planet.\n",
      "\t* They're likely to prioritize products that are free from harsh chemicals, artificial additives, and other harmful substances.\n",
      "\t* Key characteristics: health-focused, environmentally aware, and willing to pay a premium for high-quality, sustainable products.\n",
      "\n",
      "These target audiences are not mutually exclusive, and many consumers may identify with characteristics from multiple groups. However, by focusing on these three audiences, eco-friendly brands can effectively target and engage with consumers who share their values and are willing to support sustainable products.\n"
     ]
    }
   ],
   "source": [
    "step1_prompt = 'Identify top 3 target audiences for an eco-friendly product.'\n",
    "resp = generate_text(model_id, step1_prompt,)\n",
    "output1_resp = resp['text']\n",
    "print(output1_resp)"
   ]
  },
  {
   "cell_type": "code",
   "execution_count": 17,
   "id": "a70aa1ca-c41e-491b-afef-44396df18ae7",
   "metadata": {},
   "outputs": [
    {
     "name": "stdout",
     "output_type": "stream",
     "text": [
      "Based on the identified target audiences, here are some effective marketing channels to consider:\n",
      "\n",
      "**Millennials (born between 1981 and 1996)**\n",
      "\n",
      "1. Social Media: Leverage Instagram, Facebook, and Twitter to share engaging content, influencer partnerships, and user-generated content that showcases the eco-friendly product's benefits and sustainability features.\n",
      "2. Influencer Marketing: Partner with eco-conscious influencers and bloggers who have a strong following among millennials. They can share their personal experiences with the product and promote it to their audience.\n",
      "3. Email Marketing: Build an email list and send targeted campaigns to millennials who have shown interest in eco-friendly products or have purchased from the brand before.\n",
      "4. Content Marketing: Create blog posts, videos, and podcasts that discuss sustainability, environmental issues, and the benefits of eco-friendly products. Share this content on the brand's website and social media channels.\n",
      "5. Online Advertising: Use targeted Google Ads and social media ads to reach millennials who are searching for eco-friendly products or have shown interest in sustainability.\n",
      "\n",
      "**Gen Z (born between 1997 and 2012)**\n",
      "\n",
      "1. Social Media: Focus on TikTok, Instagram, and Snapchat to reach Gen Z, who are highly active on these platforms. Share short-form videos, GIFs, and Reels that showcase the product's eco-credentials and customer testimonials.\n",
      "2. Influencer Marketing: Partner with Gen Z influencers who have a strong following on social media and are passionate about sustainability and environmental issues.\n",
      "3. Online Reviews: Encourage customers to leave reviews and ratings on the brand's website and social media channels. Gen Z is highly influenced by online reviews and ratings.\n",
      "4. User-Generated Content: Encourage customers to share their own stories and experiences with the product on social media, and re-share them on the brand's channels.\n",
      "5. Educational Content: Create educational content, such as blog posts, videos, and infographics, that explain the benefits of eco-friendly products and the impact of consumer choices on the environment.\n",
      "\n",
      "**Health-Conscious Consumers (across all age groups)**\n",
      "\n",
      "1. Health and Wellness Blogs: Partner with health and wellness bloggers who have a following among health-conscious consumers. They can share their own experiences with the product and promote it to their audience.\n",
      "2. Email Marketing: Build an email list and send targeted campaigns to health-conscious consumers who have shown interest in natural and organic products or have purchased from the brand before.\n",
      "3. Content Marketing: Create content that focuses on the health benefits of eco-friendly products, such as reduced exposure to harsh chemicals and artificial additives.\n",
      "4. Online Advertising: Use targeted Google Ads and social media ads to reach health-conscious consumers who are searching for natural and organic products or have shown interest in sustainability.\n",
      "5. Partnerships with Health and Wellness Brands: Partner with health and wellness brands that share similar values and target the same audience. This can help expand the brand's reach and credibility.\n",
      "\n",
      "**Common Channels for All Target Audiences**\n",
      "\n",
      "1. Content Marketing: Create high-quality, engaging content that resonates with all three target audiences. This can include blog posts, videos, podcasts, and social media content.\n",
      "2. Email Marketing: Build an email list and send targeted campaigns to all three target audiences.\n",
      "3. Social Media: Leverage social media platforms to share engaging content, influencer partnerships, and user-generated content that resonates with all three target audiences.\n",
      "4. Online Advertising: Use targeted Google Ads and social media ads to reach all three target audiences.\n",
      "5. Partnerships: Partner with other eco-friendly brands, influencers, and organizations that share similar values and target the same audience. This can help expand the brand's reach and credibility.\n"
     ]
    }
   ],
   "source": [
    "step2_prompt = '''\n",
    "Based on the identified target audience, suggest effective marketing channels.\n",
    "Here are the target audience: \n",
    "{target_audience}\n",
    "'''.format(target_audience=output1_resp)\n",
    "resp = generate_text(model_id, step2_prompt,)\n",
    "output2_resp = resp['text']\n",
    "print(output2_resp)"
   ]
  },
  {
   "cell_type": "code",
   "execution_count": 18,
   "id": "742bf31e-eb08-4a22-a852-34627d7a895e",
   "metadata": {},
   "outputs": [
    {
     "name": "stdout",
     "output_type": "stream",
     "text": [
      "Based on the target audiences and channels, here's a messaging strategy that emphasizes sustainability for each audience:\n",
      "\n",
      "**Millennials:**\n",
      "\n",
      "* Messaging theme: \"Join the movement towards a more sustainable future\"\n",
      "* Key messages:\n",
      "\t+ Our eco-friendly products are designed to reduce waste and minimize environmental impact\n",
      "\t+ By choosing our products, you're supporting a brand that cares about the planet\n",
      "\t+ Share your own sustainability journey and inspire others to do the same\n",
      "* Visuals: Use images and videos that showcase the product's eco-credentials, such as recyclable packaging, biodegradable materials, and reduced carbon footprint.\n",
      "* Influencer partnerships: Partner with eco-conscious influencers who have a strong following among millennials and can share their personal experiences with the product.\n",
      "* Content marketing: Create blog posts, videos, and podcasts that discuss sustainability, environmental issues, and the benefits of eco-friendly products.\n",
      "\n",
      "**Gen Z:**\n",
      "\n",
      "* Messaging theme: \"Make a difference, one purchase at a time\"\n",
      "* Key messages:\n",
      "\t+ Our eco-friendly products are designed to make a positive impact on the environment\n",
      "\t+ By choosing our products, you're supporting a brand that cares about the planet and its future\n",
      "\t+ Share your own eco-friendly habits and inspire others to do the same\n",
      "* Visuals: Use short-form videos, GIFs, and Reels that showcase the product's eco-credentials, such as reduced plastic use, sustainable materials, and carbon offsetting.\n",
      "* Influencer partnerships: Partner with Gen Z influencers who have a strong following on social media and are passionate about sustainability and environmental issues.\n",
      "* Content marketing: Create educational content, such as blog posts, videos, and infographics, that explain the benefits of eco-friendly products and the impact of consumer choices on the environment.\n",
      "\n",
      "**Health-Conscious Consumers:**\n",
      "\n",
      "* Messaging theme: \"Healthy living, sustainable living\"\n",
      "* Key messages:\n",
      "\t+ Our eco-friendly products are designed to promote healthy living and reduce exposure to harsh chemicals and artificial additives\n",
      "\t+ By choosing our products, you're supporting a brand that cares about your health and the planet\n",
      "\t+ Share your own healthy and sustainable habits and inspire others to do the same\n",
      "* Visuals: Use images and videos that showcase the product's health benefits, such as natural ingredients, reduced chemical use, and sustainable packaging.\n",
      "* Influencer partnerships: Partner with health and wellness bloggers who have a following among health-conscious consumers and can share their own experiences with the product.\n",
      "* Content marketing: Create content that focuses on the health benefits of eco-friendly products and the impact of consumer choices on the environment.\n",
      "\n",
      "**Common Messaging Themes and Key Messages:**\n",
      "\n",
      "* \"Join the movement towards a more sustainable future\"\n",
      "* \"Make a difference, one purchase at a time\"\n",
      "* \"Healthy living, sustainable living\"\n",
      "* \"By choosing our products, you're supporting a brand that cares about the planet and its future\"\n",
      "* \"Our eco-friendly products are designed to reduce waste and minimize environmental impact\"\n",
      "* \"By choosing our products, you're supporting a brand that cares about your health and the planet\"\n",
      "\n",
      "**Tone and Language:**\n",
      "\n",
      "* Friendly and approachable, yet informative and educational\n",
      "* Use simple and clear language that resonates with each target audience\n",
      "* Emphasize the benefits of eco-friendly products and the impact of consumer choices on the environment\n",
      "\n",
      "**Visual Identity:**\n",
      "\n",
      "* Use a consistent visual identity across all channels, including logos, color schemes, and typography\n",
      "* Use high-quality images and videos that showcase the product's eco-credentials and health benefits\n",
      "* Use icons and graphics that represent sustainability, environmentalism, and health\n",
      "\n",
      "By using this messaging strategy, you can effectively communicate the importance of sustainability to each target audience and encourage them to make eco-friendly choices.\n"
     ]
    }
   ],
   "source": [
    "step3_prompt = '''\n",
    "Develop a messaging strategy that emphasizes sustainability for this audience.\n",
    "Here are the target audience and channel:\n",
    "{step2_resp}\n",
    "'''.format(step2_resp=output2_resp)\n",
    "resp = generate_text(model_id, step3_prompt,)\n",
    "output3_resp = resp['text']\n",
    "print(output3_resp)"
   ]
  },
  {
   "cell_type": "markdown",
   "id": "5180fc82-ec69-4a3b-9fe0-b35daf20b4b2",
   "metadata": {},
   "source": [
    "## Bonus: Tree-of-Thoughts (ToT)\n",
    "---\n",
    "Tree-of-Thoughts (ToT) prompting is more recent, innovative approach in prompt engineering designed to enhance the problem-solving capabilities of the large language models. This technique explores multiple reasoning paths simultaneously, hence improving the models' ability to tackle complex tasks that requires strategic planning and evaluation.\n",
    "\n",
    "Let's consider the example of birthday party planning."
   ]
  },
  {
   "cell_type": "code",
   "execution_count": 19,
   "id": "e6dd23bb-32fb-4b5d-9184-556e1e20af3b",
   "metadata": {},
   "outputs": [
    {
     "name": "stdout",
     "output_type": "stream",
     "text": [
      "<response> Choice 3: A themed party at home </response>\n",
      "\n",
      "<thought_process>\n",
      "\n",
      "Let's weigh the pros and cons of each option:\n",
      "\n",
      "**Choice 1: A small gathering at a local park**\n",
      "\n",
      "Pros: Easy to organize, casual atmosphere, and a change of scenery.\n",
      "Cons: Weather dependent, limited space, and might not be as memorable.\n",
      "\n",
      "**Choice 2: A fancy dinner at a restaurant**\n",
      "\n",
      "Pros: Upscale atmosphere, no cleanup required, and a unique experience.\n",
      "Cons: Expensive, limited guest list, and might feel impersonal.\n",
      "\n",
      "**Choice 4: A weekend getaway**\n",
      "\n",
      "Pros: A unique and exciting experience, chance to relax and unwind, and create lifelong memories.\n",
      "Cons: Expensive, requires a lot of planning, and might be overwhelming.\n",
      "\n",
      "After considering the pros and cons, I think Choice 3: A themed party at home is the best option. Here's why:\n",
      "\n",
      "* Guest list: We can invite a smaller group of close friends and family, making it more intimate and personalized.\n",
      "* Decorations: We can create a unique and themed atmosphere with balloons, streamers, and decorations that fit the birthday person's interests.\n",
      "* Activities: We can plan fun games, karaoke, or even a photo booth to keep the party lively and engaging.\n",
      "* Pros: It's cost-effective, easy to organize, and allows for a high level of customization. We can also make it as simple or as elaborate as we want, depending on the birthday person's preferences.\n",
      "\n",
      "Overall, a themed party at home offers the perfect balance of fun, intimacy, and personalization, making it the ideal choice for a surprise birthday party.\n"
     ]
    }
   ],
   "source": [
    "tot_prompt = '''\n",
    "1. Plan a surprise birthday party for a friend.\n",
    "Choice 1: A small gathering at a local park.\n",
    "Choice 2: A fancy dinner at a restaurant.\n",
    "Choice 3: A themed party at home.\n",
    "Choice 4: A weekend getaway.\n",
    "2. For each choice, consider:\n",
    "- Guest list\n",
    "- Decorations\n",
    "- Activities\n",
    "3. Weigh the pros and cons of each idea before finalizing the plan.\n",
    "\n",
    "Based on the pros and cons, finalize one plan in your <response> tag, \n",
    "put the rest of your comparison and the reason why you chose the plan in your <thought_process> tag.\n",
    "'''\n",
    "\n",
    "resp = generate_text(model_id, tot_prompt)\n",
    "print(resp['text'])"
   ]
  },
  {
   "cell_type": "markdown",
   "id": "50d3dda5-1fe8-4f6d-9cd5-51a737803a47",
   "metadata": {},
   "source": [
    "## In summary\n",
    "--- \n",
    "Prompt engineering is an important field for optimizing how you apply, develop, and understand large language models. At its core, it is about designing prompts or interactions to expand what large language model can do to our objectives, address their weakness like hallucination, and gain insights into their functioning. \n",
    "\n",
    "In a production environment, you should experiment multiple prompt techniques, and may need to combine multiple techniques to achieve your use cases' objectives."
   ]
  }
 ],
 "metadata": {
  "availableInstances": [
   {
    "_defaultOrder": 0,
    "_isFastLaunch": true,
    "category": "General purpose",
    "gpuNum": 0,
    "hideHardwareSpecs": false,
    "memoryGiB": 4,
    "name": "ml.t3.medium",
    "vcpuNum": 2
   },
   {
    "_defaultOrder": 1,
    "_isFastLaunch": false,
    "category": "General purpose",
    "gpuNum": 0,
    "hideHardwareSpecs": false,
    "memoryGiB": 8,
    "name": "ml.t3.large",
    "vcpuNum": 2
   },
   {
    "_defaultOrder": 2,
    "_isFastLaunch": false,
    "category": "General purpose",
    "gpuNum": 0,
    "hideHardwareSpecs": false,
    "memoryGiB": 16,
    "name": "ml.t3.xlarge",
    "vcpuNum": 4
   },
   {
    "_defaultOrder": 3,
    "_isFastLaunch": false,
    "category": "General purpose",
    "gpuNum": 0,
    "hideHardwareSpecs": false,
    "memoryGiB": 32,
    "name": "ml.t3.2xlarge",
    "vcpuNum": 8
   },
   {
    "_defaultOrder": 4,
    "_isFastLaunch": true,
    "category": "General purpose",
    "gpuNum": 0,
    "hideHardwareSpecs": false,
    "memoryGiB": 8,
    "name": "ml.m5.large",
    "vcpuNum": 2
   },
   {
    "_defaultOrder": 5,
    "_isFastLaunch": false,
    "category": "General purpose",
    "gpuNum": 0,
    "hideHardwareSpecs": false,
    "memoryGiB": 16,
    "name": "ml.m5.xlarge",
    "vcpuNum": 4
   },
   {
    "_defaultOrder": 6,
    "_isFastLaunch": false,
    "category": "General purpose",
    "gpuNum": 0,
    "hideHardwareSpecs": false,
    "memoryGiB": 32,
    "name": "ml.m5.2xlarge",
    "vcpuNum": 8
   },
   {
    "_defaultOrder": 7,
    "_isFastLaunch": false,
    "category": "General purpose",
    "gpuNum": 0,
    "hideHardwareSpecs": false,
    "memoryGiB": 64,
    "name": "ml.m5.4xlarge",
    "vcpuNum": 16
   },
   {
    "_defaultOrder": 8,
    "_isFastLaunch": false,
    "category": "General purpose",
    "gpuNum": 0,
    "hideHardwareSpecs": false,
    "memoryGiB": 128,
    "name": "ml.m5.8xlarge",
    "vcpuNum": 32
   },
   {
    "_defaultOrder": 9,
    "_isFastLaunch": false,
    "category": "General purpose",
    "gpuNum": 0,
    "hideHardwareSpecs": false,
    "memoryGiB": 192,
    "name": "ml.m5.12xlarge",
    "vcpuNum": 48
   },
   {
    "_defaultOrder": 10,
    "_isFastLaunch": false,
    "category": "General purpose",
    "gpuNum": 0,
    "hideHardwareSpecs": false,
    "memoryGiB": 256,
    "name": "ml.m5.16xlarge",
    "vcpuNum": 64
   },
   {
    "_defaultOrder": 11,
    "_isFastLaunch": false,
    "category": "General purpose",
    "gpuNum": 0,
    "hideHardwareSpecs": false,
    "memoryGiB": 384,
    "name": "ml.m5.24xlarge",
    "vcpuNum": 96
   },
   {
    "_defaultOrder": 12,
    "_isFastLaunch": false,
    "category": "General purpose",
    "gpuNum": 0,
    "hideHardwareSpecs": false,
    "memoryGiB": 8,
    "name": "ml.m5d.large",
    "vcpuNum": 2
   },
   {
    "_defaultOrder": 13,
    "_isFastLaunch": false,
    "category": "General purpose",
    "gpuNum": 0,
    "hideHardwareSpecs": false,
    "memoryGiB": 16,
    "name": "ml.m5d.xlarge",
    "vcpuNum": 4
   },
   {
    "_defaultOrder": 14,
    "_isFastLaunch": false,
    "category": "General purpose",
    "gpuNum": 0,
    "hideHardwareSpecs": false,
    "memoryGiB": 32,
    "name": "ml.m5d.2xlarge",
    "vcpuNum": 8
   },
   {
    "_defaultOrder": 15,
    "_isFastLaunch": false,
    "category": "General purpose",
    "gpuNum": 0,
    "hideHardwareSpecs": false,
    "memoryGiB": 64,
    "name": "ml.m5d.4xlarge",
    "vcpuNum": 16
   },
   {
    "_defaultOrder": 16,
    "_isFastLaunch": false,
    "category": "General purpose",
    "gpuNum": 0,
    "hideHardwareSpecs": false,
    "memoryGiB": 128,
    "name": "ml.m5d.8xlarge",
    "vcpuNum": 32
   },
   {
    "_defaultOrder": 17,
    "_isFastLaunch": false,
    "category": "General purpose",
    "gpuNum": 0,
    "hideHardwareSpecs": false,
    "memoryGiB": 192,
    "name": "ml.m5d.12xlarge",
    "vcpuNum": 48
   },
   {
    "_defaultOrder": 18,
    "_isFastLaunch": false,
    "category": "General purpose",
    "gpuNum": 0,
    "hideHardwareSpecs": false,
    "memoryGiB": 256,
    "name": "ml.m5d.16xlarge",
    "vcpuNum": 64
   },
   {
    "_defaultOrder": 19,
    "_isFastLaunch": false,
    "category": "General purpose",
    "gpuNum": 0,
    "hideHardwareSpecs": false,
    "memoryGiB": 384,
    "name": "ml.m5d.24xlarge",
    "vcpuNum": 96
   },
   {
    "_defaultOrder": 20,
    "_isFastLaunch": false,
    "category": "General purpose",
    "gpuNum": 0,
    "hideHardwareSpecs": true,
    "memoryGiB": 0,
    "name": "ml.geospatial.interactive",
    "supportedImageNames": [
     "sagemaker-geospatial-v1-0"
    ],
    "vcpuNum": 0
   },
   {
    "_defaultOrder": 21,
    "_isFastLaunch": true,
    "category": "Compute optimized",
    "gpuNum": 0,
    "hideHardwareSpecs": false,
    "memoryGiB": 4,
    "name": "ml.c5.large",
    "vcpuNum": 2
   },
   {
    "_defaultOrder": 22,
    "_isFastLaunch": false,
    "category": "Compute optimized",
    "gpuNum": 0,
    "hideHardwareSpecs": false,
    "memoryGiB": 8,
    "name": "ml.c5.xlarge",
    "vcpuNum": 4
   },
   {
    "_defaultOrder": 23,
    "_isFastLaunch": false,
    "category": "Compute optimized",
    "gpuNum": 0,
    "hideHardwareSpecs": false,
    "memoryGiB": 16,
    "name": "ml.c5.2xlarge",
    "vcpuNum": 8
   },
   {
    "_defaultOrder": 24,
    "_isFastLaunch": false,
    "category": "Compute optimized",
    "gpuNum": 0,
    "hideHardwareSpecs": false,
    "memoryGiB": 32,
    "name": "ml.c5.4xlarge",
    "vcpuNum": 16
   },
   {
    "_defaultOrder": 25,
    "_isFastLaunch": false,
    "category": "Compute optimized",
    "gpuNum": 0,
    "hideHardwareSpecs": false,
    "memoryGiB": 72,
    "name": "ml.c5.9xlarge",
    "vcpuNum": 36
   },
   {
    "_defaultOrder": 26,
    "_isFastLaunch": false,
    "category": "Compute optimized",
    "gpuNum": 0,
    "hideHardwareSpecs": false,
    "memoryGiB": 96,
    "name": "ml.c5.12xlarge",
    "vcpuNum": 48
   },
   {
    "_defaultOrder": 27,
    "_isFastLaunch": false,
    "category": "Compute optimized",
    "gpuNum": 0,
    "hideHardwareSpecs": false,
    "memoryGiB": 144,
    "name": "ml.c5.18xlarge",
    "vcpuNum": 72
   },
   {
    "_defaultOrder": 28,
    "_isFastLaunch": false,
    "category": "Compute optimized",
    "gpuNum": 0,
    "hideHardwareSpecs": false,
    "memoryGiB": 192,
    "name": "ml.c5.24xlarge",
    "vcpuNum": 96
   },
   {
    "_defaultOrder": 29,
    "_isFastLaunch": true,
    "category": "Accelerated computing",
    "gpuNum": 1,
    "hideHardwareSpecs": false,
    "memoryGiB": 16,
    "name": "ml.g4dn.xlarge",
    "vcpuNum": 4
   },
   {
    "_defaultOrder": 30,
    "_isFastLaunch": false,
    "category": "Accelerated computing",
    "gpuNum": 1,
    "hideHardwareSpecs": false,
    "memoryGiB": 32,
    "name": "ml.g4dn.2xlarge",
    "vcpuNum": 8
   },
   {
    "_defaultOrder": 31,
    "_isFastLaunch": false,
    "category": "Accelerated computing",
    "gpuNum": 1,
    "hideHardwareSpecs": false,
    "memoryGiB": 64,
    "name": "ml.g4dn.4xlarge",
    "vcpuNum": 16
   },
   {
    "_defaultOrder": 32,
    "_isFastLaunch": false,
    "category": "Accelerated computing",
    "gpuNum": 1,
    "hideHardwareSpecs": false,
    "memoryGiB": 128,
    "name": "ml.g4dn.8xlarge",
    "vcpuNum": 32
   },
   {
    "_defaultOrder": 33,
    "_isFastLaunch": false,
    "category": "Accelerated computing",
    "gpuNum": 4,
    "hideHardwareSpecs": false,
    "memoryGiB": 192,
    "name": "ml.g4dn.12xlarge",
    "vcpuNum": 48
   },
   {
    "_defaultOrder": 34,
    "_isFastLaunch": false,
    "category": "Accelerated computing",
    "gpuNum": 1,
    "hideHardwareSpecs": false,
    "memoryGiB": 256,
    "name": "ml.g4dn.16xlarge",
    "vcpuNum": 64
   },
   {
    "_defaultOrder": 35,
    "_isFastLaunch": false,
    "category": "Accelerated computing",
    "gpuNum": 1,
    "hideHardwareSpecs": false,
    "memoryGiB": 61,
    "name": "ml.p3.2xlarge",
    "vcpuNum": 8
   },
   {
    "_defaultOrder": 36,
    "_isFastLaunch": false,
    "category": "Accelerated computing",
    "gpuNum": 4,
    "hideHardwareSpecs": false,
    "memoryGiB": 244,
    "name": "ml.p3.8xlarge",
    "vcpuNum": 32
   },
   {
    "_defaultOrder": 37,
    "_isFastLaunch": false,
    "category": "Accelerated computing",
    "gpuNum": 8,
    "hideHardwareSpecs": false,
    "memoryGiB": 488,
    "name": "ml.p3.16xlarge",
    "vcpuNum": 64
   },
   {
    "_defaultOrder": 38,
    "_isFastLaunch": false,
    "category": "Accelerated computing",
    "gpuNum": 8,
    "hideHardwareSpecs": false,
    "memoryGiB": 768,
    "name": "ml.p3dn.24xlarge",
    "vcpuNum": 96
   },
   {
    "_defaultOrder": 39,
    "_isFastLaunch": false,
    "category": "Memory Optimized",
    "gpuNum": 0,
    "hideHardwareSpecs": false,
    "memoryGiB": 16,
    "name": "ml.r5.large",
    "vcpuNum": 2
   },
   {
    "_defaultOrder": 40,
    "_isFastLaunch": false,
    "category": "Memory Optimized",
    "gpuNum": 0,
    "hideHardwareSpecs": false,
    "memoryGiB": 32,
    "name": "ml.r5.xlarge",
    "vcpuNum": 4
   },
   {
    "_defaultOrder": 41,
    "_isFastLaunch": false,
    "category": "Memory Optimized",
    "gpuNum": 0,
    "hideHardwareSpecs": false,
    "memoryGiB": 64,
    "name": "ml.r5.2xlarge",
    "vcpuNum": 8
   },
   {
    "_defaultOrder": 42,
    "_isFastLaunch": false,
    "category": "Memory Optimized",
    "gpuNum": 0,
    "hideHardwareSpecs": false,
    "memoryGiB": 128,
    "name": "ml.r5.4xlarge",
    "vcpuNum": 16
   },
   {
    "_defaultOrder": 43,
    "_isFastLaunch": false,
    "category": "Memory Optimized",
    "gpuNum": 0,
    "hideHardwareSpecs": false,
    "memoryGiB": 256,
    "name": "ml.r5.8xlarge",
    "vcpuNum": 32
   },
   {
    "_defaultOrder": 44,
    "_isFastLaunch": false,
    "category": "Memory Optimized",
    "gpuNum": 0,
    "hideHardwareSpecs": false,
    "memoryGiB": 384,
    "name": "ml.r5.12xlarge",
    "vcpuNum": 48
   },
   {
    "_defaultOrder": 45,
    "_isFastLaunch": false,
    "category": "Memory Optimized",
    "gpuNum": 0,
    "hideHardwareSpecs": false,
    "memoryGiB": 512,
    "name": "ml.r5.16xlarge",
    "vcpuNum": 64
   },
   {
    "_defaultOrder": 46,
    "_isFastLaunch": false,
    "category": "Memory Optimized",
    "gpuNum": 0,
    "hideHardwareSpecs": false,
    "memoryGiB": 768,
    "name": "ml.r5.24xlarge",
    "vcpuNum": 96
   },
   {
    "_defaultOrder": 47,
    "_isFastLaunch": false,
    "category": "Accelerated computing",
    "gpuNum": 1,
    "hideHardwareSpecs": false,
    "memoryGiB": 16,
    "name": "ml.g5.xlarge",
    "vcpuNum": 4
   },
   {
    "_defaultOrder": 48,
    "_isFastLaunch": false,
    "category": "Accelerated computing",
    "gpuNum": 1,
    "hideHardwareSpecs": false,
    "memoryGiB": 32,
    "name": "ml.g5.2xlarge",
    "vcpuNum": 8
   },
   {
    "_defaultOrder": 49,
    "_isFastLaunch": false,
    "category": "Accelerated computing",
    "gpuNum": 1,
    "hideHardwareSpecs": false,
    "memoryGiB": 64,
    "name": "ml.g5.4xlarge",
    "vcpuNum": 16
   },
   {
    "_defaultOrder": 50,
    "_isFastLaunch": false,
    "category": "Accelerated computing",
    "gpuNum": 1,
    "hideHardwareSpecs": false,
    "memoryGiB": 128,
    "name": "ml.g5.8xlarge",
    "vcpuNum": 32
   },
   {
    "_defaultOrder": 51,
    "_isFastLaunch": false,
    "category": "Accelerated computing",
    "gpuNum": 1,
    "hideHardwareSpecs": false,
    "memoryGiB": 256,
    "name": "ml.g5.16xlarge",
    "vcpuNum": 64
   },
   {
    "_defaultOrder": 52,
    "_isFastLaunch": false,
    "category": "Accelerated computing",
    "gpuNum": 4,
    "hideHardwareSpecs": false,
    "memoryGiB": 192,
    "name": "ml.g5.12xlarge",
    "vcpuNum": 48
   },
   {
    "_defaultOrder": 53,
    "_isFastLaunch": false,
    "category": "Accelerated computing",
    "gpuNum": 4,
    "hideHardwareSpecs": false,
    "memoryGiB": 384,
    "name": "ml.g5.24xlarge",
    "vcpuNum": 96
   },
   {
    "_defaultOrder": 54,
    "_isFastLaunch": false,
    "category": "Accelerated computing",
    "gpuNum": 8,
    "hideHardwareSpecs": false,
    "memoryGiB": 768,
    "name": "ml.g5.48xlarge",
    "vcpuNum": 192
   },
   {
    "_defaultOrder": 55,
    "_isFastLaunch": false,
    "category": "Accelerated computing",
    "gpuNum": 8,
    "hideHardwareSpecs": false,
    "memoryGiB": 1152,
    "name": "ml.p4d.24xlarge",
    "vcpuNum": 96
   },
   {
    "_defaultOrder": 56,
    "_isFastLaunch": false,
    "category": "Accelerated computing",
    "gpuNum": 8,
    "hideHardwareSpecs": false,
    "memoryGiB": 1152,
    "name": "ml.p4de.24xlarge",
    "vcpuNum": 96
   },
   {
    "_defaultOrder": 57,
    "_isFastLaunch": false,
    "category": "Accelerated computing",
    "gpuNum": 0,
    "hideHardwareSpecs": false,
    "memoryGiB": 32,
    "name": "ml.trn1.2xlarge",
    "vcpuNum": 8
   },
   {
    "_defaultOrder": 58,
    "_isFastLaunch": false,
    "category": "Accelerated computing",
    "gpuNum": 0,
    "hideHardwareSpecs": false,
    "memoryGiB": 512,
    "name": "ml.trn1.32xlarge",
    "vcpuNum": 128
   },
   {
    "_defaultOrder": 59,
    "_isFastLaunch": false,
    "category": "Accelerated computing",
    "gpuNum": 0,
    "hideHardwareSpecs": false,
    "memoryGiB": 512,
    "name": "ml.trn1n.32xlarge",
    "vcpuNum": 128
   }
  ],
  "instance_type": "ml.t3.medium",
  "kernelspec": {
   "display_name": "Python 3 (ipykernel)",
   "language": "python",
   "name": "python3"
  },
  "language_info": {
   "codemirror_mode": {
    "name": "ipython",
    "version": 3
   },
   "file_extension": ".py",
   "mimetype": "text/x-python",
   "name": "python",
   "nbconvert_exporter": "python",
   "pygments_lexer": "ipython3",
   "version": "3.10.14"
  }
 },
 "nbformat": 4,
 "nbformat_minor": 5
}
