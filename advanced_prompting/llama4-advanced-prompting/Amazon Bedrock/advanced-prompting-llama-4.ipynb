{
 "cells": [
  {
   "cell_type": "markdown",
   "id": "5ca1d972-87d9-4956-8991-215e0da5dd96",
   "metadata": {},
   "source": [
    "# Advanced Prompt Engineering for Meta Llama 3\n",
    "---\n",
    "\n",
    "> *This notebook should work well with the **`Python 3`** kernel in SageMaker Studio on **`us-west-2`** region*\n",
    "\n",
    "## What is Prompt Engineering?\n",
    "Prompt engineering is an emerging discipline focused on developing and optimizing prompts to efficiently adapt language model to various tasks. By using various prompt engineering techniques, you can often get better responses from the foundation models (FM) without spending efforts and resources on finetuning them.\n",
    "\n",
    "There are multiple advanced prompt engineering techniques, this notebook will covers:\n",
    "1. **Few-shots example**: This technique involves providing the large language model with a few examples (normally, these can be between 3 and 5) of the desired task or output. It helps the model learn patterns from limited data, making it particularly useful when extensive datasets are unavailable. Few-shot prompting can enable the model to generalize from minimal input effectively.\n",
    "2. **Chain of Thoughts (CoT)**: This technique encourages the language model to articulate its reasoning step-by-step, which can improve transparency and understanding of the model's thought and decision making process. By breaking down complex problems into more manageable parts, CoT prompting increases problem-solving accuracy.\n",
    "3. **Self-consistency**: This technique enhances the performance, and consistency of the language models by generating multiple outputs for the same input and selecting the most consistent answer among them.\n",
    "4. **ReAct (Reasoning and Acting)**: This technique combines reasoning with action by having the model generate both logical reasoning steps and specific actions to take based on those steps. This allows for more dynamic interactions where the model can adapt its responses based on ongoing interactions.\n",
    "5. **Prompt chaining**: This technique involves linking (hence, chaining) multiple prompts together to create a coherent, consistent flow of interactions. By referencing previous inputs or outputs, prompt chaining encourages deeper interactions and provides more consistent responses from language model.\n",
    "\n",
    "\n",
    "### Implementation\n",
    "In this notebook, we will show how to implement various prompt engineering techniques with **Meta Llama 3** foundation model, using the **Amazon Bedrock API** with `Boto3` client.\n",
    "\n",
    "\n",
    "<div class=\"alert alert-block alert-info\">\n",
    "    <b>Remark</b>: If this is your first time user, please make sure you are enable the access to Llama model on the Amazon Bedrock console.\n",
    "</div>"
   ]
  },
  {
   "cell_type": "markdown",
   "id": "7f56b9e4-97c7-45cf-8a77-d1ffdce0962f",
   "metadata": {},
   "source": [
    "### Set up\n",
    "---\n",
    "\n",
    "**Note**: You can ignore the error message during the `pip install`."
   ]
  },
  {
   "cell_type": "code",
   "execution_count": 1,
   "id": "b6933bf8-7093-4d05-8dba-f02434b72123",
   "metadata": {
    "tags": []
   },
   "outputs": [
    {
     "name": "stdout",
     "output_type": "stream",
     "text": [
      "\u001b[31mERROR: pip's dependency resolver does not currently take into account all the packages that are installed. This behaviour is the source of the following dependency conflicts.\n",
      "autogluon-multimodal 1.1.1 requires nvidia-ml-py3==7.352.0, which is not installed.\n",
      "aiobotocore 2.13.2 requires botocore<1.34.132,>=1.34.70, but you have botocore 1.38.4 which is incompatible.\n",
      "amazon-sagemaker-sql-magic 0.1.3 requires sqlparse==0.5.0, but you have sqlparse 0.5.1 which is incompatible.\n",
      "autogluon-core 1.1.1 requires scikit-learn<1.4.1,>=1.3.0, but you have scikit-learn 1.4.2 which is incompatible.\n",
      "autogluon-features 1.1.1 requires scikit-learn<1.4.1,>=1.3.0, but you have scikit-learn 1.4.2 which is incompatible.\n",
      "autogluon-multimodal 1.1.1 requires omegaconf<2.3.0,>=2.1.1, but you have omegaconf 2.3.0 which is incompatible.\n",
      "autogluon-multimodal 1.1.1 requires scikit-learn<1.4.1,>=1.3.0, but you have scikit-learn 1.4.2 which is incompatible.\n",
      "autogluon-tabular 1.1.1 requires scikit-learn<1.4.1,>=1.3.0, but you have scikit-learn 1.4.2 which is incompatible.\n",
      "autogluon-timeseries 1.1.1 requires gluonts==0.15.1, but you have gluonts 0.14.3 which is incompatible.\n",
      "langchain-aws 0.1.16 requires boto3<1.35.0,>=1.34.131, but you have boto3 1.38.4 which is incompatible.\u001b[0m\u001b[31m\n",
      "\u001b[0mNote: you may need to restart the kernel to use updated packages.\n"
     ]
    }
   ],
   "source": [
    "%pip install --upgrade --quiet boto3"
   ]
  },
  {
   "cell_type": "code",
   "execution_count": 2,
   "id": "38e4ff1f-5c0b-4616-8c3f-17bc9ac9efb6",
   "metadata": {
    "tags": []
   },
   "outputs": [],
   "source": [
    "import boto3\n",
    "from botocore.exceptions import ClientError\n",
    "import ipywidgets as widgets\n",
    "import json\n",
    "import time"
   ]
  },
  {
   "cell_type": "markdown",
   "id": "2384b0d3-1e41-4547-909a-816b211e8fa0",
   "metadata": {},
   "source": [
    "If you want to use other meta foundation model, here is the `model_id` for 8b and 405b:\n",
    "\n",
    "- Llama 3.1 8B: `'meta.llama3-1-8b-instruct-v1:0'`\n",
    "- Llama 3.1 70B: `'meta.llama3-1-70b-instruct-v1:0'`\n",
    "- Llama 3.1 405B: `'meta.llama3-1-405b-instruct-v1:0'`\n",
    "- Llama 3 8B: `'meta.llama3-8b-instruct-v1:0'`\n",
    "- Llama 3 70B: `'meta.llama3-70b-instruct-v1:0'`\n",
    "- Llama 4 Scout: `'meta.llama4-scout-17b-instruct-v1:0'`\n",
    "- Llama 4 Maverick: `'meta.llama4-maverick-17b-instruct-v1:0'`"
   ]
  },
  {
   "cell_type": "code",
   "execution_count": 11,
   "id": "a578ab89-85de-4f37-9089-030e77767d1d",
   "metadata": {
    "tags": []
   },
   "outputs": [
    {
     "data": {
      "application/vnd.jupyter.widget-view+json": {
       "model_id": "7c63557bd31e456d8679dea5e22ebc90",
       "version_major": 2,
       "version_minor": 0
      },
      "text/plain": [
       "Dropdown(description='Select model:', index=5, options=('meta.llama3-1-8b-instruct-v1:0', 'meta.llama3-1-70b-i…"
      ]
     },
     "execution_count": 11,
     "metadata": {},
     "output_type": "execute_result"
    }
   ],
   "source": [
    "model_selection = widgets.Dropdown(\n",
    "    options=[\n",
    "        'meta.llama3-1-8b-instruct-v1:0',\n",
    "        'meta.llama3-1-70b-instruct-v1:0',\n",
    "        'meta.llama3-1-405b-instruct-v1:0',\n",
    "        'meta.llama3-8b-instruct-v1:0',\n",
    "        'meta.llama3-70b-instruct-v1:0',\n",
    "        'us.meta.llama4-maverick-17b-instruct-v1:0',\n",
    "        'us.meta.llama4-scout-17b-instruct-v1:0'\n",
    "    ],\n",
    "    value='us.meta.llama4-maverick-17b-instruct-v1:0',\n",
    "    description='Select model:',\n",
    "    disabled=False,\n",
    ")\n",
    "model_selection"
   ]
  },
  {
   "cell_type": "code",
   "execution_count": 12,
   "id": "df90827e-22bc-4ac6-8797-1ae9b52a4876",
   "metadata": {
    "tags": []
   },
   "outputs": [
    {
     "name": "stdout",
     "output_type": "stream",
     "text": [
      "You selected: us.meta.llama4-maverick-17b-instruct-v1:0\n"
     ]
    }
   ],
   "source": [
    "model_id = model_selection.value\n",
    "print('You selected: {}'.format(model_id))"
   ]
  },
  {
   "cell_type": "code",
   "execution_count": 13,
   "id": "c3290a21-7083-4d4d-a19f-db3dea46602b",
   "metadata": {
    "tags": []
   },
   "outputs": [],
   "source": [
    "boto_session = boto3.session.Session()\n",
    "bedrock_runtime_client = boto_session.client(\n",
    "    service_name='bedrock-runtime',\n",
    "    region_name='us-east-1'\n",
    ")"
   ]
  },
  {
   "cell_type": "markdown",
   "id": "9cdcf448-0d63-4edf-a36c-bd69905212ac",
   "metadata": {},
   "source": [
    "For this notebook, we will use `converse` API from Boto3 client.\n",
    "\n",
    "For more details please refer to boto3 documentation [here](https://boto3.amazonaws.com/v1/documentation/api/latest/reference/services/bedrock-runtime/client/converse.html) and the user guide [here](https://docs.aws.amazon.com/bedrock/latest/userguide/model-parameters-meta.html)"
   ]
  },
  {
   "cell_type": "code",
   "execution_count": 14,
   "id": "d9394a21-7bc7-4cac-89a7-f4e7111dcb06",
   "metadata": {
    "tags": []
   },
   "outputs": [],
   "source": [
    "def generate_text(\n",
    "    model_id: str,\n",
    "    user_message: str,\n",
    "    max_tokens: int=1024,\n",
    "    temperature: float=0.2,\n",
    "    top_p: float=0.8,\n",
    "    verbose: bool=False\n",
    ") -> dict:\n",
    "    output_dict = dict()\n",
    "    message_payload = [{\n",
    "        'role': 'user',\n",
    "        'content': [{\n",
    "            'text': user_message\n",
    "        }],\n",
    "    }]\n",
    "    inference_config = {\n",
    "        'maxTokens': max_tokens,\n",
    "        'temperature': temperature,\n",
    "        'topP': top_p,\n",
    "    }\n",
    "    if verbose:\n",
    "        print(' -- You are using: {}'.format(model_id))\n",
    "        print(' -- Here is the inference configuration:\\n{}'.format(json.dumps(inference_config, indent=2)))\n",
    "\n",
    "    try:\n",
    "        resp = bedrock_runtime_client.converse(\n",
    "            modelId=model_id,\n",
    "            messages=message_payload,\n",
    "            inferenceConfig=inference_config,\n",
    "            additionalModelRequestFields={}\n",
    "        )\n",
    "        output_dict['text'] = resp['output']['message']['content'][0]['text'].strip()\n",
    "        output_dict['usage'] = resp['usage']\n",
    "        output_dict['metrics'] = resp['metrics']\n",
    "\n",
    "    except (ClientError, Exception) as e:\n",
    "        print('Error: cannot invoke {model_id}. Reason: {error}'.format(model_id=model_id, error=e))\n",
    "\n",
    "    return output_dict\n",
    "\n"
   ]
  },
  {
   "cell_type": "markdown",
   "id": "33c07427-456e-4cb4-806b-62ecb03c40ae",
   "metadata": {},
   "source": [
    "## Few-shot prompting\n",
    "---\n",
    "This  technique involves providing the language model with a **few** specific examples of the desired tasks or outputs, generally resulting in more accurate, and consistent output. The user will supplies a few **input-output** pairs that illustrate the desired response.\n",
    "\n"
   ]
  },
  {
   "cell_type": "markdown",
   "id": "048f5dac-48fd-47f5-8a9c-c44c019c6c34",
   "metadata": {},
   "source": [
    "First, let's look at the input-output (zero-shot) prompting for movie sentimental use case."
   ]
  },
  {
   "cell_type": "code",
   "execution_count": 15,
   "id": "cf796339-28a0-440c-b886-dad39ee8a7e2",
   "metadata": {
    "tags": []
   },
   "outputs": [
    {
     "name": "stdout",
     "output_type": "stream",
     "text": [
      "I would rate this comment 3 out of 5 stars. The comment is brief and to the point, but it lacks specific details or explanations to support the claim that the movie is \"excellent.\" A more detailed review would be more helpful and engaging. \n",
      "\n",
      "Here's a breakdown of the rating:\n",
      "* The comment is clear and easy to understand (1 star for clarity).\n",
      "* The comment is positive and shows enthusiasm for the movie (1 star for positivity).\n",
      "* The comment lacks specific examples or details to support the claim (deduction of 1 star for lack of detail).\n",
      "\n",
      "Overall, it's a decent but unimpressive comment, hence 3 stars.\n"
     ]
    }
   ],
   "source": [
    "user_prompt = '''Please rate this comment from the scale of 1 to 5 stars.\n",
    "Here is the comment: This movie is excellent.\n",
    "'''\n",
    "\n",
    "resp = generate_text(model_id, user_prompt)\n",
    "\n",
    "print(resp['text'])"
   ]
  },
  {
   "cell_type": "markdown",
   "id": "0a75d560-e174-4f9c-bd45-7667df05a952",
   "metadata": {},
   "source": [
    "Let's continue with movie sentimental use case but with guidelines on how to rate the movie."
   ]
  },
  {
   "cell_type": "code",
   "execution_count": 16,
   "id": "41a516cf-a4a6-4d6f-af2b-c00349fe944d",
   "metadata": {
    "tags": []
   },
   "outputs": [
    {
     "name": "stdout",
     "output_type": "stream",
     "text": [
      "To rate the comment \"This movie is excellent,\" let's analyze the given ratings and their corresponding comments:\n",
      "\n",
      "1. 5-star: \"Probably the best movie of my life!\" - This indicates a very positive review.\n",
      "2. 3-star: \"I'm ok with this movie\" - This suggests a neutral or mediocre opinion.\n",
      "3. 1-star: \"This movie is waste of time\" - This shows a very negative review.\n",
      "\n",
      "The comment \"This movie is excellent\" is very positive, similar to \"Probably the best movie of my life!\" It expresses a high level of satisfaction and approval. Therefore, it aligns with the 5-star rating.\n",
      "\n",
      "Rating: 5 stars.\n"
     ]
    }
   ],
   "source": [
    "user_prompt = '''Please rate this comment from the scale of 1 to 5 stars\n",
    "Probably the best movie of my life!: 5 star\n",
    "I'm ok with this movie: 3 star\n",
    "This movie is waste of time: 1 star\n",
    "\n",
    "Here is the comment: This movie is excellent.\n",
    "'''\n",
    "resp = generate_text(model_id, user_prompt)\n",
    "print(resp['text'])"
   ]
  },
  {
   "cell_type": "markdown",
   "id": "e8551ac8-539b-4370-9571-db157ef8be43",
   "metadata": {},
   "source": [
    "As observed from the output, language model provides more consistent, and more accurate rating."
   ]
  },
  {
   "cell_type": "markdown",
   "id": "ae43ccdc-e50a-4727-bc58-9fc8d572c774",
   "metadata": {},
   "source": [
    "## Chain-of-Thoughts (CoT)\n",
    "---\n",
    "This technique involves the language model to articulate its reasoning or follow specific prompt steps, which can improve transparency, help guide its thinking, and generate a more coherent and relevant response. By breaking down complex problems into more manageable steps, CoT prompting improves problem solving accuracy."
   ]
  },
  {
   "cell_type": "markdown",
   "id": "298f16f8-483a-40ee-989b-edde812aefef",
   "metadata": {},
   "source": [
    "Let's start with an example of generic prompts."
   ]
  },
  {
   "cell_type": "code",
   "execution_count": 17,
   "id": "cd8ae45a-87c7-479e-bfaf-f6befe19794b",
   "metadata": {
    "tags": []
   },
   "outputs": [
    {
     "name": "stdout",
     "output_type": "stream",
     "text": [
      "Round 1\n",
      "Tokyo Tower is a communications tower located in the heart of Tokyo, Japan. Standing at 332.9 meters (1,092 feet) tall, it was the tallest tower in the world when completed in 1958, and it held that title until 1965. The tower is modeled after the Eiffel Tower in Paris, but it is painted in a distinctive orange and white color scheme to comply with air traffic regulations.\n",
      "\n",
      "The tower has two main observation decks: the Main Deck at 150 meters (492 feet) and the Top Deck at 250 meters (820 feet). Visitors can enjoy panoramic views of the city from these decks, and on a clear day, they can see Mount Fuji, the famous Japanese mountain.\n",
      "\n",
      "Tokyo Tower is not only a popular tourist destination but also an important broadcasting tower, with many radio and television stations using it to transmit their signals. Over the years, it has become an iconic symbol of Tokyo and a must-visit attraction for anyone traveling to the city.\n",
      "\n",
      "In recent years, Tokyo Tower has been surrounded by other tall buildings and towers, such as Tokyo Skytree, which is now the tallest tower in the world. However, Tokyo Tower remains a beloved landmark and a nostalgic reminder of Tokyo's past. Its unique blend of traditional and modern architecture, combined with its stunning views and rich history, make it a must-see destination for anyone visiting Tokyo.\n",
      " ----- \n",
      "Round 2\n",
      "Tokyo Tower is a communications tower located in the heart of Tokyo, Japan. Standing at 332.9 meters (1,092 feet) tall, it was the tallest tower in the world when completed in 1958, and it held that title until 1967. The tower is modeled after the Eiffel Tower in Paris, but it is painted in a distinctive orange and white color scheme to comply with air traffic regulations.\n",
      "\n",
      "The tower has two main observation decks: the Main Deck at 150 meters (492 feet) and the Top Deck at 250 meters (820 feet). Visitors can enjoy panoramic views of the city from these decks, and on a clear day, they can even see Mount Fuji. The tower is also equipped with a variety of amenities, including restaurants, shops, and a wax museum.\n",
      "\n",
      "Tokyo Tower is not only a popular tourist destination but also an important part of Tokyo's communications infrastructure. It broadcasts signals for numerous television and radio stations, and it is also used for navigation and other purposes.\n",
      "\n",
      "At night, the tower is illuminated with a beautiful lighting system, making it a striking landmark in the Tokyo skyline. It has become an iconic symbol of the city and a must-visit destination for anyone traveling to Tokyo. Despite the construction of newer, taller towers in Tokyo, such as Tokyo Skytree, Tokyo Tower remains a beloved and enduring landmark in the city.\n",
      " ----- \n"
     ]
    }
   ],
   "source": [
    "user_prompt = '''Can you describe Tokyo Tower to your audience?\n",
    "'''\n",
    "\n",
    "# Let's generate 2 examples for comparison\n",
    "for i in range(2):\n",
    "    print('Round {}'.format(i+1))\n",
    "    resp = generate_text(model_id, user_prompt, max_tokens=1024, temperature=.5)\n",
    "    print(resp['text'])\n",
    "    print(' ----- ')"
   ]
  },
  {
   "cell_type": "markdown",
   "id": "8756483a-2659-4451-a3e4-f2cfdec8bb97",
   "metadata": {},
   "source": [
    "Now let's test with CoT prompting techniques."
   ]
  },
  {
   "cell_type": "code",
   "execution_count": 18,
   "id": "a7894ae3-4d5f-4cf0-b7fc-f2c730a1bf83",
   "metadata": {
    "tags": []
   },
   "outputs": [
    {
     "name": "stdout",
     "output_type": "stream",
     "text": [
      "Round 1\n",
      "Tokyo Tower! Let's dive into the fascinating world of this iconic landmark.\n",
      "\n",
      "1. **What is it?** Tokyo Tower is a communications tower located in the heart of Tokyo, Japan. It's a lattice tower, also known as a truss tower, that's painted in a distinctive orange and white color scheme to comply with air traffic regulations.\n",
      "\n",
      "2. **When was it built, and how long did it take?** Construction on Tokyo Tower began in June 1957 and was completed in December 1958. It took approximately 1.5 years to build, with a workforce of over 1,000 laborers. The tower was officially opened to the public on December 23, 1958.\n",
      "\n",
      "3. **Why was it built?** Tokyo Tower was built as a broadcasting tower to support the growing demand for television and radio broadcasting in Japan. At the time, it was the tallest tower in the world, standing at 332.9 meters (1,092 feet) tall. Its primary purpose was to provide a broadcasting signal to the Tokyo metropolitan area.\n",
      "\n",
      "4. **Why should you visit Tokyo Tower?** You should visit Tokyo Tower for its breathtaking views, rich history, and fun experiences! Here are some fun facts to get you excited:\n",
      "\t* On a clear day, you can see Mount Fuji from the tower's observation decks.\n",
      "\t* Tokyo Tower is inspired by the Eiffel Tower in Paris, but it's 5 meters (16 feet) taller!\n",
      "\t* The tower is designed to withstand strong winds and earthquakes, making it a remarkable feat of engineering.\n",
      "\t* The observation decks offer a unique perspective on Tokyo's cityscape, with a glass floor and a special \"Window to the Past\" display showcasing old photographs of Tokyo.\n",
      "\t* At night, the tower is illuminated with a stunning light show, making it a must-see attraction.\n",
      "\n",
      "In summary, Tokyo Tower is an iconic landmark that offers a mix of history, culture, and entertainment. With its rich history, stunning views, and fun experiences, it's a must-visit destination for anyone traveling to Tokyo. So, come and enjoy the panoramic views, learn about its fascinating history, and take some amazing photos to remember your trip!\n",
      "-----\n",
      "\n",
      "\n",
      "Round 2\n",
      "Tokyo Tower is a communications tower located in the heart of Tokyo, Japan. \n",
      "\n",
      "Built between 1957 and 1958, it took approximately one year to complete the construction of this iconic tower. The construction began on June 29, 1957, and was finished on December 23, 1958.\n",
      "\n",
      "Tokyo Tower was built as a broadcasting tower to facilitate the transmission of radio and television signals across the city. At the time of its completion, it was the tallest tower in the world, standing at 332.9 meters (1,092 feet) tall.\n",
      "\n",
      "You should visit Tokyo Tower because it offers a unique and breathtaking view of the city from its observation decks. On a clear day, you can see Mount Fuji, the Tokyo Skytree, and other iconic landmarks. Here are some fun facts to make your visit even more interesting: \n",
      "- Tokyo Tower is painted in a distinctive orange and white color scheme to comply with air traffic regulations.\n",
      "- The tower is designed to be a symbol of Japan's post-war rebirth and is inspired by the Eiffel Tower in Paris.\n",
      "- At night, the tower is lit up with a beautiful LED lighting system that changes colors and patterns throughout the year.\n",
      "- You can even get married at Tokyo Tower, as it has a chapel on the top floor with stunning views of the city.\n",
      "- Tokyo Tower has become a beloved landmark and a popular tourist destination, attracting millions of visitors each year.\n",
      "\n",
      "Overall, Tokyo Tower is a must-visit destination for anyone traveling to Tokyo, offering a unique blend of history, culture, and entertainment. So, be sure to add it to your itinerary and enjoy the stunning views and experiences it has to offer.\n",
      "-----\n",
      "\n",
      "\n"
     ]
    }
   ],
   "source": [
    "user_prompt = '''Can you describe Tokyo Tower to your audience? Begin with:\n",
    "1. What is it\n",
    "2. When it was built, and how long it took them to build\n",
    "3. Why it was built\n",
    "4. End it with why should I visit this place, throw in fun facts to engage with the audiences.\n",
    "'''\n",
    "\n",
    "for i in range(2):\n",
    "    print('Round {}'.format(i+1))\n",
    "    resp = generate_text(model_id, user_prompt, max_tokens=1024, temperature=.5)\n",
    "    print(resp['text'])\n",
    "    print('-----\\n\\n')"
   ]
  },
  {
   "cell_type": "markdown",
   "id": "3cb8603b-3d7d-4df8-8e98-f538e3a3d4c7",
   "metadata": {},
   "source": [
    "As you can see from the responses, the language model responds to user in more structured and consistent approach. This way we can provide more control on the language model's output."
   ]
  },
  {
   "cell_type": "markdown",
   "id": "95128fea-6afa-4a05-953e-ee7f856fa68e",
   "metadata": {},
   "source": [
    "## Self-consistency \n",
    "---\n",
    "The language models are probabilistic, so even with Chain-of-Thought technique, a single generation might produce incorrect or inconsistent results. With self-consistency, it selects the most frequent answer from multiple generations, hence improving the consistency to the user.\n",
    "\n",
    "Let's examine the example for customer support use case."
   ]
  },
  {
   "cell_type": "code",
   "execution_count": 19,
   "id": "46ba8d52-e4e2-4ac2-bb71-d090eac6e3e9",
   "metadata": {
    "tags": []
   },
   "outputs": [
    {
     "name": "stdout",
     "output_type": "stream",
     "text": [
      "Round 1\n",
      "To resolve the issue of a customer receiving a tablet instead of the laptop they ordered, the following steps can be taken:\n",
      "\n",
      "1. **Acknowledge and Apologize**: Respond to the customer's complaint promptly, acknowledging the mistake, and apologize for the inconvenience caused.\n",
      "\n",
      "2. **Verify the Order**: Check the customer's order details to confirm that a laptop was indeed ordered and to identify the specific laptop model and any other relevant details.\n",
      "\n",
      "3. **Investigate the Issue**: Look into the cause of the discrepancy to understand how a tablet was shipped instead of a laptop. This could involve checking the warehouse or shipping procedures.\n",
      "\n",
      "4. **Arrange for Correct Order Fulfillment**: Immediately process a new order for the correct laptop, ensuring it is shipped out as soon as possible. Provide the customer with a tracking number for the new shipment.\n",
      "\n",
      "5. **Return or Dispose of Incorrect Item**: Inform the customer that they can either keep the tablet (potentially at a discounted price or as a goodwill gesture) or arrange for its return. If a return is preferred, provide a prepaid return shipping label to facilitate the process.\n",
      "\n",
      "6. **Offer Compensation (Optional)**: Depending on the company's policies and the severity of the inconvenience, consider offering compensation, such as a discount on the current or future order, a refund of shipping costs, or a store credit.\n",
      "\n",
      "7. **Follow-Up**: Once the correct order has been shipped and the issue is resolved, follow up with the customer to ensure they received the laptop and are satisfied with the resolution.\n",
      "\n",
      "8. **Internal Review**: Conduct an internal review to identify the root cause of the mistake and implement corrective actions to prevent similar errors in the future.\n",
      "\n",
      "By following these steps, the issue can be resolved efficiently, maintaining customer satisfaction and trust.\n",
      "-----\n",
      "\n",
      "\n",
      "Round 2\n",
      "To resolve the issue where a customer has ordered a laptop but received a tablet instead, the following steps can be taken:\n",
      "\n",
      "1. **Acknowledge and Apologize**: Respond to the customer promptly, acknowledging their issue and apologizing for the mistake. This shows that you value their time and business.\n",
      "\n",
      "2. **Gather Information**: Request the customer's order number and any other relevant details to locate their order in your system. This will help in investigating the cause of the mistake.\n",
      "\n",
      "3. **Verify the Order and Shipment**: Check the order details and the shipment records to confirm that a tablet was sent instead of a laptop. This step is crucial for understanding what went wrong.\n",
      "\n",
      "4. **Offer a Solution**: Provide the customer with a solution to rectify the situation. This could include:\n",
      "   - **Replacing the Order**: Arrange for the correct item (laptop) to be shipped out to the customer as soon as possible. You may also need to arrange for the return of the incorrect item (tablet) at your expense.\n",
      "   - **Refund or Store Credit**: Offer a refund or store credit for the order, especially if the customer no longer wishes to receive the correct item or if it's going to take too long to rectify.\n",
      "\n",
      "5. **Arrange for Return and Reshipment**: If the customer is to return the tablet, provide a return shipping label or instructions on how to proceed with the return. Once the return is processed, reship the correct order (laptop) promptly.\n",
      "\n",
      "6. **Follow-Up**: After the issue has been resolved, follow up with the customer to ensure they are satisfied with the outcome. This demonstrates a commitment to customer satisfaction and can help in maintaining a positive relationship.\n",
      "\n",
      "7. **Internal Review**: Conduct an internal review to identify the cause of the mistake. This could involve checking inventory management, order picking processes, or shipping procedures. Implementing changes based on this review can help prevent similar mistakes in the future.\n",
      "\n",
      "8. **Compensation (Optional)**: Depending on the company's policies and the severity of the inconvenience caused, consider offering some form of compensation, such as a discount on the next purchase or a small gift, as a gesture of goodwill.\n",
      "\n",
      "By following these steps, you can effectively resolve the customer's issue, maintain their trust, and potentially turn a negative experience into a positive one.\n",
      "-----\n",
      "\n",
      "\n"
     ]
    }
   ],
   "source": [
    "user_prompt = '''\n",
    "If a customer have ordered a laptop but received a tablet instead.\n",
    "What are the steps you will take?\n",
    "'''\n",
    "for i in range(2):\n",
    "    print('Round {}'.format(i+1))\n",
    "    resp = generate_text(model_id, user_prompt)\n",
    "    print(resp['text'])\n",
    "    print('-----\\n\\n')\n",
    "    time.sleep(2)"
   ]
  },
  {
   "cell_type": "code",
   "execution_count": 20,
   "id": "03d96f30-19a8-45ca-8b2b-5476304b13aa",
   "metadata": {
    "tags": []
   },
   "outputs": [
    {
     "name": "stdout",
     "output_type": "stream",
     "text": [
      "Round 1\n",
      "That's a great approach to handling the situation. Here's a more detailed step-by-step guide on how the support agent can resolve the issue:\n",
      "\n",
      "1. **Acknowledge the mistake**: The support agent should start by apologizing for the error and acknowledging the customer's frustration. This shows that the agent is taking the issue seriously and is committed to making it right.\n",
      "\n",
      "Example: \"I'm so sorry to hear that you received a tablet instead of the laptop you ordered. I can imagine how frustrating that must be, and I apologize for the mistake.\"\n",
      "\n",
      "2. **Guide the customer on how to return the tablet**: The agent should then provide clear instructions on how to return the tablet, including any relevant details such as:\n",
      "\t* Return shipping labels or instructions on how to obtain one.\n",
      "\t* Packaging requirements.\n",
      "\t* Any specific documentation or information required for the return.\n",
      "\n",
      "Example: \"To return the tablet, please use the pre-paid return shipping label that will be sent to you via email. Make sure to pack the tablet securely in its original packaging, and include all original accessories. We'll provide a return merchandise authorization (RMA) number for your reference.\"\n",
      "\n",
      "3. **Ensure that the laptop is shipped promptly**: The agent should assure the customer that the correct laptop will be shipped as soon as possible, and provide an updated shipping date or tracking information.\n",
      "\n",
      "Example: \"We're expediting the shipment of your laptop, and you can expect to receive it within [X] business days. We'll send you an email with the tracking information as soon as it's shipped.\"\n",
      "\n",
      "4. **Offer additional support or compensation (optional)**: Depending on the company's policies and the customer's situation, the agent may also offer additional support or compensation, such as a discount on the next purchase or a gesture of goodwill.\n",
      "\n",
      "Example: \"As a gesture of goodwill, we'd like to offer you a [X]% discount on your next purchase. We appreciate your patience and understanding in this matter.\"\n",
      "\n",
      "By following these steps, the support agent can effectively resolve the issue, turn a negative experience into a positive one, and maintain customer satisfaction.\n",
      "-----\n",
      "\n",
      "\n",
      "Round 2\n",
      "That's a great approach to handling the situation. Here's a more detailed outline of the steps the support agent could take:\n",
      "\n",
      "1. **Acknowledge the mistake**: The support agent should start by apologizing for the error and acknowledging the customer's frustration. This shows that the agent is empathetic and willing to make things right.\n",
      "\n",
      "Example: \"I'm so sorry to hear that you received a tablet instead of the laptop you ordered. I can imagine how frustrating that must be.\"\n",
      "\n",
      "2. **Guide the customer on how to return the tablet**: The agent should then provide clear instructions on how to return the tablet, including any relevant details such as return shipping labels, packaging requirements, and deadlines.\n",
      "\n",
      "Example: \"To return the tablet, please [insert instructions]. We'll provide a prepaid return shipping label. If you have any issues, feel free to reach out to us.\"\n",
      "\n",
      "3. **Ensure that the laptop is shipped promptly**: The agent should assure the customer that the correct order (laptop) will be shipped as soon as possible, and provide an estimated delivery date.\n",
      "\n",
      "Example: \"We'll expedite the shipping of your laptop, and you can expect to receive it by [estimated delivery date]. We'll also keep you updated on the shipping status.\"\n",
      "\n",
      "4. **Additional steps (optional)**: Depending on the situation, the agent may also want to:\n",
      "\t* Offer a gesture of goodwill, such as a discount on the next order or a refund of shipping costs.\n",
      "\t* Provide additional support or troubleshooting if the customer is experiencing any issues with the return or replacement process.\n",
      "\t* Escalate the issue to a supervisor or specialized team if necessary.\n",
      "\n",
      "By following these steps, the support agent can turn a negative experience into a positive one, showing that the company is committed to customer satisfaction and willing to make things right when mistakes happen.\n",
      "-----\n",
      "\n",
      "\n"
     ]
    }
   ],
   "source": [
    "user_prompt = '''\n",
    "If a customer have ordered a laptop but received a tablet instead.\n",
    "The support agent should first acknowledge the mistake,\n",
    "guide the customer on how to return the tablet,\n",
    "and ensure that the laptop is shipped promptly.\n",
    "'''\n",
    "for i in range(2):\n",
    "    print('Round {}'.format(i+1))\n",
    "    resp = generate_text(model_id, user_prompt)\n",
    "    print(resp['text'])\n",
    "    print('-----\\n\\n')\n",
    "    time.sleep(2)"
   ]
  },
  {
   "cell_type": "markdown",
   "id": "43a76abc-b421-4643-9591-3e7e192639a0",
   "metadata": {},
   "source": [
    "## ReAct (Reasoning and Acting)\n",
    "---\n",
    "This technique combines both reasoning and action planning within language models. This allows the models to generate both reasoning traces and task-specific actions, enhancing the models' ability to interact with external environments and adapt their responses accordingly. As a result, this technique can significantly improve the accuracy and reliability of models' responses.\n"
   ]
  },
  {
   "cell_type": "code",
   "execution_count": 21,
   "id": "2b96aa32-4e09-4329-8b40-42b0a1fd6b9e",
   "metadata": {},
   "outputs": [
    {
     "name": "stdout",
     "output_type": "stream",
     "text": [
      "Expanding Operations into Malaysia: A Tech Company's Guide\n",
      "\n",
      "If a tech company wants to expand its operations into Malaysia, here are some steps it can take:\n",
      "\n",
      "1. **Research the Malaysian Market**: Understand the local tech industry, market trends, and consumer behavior. Identify potential competitors and partners.\n",
      "2. **Register the Business**: Register the company with the Companies Commission of Malaysia (SSM) and obtain necessary licenses and permits. Consider registering as a foreign-owned company or setting up a subsidiary.\n",
      "3. **Understand Local Regulations**: Familiarize yourself with Malaysian laws and regulations, such as the Personal Data Protection Act 2010 and the Communications and Multimedia Act 1998.\n",
      "4. **Obtain Necessary Permits and Licenses**: Obtain permits and licenses from relevant authorities, such as the Malaysian Communications and Multimedia Commission (MCMC) and the Ministry of International Trade and Industry (MITI).\n",
      "5. **Set up a Local Office**: Establish a local office in a strategic location, such as Kuala Lumpur or Penang, to facilitate operations and networking.\n",
      "6. **Hire Local Talent**: Recruit local talent with the necessary skills and expertise to support the company's operations. Consider partnering with local universities or recruitment agencies.\n",
      "7. **Culturally Adapt**: Understand Malaysian culture and business etiquette to build strong relationships with local partners, customers, and employees.\n",
      "8. **Tax Incentives**: Explore tax incentives offered by the Malaysian government, such as the Pioneer Status or Investment Tax Allowance, to reduce tax liabilities.\n",
      "9. **Infrastructure and Logistics**: Ensure reliable infrastructure and logistics support, such as data centers, cloud services, and transportation networks.\n",
      "10. **Network and Build Relationships**: Attend industry events, conferences, and networking sessions to build relationships with local stakeholders, including government officials, industry players, and potential partners.\n",
      "\n",
      "Some popular locations for tech companies in Malaysia include:\n",
      "\n",
      "* Cyberjaya: A hub for tech companies and startups, with a range of infrastructure and support services.\n",
      "* Kuala Lumpur: The capital city, with a large pool of talent and a vibrant tech ecosystem.\n",
      "* Penang: A major tech hub, with a strong presence of multinational companies and a growing startup scene.\n",
      "\n",
      "By following these steps, a tech company can successfully expand its operations into Malaysia and tap into the country's growing tech market.\n"
     ]
    }
   ],
   "source": [
    "user_prompt = '''\n",
    "What should tech company do if it wants to expand its operations into Malaysia?\n",
    "'''\n",
    "\n",
    "resp = generate_text(model_id, user_prompt,)\n",
    "print(resp['text'])"
   ]
  },
  {
   "cell_type": "code",
   "execution_count": 22,
   "id": "d9a6bbb6-c9c1-4648-b92a-d77b48f99efe",
   "metadata": {
    "tags": []
   },
   "outputs": [
    {
     "name": "stdout",
     "output_type": "stream",
     "text": [
      "To address the task of expanding a tech company into Malaysia, we'll follow a step-by-step approach that includes gathering information about market conditions, evaluating potential risks and benefits, and suggesting an action plan.\n",
      "\n",
      "### 1. Gathering Information about Market Conditions\n",
      "\n",
      "#### Economic Overview\n",
      "Malaysia has a diverse economy with a strong presence of manufacturing, services, and to a lesser extent, agriculture. The country is known for its stable economic growth and has been a hub for multinational corporations (MNCs) in Southeast Asia.\n",
      "\n",
      "#### Tech Industry\n",
      "The tech industry in Malaysia is growing, driven by government initiatives to promote digitalization and innovation. Key areas include:\n",
      "- **Digital Economy:** The Malaysian government has been proactive in promoting the digital economy through various initiatives, including the Malaysia Digital Economy Corporation (MDEC) and the National Digitalization Blueprint (MyDIGITAL).\n",
      "- **Startups and Innovation:** There's a growing startup ecosystem, with Kuala Lumpur being a focal point. The presence of incubators, accelerators, and co-working spaces is on the rise.\n",
      "- **Infrastructure:** Malaysia has been investing in improving its digital infrastructure, including high-speed internet and data centers.\n",
      "\n",
      "#### Market Demand\n",
      "The demand for tech services and products is increasing, driven by both consumer and business needs. Key sectors include e-commerce, fintech, cybersecurity, and cloud computing.\n",
      "\n",
      "### 2. Evaluating Potential Risks and Benefits\n",
      "\n",
      "#### Benefits\n",
      "1. **Strategic Location:** Malaysia is strategically located in Southeast Asia, making it an ideal hub for regional operations.\n",
      "2. **Government Incentives:** The Malaysian government offers various incentives for tech companies, including tax exemptions, grants, and funding for R&D activities.\n",
      "3. **Growing Market:** The tech market is growing, with increasing demand for digital services and products.\n",
      "4. **Talent Pool:** Malaysia has a relatively educated and skilled workforce, with a growing number of graduates in STEM fields.\n",
      "\n",
      "#### Risks\n",
      "1. **Competition:** The tech industry is competitive, with both local and international players.\n",
      "2. **Regulatory Compliance:** Navigating Malaysian regulations and ensuring compliance can be challenging.\n",
      "3. **Cybersecurity:** As with any tech expansion, there's a risk of cybersecurity threats.\n",
      "4. **Economic and Political Stability:** While Malaysia has generally been stable, there are risks associated with economic fluctuations and political changes.\n",
      "\n",
      "### 3. Suggesting an Action Plan\n",
      "\n",
      "1. **Market Research:** Conduct thorough market research to understand the specific needs and trends in the Malaysian tech market.\n",
      "2. **Partner with Local Entities:** Consider partnering with local businesses or organizations to gain insights into the market and regulatory environment.\n",
      "3. **Register and Comply:** Register the company in Malaysia and ensure compliance with all relevant regulations, including tax and employment laws.\n",
      "4. **Talent Acquisition and Development:** Invest in recruiting local talent and consider training programs to develop the skills needed for your tech operations.\n",
      "5. **Infrastructure and Technology:** Assess the need for investing in local infrastructure, such as data centers or office spaces, and ensure that your technology infrastructure is robust and secure.\n",
      "6. **Risk Management:** Develop a risk management plan that includes strategies for mitigating identified risks, such as cybersecurity threats and regulatory non-compliance.\n",
      "7. **Government Engagement:** Engage with relevant government agencies to understand available incentives and to ensure compliance with regulations.\n",
      "\n",
      "### Conclusion\n",
      "\n",
      "Expanding a tech company into Malaysia can be a strategic move, given the country's growing tech industry and favorable business environment. By understanding the market conditions, evaluating the potential risks and benefits, and following a well-planned action plan, a tech company can successfully establish and grow its operations in Malaysia.\n"
     ]
    }
   ],
   "source": [
    "user_prompt = '''\n",
    "A tech company is considering expanding its operations into Malaysia. \n",
    "First, gather information about the market conditions in that country, \n",
    "then evaluate potential risks and benefits, and finally suggest an action plan.\n",
    "'''\n",
    "resp = generate_text(model_id, user_prompt,)\n",
    "print(resp['text'])"
   ]
  },
  {
   "cell_type": "markdown",
   "id": "c6c08714-91b5-4d9c-81a7-662309ee7738",
   "metadata": {},
   "source": [
    "## Prompt chaining\n",
    "---\n",
    "This technique involves breaking down a complex task into smaller, manageable subtasks, where the output of one prompt serves as the input for the next one. This technique enhaces the reliability and performance of language model to process information in more structured manner and on specific task at a time.\n",
    "\n",
    "One common **use case** is writing a long document (i.e., proposal, marketing plan). Let's first observe the traditional prompting."
   ]
  },
  {
   "cell_type": "code",
   "execution_count": 23,
   "id": "31b41af0-0f52-4552-a869-2392ff8e75b5",
   "metadata": {},
   "outputs": [
    {
     "name": "stdout",
     "output_type": "stream",
     "text": [
      "**Marketing Plan for Eco-Friendly Product: \"GreenClean\"**\n",
      "\n",
      "**Objective:** Position GreenClean, a biodegradable and non-toxic cleaning solution, as the go-to eco-friendly alternative for households and businesses, achieving $250,000 in sales within the first year.\n",
      "\n",
      "**Target Market:** Environmentally conscious consumers, eco-friendly influencers, and businesses seeking sustainable practices.\n",
      "\n",
      "**Marketing Strategies:**\n",
      "\n",
      "1. **Digital Marketing:** Utilize social media platforms (Facebook, Instagram, Twitter) to share engaging content highlighting GreenClean's eco-friendly features and benefits. Collaborate with eco-influencers to promote the product.\n",
      "2. **Content Marketing:** Develop a blog on the GreenClean website featuring articles on sustainable living, eco-friendly cleaning tips, and the environmental impact of traditional cleaning products.\n",
      "3. **Email Marketing:** Build an email list and send regular newsletters with promotions, product updates, and educational content.\n",
      "4. **Partnerships:** Partner with eco-friendly businesses and organizations to offer bundled promotions and expand the product's reach.\n",
      "5. **Trade Shows and Events:** Attend eco-friendly trade shows and events to showcase GreenClean and connect with potential customers.\n",
      "\n",
      "**Tactics:**\n",
      "\n",
      "* Offer a 10% discount for first-time customers who sign up for the email list.\n",
      "* Create a referral program, rewarding customers for referring friends and family.\n",
      "* Develop a \"GreenClean Challenge\" social media campaign, encouraging customers to share their eco-friendly cleaning experiences.\n",
      "\n",
      "**Budget Allocation:**\n",
      "\n",
      "* Digital Marketing (40%): $40,000\n",
      "* Content Marketing (20%): $20,000\n",
      "* Email Marketing (15%): $15,000\n",
      "* Partnerships (15%): $15,000\n",
      "* Trade Shows and Events (10%): $10,000\n",
      "\n",
      "By implementing this comprehensive marketing plan, GreenClean will effectively reach and engage with the target market, establishing itself as a leader in the eco-friendly cleaning products industry.\n"
     ]
    }
   ],
   "source": [
    "user_prompt = '''\n",
    "Write a 300-words marketing plan for an eco-friendly product.\n",
    "'''\n",
    "resp = generate_text(model_id, user_prompt,)\n",
    "print(resp['text'])"
   ]
  },
  {
   "cell_type": "markdown",
   "id": "5aaaefe2-d161-4eb2-a872-d7c16b32d4f1",
   "metadata": {},
   "source": [
    "Now, let's implement it with prompt chaining."
   ]
  },
  {
   "cell_type": "code",
   "execution_count": 24,
   "id": "c80aca9a-e4f7-4474-9bb9-a75beeb74bab",
   "metadata": {},
   "outputs": [
    {
     "name": "stdout",
     "output_type": "stream",
     "text": [
      "Based on current market trends and consumer behavior, the top 3 target audiences for an eco-friendly product are:\n",
      "\n",
      "1. **Millennials (born 1981-1996) and Gen Z (born 1997-2012)**: These younger generations are more likely to prioritize sustainability and environmental responsibility when making purchasing decisions. They are digitally native, active on social media, and often influence their families and friends to adopt eco-friendly habits.\n",
      "\n",
      "2. **Health-Conscious Consumers**: Individuals who prioritize their health and wellbeing are more likely to be interested in eco-friendly products, as they often perceive these products as being safer and more sustainable. This audience may include parents seeking non-toxic products for their families, individuals with allergies or sensitivities, and those who follow a wellness-oriented lifestyle.\n",
      "\n",
      "3. **Environmentally Aware and Active Individuals**: People who are already engaged in environmentally friendly activities, such as recycling, reducing waste, or participating in conservation efforts, are likely to be interested in eco-friendly products. This audience may include outdoor enthusiasts, environmental activists, and individuals who value sustainable living.\n",
      "\n",
      "These target audiences are likely to be receptive to eco-friendly products and may become loyal customers if the products meet their expectations in terms of performance, quality, and sustainability.\n"
     ]
    }
   ],
   "source": [
    "step1_prompt = 'Identify top 3 target audiences for an eco-friendly product.'\n",
    "resp = generate_text(model_id, step1_prompt,)\n",
    "output1_resp = resp['text']\n",
    "print(output1_resp)"
   ]
  },
  {
   "cell_type": "code",
   "execution_count": 25,
   "id": "a70aa1ca-c41e-491b-afef-44396df18ae7",
   "metadata": {},
   "outputs": [
    {
     "name": "stdout",
     "output_type": "stream",
     "text": [
      "Based on the identified target audiences for an eco-friendly product, the following are effective marketing channels to reach them:\n",
      "\n",
      "**For Millennials (born 1981-1996) and Gen Z (born 1997-2012):**\n",
      "\n",
      "1. **Social Media**: Utilize platforms like Instagram, TikTok, Facebook, and Twitter to create engaging content, promote products, and collaborate with eco-influencers.\n",
      "2. **Influencer Marketing**: Partner with social media influencers and content creators who have a strong focus on sustainability and eco-friendliness.\n",
      "3. **Online Advertising**: Use targeted online ads, such as Google Ads and social media ads, to reach this digitally native audience.\n",
      "4. **Content Marketing**: Create informative blog posts, videos, and guides that highlight the eco-friendly features and benefits of the product.\n",
      "\n",
      "**For Health-Conscious Consumers:**\n",
      "\n",
      "1. **Wellness and Health-Focused Media**: Advertise in publications and online platforms that cater to health-conscious individuals, such as wellness blogs and magazines.\n",
      "2. **Social Media**: Utilize social media platforms to share content that highlights the health benefits and safety of eco-friendly products.\n",
      "3. **Partnerships with Health and Wellness Experts**: Collaborate with health experts, nutritionists, and wellness professionals to promote the product and its benefits.\n",
      "4. **Email Marketing**: Build an email list and send targeted campaigns to subscribers who have shown interest in health and wellness.\n",
      "\n",
      "**For Environmentally Aware and Active Individuals:**\n",
      "\n",
      "1. **Outdoor and Environmental Media**: Advertise in publications and online platforms that cater to outdoor enthusiasts and environmentalists, such as outdoor magazines and conservation websites.\n",
      "2. **Event Marketing**: Participate in outdoor events, environmental festivals, and trade shows to showcase the product and connect with this audience.\n",
      "3. **Partnerships with Environmental Organizations**: Collaborate with environmental organizations and conservation groups to promote the product and support shared values.\n",
      "4. **Content Marketing**: Create content that highlights the eco-friendly features and benefits of the product, such as blog posts and videos.\n",
      "\n",
      "**Common Channels Across All Target Audiences:**\n",
      "\n",
      "1. **Eco-Friendly Online Communities**: Engage with online forums and communities focused on sustainability and eco-friendliness.\n",
      "2. **Sustainable Living Events**: Participate in events and conferences that promote sustainable living and eco-friendliness.\n",
      "3. **Certifications and Labels**: Utilize eco-labels and certifications, such as EcoLogo or USDA BioPreferred, to demonstrate the product's commitment to sustainability.\n",
      "\n",
      "By using these marketing channels, you can effectively reach and engage with the target audiences for your eco-friendly product.\n"
     ]
    }
   ],
   "source": [
    "step2_prompt = '''\n",
    "Based on the identified target audience, suggest effective marketing channels.\n",
    "Here are the target audience: \n",
    "{target_audience}\n",
    "'''.format(target_audience=output1_resp)\n",
    "resp = generate_text(model_id, step2_prompt,)\n",
    "output2_resp = resp['text']\n",
    "print(output2_resp)"
   ]
  },
  {
   "cell_type": "code",
   "execution_count": 26,
   "id": "742bf31e-eb08-4a22-a852-34627d7a895e",
   "metadata": {},
   "outputs": [
    {
     "name": "stdout",
     "output_type": "stream",
     "text": [
      "**Sustainability-Focused Messaging Strategy**\n",
      "\n",
      "To effectively engage with the target audiences for an eco-friendly product, we will develop a messaging strategy that emphasizes sustainability across the identified marketing channels.\n",
      "\n",
      "**Core Messaging Pillars:**\n",
      "\n",
      "1. **Environmental Responsibility**: Highlight the product's eco-friendly features, sustainable materials, and reduced environmental impact.\n",
      "2. **Health and Wellness**: Emphasize the product's safety, non-toxicity, and benefits for human health and well-being.\n",
      "3. **Sustainable Lifestyle**: Promote the product as part of a broader sustainable lifestyle, encouraging consumers to make environmentally conscious choices.\n",
      "\n",
      "**Channel-Specific Messaging:**\n",
      "\n",
      "### For Millennials and Gen Z (Social Media, Influencer Marketing, Online Advertising, Content Marketing)\n",
      "\n",
      "1. **Visual Storytelling**: Utilize engaging visuals and videos to showcase the product's eco-friendly features and sustainable lifestyle.\n",
      "2. **Influencer Partnerships**: Collaborate with eco-influencers to promote the product and share their personal experiences with sustainable living.\n",
      "3. **Interactive Content**: Create interactive content, such as quizzes and polls, to educate and engage this audience on sustainability topics.\n",
      "\n",
      "Example Social Media Post:\n",
      "\"Join the sustainable revolution! Our eco-friendly product is made from recycled materials and is designed to reduce waste. Share your own sustainable living tips with us and tag a friend who's making a difference! #Sustainability #EcoFriendly\"\n",
      "\n",
      "### For Health-Conscious Consumers (Wellness and Health-Focused Media, Social Media, Partnerships with Health and Wellness Experts)\n",
      "\n",
      "1. **Health Benefits**: Highlight the product's safety and non-toxicity, and emphasize its benefits for human health and well-being.\n",
      "2. **Expert Endorsements**: Partner with health experts and wellness professionals to promote the product and its benefits.\n",
      "3. **Educational Content**: Create informative content that explains the importance of sustainable living for human health.\n",
      "\n",
      "Example Email Campaign:\n",
      "\"Did you know that choosing eco-friendly products can improve your health and well-being? Our product is made with safe, non-toxic materials and is designed to promote sustainable living. Learn more about the benefits of sustainable living and get exclusive access to our latest products!\"\n",
      "\n",
      "### For Environmentally Aware and Active Individuals (Outdoor and Environmental Media, Event Marketing, Partnerships with Environmental Organizations)\n",
      "\n",
      "1. **Conservation Messaging**: Emphasize the product's role in supporting conservation efforts and reducing environmental impact.\n",
      "2. **Event Engagement**: Participate in outdoor events and environmental festivals to showcase the product and connect with this audience.\n",
      "3. **Partnerships with Environmental Organizations**: Collaborate with environmental organizations to promote the product and support shared values.\n",
      "\n",
      "Example Event Marketing Message:\n",
      "\"Join us at the Outdoor Conservation Festival to learn more about our eco-friendly product and how it's helping to reduce waste and support conservation efforts. Meet our team and get hands-on experience with our product!\"\n",
      "\n",
      "### Common Channels Across All Target Audiences (Eco-Friendly Online Communities, Sustainable Living Events, Certifications and Labels)\n",
      "\n",
      "1. **Community Engagement**: Engage with online forums and communities focused on sustainability and eco-friendliness.\n",
      "2. **Event Participation**: Participate in sustainable living events and conferences to promote the product and connect with this audience.\n",
      "3. **Certifications and Labels**: Utilize eco-labels and certifications to demonstrate the product's commitment to sustainability.\n",
      "\n",
      "Example Online Community Post:\n",
      "\"Hi everyone! We're excited to share our latest eco-friendly product with you. Made from sustainable materials and designed to reduce waste, this product is perfect for anyone looking to live a more sustainable lifestyle. What are some of your favorite eco-friendly tips and tricks? Share with us!\"\n",
      "\n",
      "By implementing this messaging strategy across the identified marketing channels, we can effectively engage with the target audiences for the eco-friendly product and promote a sustainable lifestyle.\n"
     ]
    }
   ],
   "source": [
    "step3_prompt = '''\n",
    "Develop a messaging strategy that emphasizes sustainability for this audience.\n",
    "Here are the target audience and channel:\n",
    "{step2_resp}\n",
    "'''.format(step2_resp=output2_resp)\n",
    "resp = generate_text(model_id, step3_prompt,)\n",
    "output3_resp = resp['text']\n",
    "print(output3_resp)"
   ]
  },
  {
   "cell_type": "markdown",
   "id": "5180fc82-ec69-4a3b-9fe0-b35daf20b4b2",
   "metadata": {},
   "source": [
    "## Bonus: Tree-of-Thoughts (ToT)\n",
    "---\n",
    "Tree-of-Thoughts (ToT) prompting is more recent, innovative approach in prompt engineering designed to enhance the problem-solving capabilities of the large language models. This technique explores multiple reasoning paths simultaneously, hence improving the models' ability to tackle complex tasks that requires strategic planning and evaluation.\n",
    "\n",
    "Let's consider the example of birthday party planning."
   ]
  },
  {
   "cell_type": "code",
   "execution_count": 27,
   "id": "e6dd23bb-32fb-4b5d-9184-556e1e20af3b",
   "metadata": {},
   "outputs": [
    {
     "name": "stdout",
     "output_type": "stream",
     "text": [
      "### Finalized Plan\n",
      "\n",
      "<response>\n",
      "I will plan a themed party at home for my friend's surprise birthday party. \n",
      "The party will be a 90s-themed party with a guest list of close friends and family. \n",
      "The decorations will include neon lights, old 90s posters, and a playlist of popular 90s music. \n",
      "The activities will include a trivia game about 90s pop culture, a karaoke session, and a dance competition.\n",
      "</response>\n",
      "\n",
      "### Thought Process\n",
      "\n",
      "<thought_process>\n",
      "To plan a surprise birthday party for my friend, I considered four different options: a small gathering at a local park, a fancy dinner at a restaurant, a themed party at home, and a weekend getaway.\n",
      "\n",
      "1. **Small Gathering at a Local Park:**\n",
      "   - Guest list: Close friends and family (around 20 people).\n",
      "   - Decorations: Balloons, a birthday banner, and a picnic setup.\n",
      "   - Activities: Outdoor games like frisbee or soccer, and a cake-cutting ceremony.\n",
      "   - Pros: Casual and relaxed atmosphere, easy to organize.\n",
      "   - Cons: Weather-dependent, limited space for activities.\n",
      "\n",
      "2. **Fancy Dinner at a Restaurant:**\n",
      "   - Guest list: Close friends and family (around 15 people).\n",
      "   - Decorations: The restaurant will handle the decorations based on the chosen theme.\n",
      "   - Activities: A multi-course meal, wine tasting (if applicable).\n",
      "   - Pros: Less planning required, a sophisticated atmosphere.\n",
      "   - Cons: Limited personalization, can be expensive.\n",
      "\n",
      "3. **Themed Party at Home:**\n",
      "   - Guest list: Close friends and family (around 25 people).\n",
      "   - Decorations: Customized to fit the chosen theme (e.g., 90s theme with neon lights and old posters).\n",
      "   - Activities: Themed games, karaoke, and a dance competition.\n",
      "   - Pros: Highly personalized, flexible with the guest list and activities.\n",
      "   - Cons: Requires significant planning and effort.\n",
      "\n",
      "4. **Weekend Getaway:**\n",
      "   - Guest list: Close friends (around 8 people).\n",
      "   - Decorations: Not applicable as it's more about the experience.\n",
      "   - Activities: Various activities based on the destination (e.g., hiking, visiting local attractions).\n",
      "   - Pros: Creates lifelong memories, a unique experience.\n",
      "   - Cons: Requires a lot of planning, can be expensive.\n",
      "\n",
      "After weighing the pros and cons of each idea, I decided to go with the **themed party at home**. \n",
      "The main reasons for this choice are:\n",
      "- It allows for a high level of personalization to fit my friend's preferences and interests.\n",
      "- It is flexible with the guest list, enabling me to invite a decent number of close friends and family.\n",
      "- The activities can be tailored to fit the theme, ensuring an engaging and memorable experience for everyone.\n",
      "While it requires significant planning and effort, the end result is likely to be highly rewarding and memorable for my friend.\n",
      "\n",
      "</thought_process>\n"
     ]
    }
   ],
   "source": [
    "tot_prompt = '''\n",
    "1. Plan a surprise birthday party for a friend.\n",
    "Choice 1: A small gathering at a local park.\n",
    "Choice 2: A fancy dinner at a restaurant.\n",
    "Choice 3: A themed party at home.\n",
    "Choice 4: A weekend getaway.\n",
    "2. For each choice, consider:\n",
    "- Guest list\n",
    "- Decorations\n",
    "- Activities\n",
    "3. Weigh the pros and cons of each idea before finalizing the plan.\n",
    "\n",
    "Based on the pros and cons, finalize one plan in your <response> tag, \n",
    "put the rest of your comparison and the reason why you chose the plan in your <thought_process> tag.\n",
    "'''\n",
    "\n",
    "resp = generate_text(model_id, tot_prompt)\n",
    "print(resp['text'])"
   ]
  },
  {
   "cell_type": "markdown",
   "id": "50d3dda5-1fe8-4f6d-9cd5-51a737803a47",
   "metadata": {},
   "source": [
    "## In summary\n",
    "--- \n",
    "Prompt engineering is an important field for optimizing how you apply, develop, and understand large language models. At its core, it is about designing prompts or interactions to expand what large language model can do to our objectives, address their weakness like hallucination, and gain insights into their functioning. \n",
    "\n",
    "In a production environment, you should experiment multiple prompt techniques, and may need to combine multiple techniques to achieve your use cases' objectives."
   ]
  },
  {
   "cell_type": "code",
   "execution_count": null,
   "id": "93262bd5-9685-4a9c-bf63-8ea21191bb08",
   "metadata": {},
   "outputs": [],
   "source": []
  }
 ],
 "metadata": {
  "availableInstances": [
   {
    "_defaultOrder": 0,
    "_isFastLaunch": true,
    "category": "General purpose",
    "gpuNum": 0,
    "hideHardwareSpecs": false,
    "memoryGiB": 4,
    "name": "ml.t3.medium",
    "vcpuNum": 2
   },
   {
    "_defaultOrder": 1,
    "_isFastLaunch": false,
    "category": "General purpose",
    "gpuNum": 0,
    "hideHardwareSpecs": false,
    "memoryGiB": 8,
    "name": "ml.t3.large",
    "vcpuNum": 2
   },
   {
    "_defaultOrder": 2,
    "_isFastLaunch": false,
    "category": "General purpose",
    "gpuNum": 0,
    "hideHardwareSpecs": false,
    "memoryGiB": 16,
    "name": "ml.t3.xlarge",
    "vcpuNum": 4
   },
   {
    "_defaultOrder": 3,
    "_isFastLaunch": false,
    "category": "General purpose",
    "gpuNum": 0,
    "hideHardwareSpecs": false,
    "memoryGiB": 32,
    "name": "ml.t3.2xlarge",
    "vcpuNum": 8
   },
   {
    "_defaultOrder": 4,
    "_isFastLaunch": true,
    "category": "General purpose",
    "gpuNum": 0,
    "hideHardwareSpecs": false,
    "memoryGiB": 8,
    "name": "ml.m5.large",
    "vcpuNum": 2
   },
   {
    "_defaultOrder": 5,
    "_isFastLaunch": false,
    "category": "General purpose",
    "gpuNum": 0,
    "hideHardwareSpecs": false,
    "memoryGiB": 16,
    "name": "ml.m5.xlarge",
    "vcpuNum": 4
   },
   {
    "_defaultOrder": 6,
    "_isFastLaunch": false,
    "category": "General purpose",
    "gpuNum": 0,
    "hideHardwareSpecs": false,
    "memoryGiB": 32,
    "name": "ml.m5.2xlarge",
    "vcpuNum": 8
   },
   {
    "_defaultOrder": 7,
    "_isFastLaunch": false,
    "category": "General purpose",
    "gpuNum": 0,
    "hideHardwareSpecs": false,
    "memoryGiB": 64,
    "name": "ml.m5.4xlarge",
    "vcpuNum": 16
   },
   {
    "_defaultOrder": 8,
    "_isFastLaunch": false,
    "category": "General purpose",
    "gpuNum": 0,
    "hideHardwareSpecs": false,
    "memoryGiB": 128,
    "name": "ml.m5.8xlarge",
    "vcpuNum": 32
   },
   {
    "_defaultOrder": 9,
    "_isFastLaunch": false,
    "category": "General purpose",
    "gpuNum": 0,
    "hideHardwareSpecs": false,
    "memoryGiB": 192,
    "name": "ml.m5.12xlarge",
    "vcpuNum": 48
   },
   {
    "_defaultOrder": 10,
    "_isFastLaunch": false,
    "category": "General purpose",
    "gpuNum": 0,
    "hideHardwareSpecs": false,
    "memoryGiB": 256,
    "name": "ml.m5.16xlarge",
    "vcpuNum": 64
   },
   {
    "_defaultOrder": 11,
    "_isFastLaunch": false,
    "category": "General purpose",
    "gpuNum": 0,
    "hideHardwareSpecs": false,
    "memoryGiB": 384,
    "name": "ml.m5.24xlarge",
    "vcpuNum": 96
   },
   {
    "_defaultOrder": 12,
    "_isFastLaunch": false,
    "category": "General purpose",
    "gpuNum": 0,
    "hideHardwareSpecs": false,
    "memoryGiB": 8,
    "name": "ml.m5d.large",
    "vcpuNum": 2
   },
   {
    "_defaultOrder": 13,
    "_isFastLaunch": false,
    "category": "General purpose",
    "gpuNum": 0,
    "hideHardwareSpecs": false,
    "memoryGiB": 16,
    "name": "ml.m5d.xlarge",
    "vcpuNum": 4
   },
   {
    "_defaultOrder": 14,
    "_isFastLaunch": false,
    "category": "General purpose",
    "gpuNum": 0,
    "hideHardwareSpecs": false,
    "memoryGiB": 32,
    "name": "ml.m5d.2xlarge",
    "vcpuNum": 8
   },
   {
    "_defaultOrder": 15,
    "_isFastLaunch": false,
    "category": "General purpose",
    "gpuNum": 0,
    "hideHardwareSpecs": false,
    "memoryGiB": 64,
    "name": "ml.m5d.4xlarge",
    "vcpuNum": 16
   },
   {
    "_defaultOrder": 16,
    "_isFastLaunch": false,
    "category": "General purpose",
    "gpuNum": 0,
    "hideHardwareSpecs": false,
    "memoryGiB": 128,
    "name": "ml.m5d.8xlarge",
    "vcpuNum": 32
   },
   {
    "_defaultOrder": 17,
    "_isFastLaunch": false,
    "category": "General purpose",
    "gpuNum": 0,
    "hideHardwareSpecs": false,
    "memoryGiB": 192,
    "name": "ml.m5d.12xlarge",
    "vcpuNum": 48
   },
   {
    "_defaultOrder": 18,
    "_isFastLaunch": false,
    "category": "General purpose",
    "gpuNum": 0,
    "hideHardwareSpecs": false,
    "memoryGiB": 256,
    "name": "ml.m5d.16xlarge",
    "vcpuNum": 64
   },
   {
    "_defaultOrder": 19,
    "_isFastLaunch": false,
    "category": "General purpose",
    "gpuNum": 0,
    "hideHardwareSpecs": false,
    "memoryGiB": 384,
    "name": "ml.m5d.24xlarge",
    "vcpuNum": 96
   },
   {
    "_defaultOrder": 20,
    "_isFastLaunch": false,
    "category": "General purpose",
    "gpuNum": 0,
    "hideHardwareSpecs": true,
    "memoryGiB": 0,
    "name": "ml.geospatial.interactive",
    "supportedImageNames": [
     "sagemaker-geospatial-v1-0"
    ],
    "vcpuNum": 0
   },
   {
    "_defaultOrder": 21,
    "_isFastLaunch": true,
    "category": "Compute optimized",
    "gpuNum": 0,
    "hideHardwareSpecs": false,
    "memoryGiB": 4,
    "name": "ml.c5.large",
    "vcpuNum": 2
   },
   {
    "_defaultOrder": 22,
    "_isFastLaunch": false,
    "category": "Compute optimized",
    "gpuNum": 0,
    "hideHardwareSpecs": false,
    "memoryGiB": 8,
    "name": "ml.c5.xlarge",
    "vcpuNum": 4
   },
   {
    "_defaultOrder": 23,
    "_isFastLaunch": false,
    "category": "Compute optimized",
    "gpuNum": 0,
    "hideHardwareSpecs": false,
    "memoryGiB": 16,
    "name": "ml.c5.2xlarge",
    "vcpuNum": 8
   },
   {
    "_defaultOrder": 24,
    "_isFastLaunch": false,
    "category": "Compute optimized",
    "gpuNum": 0,
    "hideHardwareSpecs": false,
    "memoryGiB": 32,
    "name": "ml.c5.4xlarge",
    "vcpuNum": 16
   },
   {
    "_defaultOrder": 25,
    "_isFastLaunch": false,
    "category": "Compute optimized",
    "gpuNum": 0,
    "hideHardwareSpecs": false,
    "memoryGiB": 72,
    "name": "ml.c5.9xlarge",
    "vcpuNum": 36
   },
   {
    "_defaultOrder": 26,
    "_isFastLaunch": false,
    "category": "Compute optimized",
    "gpuNum": 0,
    "hideHardwareSpecs": false,
    "memoryGiB": 96,
    "name": "ml.c5.12xlarge",
    "vcpuNum": 48
   },
   {
    "_defaultOrder": 27,
    "_isFastLaunch": false,
    "category": "Compute optimized",
    "gpuNum": 0,
    "hideHardwareSpecs": false,
    "memoryGiB": 144,
    "name": "ml.c5.18xlarge",
    "vcpuNum": 72
   },
   {
    "_defaultOrder": 28,
    "_isFastLaunch": false,
    "category": "Compute optimized",
    "gpuNum": 0,
    "hideHardwareSpecs": false,
    "memoryGiB": 192,
    "name": "ml.c5.24xlarge",
    "vcpuNum": 96
   },
   {
    "_defaultOrder": 29,
    "_isFastLaunch": true,
    "category": "Accelerated computing",
    "gpuNum": 1,
    "hideHardwareSpecs": false,
    "memoryGiB": 16,
    "name": "ml.g4dn.xlarge",
    "vcpuNum": 4
   },
   {
    "_defaultOrder": 30,
    "_isFastLaunch": false,
    "category": "Accelerated computing",
    "gpuNum": 1,
    "hideHardwareSpecs": false,
    "memoryGiB": 32,
    "name": "ml.g4dn.2xlarge",
    "vcpuNum": 8
   },
   {
    "_defaultOrder": 31,
    "_isFastLaunch": false,
    "category": "Accelerated computing",
    "gpuNum": 1,
    "hideHardwareSpecs": false,
    "memoryGiB": 64,
    "name": "ml.g4dn.4xlarge",
    "vcpuNum": 16
   },
   {
    "_defaultOrder": 32,
    "_isFastLaunch": false,
    "category": "Accelerated computing",
    "gpuNum": 1,
    "hideHardwareSpecs": false,
    "memoryGiB": 128,
    "name": "ml.g4dn.8xlarge",
    "vcpuNum": 32
   },
   {
    "_defaultOrder": 33,
    "_isFastLaunch": false,
    "category": "Accelerated computing",
    "gpuNum": 4,
    "hideHardwareSpecs": false,
    "memoryGiB": 192,
    "name": "ml.g4dn.12xlarge",
    "vcpuNum": 48
   },
   {
    "_defaultOrder": 34,
    "_isFastLaunch": false,
    "category": "Accelerated computing",
    "gpuNum": 1,
    "hideHardwareSpecs": false,
    "memoryGiB": 256,
    "name": "ml.g4dn.16xlarge",
    "vcpuNum": 64
   },
   {
    "_defaultOrder": 35,
    "_isFastLaunch": false,
    "category": "Accelerated computing",
    "gpuNum": 1,
    "hideHardwareSpecs": false,
    "memoryGiB": 61,
    "name": "ml.p3.2xlarge",
    "vcpuNum": 8
   },
   {
    "_defaultOrder": 36,
    "_isFastLaunch": false,
    "category": "Accelerated computing",
    "gpuNum": 4,
    "hideHardwareSpecs": false,
    "memoryGiB": 244,
    "name": "ml.p3.8xlarge",
    "vcpuNum": 32
   },
   {
    "_defaultOrder": 37,
    "_isFastLaunch": false,
    "category": "Accelerated computing",
    "gpuNum": 8,
    "hideHardwareSpecs": false,
    "memoryGiB": 488,
    "name": "ml.p3.16xlarge",
    "vcpuNum": 64
   },
   {
    "_defaultOrder": 38,
    "_isFastLaunch": false,
    "category": "Accelerated computing",
    "gpuNum": 8,
    "hideHardwareSpecs": false,
    "memoryGiB": 768,
    "name": "ml.p3dn.24xlarge",
    "vcpuNum": 96
   },
   {
    "_defaultOrder": 39,
    "_isFastLaunch": false,
    "category": "Memory Optimized",
    "gpuNum": 0,
    "hideHardwareSpecs": false,
    "memoryGiB": 16,
    "name": "ml.r5.large",
    "vcpuNum": 2
   },
   {
    "_defaultOrder": 40,
    "_isFastLaunch": false,
    "category": "Memory Optimized",
    "gpuNum": 0,
    "hideHardwareSpecs": false,
    "memoryGiB": 32,
    "name": "ml.r5.xlarge",
    "vcpuNum": 4
   },
   {
    "_defaultOrder": 41,
    "_isFastLaunch": false,
    "category": "Memory Optimized",
    "gpuNum": 0,
    "hideHardwareSpecs": false,
    "memoryGiB": 64,
    "name": "ml.r5.2xlarge",
    "vcpuNum": 8
   },
   {
    "_defaultOrder": 42,
    "_isFastLaunch": false,
    "category": "Memory Optimized",
    "gpuNum": 0,
    "hideHardwareSpecs": false,
    "memoryGiB": 128,
    "name": "ml.r5.4xlarge",
    "vcpuNum": 16
   },
   {
    "_defaultOrder": 43,
    "_isFastLaunch": false,
    "category": "Memory Optimized",
    "gpuNum": 0,
    "hideHardwareSpecs": false,
    "memoryGiB": 256,
    "name": "ml.r5.8xlarge",
    "vcpuNum": 32
   },
   {
    "_defaultOrder": 44,
    "_isFastLaunch": false,
    "category": "Memory Optimized",
    "gpuNum": 0,
    "hideHardwareSpecs": false,
    "memoryGiB": 384,
    "name": "ml.r5.12xlarge",
    "vcpuNum": 48
   },
   {
    "_defaultOrder": 45,
    "_isFastLaunch": false,
    "category": "Memory Optimized",
    "gpuNum": 0,
    "hideHardwareSpecs": false,
    "memoryGiB": 512,
    "name": "ml.r5.16xlarge",
    "vcpuNum": 64
   },
   {
    "_defaultOrder": 46,
    "_isFastLaunch": false,
    "category": "Memory Optimized",
    "gpuNum": 0,
    "hideHardwareSpecs": false,
    "memoryGiB": 768,
    "name": "ml.r5.24xlarge",
    "vcpuNum": 96
   },
   {
    "_defaultOrder": 47,
    "_isFastLaunch": false,
    "category": "Accelerated computing",
    "gpuNum": 1,
    "hideHardwareSpecs": false,
    "memoryGiB": 16,
    "name": "ml.g5.xlarge",
    "vcpuNum": 4
   },
   {
    "_defaultOrder": 48,
    "_isFastLaunch": false,
    "category": "Accelerated computing",
    "gpuNum": 1,
    "hideHardwareSpecs": false,
    "memoryGiB": 32,
    "name": "ml.g5.2xlarge",
    "vcpuNum": 8
   },
   {
    "_defaultOrder": 49,
    "_isFastLaunch": false,
    "category": "Accelerated computing",
    "gpuNum": 1,
    "hideHardwareSpecs": false,
    "memoryGiB": 64,
    "name": "ml.g5.4xlarge",
    "vcpuNum": 16
   },
   {
    "_defaultOrder": 50,
    "_isFastLaunch": false,
    "category": "Accelerated computing",
    "gpuNum": 1,
    "hideHardwareSpecs": false,
    "memoryGiB": 128,
    "name": "ml.g5.8xlarge",
    "vcpuNum": 32
   },
   {
    "_defaultOrder": 51,
    "_isFastLaunch": false,
    "category": "Accelerated computing",
    "gpuNum": 1,
    "hideHardwareSpecs": false,
    "memoryGiB": 256,
    "name": "ml.g5.16xlarge",
    "vcpuNum": 64
   },
   {
    "_defaultOrder": 52,
    "_isFastLaunch": false,
    "category": "Accelerated computing",
    "gpuNum": 4,
    "hideHardwareSpecs": false,
    "memoryGiB": 192,
    "name": "ml.g5.12xlarge",
    "vcpuNum": 48
   },
   {
    "_defaultOrder": 53,
    "_isFastLaunch": false,
    "category": "Accelerated computing",
    "gpuNum": 4,
    "hideHardwareSpecs": false,
    "memoryGiB": 384,
    "name": "ml.g5.24xlarge",
    "vcpuNum": 96
   },
   {
    "_defaultOrder": 54,
    "_isFastLaunch": false,
    "category": "Accelerated computing",
    "gpuNum": 8,
    "hideHardwareSpecs": false,
    "memoryGiB": 768,
    "name": "ml.g5.48xlarge",
    "vcpuNum": 192
   },
   {
    "_defaultOrder": 55,
    "_isFastLaunch": false,
    "category": "Accelerated computing",
    "gpuNum": 8,
    "hideHardwareSpecs": false,
    "memoryGiB": 1152,
    "name": "ml.p4d.24xlarge",
    "vcpuNum": 96
   },
   {
    "_defaultOrder": 56,
    "_isFastLaunch": false,
    "category": "Accelerated computing",
    "gpuNum": 8,
    "hideHardwareSpecs": false,
    "memoryGiB": 1152,
    "name": "ml.p4de.24xlarge",
    "vcpuNum": 96
   },
   {
    "_defaultOrder": 57,
    "_isFastLaunch": false,
    "category": "Accelerated computing",
    "gpuNum": 0,
    "hideHardwareSpecs": false,
    "memoryGiB": 32,
    "name": "ml.trn1.2xlarge",
    "vcpuNum": 8
   },
   {
    "_defaultOrder": 58,
    "_isFastLaunch": false,
    "category": "Accelerated computing",
    "gpuNum": 0,
    "hideHardwareSpecs": false,
    "memoryGiB": 512,
    "name": "ml.trn1.32xlarge",
    "vcpuNum": 128
   },
   {
    "_defaultOrder": 59,
    "_isFastLaunch": false,
    "category": "Accelerated computing",
    "gpuNum": 0,
    "hideHardwareSpecs": false,
    "memoryGiB": 512,
    "name": "ml.trn1n.32xlarge",
    "vcpuNum": 128
   }
  ],
  "instance_type": "ml.t3.medium",
  "kernelspec": {
   "display_name": "Python 3 (ipykernel)",
   "language": "python",
   "name": "python3"
  },
  "language_info": {
   "codemirror_mode": {
    "name": "ipython",
    "version": 3
   },
   "file_extension": ".py",
   "mimetype": "text/x-python",
   "name": "python",
   "nbconvert_exporter": "python",
   "pygments_lexer": "ipython3",
   "version": "3.11.9"
  }
 },
 "nbformat": 4,
 "nbformat_minor": 5
}
