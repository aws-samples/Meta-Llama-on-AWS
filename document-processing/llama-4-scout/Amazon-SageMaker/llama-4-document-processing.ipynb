{
 "cells": [
  {
   "cell_type": "markdown",
   "metadata": {},
   "source": [
    "# Deploy the Intelligent Document Processor Application on a SageMaker Notebook\n",
    "\n",
    "This notebook guides you through setting up and running the Intelligent Document Processor on a SageMaker notebook. It provides step-by-step instructions to launch the server and access it through the SageMaker proxy."
   ]
  },
  {
   "cell_type": "markdown",
   "metadata": {},
   "source": [
    "## 1. Environment Setup\n",
    "\n",
    "SageMaker provides all the necessary resources to run the Intelligent Document Processor. Before starting, make sure you have:\n",
    "\n",
    "- AWS Account with SageMaker and Bedrock access\n",
    "- SageMaker notebook instance with Bedrock permissions\n",
    "- IAM role configured for Bedrock access"
   ]
  },
  {
   "cell_type": "markdown",
   "metadata": {},
   "source": [
    "## 2. Install Required Dependencies"
   ]
  },
  {
   "cell_type": "code",
   "execution_count": null,
   "metadata": {},
   "outputs": [],
   "source": [
    "! pip install -r requirements.txt --q\n",
    "\n",
    "# Import requirements\n",
    "import os\n",
    "import json\n",
    "import requests\n",
    "import boto3\n",
    "import subprocess\n",
    "import time\n",
    "import signal\n",
    "from IPython.display import display, HTML"
   ]
  },
  {
   "cell_type": "markdown",
   "metadata": {},
   "source": [
    "## 3. Run the Document Processing Server"
   ]
  },
  {
   "cell_type": "code",
   "execution_count": null,
   "metadata": {},
   "outputs": [],
   "source": [
    "# Start the server\n",
    "server_process = subprocess.Popen([\"python3\", \"run_dev.py\"], stdout=subprocess.PIPE, stderr=subprocess.PIPE, text=True)\n",
    "\n",
    "# Give it time to start\n",
    "print(\"Starting server...\")\n",
    "time.sleep(2)\n",
    "print(f\"Server running with PID: {server_process.pid}\")"
   ]
  },
  {
   "cell_type": "markdown",
   "metadata": {},
   "source": [
    "## 4. Access Application"
   ]
  },
  {
   "cell_type": "markdown",
   "metadata": {},
   "source": [
    "Click the proxy URL to access the application in a new tab."
   ]
  },
  {
   "cell_type": "code",
   "execution_count": null,
   "metadata": {},
   "outputs": [],
   "source": [
    "# Get current region\n",
    "session = boto3.session.Session()\n",
    "region = session.region_name\n",
    "print(f\"The AWS Region is: {region}\")\n",
    "\n",
    "# Define a function to get the SageMaker notebook name\n",
    "def get_sagemaker_notebook_name():\n",
    "    \"\"\"Get the name of the current SageMaker notebook instance.\"\"\"\n",
    "    try:\n",
    "        with open('/opt/ml/metadata/resource-metadata.json', 'r') as f:\n",
    "            resource_metadata = json.load(f)\n",
    "        if 'ResourceArn' in resource_metadata:\n",
    "            arn_parts = resource_metadata['ResourceArn'].split('/')\n",
    "            return arn_parts[-1]  # Last part is typically the notebook name\n",
    "    except Exception as e:\n",
    "        return f\"Error determining notebook name: {str(e)}\"\n",
    "\n",
    "# Run the function and print the result\n",
    "notebook_name = get_sagemaker_notebook_name()\n",
    "print(f\"The SageMaker Notebook name is: {notebook_name}\")\n",
    "\n",
    "# Generate the SageMaker notebook proxy URL\n",
    "sagemaker_url = f\"https://{notebook_name}.notebook.{region}.sagemaker.aws/proxy/8001/\"\n",
    "print(f\"The SageMaker proxy URL is: {sagemaker_url}\")\n",
    "\n",
    "# Display a clickable link\n",
    "display(HTML(f'<a href=\"{sagemaker_url}\" target=\"_blank\">Click here to access the application through the SageMaker proxy URL.</a>'))"
   ]
  }
 ],
 "metadata": {
  "kernelspec": {
   "display_name": "conda_python3",
   "language": "python",
   "name": "conda_python3"
  },
  "language_info": {
   "codemirror_mode": {
    "name": "ipython",
    "version": 3
   },
   "file_extension": ".py",
   "mimetype": "text/x-python",
   "name": "python",
   "nbconvert_exporter": "python",
   "pygments_lexer": "ipython3",
   "version": "3.10.18"
  }
 },
 "nbformat": 4,
 "nbformat_minor": 4
}
