{
 "cells": [
  {
   "cell_type": "markdown",
   "id": "4901509a-8316-47a3-879b-544a43b37ef3",
   "metadata": {},
   "source": [
    "# Text-to-SQL Query Generation with Amazon Bedrock and Llama Models\n",
    "\n",
    "## Overview\n",
    "This notebook demonstrates how to implement a text-to-SQL solution using Llama Models through Amazon Bedrock to transform natural language questions into executable SQL queries. We'll explore various prompt engineering techniques specifically designed for text-to-SQL generation tasks to improve query accuracy and reliability.\n",
    "\n",
    "### Key Features\n",
    "- Convert natural language questions into SQL queries using Llama models on AWS Bedrock\n",
    "- Execute queries on a SQLite database for testing and validation\n",
    "- Demonstrate multiple prompt engineering techniques optimized for SQL generation\n",
    "- Provide best practices for text-to-SQL applications\n",
    "- Analyze performance across different prompting strategies\n",
    "\n",
    "### Use Cases\n",
    "- Interactive database querying through natural language\n",
    "- Automated SQL query generation for business intelligence\n",
    "- Database exploration for non-technical users\n",
    "- Prototype development for enterprise database solutions"
   ]
  },
  {
   "cell_type": "markdown",
   "id": "fb58d85b",
   "metadata": {},
   "source": [
    "## Contents\n",
    "\n",
    "1. [Llama Model Selection for Text-to-SQL Generation](#llama-model-selection-for-text-to-SQL-generation)\n",
    "    + [Overview of Latest Llama Models in Amazon Bedrock](#overview-of-latest-llama-models-in-amazon-bedrock)\n",
    "    + [Recommended Model Selection](#recommended-model-selection)\n",
    "1. [Approach to Text-to-SQL Generation](#approach-to-text-to-sql-generation)\n",
    "    + [LLM-Powered Query Generation](#llm-powered-query-generation)\n",
    "    + [Implementation Benefits](#implementation-benefits)\n",
    "1. [Objectives](#objectives)\n",
    "1. [Tools](#tools)\n",
    "1. [Pre-requisites](#pre-requisites)\n",
    "1. [Getting Started](#getting-started)\n",
    "    + [Step 0: Install Dependencies](#step-0:-install-dependencies)\n",
    "    + [Step 1: Bedrock Setup](#step-1:-bedrock-setup)\n",
    "    + [Step 2: Generate local database](#step-2:-generate-local-database)\n",
    "    + [Step 3: Bedrock Inference](#step-3:-bedrock-inference)\n",
    "        + [Analysing a Single Table with Few-Shot Learning](#analysing-a-single-table-with-few-shot-learning)\n",
    "1. [Prompting tecniques for text-to-SQL tasks](#prompting-tecniques-for-text-to-SQL-tasks)\n",
    "    + [Tecnique 1: Few-Short Learning For Text-to-SQL](#tecnique-1:-few-short-learning-for-text-to-SQL)\n",
    "    + [Tecnique 2: Chain-of-Thought Prompting For Text-to-SQL](#tecnique2:-chain-of-thought-prompting-for-text-to-SQL)\n",
    "    + [Tecnique 3: Progressive Prompting for Text-to-SQL](#tecnique-3:-progressive-prompting-for-text-to-SQL)\n",
    "1. [Conclusion](#conclusion)\n",
    "1. [Thank you!](#thank-you)\n",
    "\n",
    "---"
   ]
  },
  {
   "cell_type": "markdown",
   "id": "8126d29c-4748-4831-8aff-60d71c61462e",
   "metadata": {},
   "source": [
    "## Introduction to Text-to-SQL with Llama Models\n",
    "Text-to-SQL is a powerful natural language processing application that allows users to query databases using everyday language instead of SQL syntax. This capability democratizes data access by enabling non-technical users to extract insights from databases without SQL expertise.\n",
    "\n",
    "Amazon Bedrock provides access to powerful foundation models, including Meta's Llama models, which excel at understanding complex instructions and generating structured outputs like SQL queries. These models can interpret user intent from natural language and translate it into functional SQL.\n",
    "In this notebook, we'll focus on:\n",
    "\n",
    "- How to construct effective prompts for text-to-SQL generation\n",
    "- Techniques to improve accuracy and reliability of generated queries\n",
    "- Best practices for implementing text-to-SQL solutions with AWS Bedrock\n",
    "\n",
    "---\n",
    "\n",
    "## Llama Models in Amazon Bedrock\n",
    "Amazon Bedrock offers access to Meta's latest Llama models, which are particularly well-suited for text-to-SQL tasks:\n",
    "### Available Llama Models\n",
    "**Llama 4 Models(Primary Focus)**\n",
    "  - **Llama 4 Maverick 17B**: Optimized for complex reasoning and structured output generation\n",
    "  - **Llama 4 Scout 17B**: Balanced performance for general-purpose tasks\n",
    "\n",
    "**Llama 3.3 Models**\n",
    "  - **Llama 3.3 70B**: Advanced reasoning capabilities for complex workloads\n",
    "  - **Llama 3.3 8B**: Efficient, smaller-scale model with reduced compute requirements\n",
    "\n",
    "\n",
    "**Llama 3.2 Models**\n",
    "- **Llama 3.2 11B**: Mid-size model with strong contextual understanding\n",
    "- **Llama 3.2 1B**: Lightweight model for less complex applications\n",
    "\n",
    "**Llama 3.1 Models**\n",
    "- **Llama 3.1 70B**: High-capability model for complex reasoning tasks\n",
    "- **Llama 3.1 8B**: Efficient model with good performance-to-cost ratio\n",
    "\n",
    "## Model Selection Guidance \n",
    "- For production text-to-SQL applications: Llama 4 Maverick 17B\n",
    "- For development/testing: Llama 3.1 8B or Llama 3.2 1B\n",
    "- For balanced performance/cost: Llama 4 Scout 17B or Llama 3.3 8B\n",
    "\n",
    "In this notebook, we'll primarily use Llama 4 Scout 17B for our examples, as it provides a good balance of capability and efficiency for text-to-SQL tasks."
   ]
  },
  {
   "cell_type": "markdown",
   "id": "3dd85684",
   "metadata": {},
   "source": [
    "### Approach to Text-to-SQL Generation\n",
    "\n",
    "This notebook demonstrates an efficient and scalable approach to text-to-SQL generation using Amazon Bedrock's Llama models and SQLite. Our method focuses on:\n",
    "\n",
    "1. **Dynamic Schema Retrieval**: Utilizing SQLite's built-in functionality to efficiently extract database schema information.\n",
    "2. **LLM-Powered Query Generation**: Leveraging Llama models to translate natural language into SQL queries.\n",
    "3. **Single-Table and Multi-Table Support**: Handling both simple and complex queries involving multiple tables.\n",
    "\n",
    "This approach offers several advantages:\n",
    "\n",
    "- Efficiency: Direct schema extraction without additional dependencies.\n",
    "- Accuracy: Up-to-date schema information reflecting the current database state.\n",
    "- Scalability: Easily adaptable to larger databases or different SQL dialects.\n",
    "#### LLM-Powered Query Generation\n",
    "We utilize Llama models from Amazon Bedrock to generate SQL queries based on:\n",
    "\n",
    "- The retrieved schema information\n",
    "- The user's natural language query\n",
    "- Few-shot examples for context\n",
    "This method allows for:\n",
    "\n",
    "- Contextual Understanding: The model considers both the schema and the query intent.\n",
    "- Adaptability: Easily fine-tuned for specific domains or query patterns.\n",
    "- Complex Query Support: Capability to generate multi-table joins and nested queries.\n",
    "#### Implementation Benefits\n",
    "- Simplified Architecture: Eliminates the need for external vector databases or complex retrieval systems.\n",
    "- Improved Maintainability: Direct integration with the database keeps the system up-to-date with schema changes.\n",
    "- Enhanced Performance: Reduced latency by minimizing external API calls and data transfers.\n",
    "\n",
    "---"
   ]
  },
  {
   "cell_type": "markdown",
   "id": "26350f6e-2ae8-40c0-86f2-626cc595af71",
   "metadata": {
    "tags": []
   },
   "source": [
    "## Environment Setup\n",
    "### Install Dependencies\n",
    "We'll start by installing the required libraries for this notebook:"
   ]
  },
  {
   "cell_type": "code",
   "execution_count": 1,
   "id": "e6d52454-073b-4a5a-b293-924419e1c8d1",
   "metadata": {
    "tags": []
   },
   "outputs": [
    {
     "name": "stdout",
     "output_type": "stream",
     "text": [
      "\u001b[31mERROR: pip's dependency resolver does not currently take into account all the packages that are installed. This behaviour is the source of the following dependency conflicts.\n",
      "sagemaker 2.232.0 requires numpy<2.0,>=1.9.0, but you have numpy 2.2.6 which is incompatible.\u001b[0m\u001b[31m\n",
      "\u001b[0m\n",
      "\u001b[1m[\u001b[0m\u001b[34;49mnotice\u001b[0m\u001b[1;39;49m]\u001b[0m\u001b[39;49m A new release of pip is available: \u001b[0m\u001b[31;49m23.0.1\u001b[0m\u001b[39;49m -> \u001b[0m\u001b[32;49m25.1.1\u001b[0m\n",
      "\u001b[1m[\u001b[0m\u001b[34;49mnotice\u001b[0m\u001b[1;39;49m]\u001b[0m\u001b[39;49m To update, run: \u001b[0m\u001b[32;49mpip3.10 install --upgrade pip\u001b[0m\n",
      "Note: you may need to restart the kernel to use updated packages.\n"
     ]
    }
   ],
   "source": [
    "%pip install boto3 numpy langchain langchain-community   --upgrade --quiet"
   ]
  },
  {
   "cell_type": "markdown",
   "id": "397f0206-1fe9-46a8-a6ff-c1fb3d045578",
   "metadata": {},
   "source": [
    "### Import Required Libraries"
   ]
  },
  {
   "cell_type": "code",
   "execution_count": 1,
   "id": "756999dd-ac11-4b3a-8e43-2c4cdc2ad9b2",
   "metadata": {
    "tags": []
   },
   "outputs": [],
   "source": [
    "import boto3\n",
    "import json\n",
    "import os\n",
    "import botocore\n",
    "from botocore.config import Config\n",
    "from langchain_community.utilities import SQLDatabase\n",
    "from json_to_sqlite import JsonToSqlite\n"
   ]
  },
  {
   "cell_type": "markdown",
   "id": "26eb94b5",
   "metadata": {},
   "source": [
    "### Setup AWS Bedrock Client\n",
    "Now we'll configure the AWS Bedrock client with optimized settings:"
   ]
  },
  {
   "cell_type": "code",
   "execution_count": 2,
   "id": "703c9333",
   "metadata": {
    "tags": []
   },
   "outputs": [],
   "source": [
    "# Set default configurations\n",
    "config = Config(\n",
    "    retries={\n",
    "        'total_max_attempts': 100,  # More reasonable number than 100\n",
    "        'max_attempts': 3,         # Maximum retry attempts\n",
    "        'mode': 'adaptive',        # Uses adaptive retry mode with client-side throttling\n",
    "    },\n",
    "    connect_timeout=5,    # Reduce connection timeout from default 60s\n",
    "    read_timeout=30,      # Reduce read timeout from default 60s\n",
    "    max_pool_connections=50,  # Increase from default 10\n",
    "    tcp_keepalive=True    # Enable TCP keepalive\n",
    ")\n",
    "\n",
    "# Setup Bedrock Client\n",
    "bedrock_client = boto3.client('bedrock', region_name='us-west-2',\n",
    "    config=config)\n",
    "# Setup Bedrock Runtime\n",
    "brt = boto3.client(service_name='bedrock-runtime',region_name='us-west-2',\n",
    "    config=config)\n",
    "\n",
    "\n"
   ]
  },
  {
   "cell_type": "markdown",
   "id": "b4434d65",
   "metadata": {},
   "source": [
    "### Database Preparation\n",
    "#### Create SQLite Database\n",
    "We'll use the provided JsonToSqlite class to create and populate our database:"
   ]
  },
  {
   "cell_type": "code",
   "execution_count": 3,
   "id": "f3387610",
   "metadata": {},
   "outputs": [
    {
     "name": "stdout",
     "output_type": "stream",
     "text": [
      "Data successfully imported to SQLite database\n"
     ]
    }
   ],
   "source": [
    "# First, let's drop the existing database and recreate it\n",
    "if os.path.exists('flights.db'):\n",
    "    os.remove('flights.db')\n",
    "\n",
    "# Initialize converter\n",
    "converter = JsonToSqlite('flights.db')\n",
    "\n",
    "# Process both JSON files\n",
    "success = converter.process_json_files(\n",
    "    flights_json='sample_data/flights.json',\n",
    "    airplanes_json='sample_data/airplanes.json'\n",
    ")\n",
    "\n",
    "if success:\n",
    "    print(\"Data successfully imported to SQLite database\")\n",
    "else:\n",
    "    print(\"Error occurred during import\")"
   ]
  },
  {
   "cell_type": "markdown",
   "id": "641125be",
   "metadata": {},
   "source": [
    "#### Database Schema Analysis\n",
    "Now, let's connect to the database and extract the schema to understand its structure:"
   ]
  },
  {
   "cell_type": "code",
   "execution_count": 4,
   "id": "1a294903",
   "metadata": {},
   "outputs": [
    {
     "name": "stdout",
     "output_type": "stream",
     "text": [
      "\n",
      "Schema:\n",
      "\n",
      "CREATE TABLE airplanes (\n",
      "\t\"Airplane_id\" INTEGER, \n",
      "\t\"Producer\" TEXT, \n",
      "\t\"Type\" TEXT, \n",
      "\tPRIMARY KEY (\"Airplane_id\")\n",
      ")\n",
      "\n",
      "\n",
      "CREATE TABLE flights (\n",
      "\t\"Flight_number\" TEXT, \n",
      "\t\"Arrival_time\" DATETIME, \n",
      "\t\"Arrival_date\" DATE, \n",
      "\t\"Departure_time\" DATETIME, \n",
      "\t\"Departure_date\" DATE, \n",
      "\t\"Destination\" TEXT, \n",
      "\t\"Airplane_id\" INTEGER, \n",
      "\tPRIMARY KEY (\"Flight_number\"), \n",
      "\tFOREIGN KEY(\"Airplane_id\") REFERENCES airplanes (\"Airplane_id\")\n",
      ")\n",
      "\n"
     ]
    }
   ],
   "source": [
    "\n",
    "# Initialize SQLDatabase from langchain for easy schema extraction\n",
    "db = SQLDatabase.from_uri(\"sqlite:///flights.db\", sample_rows_in_table_info=0)\n",
    "\n",
    "# Function to get schema information\n",
    "def get_schema():\n",
    "    return db.get_table_info()\n",
    "\n",
    "# Display the schema\n",
    "db_schema = f\"\"\"\n",
    "Schema:\n",
    "{get_schema()}\n",
    "\"\"\"\n",
    "print(db_schema)"
   ]
  },
  {
   "cell_type": "markdown",
   "id": "ca3b9c54",
   "metadata": {},
   "source": [
    "#### Create Query Helper Function\n",
    "We'll create a helper function to nicely format and display query results:"
   ]
  },
  {
   "cell_type": "code",
   "execution_count": 5,
   "id": "dd09f4cf",
   "metadata": {},
   "outputs": [],
   "source": [
    "def pretty_print_query(db, query: str):\n",
    "    \"\"\"Execute a SQL query and print the results in a formatted table\"\"\"\n",
    "    try:\n",
    "        # Get the raw result\n",
    "        result = db.run(query)\n",
    "        \n",
    "        # Convert string representation of list to actual list of tuples\n",
    "        if isinstance(result, str):\n",
    "            result = eval(result)\n",
    "            if not isinstance(result, (list, tuple)):\n",
    "                print(\"Invalid result format\")\n",
    "                return\n",
    "        \n",
    "        # Handle empty results\n",
    "        if not result:\n",
    "            print(\"No results found\")\n",
    "            return\n",
    "\n",
    "        # Ensure we have a list of tuples\n",
    "        if isinstance(result[0], (str, int, float)):\n",
    "            result = [result]\n",
    "\n",
    "        # Get number of columns from first result\n",
    "        num_cols = len(result[0])\n",
    "        columns = [f'Column_{i}' for i in range(num_cols)]\n",
    "        \n",
    "        # Calculate column widths\n",
    "        widths = [len(str(col)) for col in columns]\n",
    "        for row in result:\n",
    "            for i, val in enumerate(row):\n",
    "                widths[i] = max(widths[i], len(str(val)))\n",
    "        \n",
    "        # Create format template\n",
    "        row_format = \"| \" + \" | \".join([\"{:<\" + str(width) + \"}\" for width in widths]) + \" |\"\n",
    "        separator = \"+\" + \"+\".join([\"-\" * (width + 2) for width in widths]) + \"+\"\n",
    "        \n",
    "        # Print table\n",
    "        print(separator)\n",
    "        print(row_format.format(*columns))\n",
    "        print(separator)\n",
    "        for row in result:\n",
    "            print(row_format.format(*[str(val) for val in row]))\n",
    "        print(separator)\n",
    "    \n",
    "    except Exception as e:\n",
    "        print(f\"Error executing query: {str(e)}\")\n",
    "\n"
   ]
  },
  {
   "cell_type": "markdown",
   "id": "0b12765f-10a8-4aae-9e62-4ee7f4e526cc",
   "metadata": {},
   "source": [
    "---\n",
    "\n",
    "## Basic Text-to-SQL Generation"
   ]
  },
  {
   "cell_type": "markdown",
   "id": "7a2493f9-833f-40ff-a9db-b81f47e37c66",
   "metadata": {},
   "source": [
    "Now that we can extract our sqlite schema and that we created our local database, we need to setup how we are going to request access to the Bedrock API"
   ]
  },
  {
   "cell_type": "markdown",
   "id": "a735248d",
   "metadata": {},
   "source": [
    "#### Analyzing a Single Table\n",
    "First, we create a `system prompt` containing two parts:\n",
    "\n",
    "1. `table_schema`. This is a description of the structure of the database table, including the name of the table, the names of the columns within each table, and the data types of each column. This information helps Llama 3 to understand the organization and contents of the table.\n",
    "\n",
    "2. `question`. This is the specific request or information that the user wants to obtain from the table.\n",
    "\n",
    "By including both the table schema and the user's question in the system prompt, we provide Llama 3 model a complete understanding of the table structure and the user's desired output."
   ]
  },
  {
   "cell_type": "code",
   "execution_count": 6,
   "id": "6d355be7-9365-41d5-8f63-153898c7c169",
   "metadata": {
    "tags": []
   },
   "outputs": [],
   "source": [
    "#Bedrock cross inferece model id\n",
    "model_id='us.meta.llama4-scout-17b-instruct-v1:0'"
   ]
  },
  {
   "cell_type": "markdown",
   "id": "9f73f231",
   "metadata": {},
   "source": [
    "#### Create Model Invocation Function\n",
    "First, let's create a helper function to invoke the Bedrock model:"
   ]
  },
  {
   "cell_type": "code",
   "execution_count": 7,
   "id": "bca002c7-3416-4ac5-b9a1-2b730557fb65",
   "metadata": {
    "tags": []
   },
   "outputs": [],
   "source": [
    "\n",
    "def invoke_model(body, model_id, accept, content_type):\n",
    "    try:\n",
    "        response = brt.invoke_model(\n",
    "            body=json.dumps(body), \n",
    "            modelId=model_id, \n",
    "            accept=accept, \n",
    "            contentType=content_type\n",
    "        )\n",
    "\n",
    "        return response\n",
    "\n",
    "    except Exception as e:\n",
    "        print(f\"Couldn't invoke {model_id}\")\n",
    "        raise e"
   ]
  },
  {
   "cell_type": "markdown",
   "id": "f14c5c8e",
   "metadata": {},
   "source": [
    "#### Simple Query Generation\n",
    "Let's create a basic function to generate SQL from natural language:"
   ]
  },
  {
   "cell_type": "code",
   "execution_count": 8,
   "id": "3d812e92",
   "metadata": {},
   "outputs": [],
   "source": [
    "# Create the prompt template for basic SQL generation\n",
    "def create_sql_prompt(question: str, schema: str) -> str:\n",
    "    return f\"\"\"<|begin_of_text|><|start_header_id|>user<|end_header_id|>\n",
    "\n",
    "You are a SQL expert. Based on the following database schema, write a SQL query that would answer the question. Return only the SQL query, no explanations.\n",
    "\n",
    "Database Schema:\n",
    "{schema}\n",
    "\n",
    "Question: {question}\n",
    "\n",
    "<|eot_id|><|start_header_id|>assistant<|end_header_id|>\n",
    "\"\"\"\n",
    "\n",
    "\n",
    "def create_and_execute_sql_query(prompt: str, db: SQLDatabase,model_id:str) -> None:\n",
    "    \"\"\"Generate a SQL query from natural language and execute it\"\"\"\n",
    "    # Create the prompt\n",
    "    body = {\n",
    "        \"prompt\": prompt,\n",
    "        \"temperature\": 0.1,\n",
    "        \"top_p\": 0.9,\n",
    "        \"max_gen_len\": 512\n",
    "    }\n",
    "    \n",
    "    # Get SQL query from Llama model\n",
    "    response = invoke_model(\n",
    "        body=body,\n",
    "        model_id=model_id,\n",
    "        accept='application/json',\n",
    "        content_type='application/json'\n",
    "    )\n",
    "    \n",
    "    # Parse the response and extract the SQL query\n",
    "    response_json = json.loads(response['body'].read())\n",
    "    full_response = response_json['generation'].strip()\n",
    "    \n",
    "    # Clean up the response - extract only valid SQL\n",
    "    # First remove code blocks markers if present\n",
    "    sql_query = full_response.replace('```sql', '').replace('```', '')\n",
    "    \n",
    "    # Handle multi-line statements and comments\n",
    "    sql_lines = sql_query.split('\\n')\n",
    "    cleaned_lines = []\n",
    "    for line in sql_lines:\n",
    "        # Skip comment lines\n",
    "        if line.strip().startswith('--'):\n",
    "            continue\n",
    "        # Keep only code lines\n",
    "        if line.strip():\n",
    "            cleaned_lines.append(line)\n",
    "    \n",
    "    # Take only the last complete SQL statement if there are multiple\n",
    "    sql_blocks = ' '.join(cleaned_lines).split(';')\n",
    "    final_sql = sql_blocks[-2] if len(sql_blocks) > 1 and sql_blocks[-1].strip() == '' else sql_blocks[0]\n",
    "    final_sql = final_sql.strip() + ';'\n",
    "    \n",
    "    # Print the processed SQL query\n",
    "    print(\"\\nGenerated SQL Query:\")\n",
    "    print(\"-\" * 40)\n",
    "    print(final_sql)\n",
    "    print(\"-\" * 40)\n",
    "    \n",
    "    # Execute and display the results\n",
    "    try:\n",
    "        pretty_print_query(db, final_sql)\n",
    "    except Exception as e:\n",
    "        print(f\"Error executing query: {str(e)}\")"
   ]
  },
  {
   "cell_type": "markdown",
   "id": "a5b02f1d",
   "metadata": {},
   "source": [
    "#### Query Execution and Validation\n",
    "Let's test our basic implementation with a simple query:"
   ]
  },
  {
   "cell_type": "code",
   "execution_count": 9,
   "id": "c9c0bc2a",
   "metadata": {},
   "outputs": [
    {
     "name": "stdout",
     "output_type": "stream",
     "text": [
      "\n",
      "Generated SQL Query:\n",
      "----------------------------------------\n",
      "SELECT DISTINCT Producer FROM airplanes;\n",
      "----------------------------------------\n",
      "+------------+\n",
      "| Column_0   |\n",
      "+------------+\n",
      "| Boeing     |\n",
      "| Airbus     |\n",
      "| Embraer    |\n",
      "| Bombardier |\n",
      "+------------+\n",
      "\n",
      "Generated SQL Query:\n",
      "----------------------------------------\n",
      "SELECT      \"Destination\",      COUNT(\"Flight_number\") AS \"Number_of_flights\" FROM      flights GROUP BY      \"Destination\";\n",
      "----------------------------------------\n",
      "+----------------+----------+\n",
      "| Column_0       | Column_1 |\n",
      "+----------------+----------+\n",
      "| Atlanta        | 1        |\n",
      "| Boston         | 1        |\n",
      "| Chicago        | 1        |\n",
      "| Dallas         | 1        |\n",
      "| Denver         | 1        |\n",
      "| Detroit        | 1        |\n",
      "| Houston        | 1        |\n",
      "| Las Vegas      | 1        |\n",
      "| Los Angeles    | 1        |\n",
      "| Miami          | 1        |\n",
      "| Minneapolis    | 1        |\n",
      "| New York       | 1        |\n",
      "| Orlando        | 1        |\n",
      "| Philadelphia   | 1        |\n",
      "| Phoenix        | 1        |\n",
      "| Salt Lake City | 1        |\n",
      "| San Diego      | 1        |\n",
      "| San Francisco  | 1        |\n",
      "| Seattle        | 1        |\n",
      "| Tampa          | 1        |\n",
      "+----------------+----------+\n"
     ]
    }
   ],
   "source": [
    "# Example usage\n",
    "question = \"What are the different airplane producers represented in the database?\"\n",
    "prompt=create_sql_prompt(question, get_schema())\n",
    "create_and_execute_sql_query(prompt, db,model_id=model_id)\n",
    "\n",
    "# Try another example\n",
    "question = \"How many flights are scheduled for each destination?\"\n",
    "prompt=create_sql_prompt(question, get_schema())\n",
    "create_and_execute_sql_query(prompt, db,model_id=model_id)"
   ]
  },
  {
   "cell_type": "markdown",
   "id": "3c808693",
   "metadata": {},
   "source": [
    "---"
   ]
  },
  {
   "cell_type": "markdown",
   "id": "4909b559-22a3-41ff-99d3-96796458dd44",
   "metadata": {},
   "source": [
    "## Prompt Engineering Techniques\n",
    "Now we'll explore various prompt engineering techniques to improve text-to-SQL generation quality."
   ]
  },
  {
   "cell_type": "markdown",
   "id": "c28e4c5a",
   "metadata": {},
   "source": [
    "### Technique 1: Few-Shot Learning\n",
    "Few-shot learning improves performance by providing examples of how to convert natural language to SQL queries:"
   ]
  },
  {
   "cell_type": "code",
   "execution_count": 10,
   "id": "b9528d11-a02e-436d-a06c-b40639dce4df",
   "metadata": {
    "tags": []
   },
   "outputs": [
    {
     "name": "stdout",
     "output_type": "stream",
     "text": [
      "\n",
      "Generated SQL Query:\n",
      "----------------------------------------\n",
      "SELECT Destination, COUNT(*) as total_flights  FROM flights  GROUP BY Destination;\n",
      "----------------------------------------\n",
      "+----------------+----------+\n",
      "| Column_0       | Column_1 |\n",
      "+----------------+----------+\n",
      "| Atlanta        | 1        |\n",
      "| Boston         | 1        |\n",
      "| Chicago        | 1        |\n",
      "| Dallas         | 1        |\n",
      "| Denver         | 1        |\n",
      "| Detroit        | 1        |\n",
      "| Houston        | 1        |\n",
      "| Las Vegas      | 1        |\n",
      "| Los Angeles    | 1        |\n",
      "| Miami          | 1        |\n",
      "| Minneapolis    | 1        |\n",
      "| New York       | 1        |\n",
      "| Orlando        | 1        |\n",
      "| Philadelphia   | 1        |\n",
      "| Phoenix        | 1        |\n",
      "| Salt Lake City | 1        |\n",
      "| San Diego      | 1        |\n",
      "| San Francisco  | 1        |\n",
      "| Seattle        | 1        |\n",
      "| Tampa          | 1        |\n",
      "+----------------+----------+\n"
     ]
    }
   ],
   "source": [
    "def create_few_shot_sql_prompt(question: str, schema: str) -> str:\n",
    "    return f\"\"\"<|begin_of_text|><|start_header_id|>user<|end_header_id|>\n",
    "\n",
    "You are a SQL expert. Use these examples to understand how to convert questions to SQL queries.Return only the SQL query, no explanations:\n",
    "\n",
    "Example 1:\n",
    "Question: How many flights does each airline operate?\n",
    "SQL: SELECT Flight_number LIKE 'AA%' as Airline, COUNT(*) as flight_count \n",
    "FROM flights \n",
    "GROUP BY Flight_number LIKE 'AA%';\n",
    "\n",
    "Example 2:\n",
    "Question: List all destinations served by Boeing aircraft ordered by frequency.\n",
    "SQL: SELECT f.Destination, COUNT(*) as frequency\n",
    "FROM flights f\n",
    "JOIN airplanes a ON f.Airplane_id = a.Airplane_id\n",
    "WHERE a.Producer = 'Boeing'\n",
    "GROUP BY f.Destination\n",
    "ORDER BY frequency DESC;\n",
    "\n",
    "Example 3:\n",
    "Question: Which aircraft types have never been used for flights to Chicago?\n",
    "SQL: SELECT a.Type\n",
    "FROM airplanes a\n",
    "WHERE a.Airplane_id NOT IN (\n",
    "    SELECT Airplane_id \n",
    "    FROM flights \n",
    "    WHERE Destination = 'Chicago'\n",
    ");\n",
    "\n",
    "Database Schema:\n",
    "{schema}\n",
    "\n",
    "Question: {question}\n",
    "<|eot_id|><|start_header_id|>assistant<|end_header_id|>\n",
    "\"\"\"\n",
    "question=\"What is the total number of flights per destination?\"\n",
    "prompt= create_few_shot_sql_prompt(question,get_schema())\n",
    "create_and_execute_sql_query(prompt, db,model_id)"
   ]
  },
  {
   "cell_type": "markdown",
   "id": "92e7a154",
   "metadata": {},
   "source": [
    "**Benefits of Few-Shot Learning for Text-to-SQL**\n",
    "1. Pattern Recognition: Model learns from similar examples\n",
    "2. Query Structure: Examples demonstrate proper SQL syntax and structure\n",
    "3. Diverse Solutions: Multiple examples show different query patterns\n",
    "4. Context Understanding: Examples help map natural language to SQL concepts\n",
    "5. Error Prevention: Examples demonstrate proper handling of joins, conditions, and aggregations"
   ]
  },
  {
   "cell_type": "markdown",
   "id": "5de41022-e8fa-423e-a35b-92537e8dfd21",
   "metadata": {},
   "source": [
    "### Technique 2: Chain-of-Thought Prompting\n",
    "Chain-of-Thought prompting breaks down the query generation process into logical steps:"
   ]
  },
  {
   "cell_type": "code",
   "execution_count": 11,
   "id": "6617123b-78ea-4631-9871-30c01c7a888a",
   "metadata": {
    "tags": []
   },
   "outputs": [],
   "source": [
    "def create_cot_sql_prompt(question: str, schema: str) -> str:\n",
    "    return f\"\"\"<|begin_of_text|><|start_header_id|>user<|end_header_id|>\n",
    "\n",
    "You are a SQL expert. Follow this reasoning chain to create the SQL query:\n",
    "\n",
    "1. IDENTIFY REQUIREMENTS\n",
    "- Understand what data we need from the question\n",
    "- Map requirements to available tables and columns\n",
    "- IMPORTANT: Only use columns that exist in the schema\n",
    "\n",
    "2. DETERMINE RELATIONSHIPS\n",
    "- Identify which tables contain the required data\n",
    "- Establish necessary table relationships\n",
    "- Plan required JOIN operations\n",
    "\n",
    "3. HANDLE MISSING CONCEPTS\n",
    "- If the question asks for data not directly in schema, determine how to calculate it\n",
    "- Use available columns to derive needed information\n",
    "- For time comparisons, use SQLite date/time functions like strftime()\n",
    "\n",
    "4. SPECIFY CONDITIONS\n",
    "- Define WHERE clauses for filtering\n",
    "- Determine if aggregations are needed\n",
    "- Plan GROUP BY requirements\n",
    "\n",
    "5. FINALIZE STRUCTURE\n",
    "- Organize the SELECT statement\n",
    "- Order results if needed\n",
    "- Ensure proper syntax\n",
    "- Verify all referenced columns exist in the schema\n",
    "\n",
    "Database Schema:\n",
    "{schema}\n",
    "\n",
    "Question: {question}\n",
    "\n",
    "Generate ONLY the executable SQL query based on this reasoning chain, without explanations.\n",
    "<|eot_id|><|start_header_id|>assistant<|end_header_id|>\n",
    "\"\"\""
   ]
  },
  {
   "cell_type": "markdown",
   "id": "74358e96",
   "metadata": {},
   "source": [
    "Example Implementation"
   ]
  },
  {
   "cell_type": "code",
   "execution_count": 12,
   "id": "238409be",
   "metadata": {},
   "outputs": [
    {
     "name": "stdout",
     "output_type": "stream",
     "text": [
      "\n",
      "Generated SQL Query:\n",
      "----------------------------------------\n",
      "SELECT f.Flight_number, f.Arrival_time, f.Arrival_date FROM flights f JOIN airplanes a ON f.Airplane_id = a.Airplane_id WHERE a.Producer = 'Boeing' AND f.Arrival_date BETWEEN '2023-06-01' AND '2023-06-30' AND f.Arrival_time > f.Departure_time;\n",
      "----------------------------------------\n",
      "+----------+---------------------+------------+\n",
      "| Column_0 | Column_1            | Column_2   |\n",
      "+----------+---------------------+------------+\n",
      "| AA123    | 2023-06-15T10:30:00 | 2023-06-15 |\n",
      "| UA567    | 2023-06-23T09:15:00 | 2023-06-23 |\n",
      "| AA890    | 2023-06-24T18:40:00 | 2023-06-24 |\n",
      "+----------+---------------------+------------+\n"
     ]
    }
   ],
   "source": [
    "# Example with reasoning steps\n",
    "question = \"Find all flights where Boeing airplanes arrived later than their scheduled arrival time in June 2023.\"\n",
    "prompt= create_cot_sql_prompt(question,get_schema())\n",
    "create_and_execute_sql_query(prompt, db,model_id)"
   ]
  },
  {
   "cell_type": "markdown",
   "id": "d77826a3",
   "metadata": {},
   "source": [
    "**Benefits of CoT for Text-to-SQL**\n",
    "\n",
    "1. **Better Understanding**: Breaking down the problem helps the model understand complex query requirements\n",
    "2. **Improved Accuracy**: Step-by-step reasoning reduces errors in query construction\n",
    "3. **Maintainable Structure**: Generated queries follow a logical, organized pattern\n",
    "4. **Debugging Support**: Each step can be verified independently\n",
    "5. **Complex Query Handling**: Better handles multi-table joins and nested queries\n",
    "This approach significantly improves the quality of generated SQL queries, especially for complex database operations requiring multiple tables and conditions."
   ]
  },
  {
   "cell_type": "markdown",
   "id": "a8f1cee4",
   "metadata": {},
   "source": [
    "### Technique 3: Progressive Prompting\n",
    "Progressive prompting builds SQL queries incrementally by breaking down the process into clear, sequential steps:"
   ]
  },
  {
   "cell_type": "code",
   "execution_count": 13,
   "id": "b243cf63",
   "metadata": {},
   "outputs": [],
   "source": [
    "def create_progressive_sql_prompt(question: str, schema: str) -> str:\n",
    "    return f\"\"\"<|begin_of_text|><|start_header_id|>user<|end_header_id|>\n",
    "\n",
    "You are a SQL expert. Generate a query for SQLite (without using WITH clause) following these steps:\n",
    "\n",
    "1. BASE QUERY\n",
    "Start with basic SELECT and table structures:\n",
    "- Use simple JOIN syntax\n",
    "- Avoid Common Table Expressions (WITH clause)\n",
    "- Use direct calculations in SELECT\n",
    "\n",
    "2. JOIN OPERATIONS\n",
    "Add necessary table joins:\n",
    "- Use INNER JOIN syntax\n",
    "- Keep joins simple and direct\n",
    "\n",
    "3. FILTERING CONDITIONS\n",
    "Apply WHERE clauses:\n",
    "- Use proper date formatting\n",
    "- Handle time calculations inline\n",
    "\n",
    "4. AGGREGATION LOGIC\n",
    "Include grouping and aggregation:\n",
    "- Use SQLite's date/time functions\n",
    "- Calculate averages directly\n",
    "\n",
    "5. RESULT ORGANIZATION\n",
    "Finalize with ordering:\n",
    "- Sort by multiple columns\n",
    "- Apply proper GROUP BY\n",
    "\n",
    "Database Schema:\n",
    "{schema}\n",
    "\n",
    "Question: {question}\n",
    "\n",
    "Return ONLY the SQL query with no explanations or introduction text.\n",
    "<|eot_id|><|start_header_id|>assistant<|end_header_id|>\n",
    "\"\"\""
   ]
  },
  {
   "cell_type": "markdown",
   "id": "75c439b8",
   "metadata": {},
   "source": [
    "**Example Implementation**"
   ]
  },
  {
   "cell_type": "code",
   "execution_count": 14,
   "id": "1b1f4cbe",
   "metadata": {},
   "outputs": [
    {
     "name": "stdout",
     "output_type": "stream",
     "text": [
      "\n",
      "Generated SQL Query:\n",
      "----------------------------------------\n",
      "SELECT      f.Destination,      COUNT(f.Flight_number) as Number_of_Flights FROM      flights f INNER JOIN      airplanes a ON f.Airplane_id = a.Airplane_id WHERE      a.Producer = 'Boeing' GROUP BY      f.Destination ORDER BY      Number_of_Flights DESC,      f.Destination LIMIT 5;\n",
      "----------------------------------------\n",
      "+-------------+----------+\n",
      "| Column_0    | Column_1 |\n",
      "+-------------+----------+\n",
      "| Atlanta     | 1        |\n",
      "| Houston     | 1        |\n",
      "| Los Angeles | 1        |\n",
      "| Minneapolis | 1        |\n",
      "+-------------+----------+\n"
     ]
    }
   ],
   "source": [
    "# Example with reasoning steps\n",
    "question = \"\"\"Show me the top 5 destinations with the most flights by Boeing aircraft, \n",
    "including the number of flights for each destination.\"\"\"\n",
    "prompt= create_progressive_sql_prompt(question,get_schema())\n",
    "create_and_execute_sql_query(prompt, db,model_id)"
   ]
  },
  {
   "cell_type": "markdown",
   "id": "9ae910ab",
   "metadata": {},
   "source": [
    "**Benefits of Progressive Prompting**\n",
    "1. **Clear Structure**: Each step builds on the previous one\n",
    "2. **Error Prevention**: Easier to catch issues at each stage\n",
    "3. **Complexity Management**: Breaks down complex queries into manageable parts\n",
    "4. **Learning Process**: Shows how queries evolve from simple to complex\n",
    "5. **Maintainability**: Easier to modify or debug queries"
   ]
  },
  {
   "cell_type": "markdown",
   "id": "1855f277",
   "metadata": {},
   "source": [
    "### Testing Our Techniques\n",
    "Now let's test all our techniques with a moderately complex query:"
   ]
  },
  {
   "cell_type": "code",
   "execution_count": 15,
   "id": "38193255",
   "metadata": {},
   "outputs": [
    {
     "name": "stdout",
     "output_type": "stream",
     "text": [
      "\n",
      "=== BASIC APPROACH ===\n",
      "\n",
      "Generated SQL Query:\n",
      "----------------------------------------\n",
      "SELECT T2.Producer, COUNT(T1.Flight_number) FROM flights AS T1 INNER JOIN airplanes AS T2 ON T1.Airplane_id = T2.Airplane_id GROUP BY T2.Producer ORDER BY COUNT(T1.Flight_number) DESC;\n",
      "----------------------------------------\n",
      "+------------+----------+\n",
      "| Column_0   | Column_1 |\n",
      "+------------+----------+\n",
      "| Airbus     | 8        |\n",
      "| Embraer    | 5        |\n",
      "| Boeing     | 4        |\n",
      "| Bombardier | 3        |\n",
      "+------------+----------+\n",
      "\n",
      "=== FEW-SHOT LEARNING ===\n",
      "\n",
      "Generated SQL Query:\n",
      "----------------------------------------\n",
      "SELECT T1.Producer, COUNT(T2.Flight_number) as flight_count  FROM airplanes T1  JOIN flights T2 ON T1.Airplane_id = T2.Airplane_id  GROUP BY T1.Producer  ORDER BY flight_count DESC;\n",
      "----------------------------------------\n",
      "+------------+----------+\n",
      "| Column_0   | Column_1 |\n",
      "+------------+----------+\n",
      "| Airbus     | 8        |\n",
      "| Embraer    | 5        |\n",
      "| Boeing     | 4        |\n",
      "| Bombardier | 3        |\n",
      "+------------+----------+\n",
      "\n",
      "=== CHAIN-OF-THOUGHT ===\n",
      "\n",
      "Generated SQL Query:\n",
      "----------------------------------------\n",
      "SELECT T2.Producer, COUNT(T1.Flight_number) as Flight_Count  FROM flights T1  JOIN airplanes T2 ON T1.Airplane_id = T2.Airplane_id  GROUP BY T2.Producer  ORDER BY Flight_Count DESC;\n",
      "----------------------------------------\n",
      "+------------+----------+\n",
      "| Column_0   | Column_1 |\n",
      "+------------+----------+\n",
      "| Airbus     | 8        |\n",
      "| Embraer    | 5        |\n",
      "| Boeing     | 4        |\n",
      "| Bombardier | 3        |\n",
      "+------------+----------+\n",
      "\n",
      "=== PROGRESSIVE PROMPTING ===\n",
      "\n",
      "Generated SQL Query:\n",
      "----------------------------------------\n",
      "SELECT      a.Producer,      COUNT(f.Flight_number) as Number_of_Flights FROM      airplanes a INNER JOIN      flights f ON a.Airplane_id = f.Airplane_id GROUP BY      a.Producer ORDER BY      Number_of_Flights DESC;\n",
      "----------------------------------------\n",
      "+------------+----------+\n",
      "| Column_0   | Column_1 |\n",
      "+------------+----------+\n",
      "| Airbus     | 8        |\n",
      "| Embraer    | 5        |\n",
      "| Boeing     | 4        |\n",
      "| Bombardier | 3        |\n",
      "+------------+----------+\n"
     ]
    }
   ],
   "source": [
    "# Test question for comparison\n",
    "complex_question = \"\"\"Show me the number of flights for each airplane producer, sorted from highest to lowest count\"\"\"\n",
    "\n",
    "print(\"\\n=== BASIC APPROACH ===\")\n",
    "prompt=create_sql_prompt(complex_question, get_schema())\n",
    "create_and_execute_sql_query(prompt, db,model_id)\n",
    "\n",
    "print(\"\\n=== FEW-SHOT LEARNING ===\")\n",
    "prompt=create_few_shot_sql_prompt(complex_question, get_schema())\n",
    "create_and_execute_sql_query(prompt, db,model_id)\n",
    "\n",
    "print(\"\\n=== CHAIN-OF-THOUGHT ===\")\n",
    "prompt=create_cot_sql_prompt(complex_question, get_schema())\n",
    "create_and_execute_sql_query(prompt, db,model_id)\n",
    "\n",
    "print(\"\\n=== PROGRESSIVE PROMPTING ===\")\n",
    "prompt=create_progressive_sql_prompt(complex_question, get_schema())\n",
    "create_and_execute_sql_query(prompt, db,model_id)\n",
    "\n"
   ]
  },
  {
   "cell_type": "markdown",
   "id": "73906fd0",
   "metadata": {},
   "source": [
    "## Best Practices for Text-to-SQL Prompting"
   ]
  },
  {
   "cell_type": "markdown",
   "id": "434b1792",
   "metadata": {},
   "source": [
    "### Schema Information\n",
    "- Include complete schema information including table relationships\n",
    "- Specify data types to help model understand column constraints\n",
    "- Consider providing sample data for complex schemas\n",
    "### Prompt Engineering\n",
    "- Use consistent SQL style across examples (formatting, capitalization)\n",
    "- Specify SQL dialect explicitly (SQLite, MySQL, PostgreSQL)\n",
    "- Include join conditions and constraints in examples\n",
    "- Specify output format requirements (column names, sorting)\n",
    "### Error Handling\n",
    "- Implement query validation before execution\n",
    "- Handle NULL values and edge cases in your prompts\n",
    "- Consider post-processing LLM outputs to correct common errors\n",
    "### Performance Considerations\n",
    "- Guide the model to avoid SELECT * for production use\n",
    "- Encourage appropriate indexing hints where beneficial\n",
    "- For complex queries, use progressive generation with intermediate validation\n",
    "### Security\n",
    "- Implement strict validation of generated SQL before execution\n",
    "- Never directly execute user inputs without validation\n",
    "- Use parameterized queries when implementing in production"
   ]
  },
  {
   "cell_type": "markdown",
   "id": "2af5058a",
   "metadata": {},
   "source": [
    "## Conclusion\n",
    "Throughout this notebook, we've explored several advanced prompt engineering techniques for text-to-SQL generation using Llama models on Amazon Bedrock:\n",
    "\n",
    "1. **Basic Prompting** provides a solid foundation but may struggle with complex queries\n",
    "2. **Few-Shot Learning** significantly improves query accuracy by providing relevant examples\n",
    "3. **Chain-of-Thought Prompting** helps with complex reasoning by breaking down the query generation process\n",
    "4. **Progressive Prompting** builds queries step-by-step for better structure and organization\n",
    "5. **Validation-Focused Prompting** ensures error-free, production-ready queries with multiple validation layers\n",
    "\n",
    "Our experiments demonstrate that the choice of prompting technique should be guided by:\n",
    "- Query complexity requirements\n",
    "- Performance and latency constraints\n",
    "- Accuracy requirements\n",
    "- Database complexity\n",
    "\n",
    "For production applications, a combination of techniques often yields the best results:\n",
    "- Few-shot examples for common query patterns\n",
    "- Progressive building for complex queries\n",
    "- Validation steps for all generated queries\n",
    "\n",
    "Amazon Bedrock combined with Meta's Llama models provides a powerful and flexible solution for text-to-SQL applications, offering significant potential to democratize database access across organizations."
   ]
  },
  {
   "cell_type": "markdown",
   "id": "8015474d-4387-447d-97a9-e4ae662d49d4",
   "metadata": {},
   "source": [
    "## Thank you!"
   ]
  }
 ],
 "metadata": {
  "availableInstances": [
   {
    "_defaultOrder": 0,
    "_isFastLaunch": true,
    "category": "General purpose",
    "gpuNum": 0,
    "hideHardwareSpecs": false,
    "memoryGiB": 4,
    "name": "ml.t3.medium",
    "vcpuNum": 2
   },
   {
    "_defaultOrder": 1,
    "_isFastLaunch": false,
    "category": "General purpose",
    "gpuNum": 0,
    "hideHardwareSpecs": false,
    "memoryGiB": 8,
    "name": "ml.t3.large",
    "vcpuNum": 2
   },
   {
    "_defaultOrder": 2,
    "_isFastLaunch": false,
    "category": "General purpose",
    "gpuNum": 0,
    "hideHardwareSpecs": false,
    "memoryGiB": 16,
    "name": "ml.t3.xlarge",
    "vcpuNum": 4
   },
   {
    "_defaultOrder": 3,
    "_isFastLaunch": false,
    "category": "General purpose",
    "gpuNum": 0,
    "hideHardwareSpecs": false,
    "memoryGiB": 32,
    "name": "ml.t3.2xlarge",
    "vcpuNum": 8
   },
   {
    "_defaultOrder": 4,
    "_isFastLaunch": true,
    "category": "General purpose",
    "gpuNum": 0,
    "hideHardwareSpecs": false,
    "memoryGiB": 8,
    "name": "ml.m5.large",
    "vcpuNum": 2
   },
   {
    "_defaultOrder": 5,
    "_isFastLaunch": false,
    "category": "General purpose",
    "gpuNum": 0,
    "hideHardwareSpecs": false,
    "memoryGiB": 16,
    "name": "ml.m5.xlarge",
    "vcpuNum": 4
   },
   {
    "_defaultOrder": 6,
    "_isFastLaunch": false,
    "category": "General purpose",
    "gpuNum": 0,
    "hideHardwareSpecs": false,
    "memoryGiB": 32,
    "name": "ml.m5.2xlarge",
    "vcpuNum": 8
   },
   {
    "_defaultOrder": 7,
    "_isFastLaunch": false,
    "category": "General purpose",
    "gpuNum": 0,
    "hideHardwareSpecs": false,
    "memoryGiB": 64,
    "name": "ml.m5.4xlarge",
    "vcpuNum": 16
   },
   {
    "_defaultOrder": 8,
    "_isFastLaunch": false,
    "category": "General purpose",
    "gpuNum": 0,
    "hideHardwareSpecs": false,
    "memoryGiB": 128,
    "name": "ml.m5.8xlarge",
    "vcpuNum": 32
   },
   {
    "_defaultOrder": 9,
    "_isFastLaunch": false,
    "category": "General purpose",
    "gpuNum": 0,
    "hideHardwareSpecs": false,
    "memoryGiB": 192,
    "name": "ml.m5.12xlarge",
    "vcpuNum": 48
   },
   {
    "_defaultOrder": 10,
    "_isFastLaunch": false,
    "category": "General purpose",
    "gpuNum": 0,
    "hideHardwareSpecs": false,
    "memoryGiB": 256,
    "name": "ml.m5.16xlarge",
    "vcpuNum": 64
   },
   {
    "_defaultOrder": 11,
    "_isFastLaunch": false,
    "category": "General purpose",
    "gpuNum": 0,
    "hideHardwareSpecs": false,
    "memoryGiB": 384,
    "name": "ml.m5.24xlarge",
    "vcpuNum": 96
   },
   {
    "_defaultOrder": 12,
    "_isFastLaunch": false,
    "category": "General purpose",
    "gpuNum": 0,
    "hideHardwareSpecs": false,
    "memoryGiB": 8,
    "name": "ml.m5d.large",
    "vcpuNum": 2
   },
   {
    "_defaultOrder": 13,
    "_isFastLaunch": false,
    "category": "General purpose",
    "gpuNum": 0,
    "hideHardwareSpecs": false,
    "memoryGiB": 16,
    "name": "ml.m5d.xlarge",
    "vcpuNum": 4
   },
   {
    "_defaultOrder": 14,
    "_isFastLaunch": false,
    "category": "General purpose",
    "gpuNum": 0,
    "hideHardwareSpecs": false,
    "memoryGiB": 32,
    "name": "ml.m5d.2xlarge",
    "vcpuNum": 8
   },
   {
    "_defaultOrder": 15,
    "_isFastLaunch": false,
    "category": "General purpose",
    "gpuNum": 0,
    "hideHardwareSpecs": false,
    "memoryGiB": 64,
    "name": "ml.m5d.4xlarge",
    "vcpuNum": 16
   },
   {
    "_defaultOrder": 16,
    "_isFastLaunch": false,
    "category": "General purpose",
    "gpuNum": 0,
    "hideHardwareSpecs": false,
    "memoryGiB": 128,
    "name": "ml.m5d.8xlarge",
    "vcpuNum": 32
   },
   {
    "_defaultOrder": 17,
    "_isFastLaunch": false,
    "category": "General purpose",
    "gpuNum": 0,
    "hideHardwareSpecs": false,
    "memoryGiB": 192,
    "name": "ml.m5d.12xlarge",
    "vcpuNum": 48
   },
   {
    "_defaultOrder": 18,
    "_isFastLaunch": false,
    "category": "General purpose",
    "gpuNum": 0,
    "hideHardwareSpecs": false,
    "memoryGiB": 256,
    "name": "ml.m5d.16xlarge",
    "vcpuNum": 64
   },
   {
    "_defaultOrder": 19,
    "_isFastLaunch": false,
    "category": "General purpose",
    "gpuNum": 0,
    "hideHardwareSpecs": false,
    "memoryGiB": 384,
    "name": "ml.m5d.24xlarge",
    "vcpuNum": 96
   },
   {
    "_defaultOrder": 20,
    "_isFastLaunch": false,
    "category": "General purpose",
    "gpuNum": 0,
    "hideHardwareSpecs": true,
    "memoryGiB": 0,
    "name": "ml.geospatial.interactive",
    "supportedImageNames": [
     "sagemaker-geospatial-v1-0"
    ],
    "vcpuNum": 0
   },
   {
    "_defaultOrder": 21,
    "_isFastLaunch": true,
    "category": "Compute optimized",
    "gpuNum": 0,
    "hideHardwareSpecs": false,
    "memoryGiB": 4,
    "name": "ml.c5.large",
    "vcpuNum": 2
   },
   {
    "_defaultOrder": 22,
    "_isFastLaunch": false,
    "category": "Compute optimized",
    "gpuNum": 0,
    "hideHardwareSpecs": false,
    "memoryGiB": 8,
    "name": "ml.c5.xlarge",
    "vcpuNum": 4
   },
   {
    "_defaultOrder": 23,
    "_isFastLaunch": false,
    "category": "Compute optimized",
    "gpuNum": 0,
    "hideHardwareSpecs": false,
    "memoryGiB": 16,
    "name": "ml.c5.2xlarge",
    "vcpuNum": 8
   },
   {
    "_defaultOrder": 24,
    "_isFastLaunch": false,
    "category": "Compute optimized",
    "gpuNum": 0,
    "hideHardwareSpecs": false,
    "memoryGiB": 32,
    "name": "ml.c5.4xlarge",
    "vcpuNum": 16
   },
   {
    "_defaultOrder": 25,
    "_isFastLaunch": false,
    "category": "Compute optimized",
    "gpuNum": 0,
    "hideHardwareSpecs": false,
    "memoryGiB": 72,
    "name": "ml.c5.9xlarge",
    "vcpuNum": 36
   },
   {
    "_defaultOrder": 26,
    "_isFastLaunch": false,
    "category": "Compute optimized",
    "gpuNum": 0,
    "hideHardwareSpecs": false,
    "memoryGiB": 96,
    "name": "ml.c5.12xlarge",
    "vcpuNum": 48
   },
   {
    "_defaultOrder": 27,
    "_isFastLaunch": false,
    "category": "Compute optimized",
    "gpuNum": 0,
    "hideHardwareSpecs": false,
    "memoryGiB": 144,
    "name": "ml.c5.18xlarge",
    "vcpuNum": 72
   },
   {
    "_defaultOrder": 28,
    "_isFastLaunch": false,
    "category": "Compute optimized",
    "gpuNum": 0,
    "hideHardwareSpecs": false,
    "memoryGiB": 192,
    "name": "ml.c5.24xlarge",
    "vcpuNum": 96
   },
   {
    "_defaultOrder": 29,
    "_isFastLaunch": true,
    "category": "Accelerated computing",
    "gpuNum": 1,
    "hideHardwareSpecs": false,
    "memoryGiB": 16,
    "name": "ml.g4dn.xlarge",
    "vcpuNum": 4
   },
   {
    "_defaultOrder": 30,
    "_isFastLaunch": false,
    "category": "Accelerated computing",
    "gpuNum": 1,
    "hideHardwareSpecs": false,
    "memoryGiB": 32,
    "name": "ml.g4dn.2xlarge",
    "vcpuNum": 8
   },
   {
    "_defaultOrder": 31,
    "_isFastLaunch": false,
    "category": "Accelerated computing",
    "gpuNum": 1,
    "hideHardwareSpecs": false,
    "memoryGiB": 64,
    "name": "ml.g4dn.4xlarge",
    "vcpuNum": 16
   },
   {
    "_defaultOrder": 32,
    "_isFastLaunch": false,
    "category": "Accelerated computing",
    "gpuNum": 1,
    "hideHardwareSpecs": false,
    "memoryGiB": 128,
    "name": "ml.g4dn.8xlarge",
    "vcpuNum": 32
   },
   {
    "_defaultOrder": 33,
    "_isFastLaunch": false,
    "category": "Accelerated computing",
    "gpuNum": 4,
    "hideHardwareSpecs": false,
    "memoryGiB": 192,
    "name": "ml.g4dn.12xlarge",
    "vcpuNum": 48
   },
   {
    "_defaultOrder": 34,
    "_isFastLaunch": false,
    "category": "Accelerated computing",
    "gpuNum": 1,
    "hideHardwareSpecs": false,
    "memoryGiB": 256,
    "name": "ml.g4dn.16xlarge",
    "vcpuNum": 64
   },
   {
    "_defaultOrder": 35,
    "_isFastLaunch": false,
    "category": "Accelerated computing",
    "gpuNum": 1,
    "hideHardwareSpecs": false,
    "memoryGiB": 61,
    "name": "ml.p3.2xlarge",
    "vcpuNum": 8
   },
   {
    "_defaultOrder": 36,
    "_isFastLaunch": false,
    "category": "Accelerated computing",
    "gpuNum": 4,
    "hideHardwareSpecs": false,
    "memoryGiB": 244,
    "name": "ml.p3.8xlarge",
    "vcpuNum": 32
   },
   {
    "_defaultOrder": 37,
    "_isFastLaunch": false,
    "category": "Accelerated computing",
    "gpuNum": 8,
    "hideHardwareSpecs": false,
    "memoryGiB": 488,
    "name": "ml.p3.16xlarge",
    "vcpuNum": 64
   },
   {
    "_defaultOrder": 38,
    "_isFastLaunch": false,
    "category": "Accelerated computing",
    "gpuNum": 8,
    "hideHardwareSpecs": false,
    "memoryGiB": 768,
    "name": "ml.p3dn.24xlarge",
    "vcpuNum": 96
   },
   {
    "_defaultOrder": 39,
    "_isFastLaunch": false,
    "category": "Memory Optimized",
    "gpuNum": 0,
    "hideHardwareSpecs": false,
    "memoryGiB": 16,
    "name": "ml.r5.large",
    "vcpuNum": 2
   },
   {
    "_defaultOrder": 40,
    "_isFastLaunch": false,
    "category": "Memory Optimized",
    "gpuNum": 0,
    "hideHardwareSpecs": false,
    "memoryGiB": 32,
    "name": "ml.r5.xlarge",
    "vcpuNum": 4
   },
   {
    "_defaultOrder": 41,
    "_isFastLaunch": false,
    "category": "Memory Optimized",
    "gpuNum": 0,
    "hideHardwareSpecs": false,
    "memoryGiB": 64,
    "name": "ml.r5.2xlarge",
    "vcpuNum": 8
   },
   {
    "_defaultOrder": 42,
    "_isFastLaunch": false,
    "category": "Memory Optimized",
    "gpuNum": 0,
    "hideHardwareSpecs": false,
    "memoryGiB": 128,
    "name": "ml.r5.4xlarge",
    "vcpuNum": 16
   },
   {
    "_defaultOrder": 43,
    "_isFastLaunch": false,
    "category": "Memory Optimized",
    "gpuNum": 0,
    "hideHardwareSpecs": false,
    "memoryGiB": 256,
    "name": "ml.r5.8xlarge",
    "vcpuNum": 32
   },
   {
    "_defaultOrder": 44,
    "_isFastLaunch": false,
    "category": "Memory Optimized",
    "gpuNum": 0,
    "hideHardwareSpecs": false,
    "memoryGiB": 384,
    "name": "ml.r5.12xlarge",
    "vcpuNum": 48
   },
   {
    "_defaultOrder": 45,
    "_isFastLaunch": false,
    "category": "Memory Optimized",
    "gpuNum": 0,
    "hideHardwareSpecs": false,
    "memoryGiB": 512,
    "name": "ml.r5.16xlarge",
    "vcpuNum": 64
   },
   {
    "_defaultOrder": 46,
    "_isFastLaunch": false,
    "category": "Memory Optimized",
    "gpuNum": 0,
    "hideHardwareSpecs": false,
    "memoryGiB": 768,
    "name": "ml.r5.24xlarge",
    "vcpuNum": 96
   },
   {
    "_defaultOrder": 47,
    "_isFastLaunch": false,
    "category": "Accelerated computing",
    "gpuNum": 1,
    "hideHardwareSpecs": false,
    "memoryGiB": 16,
    "name": "ml.g5.xlarge",
    "vcpuNum": 4
   },
   {
    "_defaultOrder": 48,
    "_isFastLaunch": false,
    "category": "Accelerated computing",
    "gpuNum": 1,
    "hideHardwareSpecs": false,
    "memoryGiB": 32,
    "name": "ml.g5.2xlarge",
    "vcpuNum": 8
   },
   {
    "_defaultOrder": 49,
    "_isFastLaunch": false,
    "category": "Accelerated computing",
    "gpuNum": 1,
    "hideHardwareSpecs": false,
    "memoryGiB": 64,
    "name": "ml.g5.4xlarge",
    "vcpuNum": 16
   },
   {
    "_defaultOrder": 50,
    "_isFastLaunch": false,
    "category": "Accelerated computing",
    "gpuNum": 1,
    "hideHardwareSpecs": false,
    "memoryGiB": 128,
    "name": "ml.g5.8xlarge",
    "vcpuNum": 32
   },
   {
    "_defaultOrder": 51,
    "_isFastLaunch": false,
    "category": "Accelerated computing",
    "gpuNum": 1,
    "hideHardwareSpecs": false,
    "memoryGiB": 256,
    "name": "ml.g5.16xlarge",
    "vcpuNum": 64
   },
   {
    "_defaultOrder": 52,
    "_isFastLaunch": false,
    "category": "Accelerated computing",
    "gpuNum": 4,
    "hideHardwareSpecs": false,
    "memoryGiB": 192,
    "name": "ml.g5.12xlarge",
    "vcpuNum": 48
   },
   {
    "_defaultOrder": 53,
    "_isFastLaunch": false,
    "category": "Accelerated computing",
    "gpuNum": 4,
    "hideHardwareSpecs": false,
    "memoryGiB": 384,
    "name": "ml.g5.24xlarge",
    "vcpuNum": 96
   },
   {
    "_defaultOrder": 54,
    "_isFastLaunch": false,
    "category": "Accelerated computing",
    "gpuNum": 8,
    "hideHardwareSpecs": false,
    "memoryGiB": 768,
    "name": "ml.g5.48xlarge",
    "vcpuNum": 192
   },
   {
    "_defaultOrder": 55,
    "_isFastLaunch": false,
    "category": "Accelerated computing",
    "gpuNum": 8,
    "hideHardwareSpecs": false,
    "memoryGiB": 1152,
    "name": "ml.p4d.24xlarge",
    "vcpuNum": 96
   },
   {
    "_defaultOrder": 56,
    "_isFastLaunch": false,
    "category": "Accelerated computing",
    "gpuNum": 8,
    "hideHardwareSpecs": false,
    "memoryGiB": 1152,
    "name": "ml.p4de.24xlarge",
    "vcpuNum": 96
   }
  ],
  "instance_type": "ml.t3.medium",
  "kernelspec": {
   "display_name": "Python 3",
   "language": "python",
   "name": "python3"
  },
  "language_info": {
   "codemirror_mode": {
    "name": "ipython",
    "version": 3
   },
   "file_extension": ".py",
   "mimetype": "text/x-python",
   "name": "python",
   "nbconvert_exporter": "python",
   "pygments_lexer": "ipython3",
   "version": "3.10.0"
  }
 },
 "nbformat": 4,
 "nbformat_minor": 5
}
