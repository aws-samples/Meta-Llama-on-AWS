{
 "cells": [
  {
   "cell_type": "markdown",
   "id": "4901509a-8316-47a3-879b-544a43b37ef3",
   "metadata": {},
   "source": [
    "# Text-to-SQL using Llama4 (DB Setup)\n",
    "---"
   ]
  },
  {
   "cell_type": "markdown",
   "id": "aa596a49-ce47-4053-a93d-699bdef52426",
   "metadata": {
    "tags": []
   },
   "source": [
    "## Introduction"
   ]
  },
  {
   "cell_type": "markdown",
   "id": "d4b488b5-d05b-45d2-84fb-6bc80cc30241",
   "metadata": {},
   "source": [
    "In this notebook we will set up ONE instance of the following database:\n",
    " - RDS for MySQL\n",
    "\n",
    "Within this instance, we will create two databases with one table each. The tables will have a relationship between them. We will add some sample data to both tables."
   ]
  },
  {
   "cell_type": "markdown",
   "id": "ab3b33e6",
   "metadata": {
    "jp-MarkdownHeadingCollapsed": true,
    "tags": []
   },
   "source": [
    "## Contents\n",
    "\n",
    "1. [Getting Started](#Getting-Started)\n",
    "    + [Install Dependencies](#Step-0-Install-Dependencies)\n",
    "    + [Setup Database](#Step-1-Set-up-database)\n",
    "    + [Build Database](#Step-2-Build-Database)\n",
    "    + [Cleanup Resources](#Step-3-Cleanup-Resources)\n",
    "\n",
    "---"
   ]
  },
  {
   "cell_type": "markdown",
   "id": "4c1a6bb4",
   "metadata": {},
   "source": [
    "## Pre-requisites\n",
    "\n",
    "1. Use kernel either `conda_python3`, `conda_pytorch_p310` or `conda_tensorflow2_p310`.\n",
    "2. Install the required packages."
   ]
  },
  {
   "cell_type": "markdown",
   "id": "b51b2317-d90d-481f-8d51-464a93650978",
   "metadata": {
    "tags": []
   },
   "source": [
    "## Getting Started"
   ]
  },
  {
   "cell_type": "markdown",
   "id": "64cd1931-c19d-4c30-bfef-19cbc59724f7",
   "metadata": {
    "tags": []
   },
   "source": [
    "### Step 0 Install Dependencies\n",
    "\n",
    "Here, we will install all the required dependencies to run this notebook."
   ]
  },
  {
   "cell_type": "code",
   "execution_count": 1,
   "id": "e6d52454-073b-4a5a-b293-924419e1c8d1",
   "metadata": {
    "tags": []
   },
   "outputs": [],
   "source": [
    "!pip install boto3==1.35.32 -qU --force --quiet --no-warn-conflicts\n",
    "!pip install mysql-connector-python==8.4.0 -qU --force --quiet --no-warn-conflicts\n",
    "!pip install langchain==0.2.5 -qU --force --quiet --no-warn-conflicts\n",
    "!pip install chromadb==0.5.0 -qU --force --quiet --no-warn-conflicts\n",
    "!pip install numpy==1.26.4 -qU --force --quiet --no-warn-conflicts\n",
    "!pip install psycopg2==2.9.9 -qU --force --quiet --no-warn-conflicts"
   ]
  },
  {
   "cell_type": "markdown",
   "id": "e097885d-9818-4015-b273-4fe30415cdfd",
   "metadata": {},
   "source": [
    "**Note:** *When installing libraries using the pip, you may encounter errors or warnings during the installation process. These are generally not critical and can be safely ignored. However, after installing the libraries, it is recommended to restart the kernel or computing environment you are working in. Restarting the kernel ensures that the newly installed libraries are loaded properly and available for use in your code or workflow.*"
   ]
  },
  {
   "cell_type": "markdown",
   "id": "37ea1457-e5a3-46b1-870f-ba7e73662ec2",
   "metadata": {},
   "source": [
    "<div class='alert alert-block alert-info'><b>NOTE:</b> Restart the kernel with the updated packages that are installed through the dependencies above</div>"
   ]
  },
  {
   "cell_type": "code",
   "execution_count": null,
   "id": "b7518a54-885b-4403-ac4b-d5aab2ebb3ef",
   "metadata": {
    "tags": []
   },
   "outputs": [],
   "source": [
    "# Restart the kernel\n",
    "import os\n",
    "os._exit(00)"
   ]
  },
  {
   "cell_type": "markdown",
   "id": "90afba42-5061-4464-9ec9-8641992a7d66",
   "metadata": {},
   "source": [
    "#### Import the required modules to run the notebook"
   ]
  },
  {
   "cell_type": "code",
   "execution_count": 7,
   "id": "86320bba-7893-4426-b738-788c89a1eb2b",
   "metadata": {
    "tags": []
   },
   "outputs": [
    {
     "name": "stdout",
     "output_type": "stream",
     "text": [
      "Collecting mysql-connector-python\n",
      "  Downloading mysql_connector_python-9.2.0-py2.py3-none-any.whl.metadata (6.0 kB)\n",
      "Downloading mysql_connector_python-9.2.0-py2.py3-none-any.whl (398 kB)\n",
      "Installing collected packages: mysql-connector-python\n",
      "Successfully installed mysql-connector-python-9.2.0\n"
     ]
    }
   ],
   "source": [
    "!pip install mysql-connector-python"
   ]
  },
  {
   "cell_type": "code",
   "execution_count": 8,
   "id": "756999dd-ac11-4b3a-8e43-2c4cdc2ad9b2",
   "metadata": {
    "tags": []
   },
   "outputs": [],
   "source": [
    "import boto3\n",
    "import json\n",
    "import mysql.connector as MySQLdb\n",
    "from typing import Dict, List, Any\n",
    "import yaml\n",
    "import psycopg2 as PGdb\n",
    "from psycopg2.extensions import ISOLATION_LEVEL_AUTOCOMMIT\n"
   ]
  },
  {
   "cell_type": "markdown",
   "id": "0b12765f-10a8-4aae-9e62-4ee7f4e526cc",
   "metadata": {
    "tags": []
   },
   "source": [
    "### Step 1 Setup database"
   ]
  },
  {
   "cell_type": "markdown",
   "id": "7a2493f9-833f-40ff-a9db-b81f47e37c66",
   "metadata": {},
   "source": [
    "Here, we retrieve the services that are already deployed as a part of the cloudformation template to be used in building the application. The services include,\n",
    "\n",
    "+ Secret ARN with RDS for MySQL\n",
    "+ Database Endpoints"
   ]
  },
  {
   "cell_type": "code",
   "execution_count": 16,
   "id": "6d355be7-9365-41d5-8f63-153898c7c169",
   "metadata": {
    "tags": []
   },
   "outputs": [],
   "source": [
    "stackname = \"text2sql\"  # If your stack name differs from \"text2sql\", please modify."
   ]
  },
  {
   "cell_type": "markdown",
   "id": "c80ddfe5-b2b4-4d0d-ba85-bc2cdd3ebd96",
   "metadata": {},
   "source": [
    "**Note: Marco to fix in CloudFormation template** \n",
    "\n",
    "ClientError: An error occurred (AccessDenied) when calling the DescribeStackResources operation: User: arn:aws:sts::333633606362:assumed-role/l4-txt2sql-SageMakerNotebookInstanceRole-bZXzdDYYTLvj/SageMaker is not authorized to perform: cloudformation:DescribeStackResources on resource: arn:aws:cloudformation:us-east-1:333633606362:stack/l4-text2sql/* because no identity-based policy allows the cloudformation:DescribeStackResources action"
   ]
  },
  {
   "cell_type": "code",
   "execution_count": 17,
   "id": "bca002c7-3416-4ac5-b9a1-2b730557fb65",
   "metadata": {
    "tags": []
   },
   "outputs": [],
   "source": [
    "cfn = boto3.client('cloudformation')\n",
    "\n",
    "response = cfn.describe_stack_resources(\n",
    "    StackName=stackname\n",
    ")\n",
    "cfn_outputs = cfn.describe_stacks(StackName=stackname)['Stacks'][0]['Outputs']\n",
    "\n",
    "# Get rds secret arn and database endpoint from cloudformation outputs\n",
    "for output in cfn_outputs:\n",
    "    if 'SecretArnMySQL' in output['OutputKey']:\n",
    "        mySQL_secret_id = output['OutputValue']\n",
    "\n",
    "    if 'DatabaseEndpointMySQL' in output['OutputKey']:\n",
    "        mySQL_db_host = output['OutputValue']\n"
   ]
  },
  {
   "cell_type": "code",
   "execution_count": 18,
   "id": "60e5601b-287b-421e-8711-ef73d5c09cf2",
   "metadata": {
    "tags": []
   },
   "outputs": [],
   "source": [
    "secrets_client = boto3.client('secretsmanager')\n",
    "\n",
    "# Get MySQL credentials from Secrets Manager\n",
    "credentials = json.loads(secrets_client.get_secret_value(SecretId=mySQL_secret_id)['SecretString'])\n",
    "\n",
    "# Get password and username from secrets\n",
    "mySQL_db_password = credentials['password']\n",
    "mySQL_db_user = credentials['username']\n"
   ]
  },
  {
   "cell_type": "markdown",
   "id": "0c970c8c-f566-430f-b12b-e669cc7241eb",
   "metadata": {
    "tags": []
   },
   "source": [
    "##### Establish the database connection (MySQL DB)"
   ]
  },
  {
   "cell_type": "code",
   "execution_count": 19,
   "id": "705ab665-9b2e-4141-b7fb-df3329ac61c2",
   "metadata": {
    "tags": []
   },
   "outputs": [],
   "source": [
    "mySQL_db_conn = MySQLdb.connect(\n",
    "    host=mySQL_db_host,\n",
    "    user=mySQL_db_user,\n",
    "    password=mySQL_db_password\n",
    ")\n"
   ]
  },
  {
   "cell_type": "markdown",
   "id": "d5934167-da56-48c4-905a-51f515d8f680",
   "metadata": {
    "tags": []
   },
   "source": [
    "##### Check connection (MySQL DB)"
   ]
  },
  {
   "cell_type": "code",
   "execution_count": 20,
   "id": "09ede071-2cdc-4f0c-9042-5acb59909459",
   "metadata": {
    "tags": []
   },
   "outputs": [
    {
     "name": "stdout",
     "output_type": "stream",
     "text": [
      "('information_schema',)\n",
      "('mysql',)\n",
      "('performance_schema',)\n",
      "('sys',)\n"
     ]
    }
   ],
   "source": [
    "mySQL_db_cursor = mySQL_db_conn.cursor()\n",
    "\n",
    "mySQL_db_cursor.execute(\"SHOW DATABASES\")\n",
    "\n",
    "for tmp_db_name in mySQL_db_cursor:\n",
    "    print(tmp_db_name)\n",
    "    "
   ]
  },
  {
   "cell_type": "markdown",
   "id": "8b4a8a54-2782-4c4f-8524-6fef2cfa880a",
   "metadata": {
    "tags": []
   },
   "source": [
    "### Step 2 Build Database\n",
    "Now the notebook will drop the test table and also the test database if it exists. It then proceeds with creation of the table.\n",
    "Then it will insert test data for use in our prompting examples."
   ]
  },
  {
   "cell_type": "markdown",
   "id": "ad1cb5ef-41ea-43d9-ace9-8ca9c2dda260",
   "metadata": {
    "tags": []
   },
   "source": [
    "#### Load table schema settings"
   ]
  },
  {
   "cell_type": "code",
   "execution_count": 33,
   "id": "2579b20a-eb9c-4146-88e7-d4936d8d3038",
   "metadata": {
    "tags": []
   },
   "outputs": [],
   "source": [
    "def load_settings(file_path):\n",
    "    \"\"\"\n",
    "    Reads a YAML file and returns its contents as a Python object.\n",
    "\n",
    "    Args:\n",
    "        file_path (str): The path to the YAML file.\n",
    "\n",
    "    Returns:\n",
    "        obj: The contents of the YAML file as a Python object.\n",
    "    \"\"\"\n",
    "    try:\n",
    "        with open(file_path, 'r') as file:\n",
    "            data = yaml.safe_load(file)\n",
    "        return data\n",
    "    except FileNotFoundError:\n",
    "        print(f\"Error: The file '{file_path}' does not exist.\")\n",
    "        return None\n",
    "    except yaml.YAMLError as exc:\n",
    "        print(f\"Error: Failed to parse the YAML file '{file_path}': {exc}\")\n",
    "        return None"
   ]
  },
  {
   "cell_type": "code",
   "execution_count": 43,
   "id": "2fcf569e-6c76-4eee-8be7-cc0ab13a3802",
   "metadata": {
    "tags": []
   },
   "outputs": [
    {
     "name": "stdout",
     "output_type": "stream",
     "text": [
      "Successfully loaded patients settings: healthcare_db.patients\n",
      "Successfully loaded providers settings: insurance_db.providers\n",
      "Successfully loaded combined settings\n"
     ]
    }
   ],
   "source": [
    "# MySQL Table Setup\n",
    "\n",
    "# Load table settings - database: healthcare_db | table_name: patients\n",
    "# Use the confirmed path that exists\n",
    "settings_patients = load_settings('./schemas/patients_ms.yml')  # This path works\n",
    "if settings_patients is not None:\n",
    "    table_patients = settings_patients['table_name']\n",
    "    table_schema_patients = settings_patients['table_schema']\n",
    "    db_patients = settings_patients['database']\n",
    "    print(f\"Successfully loaded patients settings: {db_patients}.{table_patients}\")\n",
    "else:\n",
    "    print(\"Failed to load patients settings\")\n",
    "\n",
    "# Load table settings - database: insurance_db | table_name: providers\n",
    "settings_providers = load_settings('./schemas/providers_ms.yml')  # Use same convention\n",
    "if settings_providers is not None:\n",
    "    table_providers = settings_providers['table_name']\n",
    "    table_schema_providers = settings_providers['table_schema']\n",
    "    db_providers = settings_providers['database']\n",
    "    print(f\"Successfully loaded providers settings: {db_providers}.{table_providers}\")\n",
    "else:\n",
    "    print(\"Failed to load providers settings\")\n",
    "\n",
    "# Load table settings for combined schema\n",
    "settings_patients_providers = load_settings('./schemas/patients-providers_ms.yml')  # Use same convention\n",
    "if settings_patients_providers is not None:\n",
    "    print(\"Successfully loaded combined settings\")\n",
    "else:\n",
    "    print(\"Failed to load combined settings\")"
   ]
  },
  {
   "cell_type": "markdown",
   "id": "c4d18b1b-a668-4090-93b9-6a286bae3fe7",
   "metadata": {
    "tags": []
   },
   "source": [
    "#### Cleanup Database"
   ]
  },
  {
   "cell_type": "code",
   "execution_count": 63,
   "id": "874cf1ed-bc91-4c5b-88d8-e38d3eae3d3a",
   "metadata": {
    "tags": []
   },
   "outputs": [],
   "source": [
    "# Drop the dependent relation table and database first\n",
    "\n",
    "# Delete patients' table\n",
    "mySQL_db_cursor.execute(f\"DROP TABLE IF EXISTS {db_patients}.{table_patients}\")\n",
    "# Delete database\n",
    "mySQL_db_cursor.execute(f\"DROP DATABASE IF EXISTS {db_patients}\")\n",
    "\n",
    "# Drop the parent table and database\n",
    "\n",
    "# Delete providers' table\n",
    "mySQL_db_cursor.execute(f\"DROP TABLE IF EXISTS {db_providers}.{table_providers}\")\n",
    "# Delete database\n",
    "mySQL_db_cursor.execute(f\"DROP DATABASE IF EXISTS {db_providers}\")"
   ]
  },
  {
   "cell_type": "markdown",
   "id": "5f396b2e-b25b-4192-82e5-cf5e5e2f128c",
   "metadata": {
    "tags": []
   },
   "source": [
    "#### Create database and tables "
   ]
  },
  {
   "cell_type": "markdown",
   "id": "575393ec-9d71-4d7b-8971-d52bb6abcd32",
   "metadata": {},
   "source": [
    "##### MySQL DB"
   ]
  },
  {
   "cell_type": "code",
   "execution_count": 64,
   "id": "e0b56ee0-7f4a-4672-97c4-98caf6cbdba5",
   "metadata": {
    "tags": []
   },
   "outputs": [],
   "source": [
    "# Create database `insurance_db` - MySQL DB\n",
    "mySQL_db_cursor.execute(f\"CREATE DATABASE {db_providers}\")\n",
    "\n",
    "# Create database `healthcare_db` - MySQL DB\n",
    "mySQL_db_cursor.execute(f\"CREATE DATABASE {db_patients}\")\n",
    "\n",
    "# Create table to hold data on insurance providers information called `providers`\n",
    "mySQL_db_cursor.execute(table_schema_providers)\n",
    "\n",
    "# Create table to hold data on patient information called `patients`\n",
    "mySQL_db_cursor.execute(table_schema_patients)\n"
   ]
  },
  {
   "cell_type": "markdown",
   "id": "3c01ebc7-2ac0-412b-8984-e79651661f0a",
   "metadata": {
    "tags": []
   },
   "source": [
    "#### Read sample data"
   ]
  },
  {
   "cell_type": "code",
   "execution_count": 65,
   "id": "8405e146-790e-46f8-9c1b-6d38319d7ebf",
   "metadata": {
    "tags": []
   },
   "outputs": [],
   "source": [
    "# Read sample data for the providers' table\n",
    "with open('sample_data/providers.json', 'r') as f:\n",
    "    data_providers = json.load(f)"
   ]
  },
  {
   "cell_type": "code",
   "execution_count": 66,
   "id": "050ca63b-6081-4b16-812e-4cac4eb46418",
   "metadata": {
    "tags": []
   },
   "outputs": [],
   "source": [
    "# Read sample data for the patients' table\n",
    "with open('sample_data/patients.json', 'r') as f:\n",
    "    data_patients = json.load(f)"
   ]
  },
  {
   "cell_type": "markdown",
   "id": "c55a902c",
   "metadata": {
    "tags": []
   },
   "source": [
    "#### Ingest sample data into database"
   ]
  },
  {
   "cell_type": "markdown",
   "id": "83732e2c-3d80-4d35-9322-23e29f8c122c",
   "metadata": {},
   "source": [
    "##### MySQL DB"
   ]
  },
  {
   "cell_type": "code",
   "execution_count": 68,
   "id": "1bea4d6e-714e-48af-8141-3911f762a336",
   "metadata": {
    "tags": []
   },
   "outputs": [],
   "source": [
    "# Insert providers' data into MySQL database\n",
    "for data in data_providers:\n",
    "    sql = f\"\"\"\n",
    "        INSERT INTO {db_providers}.{table_providers} \n",
    "        (Insurance_id, Provider_name, Coverage_type, Contact_email) \n",
    "        VALUES ({data['Insurance_id']}, '{data['Provider_name']}', '{data['Coverage_type']}', \n",
    "        '{data['Contact_email']}')\"\"\"\n",
    "    mySQL_db_cursor.execute(sql)\n",
    "mySQL_db_conn.commit()\n"
   ]
  },
  {
   "cell_type": "code",
   "execution_count": 69,
   "id": "9b525973-4700-4c2d-8f5f-7c213ccc5a87",
   "metadata": {
    "tags": []
   },
   "outputs": [],
   "source": [
    "# Insert patients' data into MySQL database\n",
    "for data in data_patients:\n",
    "    sql = f\"\"\"\n",
    "        INSERT INTO {db_patients}.{table_patients} \n",
    "        (Patient_id, First_name, Last_name, Date_of_birth, Gender, \n",
    "        Contact_number, Insurance_id) \n",
    "        VALUES ({data['Patient_id']}, '{data['First_name']}', '{data['Last_name']}', \n",
    "        '{data['Date_of_birth']}', '{data['Gender']}',\n",
    "        '{data['Contact_number']}', {data['Insurance_id']} )\"\"\"\n",
    "    mySQL_db_cursor.execute(sql)\n",
    "mySQL_db_conn.commit()\n"
   ]
  },
  {
   "cell_type": "code",
   "execution_count": 70,
   "id": "7edec7e3-1037-49b3-bd27-92c21bf579bf",
   "metadata": {
    "tags": []
   },
   "outputs": [],
   "source": [
    "# First check if any providers data exists\n",
    "mySQL_db_cursor.execute(f\"SELECT COUNT(*) FROM {db_providers}.{table_providers}\")\n",
    "count = mySQL_db_cursor.fetchone()[0]\n",
    "\n",
    "# If data exists, delete it before inserting\n",
    "if count > 0:\n",
    "    # Temporarily disable foreign key checks to avoid constraint errors\n",
    "    mySQL_db_cursor.execute(\"SET FOREIGN_KEY_CHECKS=0\")\n",
    "    \n",
    "    # Delete existing data\n",
    "    mySQL_db_cursor.execute(f\"TRUNCATE TABLE {db_providers}.{table_providers}\")\n",
    "    \n",
    "    # Re-enable foreign key checks\n",
    "    mySQL_db_cursor.execute(\"SET FOREIGN_KEY_CHECKS=1\")\n",
    "\n",
    "# Now insert providers' data\n",
    "for data in data_providers:\n",
    "    sql = f\"\"\"\n",
    "        INSERT INTO {db_providers}.{table_providers} \n",
    "        (Insurance_id, Provider_name, Coverage_type, Contact_email) \n",
    "        VALUES ({data['Insurance_id']}, '{data['Provider_name']}', '{data['Coverage_type']}', \n",
    "        '{data['Contact_email']}')\"\"\"\n",
    "    mySQL_db_cursor.execute(sql)\n",
    "\n",
    "mySQL_db_conn.commit()"
   ]
  },
  {
   "cell_type": "markdown",
   "id": "714660a4",
   "metadata": {
    "tags": []
   },
   "source": [
    "#### Verify our database connection works and we can retrieve records from our table."
   ]
  },
  {
   "cell_type": "markdown",
   "id": "6463be31-9a8f-411f-8fa6-3ffb59848407",
   "metadata": {},
   "source": [
    "##### MySQL DB"
   ]
  },
  {
   "cell_type": "code",
   "execution_count": 72,
   "id": "9792a67b-591b-4364-8caa-10ecb3ba70d3",
   "metadata": {
    "tags": []
   },
   "outputs": [
    {
     "name": "stdout",
     "output_type": "stream",
     "text": [
      "(101, 'Blue Shield Health Insurance', 'Medical', 'support@blueshield.com')\n",
      "(102, 'Guardian Dental Care', 'Dental', 'info@guardiandentalcare.com')\n",
      "(103, 'Vision Plus', 'Vision', 'contact@visionplus.org')\n",
      "(104, 'United Health Group', 'Medical', 'service@unitedhealthgroup.com')\n",
      "(105, 'Prestige Life Insurance', 'Life', 'claims@prestigelife.com')\n",
      "(106, 'Medicare Health Solutions', 'Medical', 'medicare@healthsolutions.gov')\n",
      "(107, 'Dental Health Alliance', 'Dental', 'support@dentalhealthalliance.com')\n",
      "(108, 'Clear Vision Insurance', 'Vision', 'help@clearvision.com')\n",
      "(109, 'Family Health Insurance Co.', 'Medical', 'care@familyhealth.com')\n",
      "(110, 'Secure Life & Disability', 'Life', 'info@securelife.com')\n",
      "(111, 'Premier Health Partners', 'Medical', 'contact@premierhealthpartners.org')\n",
      "(112, 'SmileBright Dental Insurance', 'Dental', 'service@smilebright.com')\n",
      "(113, 'OpticalCare Insurance', 'Vision', 'help@opticalcare.com')\n",
      "(114, 'National Health Services', 'Medical', 'inquiries@nationalhealthservices.gov')\n",
      "(115, 'Complete Health Coverage', 'Comprehensive', 'info@completehealthcoverage.com')\n",
      "(116, 'Senior Health Alliance', 'Medical', 'seniors@healthalliance.org')\n",
      "(117, 'Child Health Protection', 'Medical', 'children@healthprotection.org')\n",
      "(118, 'Metro Disability Insurance', 'Disability', 'claims@metrodisability.com')\n",
      "(119, 'Wellness Health Group', 'Medical', 'wellness@healthgroup.com')\n",
      "(120, 'Accident & Emergency Coverage', 'Emergency', 'emergency@accidentcoverage.com')\n"
     ]
    }
   ],
   "source": [
    "mySQL_db_cursor.execute(f\"SELECT * FROM {db_providers}.{table_providers}\")\n",
    "sql_data = mySQL_db_cursor.fetchall()\n",
    "\n",
    "\n",
    "for record in sql_data:\n",
    "    print(record)\n",
    "    "
   ]
  },
  {
   "cell_type": "code",
   "execution_count": 73,
   "id": "4b1c3fd3-aac8-41d4-8790-e7a770e309f9",
   "metadata": {
    "tags": []
   },
   "outputs": [
    {
     "name": "stdout",
     "output_type": "stream",
     "text": [
      "(1001, 'John', 'Smith', datetime.date(1982, 5, 15), 'Male', '555-123-4567', 101)\n",
      "(1002, 'Emily', 'Johnson', datetime.date(1990, 8, 22), 'Female', '555-234-5678', 103)\n",
      "(1003, 'Michael', 'Williams', datetime.date(1975, 11, 10), 'Male', '555-345-6789', 102)\n",
      "(1004, 'Jessica', 'Brown', datetime.date(1988, 3, 30), 'Female', '555-456-7890', 104)\n",
      "(1005, 'David', 'Davis', datetime.date(1965, 9, 18), 'Male', '555-567-8901', 101)\n",
      "(1006, 'Sarah', 'Miller', datetime.date(1992, 12, 5), 'Female', '555-678-9012', 105)\n",
      "(1007, 'James', 'Wilson', datetime.date(1970, 4, 25), 'Male', '555-789-0123', 102)\n",
      "(1008, 'Jennifer', 'Moore', datetime.date(1986, 7, 14), 'Female', '555-890-1234', 103)\n",
      "(1009, 'Robert', 'Taylor', datetime.date(1958, 2, 28), 'Male', '555-901-2345', 104)\n",
      "(1010, 'Lisa', 'Anderson', datetime.date(1979, 10, 11), 'Female', '555-012-3456', 101)\n",
      "(1011, 'Daniel', 'Thomas', datetime.date(1995, 6, 20), 'Male', '555-123-4567', 105)\n",
      "(1012, 'Michelle', 'Jackson', datetime.date(1983, 1, 7), 'Female', '555-234-5678', 102)\n",
      "(1013, 'William', 'White', datetime.date(1968, 8, 15), 'Male', '555-345-6789', 103)\n",
      "(1014, 'Elizabeth', 'Harris', datetime.date(1990, 11, 22), 'Female', '555-456-7890', 104)\n",
      "(1015, 'Christopher', 'Martin', datetime.date(1972, 5, 3), 'Male', '555-567-8901', 101)\n",
      "(1016, 'Amanda', 'Thompson', datetime.date(1989, 9, 28), 'Female', '555-678-9012', 105)\n",
      "(1017, 'Matthew', 'Garcia', datetime.date(1980, 3, 17), 'Male', '555-789-0123', 102)\n",
      "(1018, 'Ashley', 'Martinez', datetime.date(1993, 12, 10), 'Female', '555-890-1234', 103)\n",
      "(1019, 'Kevin', 'Robinson', datetime.date(1977, 2, 21), 'Male', '555-901-2345', 104)\n",
      "(1020, 'Stephanie', 'Clark', datetime.date(1987, 7, 4), 'Female', '555-012-3456', 101)\n"
     ]
    }
   ],
   "source": [
    "mySQL_db_cursor.execute(f\"SELECT * FROM {db_patients}.{table_patients}\")\n",
    "sql_data = mySQL_db_cursor.fetchall()\n",
    "\n",
    "\n",
    "for record in sql_data:\n",
    "    print(record)\n"
   ]
  },
  {
   "cell_type": "markdown",
   "id": "8bd5c40f-5e79-4b0a-9c0a-fa16b8195b6b",
   "metadata": {
    "tags": []
   },
   "source": [
    "### Step 3 Cleanup Resources"
   ]
  },
  {
   "cell_type": "code",
   "execution_count": 17,
   "id": "1b500a5c-16cc-4d23-9d06-8666928daa6d",
   "metadata": {
    "tags": []
   },
   "outputs": [
    {
     "name": "stdout",
     "output_type": "stream",
     "text": [
      "CPU times: user 1.77 ms, sys: 211 μs, total: 1.99 ms\n",
      "Wall time: 2.53 ms\n"
     ]
    }
   ],
   "source": [
    "%%time\n",
    "# Cleanup Cursor and connection objects.\n",
    "mySQL_db_cursor.close()\n",
    "mySQL_db_conn.close()\n"
   ]
  },
  {
   "cell_type": "markdown",
   "id": "8015474d-4387-447d-97a9-e4ae662d49d4",
   "metadata": {},
   "source": [
    "#### Thank you!\n",
    "In this part we have set up the database. Now you can navigate to the llama3-2-text2sql notebook to continue with the example."
   ]
  }
 ],
 "metadata": {
  "availableInstances": [
   {
    "_defaultOrder": 0,
    "_isFastLaunch": true,
    "category": "General purpose",
    "gpuNum": 0,
    "hideHardwareSpecs": false,
    "memoryGiB": 4,
    "name": "ml.t3.medium",
    "vcpuNum": 2
   },
   {
    "_defaultOrder": 1,
    "_isFastLaunch": false,
    "category": "General purpose",
    "gpuNum": 0,
    "hideHardwareSpecs": false,
    "memoryGiB": 8,
    "name": "ml.t3.large",
    "vcpuNum": 2
   },
   {
    "_defaultOrder": 2,
    "_isFastLaunch": false,
    "category": "General purpose",
    "gpuNum": 0,
    "hideHardwareSpecs": false,
    "memoryGiB": 16,
    "name": "ml.t3.xlarge",
    "vcpuNum": 4
   },
   {
    "_defaultOrder": 3,
    "_isFastLaunch": false,
    "category": "General purpose",
    "gpuNum": 0,
    "hideHardwareSpecs": false,
    "memoryGiB": 32,
    "name": "ml.t3.2xlarge",
    "vcpuNum": 8
   },
   {
    "_defaultOrder": 4,
    "_isFastLaunch": true,
    "category": "General purpose",
    "gpuNum": 0,
    "hideHardwareSpecs": false,
    "memoryGiB": 8,
    "name": "ml.m5.large",
    "vcpuNum": 2
   },
   {
    "_defaultOrder": 5,
    "_isFastLaunch": false,
    "category": "General purpose",
    "gpuNum": 0,
    "hideHardwareSpecs": false,
    "memoryGiB": 16,
    "name": "ml.m5.xlarge",
    "vcpuNum": 4
   },
   {
    "_defaultOrder": 6,
    "_isFastLaunch": false,
    "category": "General purpose",
    "gpuNum": 0,
    "hideHardwareSpecs": false,
    "memoryGiB": 32,
    "name": "ml.m5.2xlarge",
    "vcpuNum": 8
   },
   {
    "_defaultOrder": 7,
    "_isFastLaunch": false,
    "category": "General purpose",
    "gpuNum": 0,
    "hideHardwareSpecs": false,
    "memoryGiB": 64,
    "name": "ml.m5.4xlarge",
    "vcpuNum": 16
   },
   {
    "_defaultOrder": 8,
    "_isFastLaunch": false,
    "category": "General purpose",
    "gpuNum": 0,
    "hideHardwareSpecs": false,
    "memoryGiB": 128,
    "name": "ml.m5.8xlarge",
    "vcpuNum": 32
   },
   {
    "_defaultOrder": 9,
    "_isFastLaunch": false,
    "category": "General purpose",
    "gpuNum": 0,
    "hideHardwareSpecs": false,
    "memoryGiB": 192,
    "name": "ml.m5.12xlarge",
    "vcpuNum": 48
   },
   {
    "_defaultOrder": 10,
    "_isFastLaunch": false,
    "category": "General purpose",
    "gpuNum": 0,
    "hideHardwareSpecs": false,
    "memoryGiB": 256,
    "name": "ml.m5.16xlarge",
    "vcpuNum": 64
   },
   {
    "_defaultOrder": 11,
    "_isFastLaunch": false,
    "category": "General purpose",
    "gpuNum": 0,
    "hideHardwareSpecs": false,
    "memoryGiB": 384,
    "name": "ml.m5.24xlarge",
    "vcpuNum": 96
   },
   {
    "_defaultOrder": 12,
    "_isFastLaunch": false,
    "category": "General purpose",
    "gpuNum": 0,
    "hideHardwareSpecs": false,
    "memoryGiB": 8,
    "name": "ml.m5d.large",
    "vcpuNum": 2
   },
   {
    "_defaultOrder": 13,
    "_isFastLaunch": false,
    "category": "General purpose",
    "gpuNum": 0,
    "hideHardwareSpecs": false,
    "memoryGiB": 16,
    "name": "ml.m5d.xlarge",
    "vcpuNum": 4
   },
   {
    "_defaultOrder": 14,
    "_isFastLaunch": false,
    "category": "General purpose",
    "gpuNum": 0,
    "hideHardwareSpecs": false,
    "memoryGiB": 32,
    "name": "ml.m5d.2xlarge",
    "vcpuNum": 8
   },
   {
    "_defaultOrder": 15,
    "_isFastLaunch": false,
    "category": "General purpose",
    "gpuNum": 0,
    "hideHardwareSpecs": false,
    "memoryGiB": 64,
    "name": "ml.m5d.4xlarge",
    "vcpuNum": 16
   },
   {
    "_defaultOrder": 16,
    "_isFastLaunch": false,
    "category": "General purpose",
    "gpuNum": 0,
    "hideHardwareSpecs": false,
    "memoryGiB": 128,
    "name": "ml.m5d.8xlarge",
    "vcpuNum": 32
   },
   {
    "_defaultOrder": 17,
    "_isFastLaunch": false,
    "category": "General purpose",
    "gpuNum": 0,
    "hideHardwareSpecs": false,
    "memoryGiB": 192,
    "name": "ml.m5d.12xlarge",
    "vcpuNum": 48
   },
   {
    "_defaultOrder": 18,
    "_isFastLaunch": false,
    "category": "General purpose",
    "gpuNum": 0,
    "hideHardwareSpecs": false,
    "memoryGiB": 256,
    "name": "ml.m5d.16xlarge",
    "vcpuNum": 64
   },
   {
    "_defaultOrder": 19,
    "_isFastLaunch": false,
    "category": "General purpose",
    "gpuNum": 0,
    "hideHardwareSpecs": false,
    "memoryGiB": 384,
    "name": "ml.m5d.24xlarge",
    "vcpuNum": 96
   },
   {
    "_defaultOrder": 20,
    "_isFastLaunch": false,
    "category": "General purpose",
    "gpuNum": 0,
    "hideHardwareSpecs": true,
    "memoryGiB": 0,
    "name": "ml.geospatial.interactive",
    "supportedImageNames": [
     "sagemaker-geospatial-v1-0"
    ],
    "vcpuNum": 0
   },
   {
    "_defaultOrder": 21,
    "_isFastLaunch": true,
    "category": "Compute optimized",
    "gpuNum": 0,
    "hideHardwareSpecs": false,
    "memoryGiB": 4,
    "name": "ml.c5.large",
    "vcpuNum": 2
   },
   {
    "_defaultOrder": 22,
    "_isFastLaunch": false,
    "category": "Compute optimized",
    "gpuNum": 0,
    "hideHardwareSpecs": false,
    "memoryGiB": 8,
    "name": "ml.c5.xlarge",
    "vcpuNum": 4
   },
   {
    "_defaultOrder": 23,
    "_isFastLaunch": false,
    "category": "Compute optimized",
    "gpuNum": 0,
    "hideHardwareSpecs": false,
    "memoryGiB": 16,
    "name": "ml.c5.2xlarge",
    "vcpuNum": 8
   },
   {
    "_defaultOrder": 24,
    "_isFastLaunch": false,
    "category": "Compute optimized",
    "gpuNum": 0,
    "hideHardwareSpecs": false,
    "memoryGiB": 32,
    "name": "ml.c5.4xlarge",
    "vcpuNum": 16
   },
   {
    "_defaultOrder": 25,
    "_isFastLaunch": false,
    "category": "Compute optimized",
    "gpuNum": 0,
    "hideHardwareSpecs": false,
    "memoryGiB": 72,
    "name": "ml.c5.9xlarge",
    "vcpuNum": 36
   },
   {
    "_defaultOrder": 26,
    "_isFastLaunch": false,
    "category": "Compute optimized",
    "gpuNum": 0,
    "hideHardwareSpecs": false,
    "memoryGiB": 96,
    "name": "ml.c5.12xlarge",
    "vcpuNum": 48
   },
   {
    "_defaultOrder": 27,
    "_isFastLaunch": false,
    "category": "Compute optimized",
    "gpuNum": 0,
    "hideHardwareSpecs": false,
    "memoryGiB": 144,
    "name": "ml.c5.18xlarge",
    "vcpuNum": 72
   },
   {
    "_defaultOrder": 28,
    "_isFastLaunch": false,
    "category": "Compute optimized",
    "gpuNum": 0,
    "hideHardwareSpecs": false,
    "memoryGiB": 192,
    "name": "ml.c5.24xlarge",
    "vcpuNum": 96
   },
   {
    "_defaultOrder": 29,
    "_isFastLaunch": true,
    "category": "Accelerated computing",
    "gpuNum": 1,
    "hideHardwareSpecs": false,
    "memoryGiB": 16,
    "name": "ml.g4dn.xlarge",
    "vcpuNum": 4
   },
   {
    "_defaultOrder": 30,
    "_isFastLaunch": false,
    "category": "Accelerated computing",
    "gpuNum": 1,
    "hideHardwareSpecs": false,
    "memoryGiB": 32,
    "name": "ml.g4dn.2xlarge",
    "vcpuNum": 8
   },
   {
    "_defaultOrder": 31,
    "_isFastLaunch": false,
    "category": "Accelerated computing",
    "gpuNum": 1,
    "hideHardwareSpecs": false,
    "memoryGiB": 64,
    "name": "ml.g4dn.4xlarge",
    "vcpuNum": 16
   },
   {
    "_defaultOrder": 32,
    "_isFastLaunch": false,
    "category": "Accelerated computing",
    "gpuNum": 1,
    "hideHardwareSpecs": false,
    "memoryGiB": 128,
    "name": "ml.g4dn.8xlarge",
    "vcpuNum": 32
   },
   {
    "_defaultOrder": 33,
    "_isFastLaunch": false,
    "category": "Accelerated computing",
    "gpuNum": 4,
    "hideHardwareSpecs": false,
    "memoryGiB": 192,
    "name": "ml.g4dn.12xlarge",
    "vcpuNum": 48
   },
   {
    "_defaultOrder": 34,
    "_isFastLaunch": false,
    "category": "Accelerated computing",
    "gpuNum": 1,
    "hideHardwareSpecs": false,
    "memoryGiB": 256,
    "name": "ml.g4dn.16xlarge",
    "vcpuNum": 64
   },
   {
    "_defaultOrder": 35,
    "_isFastLaunch": false,
    "category": "Accelerated computing",
    "gpuNum": 1,
    "hideHardwareSpecs": false,
    "memoryGiB": 61,
    "name": "ml.p3.2xlarge",
    "vcpuNum": 8
   },
   {
    "_defaultOrder": 36,
    "_isFastLaunch": false,
    "category": "Accelerated computing",
    "gpuNum": 4,
    "hideHardwareSpecs": false,
    "memoryGiB": 244,
    "name": "ml.p3.8xlarge",
    "vcpuNum": 32
   },
   {
    "_defaultOrder": 37,
    "_isFastLaunch": false,
    "category": "Accelerated computing",
    "gpuNum": 8,
    "hideHardwareSpecs": false,
    "memoryGiB": 488,
    "name": "ml.p3.16xlarge",
    "vcpuNum": 64
   },
   {
    "_defaultOrder": 38,
    "_isFastLaunch": false,
    "category": "Accelerated computing",
    "gpuNum": 8,
    "hideHardwareSpecs": false,
    "memoryGiB": 768,
    "name": "ml.p3dn.24xlarge",
    "vcpuNum": 96
   },
   {
    "_defaultOrder": 39,
    "_isFastLaunch": false,
    "category": "Memory Optimized",
    "gpuNum": 0,
    "hideHardwareSpecs": false,
    "memoryGiB": 16,
    "name": "ml.r5.large",
    "vcpuNum": 2
   },
   {
    "_defaultOrder": 40,
    "_isFastLaunch": false,
    "category": "Memory Optimized",
    "gpuNum": 0,
    "hideHardwareSpecs": false,
    "memoryGiB": 32,
    "name": "ml.r5.xlarge",
    "vcpuNum": 4
   },
   {
    "_defaultOrder": 41,
    "_isFastLaunch": false,
    "category": "Memory Optimized",
    "gpuNum": 0,
    "hideHardwareSpecs": false,
    "memoryGiB": 64,
    "name": "ml.r5.2xlarge",
    "vcpuNum": 8
   },
   {
    "_defaultOrder": 42,
    "_isFastLaunch": false,
    "category": "Memory Optimized",
    "gpuNum": 0,
    "hideHardwareSpecs": false,
    "memoryGiB": 128,
    "name": "ml.r5.4xlarge",
    "vcpuNum": 16
   },
   {
    "_defaultOrder": 43,
    "_isFastLaunch": false,
    "category": "Memory Optimized",
    "gpuNum": 0,
    "hideHardwareSpecs": false,
    "memoryGiB": 256,
    "name": "ml.r5.8xlarge",
    "vcpuNum": 32
   },
   {
    "_defaultOrder": 44,
    "_isFastLaunch": false,
    "category": "Memory Optimized",
    "gpuNum": 0,
    "hideHardwareSpecs": false,
    "memoryGiB": 384,
    "name": "ml.r5.12xlarge",
    "vcpuNum": 48
   },
   {
    "_defaultOrder": 45,
    "_isFastLaunch": false,
    "category": "Memory Optimized",
    "gpuNum": 0,
    "hideHardwareSpecs": false,
    "memoryGiB": 512,
    "name": "ml.r5.16xlarge",
    "vcpuNum": 64
   },
   {
    "_defaultOrder": 46,
    "_isFastLaunch": false,
    "category": "Memory Optimized",
    "gpuNum": 0,
    "hideHardwareSpecs": false,
    "memoryGiB": 768,
    "name": "ml.r5.24xlarge",
    "vcpuNum": 96
   },
   {
    "_defaultOrder": 47,
    "_isFastLaunch": false,
    "category": "Accelerated computing",
    "gpuNum": 1,
    "hideHardwareSpecs": false,
    "memoryGiB": 16,
    "name": "ml.g5.xlarge",
    "vcpuNum": 4
   },
   {
    "_defaultOrder": 48,
    "_isFastLaunch": false,
    "category": "Accelerated computing",
    "gpuNum": 1,
    "hideHardwareSpecs": false,
    "memoryGiB": 32,
    "name": "ml.g5.2xlarge",
    "vcpuNum": 8
   },
   {
    "_defaultOrder": 49,
    "_isFastLaunch": false,
    "category": "Accelerated computing",
    "gpuNum": 1,
    "hideHardwareSpecs": false,
    "memoryGiB": 64,
    "name": "ml.g5.4xlarge",
    "vcpuNum": 16
   },
   {
    "_defaultOrder": 50,
    "_isFastLaunch": false,
    "category": "Accelerated computing",
    "gpuNum": 1,
    "hideHardwareSpecs": false,
    "memoryGiB": 128,
    "name": "ml.g5.8xlarge",
    "vcpuNum": 32
   },
   {
    "_defaultOrder": 51,
    "_isFastLaunch": false,
    "category": "Accelerated computing",
    "gpuNum": 1,
    "hideHardwareSpecs": false,
    "memoryGiB": 256,
    "name": "ml.g5.16xlarge",
    "vcpuNum": 64
   },
   {
    "_defaultOrder": 52,
    "_isFastLaunch": false,
    "category": "Accelerated computing",
    "gpuNum": 4,
    "hideHardwareSpecs": false,
    "memoryGiB": 192,
    "name": "ml.g5.12xlarge",
    "vcpuNum": 48
   },
   {
    "_defaultOrder": 53,
    "_isFastLaunch": false,
    "category": "Accelerated computing",
    "gpuNum": 4,
    "hideHardwareSpecs": false,
    "memoryGiB": 384,
    "name": "ml.g5.24xlarge",
    "vcpuNum": 96
   },
   {
    "_defaultOrder": 54,
    "_isFastLaunch": false,
    "category": "Accelerated computing",
    "gpuNum": 8,
    "hideHardwareSpecs": false,
    "memoryGiB": 768,
    "name": "ml.g5.48xlarge",
    "vcpuNum": 192
   },
   {
    "_defaultOrder": 55,
    "_isFastLaunch": false,
    "category": "Accelerated computing",
    "gpuNum": 8,
    "hideHardwareSpecs": false,
    "memoryGiB": 1152,
    "name": "ml.p4d.24xlarge",
    "vcpuNum": 96
   },
   {
    "_defaultOrder": 56,
    "_isFastLaunch": false,
    "category": "Accelerated computing",
    "gpuNum": 8,
    "hideHardwareSpecs": false,
    "memoryGiB": 1152,
    "name": "ml.p4de.24xlarge",
    "vcpuNum": 96
   }
  ],
  "instance_type": "ml.t3.medium",
  "kernelspec": {
   "display_name": "conda_python3",
   "language": "python",
   "name": "conda_python3"
  },
  "language_info": {
   "codemirror_mode": {
    "name": "ipython",
    "version": 3
   },
   "file_extension": ".py",
   "mimetype": "text/x-python",
   "name": "python",
   "nbconvert_exporter": "python",
   "pygments_lexer": "ipython3",
   "version": "3.10.16"
  }
 },
 "nbformat": 4,
 "nbformat_minor": 5
}
