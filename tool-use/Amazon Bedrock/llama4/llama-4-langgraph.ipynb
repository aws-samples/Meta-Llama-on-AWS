{
 "cells": [
  {
   "cell_type": "code",
   "execution_count": 1,
   "id": "42f1b356-eab9-4bd6-881d-47d59384710e",
   "metadata": {},
   "outputs": [
    {
     "name": "stdout",
     "output_type": "stream",
     "text": [
      "Requirement already satisfied: langchain in /opt/conda/lib/python3.11/site-packages (0.2.5)\n",
      "Collecting langgraph\n",
      "  Downloading langgraph-0.4.1-py3-none-any.whl.metadata (7.9 kB)\n",
      "Requirement already satisfied: PyYAML>=5.3 in /opt/conda/lib/python3.11/site-packages (from langchain) (6.0.2)\n",
      "Requirement already satisfied: SQLAlchemy<3,>=1.4 in /opt/conda/lib/python3.11/site-packages (from langchain) (2.0.30)\n",
      "Requirement already satisfied: aiohttp<4.0.0,>=3.8.3 in /opt/conda/lib/python3.11/site-packages (from langchain) (3.9.5)\n",
      "Requirement already satisfied: langchain-core<0.3.0,>=0.2.7 in /opt/conda/lib/python3.11/site-packages (from langchain) (0.2.33)\n",
      "Requirement already satisfied: langchain-text-splitters<0.3.0,>=0.2.0 in /opt/conda/lib/python3.11/site-packages (from langchain) (0.2.2)\n",
      "Requirement already satisfied: langsmith<0.2.0,>=0.1.17 in /opt/conda/lib/python3.11/site-packages (from langchain) (0.1.99)\n",
      "Requirement already satisfied: numpy<2,>=1 in /opt/conda/lib/python3.11/site-packages (from langchain) (1.26.4)\n",
      "Requirement already satisfied: pydantic<3,>=1 in /opt/conda/lib/python3.11/site-packages (from langchain) (2.11.3)\n",
      "Requirement already satisfied: requests<3,>=2 in /opt/conda/lib/python3.11/site-packages (from langchain) (2.32.3)\n",
      "Requirement already satisfied: tenacity<9.0.0,>=8.1.0 in /opt/conda/lib/python3.11/site-packages (from langchain) (8.5.0)\n",
      "Requirement already satisfied: aiosignal>=1.1.2 in /opt/conda/lib/python3.11/site-packages (from aiohttp<4.0.0,>=3.8.3->langchain) (1.3.1)\n",
      "Requirement already satisfied: attrs>=17.3.0 in /opt/conda/lib/python3.11/site-packages (from aiohttp<4.0.0,>=3.8.3->langchain) (23.2.0)\n",
      "Requirement already satisfied: frozenlist>=1.1.1 in /opt/conda/lib/python3.11/site-packages (from aiohttp<4.0.0,>=3.8.3->langchain) (1.4.1)\n",
      "Requirement already satisfied: multidict<7.0,>=4.5 in /opt/conda/lib/python3.11/site-packages (from aiohttp<4.0.0,>=3.8.3->langchain) (6.0.5)\n",
      "Requirement already satisfied: yarl<2.0,>=1.0 in /opt/conda/lib/python3.11/site-packages (from aiohttp<4.0.0,>=3.8.3->langchain) (1.9.4)\n",
      "Requirement already satisfied: jsonpatch<2.0,>=1.33 in /opt/conda/lib/python3.11/site-packages (from langchain-core<0.3.0,>=0.2.7->langchain) (1.33)\n",
      "Requirement already satisfied: packaging<25,>=23.2 in /opt/conda/lib/python3.11/site-packages (from langchain-core<0.3.0,>=0.2.7->langchain) (24.1)\n",
      "Requirement already satisfied: typing-extensions>=4.7 in /opt/conda/lib/python3.11/site-packages (from langchain-core<0.3.0,>=0.2.7->langchain) (4.13.2)\n",
      "Requirement already satisfied: jsonpointer>=1.9 in /opt/conda/lib/python3.11/site-packages (from jsonpatch<2.0,>=1.33->langchain-core<0.3.0,>=0.2.7->langchain) (3.0.0)\n",
      "Requirement already satisfied: orjson<4.0.0,>=3.9.14 in /opt/conda/lib/python3.11/site-packages (from langsmith<0.2.0,>=0.1.17->langchain) (3.10.7)\n",
      "Requirement already satisfied: annotated-types>=0.6.0 in /opt/conda/lib/python3.11/site-packages (from pydantic<3,>=1->langchain) (0.7.0)\n",
      "Requirement already satisfied: pydantic-core==2.33.1 in /opt/conda/lib/python3.11/site-packages (from pydantic<3,>=1->langchain) (2.33.1)\n",
      "Requirement already satisfied: typing-inspection>=0.4.0 in /opt/conda/lib/python3.11/site-packages (from pydantic<3,>=1->langchain) (0.4.0)\n",
      "Requirement already satisfied: charset-normalizer<4,>=2 in /opt/conda/lib/python3.11/site-packages (from requests<3,>=2->langchain) (3.3.2)\n",
      "Requirement already satisfied: idna<4,>=2.5 in /opt/conda/lib/python3.11/site-packages (from requests<3,>=2->langchain) (3.7)\n",
      "Requirement already satisfied: urllib3<3,>=1.21.1 in /opt/conda/lib/python3.11/site-packages (from requests<3,>=2->langchain) (1.26.19)\n",
      "Requirement already satisfied: certifi>=2017.4.17 in /opt/conda/lib/python3.11/site-packages (from requests<3,>=2->langchain) (2024.7.4)\n",
      "Requirement already satisfied: greenlet!=0.4.17 in /opt/conda/lib/python3.11/site-packages (from SQLAlchemy<3,>=1.4->langchain) (3.0.3)\n",
      "Collecting langgraph-checkpoint<3.0.0,>=2.0.10 (from langgraph)\n",
      "  Downloading langgraph_checkpoint-2.0.25-py3-none-any.whl.metadata (4.6 kB)\n",
      "Collecting langgraph-prebuilt>=0.1.8 (from langgraph)\n",
      "  Downloading langgraph_prebuilt-0.1.8-py3-none-any.whl.metadata (5.0 kB)\n",
      "Collecting langgraph-sdk>=0.1.42 (from langgraph)\n",
      "  Downloading langgraph_sdk-0.1.66-py3-none-any.whl.metadata (1.8 kB)\n",
      "Requirement already satisfied: xxhash<4.0.0,>=3.5.0 in /opt/conda/lib/python3.11/site-packages (from langgraph) (3.5.0)\n",
      "Collecting langchain-core<0.3.0,>=0.2.7 (from langchain)\n",
      "  Downloading langchain_core-0.2.43-py3-none-any.whl.metadata (6.2 kB)\n",
      "Collecting ormsgpack<2.0.0,>=1.8.0 (from langgraph-checkpoint<3.0.0,>=2.0.10->langgraph)\n",
      "  Downloading ormsgpack-1.9.1-cp311-cp311-manylinux_2_17_x86_64.manylinux2014_x86_64.whl.metadata (43 kB)\n",
      "Collecting langsmith<0.2.0,>=0.1.17 (from langchain)\n",
      "  Downloading langsmith-0.1.147-py3-none-any.whl.metadata (14 kB)\n",
      "Requirement already satisfied: httpx<1,>=0.23.0 in /opt/conda/lib/python3.11/site-packages (from langsmith<0.2.0,>=0.1.17->langchain) (0.25.2)\n",
      "Collecting requests-toolbelt<2.0.0,>=1.0.0 (from langsmith<0.2.0,>=0.1.17->langchain)\n",
      "  Downloading requests_toolbelt-1.0.0-py2.py3-none-any.whl.metadata (14 kB)\n",
      "Requirement already satisfied: anyio in /opt/conda/lib/python3.11/site-packages (from httpx<1,>=0.23.0->langsmith<0.2.0,>=0.1.17->langchain) (4.4.0)\n",
      "Requirement already satisfied: httpcore==1.* in /opt/conda/lib/python3.11/site-packages (from httpx<1,>=0.23.0->langsmith<0.2.0,>=0.1.17->langchain) (1.0.5)\n",
      "Requirement already satisfied: sniffio in /opt/conda/lib/python3.11/site-packages (from httpx<1,>=0.23.0->langsmith<0.2.0,>=0.1.17->langchain) (1.3.1)\n",
      "Requirement already satisfied: h11<0.15,>=0.13 in /opt/conda/lib/python3.11/site-packages (from httpcore==1.*->httpx<1,>=0.23.0->langsmith<0.2.0,>=0.1.17->langchain) (0.14.0)\n",
      "Downloading langgraph-0.4.1-py3-none-any.whl (151 kB)\n",
      "Downloading langgraph_checkpoint-2.0.25-py3-none-any.whl (42 kB)\n",
      "Downloading langchain_core-0.2.43-py3-none-any.whl (397 kB)\n",
      "Downloading langsmith-0.1.147-py3-none-any.whl (311 kB)\n",
      "Downloading ormsgpack-1.9.1-cp311-cp311-manylinux_2_17_x86_64.manylinux2014_x86_64.whl (223 kB)\n",
      "Downloading requests_toolbelt-1.0.0-py2.py3-none-any.whl (54 kB)\n",
      "Downloading langgraph_prebuilt-0.1.8-py3-none-any.whl (25 kB)\n",
      "Downloading langgraph_sdk-0.1.66-py3-none-any.whl (47 kB)\n",
      "Installing collected packages: ormsgpack, requests-toolbelt, langsmith, langgraph-sdk, langchain-core, langgraph-checkpoint, langgraph-prebuilt, langgraph\n",
      "\u001b[2K  Attempting uninstall: langsmith\n",
      "\u001b[2K    Found existing installation: langsmith 0.1.99\n",
      "\u001b[2K    Uninstalling langsmith-0.1.99:\n",
      "\u001b[2K      Successfully uninstalled langsmith-0.1.99\n",
      "\u001b[2K  Attempting uninstall: langchain-core[90m━━━━━━━━━━━━━━━━━━━━━━━━\u001b[0m \u001b[32m3/8\u001b[0m [langgraph-sdk]\n",
      "\u001b[2K    Found existing installation: langchain-core 0.2.33━━━━━━━━\u001b[0m \u001b[32m3/8\u001b[0m [langgraph-sdk]\n",
      "\u001b[2K    Uninstalling langchain-core-0.2.33:━━━━━━━━━━━━━━━━━━━━━━━\u001b[0m \u001b[32m3/8\u001b[0m [langgraph-sdk]\n",
      "\u001b[2K      Successfully uninstalled langchain-core-0.2.33━━━━━━━━━━\u001b[0m \u001b[32m3/8\u001b[0m [langgraph-sdk]\n",
      "\u001b[2K   \u001b[90m━━━━━━━━━━━━━━━━━━━━━━━━━━━━━━━━━━━━━━━━\u001b[0m \u001b[32m8/8\u001b[0m [langgraph]/8\u001b[0m [langgraph]checkpoint]\n",
      "\u001b[1A\u001b[2K\u001b[31mERROR: pip's dependency resolver does not currently take into account all the packages that are installed. This behaviour is the source of the following dependency conflicts.\n",
      "langchain-aws 0.1.16 requires boto3<1.35.0,>=1.34.131, but you have boto3 1.38.5 which is incompatible.\n",
      "langchain-community 0.2.12 requires langchain<0.3.0,>=0.2.13, but you have langchain 0.2.5 which is incompatible.\u001b[0m\u001b[31m\n",
      "\u001b[0mSuccessfully installed langchain-core-0.2.43 langgraph-0.4.1 langgraph-checkpoint-2.0.25 langgraph-prebuilt-0.1.8 langgraph-sdk-0.1.66 langsmith-0.1.147 ormsgpack-1.9.1 requests-toolbelt-1.0.0\n"
     ]
    }
   ],
   "source": [
    "!pip install langchain langgraph"
   ]
  },
  {
   "cell_type": "code",
   "execution_count": 9,
   "id": "110fbfc0-9fa7-4ffc-8e02-13810fac21c8",
   "metadata": {},
   "outputs": [],
   "source": [
    "import os\n",
    "from dotenv import load_dotenv\n",
    "from langchain_aws import ChatBedrock, ChatBedrockConverse\n",
    "from langgraph.checkpoint.memory import MemorySaver\n",
    "from langchain_core.tools import tool\n",
    "from langgraph.prebuilt import create_react_agent\n",
    "from langchain_core.messages import HumanMessage, SystemMessage\n",
    "from botocore.config import Config\n",
    "import boto3\n",
    "import ipywidgets as widgets"
   ]
  },
  {
   "cell_type": "code",
   "execution_count": 10,
   "id": "2fdcd262-ea2d-4bca-bcdc-3003da858296",
   "metadata": {},
   "outputs": [],
   "source": [
    "# Load environment variables\n",
    "load_dotenv()\n",
    "aws_region = os.getenv(\"AWS_REGION\")\n",
    "\n",
    "# Set bedrock configs\n",
    "bedrock_config = Config(\n",
    "    connect_timeout=120, read_timeout=120, retries={\"max_attempts\": 0}\n",
    ")\n",
    "\n",
    "# Create a bedrock runtime client in your aws region.\n",
    "# If you do not have the AWS CLI profile setup, you can authenticate with aws access key, secret and session token.\n",
    "# For more details check https://docs.aws.amazon.com/cli/v1/userguide/cli-authentication-short-term.html\n",
    "bedrock_rt = boto3.client(\n",
    "    \"bedrock-runtime\",\n",
    "    region_name=aws_region,\n",
    "    config=bedrock_config,\n",
    ")\n"
   ]
  },
  {
   "cell_type": "code",
   "execution_count": 11,
   "id": "6218dcaa-8160-428b-a9f7-ffde1b8716e5",
   "metadata": {},
   "outputs": [
    {
     "data": {
      "application/vnd.jupyter.widget-view+json": {
       "model_id": "c9f731b097944c5eb783096348582a6d",
       "version_major": 2,
       "version_minor": 0
      },
      "text/plain": [
       "Dropdown(description='Select model:', options=('us.meta.llama4-maverick-17b-instruct-v1:0', 'us.meta.llama4-sc…"
      ]
     },
     "execution_count": 11,
     "metadata": {},
     "output_type": "execute_result"
    }
   ],
   "source": [
    "model_selection = widgets.Dropdown(\n",
    "    options=[\n",
    "        'us.meta.llama4-maverick-17b-instruct-v1:0',\n",
    "        'us.meta.llama4-scout-17b-instruct-v1:0'\n",
    "    ],\n",
    "    value='us.meta.llama4-maverick-17b-instruct-v1:0',\n",
    "    description='Select model:',\n",
    "    disabled=False,\n",
    ")\n",
    "model_selection"
   ]
  },
  {
   "cell_type": "code",
   "execution_count": 12,
   "id": "a2689852-9098-4e56-b014-5d9e6f42ea5e",
   "metadata": {},
   "outputs": [],
   "source": [
    "model_id = model_selection.value\n",
    "model_kwargs={\n",
    "        \"temperature\": 0,\n",
    "        \"top_p\": 0.9,\n",
    "        \"max_tokens\": 1024\n",
    "    }\n",
    "llm = ChatBedrockConverse(\n",
    "    model=model_id,\n",
    "    **model_kwargs\n",
    ")"
   ]
  },
  {
   "cell_type": "code",
   "execution_count": 13,
   "id": "ef1ed54f-da1d-4b50-8760-771b3afa30f0",
   "metadata": {},
   "outputs": [],
   "source": [
    "# Setup memory\n",
    "memory = MemorySaver()\n",
    "\n",
    "# Define a simple tool for testing\n",
    "@tool\n",
    "def calculator(expression: str) -> str:\n",
    "    \"\"\"Calculate the result of a mathematical expression.\n",
    "    \n",
    "    Args:\n",
    "        expression: The mathematical expression to calculate\n",
    "    \"\"\"\n",
    "    print(f\"CALCULATOR TOOL CALLED with: {expression}\")\n",
    "    try:\n",
    "        result = eval(expression)\n",
    "        return f\"The result of {expression} is {result}\"\n",
    "    except Exception as e:\n",
    "        return f\"Error calculating {expression}: {str(e)}\""
   ]
  },
  {
   "cell_type": "code",
   "execution_count": 14,
   "id": "8d7871f2-d217-45df-9632-e2f65775ba65",
   "metadata": {},
   "outputs": [],
   "source": [
    "system_message = SystemMessage(content=\"\"\"You are a helpful assistant that always uses tools when they are available.\n",
    "When asked a question that requires calculation, ALWAYS use the calculator tool instead of doing the calculation yourself.\n",
    "NEVER try to solve math problems directly - ALWAYS use the calculator tool.\"\"\")"
   ]
  },
  {
   "cell_type": "code",
   "execution_count": 15,
   "id": "5b48fbf7-41ad-4bee-949f-bb6a0983e6c6",
   "metadata": {},
   "outputs": [],
   "source": [
    "tools = [calculator]\n",
    "graph = create_react_agent(\n",
    "    llm, \n",
    "    tools=tools,\n",
    "    checkpointer=memory,\n",
    "    prompt=system_message\n",
    ")"
   ]
  },
  {
   "cell_type": "code",
   "execution_count": 16,
   "id": "8a137a53-e0c1-4185-bafc-c48f6cf53eb8",
   "metadata": {},
   "outputs": [
    {
     "name": "stdout",
     "output_type": "stream",
     "text": [
      "Starting agent execution with Llama + system message...\n",
      "================================\u001b[1m Human Message \u001b[0m=================================\n",
      "\n",
      "What is 25 * 32?\n",
      "==================================\u001b[1m Ai Message \u001b[0m==================================\n",
      "\n",
      "[{'type': 'tool_use', 'name': 'calculator', 'input': {'expression': '25 * 32'}, 'id': 'tooluse_FhizmiwqRtiKjgNKCN6rPA'}]\n",
      "Tool Calls:\n",
      "  calculator (tooluse_FhizmiwqRtiKjgNKCN6rPA)\n",
      " Call ID: tooluse_FhizmiwqRtiKjgNKCN6rPA\n",
      "  Args:\n",
      "    expression: 25 * 32\n",
      "CALCULATOR TOOL CALLED with: 25 * 32\n",
      "=================================\u001b[1m Tool Message \u001b[0m=================================\n",
      "Name: calculator\n",
      "\n",
      "The result of 25 * 32 is 800\n",
      "==================================\u001b[1m Ai Message \u001b[0m==================================\n",
      "\n",
      "[{'type': 'tool_use', 'name': 'calculator', 'input': {'expression': '25 * 32'}, 'id': 'tooluse_wNPfM4W-TJuI8tlISDtEOQ'}]\n",
      "Tool Calls:\n",
      "  calculator (tooluse_wNPfM4W-TJuI8tlISDtEOQ)\n",
      " Call ID: tooluse_wNPfM4W-TJuI8tlISDtEOQ\n",
      "  Args:\n",
      "    expression: 25 * 32\n",
      "CALCULATOR TOOL CALLED with: 25 * 32\n",
      "=================================\u001b[1m Tool Message \u001b[0m=================================\n",
      "Name: calculator\n",
      "\n",
      "The result of 25 * 32 is 800\n",
      "==================================\u001b[1m Ai Message \u001b[0m==================================\n",
      "\n",
      "<|python_start|>{\"name\": \"calculator\", \"parameters\": {\"expression\": \"25 * 32\"}}<|python_end|>\n"
     ]
    }
   ],
   "source": [
    "\n",
    "# Test the agent\n",
    "inputs = {\"messages\": [HumanMessage(content=\"What is 25 * 32?\")]}\n",
    "config = {\"configurable\": {\"thread_id\": \"test_thread\"}}\n",
    "\n",
    "# Run the agent and print the response\n",
    "print(\"Starting agent execution with Llama + system message...\")\n",
    "for s in graph.stream(inputs, config, stream_mode=\"values\"):\n",
    "    message = s[\"messages\"][-1]\n",
    "    if hasattr(message, \"pretty_print\"):\n",
    "        message.pretty_print()\n",
    "    else:\n",
    "        print(message)"
   ]
  },
  {
   "cell_type": "code",
   "execution_count": null,
   "id": "3d498139-df05-42b9-8e64-fcedc93b4da6",
   "metadata": {},
   "outputs": [],
   "source": []
  }
 ],
 "metadata": {
  "kernelspec": {
   "display_name": "Python 3 (ipykernel)",
   "language": "python",
   "name": "python3"
  },
  "language_info": {
   "codemirror_mode": {
    "name": "ipython",
    "version": 3
   },
   "file_extension": ".py",
   "mimetype": "text/x-python",
   "name": "python",
   "nbconvert_exporter": "python",
   "pygments_lexer": "ipython3",
   "version": "3.11.9"
  }
 },
 "nbformat": 4,
 "nbformat_minor": 5
}
