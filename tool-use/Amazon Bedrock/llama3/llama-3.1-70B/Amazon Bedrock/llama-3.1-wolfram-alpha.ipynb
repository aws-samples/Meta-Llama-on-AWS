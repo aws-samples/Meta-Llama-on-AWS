{
 "cells": [
  {
   "cell_type": "markdown",
   "metadata": {},
   "source": [
    "# **Function Calling with Llama 3.1 Models**\n",
    "Welcome to this notebook exploring function calling capabilities with Meta's Llama 3.1 models. Llama 3.1, the latest iteration in the Llama family, introduces native support for function calling, marking a significant advancement in the model's capabilities and potential applications.\n",
    "\n",
    "![Llamas](imgs/llama-pic.jpeg)\n",
    "\n",
    "### **What's New in Llama 3.1?**\n",
    "Llama 3.1 brings several exciting improvements:\n",
    "- Native Function Calling: Built-in support for generating structured JSON outputs that can be used with various APIs.\n",
    "- Multilingual Support: Expanded language understanding across 8 languages, including English, French, German, Hindi, Italian Portuguese, Spanish, and Thai.\n",
    "- Improved Performance: Benchmarking in the GPT-4+ class, competitive with both GPT-4 and Claude 3.5 Sonnet.\n",
    "- Increased Context Window: The 8B and 70B models now support a 128,000 token context.\n",
    "\n",
    "### **Function Calling Overview**\n",
    "Function calling, also known as tool use, allows Llama 3.1 to interact with external tools or APIs by generating structured outputs. This capability enables more complex, multi-step interactions between the model and available tools, enhancing its problem-solving abilities and practical applications.\n",
    "\n",
    "### **Amazon Bedrock**\n",
    "![bedrock](imgs/bedrock-img.png)\n",
    "\n",
    "Amazon Bedrock is a fully managed service that provides access to a wide range of powerful foundation models (FMs) through a unified API. It offers models from leading AI companies like Mistral, Anthropic, AI21 Labs, Cohere, Stability AI, and Amazon's own Titan models.\n",
    "\n",
    "- **Unified API**: Bedrock provides a single API endpoint to access different models, simplifying integration and allowing developers to experiment with or switch between models with minimal code changes.\n",
    "- **Serverless and Fully Managed**: As a fully managed service, Bedrock eliminates the need for users to handle infrastructure management, making it easier to build and deploy generative AI applications.\n",
    "- **Model Customization**: Users can customize models with their own data using techniques such as fine-tuning and Retrieval Augmented Generation (RAG).\n",
    "- **Security and Privacy**: Bedrock offers built-in security features, ensuring data privacy and compliance with various standards. It follows best practices like encrypting all data and preventing third parties from accessing user data.\n",
    "- **Agents for Complex Tasks**: Bedrock allows the creation of agents that can plan and execute multi-step tasks using enterprise systems and data sources.\n",
    "- **Integration with AWS Services**: Bedrock can be easily integrated with other AWS services and existing applications.\n",
    "- **Model Evaluation**: A new capability that helps customers assess, compare, and select the best model for their application.\n",
    "- **Guardrails**: Bedrock provides tools to implement safeguards tailored to application needs and aligned with responsible AI policies.\n",
    "- **Custom Model Import**: A new feature that allows customers to import and access their own custom models as a fully managed API in Bedrock.\n",
    "- **Playground Environment**: Bedrock offers Playgrounds (text, chat, and image) to compare models and experiment with different options"
   ]
  },
  {
   "cell_type": "markdown",
   "metadata": {},
   "source": [
    "## Agentic workflow"
   ]
  },
  {
   "cell_type": "markdown",
   "metadata": {},
   "source": [
    "Wolfram Alpha API is free (for non-commercial usage) that brings expert-level knowledge and capabilities to the broadest possible range of people—spanning all professions and education levels. In order to send request to the API, we need to create an account and get the API key (App ID).\n",
    "\n",
    "1) To get API key we will first create Wolfram ID at [Create an Account](https://account.wolfram.com/login/create). \n",
    "2) After the account is created, you can navigate to the [Developer Portal](https://developer.wolframalpha.com/access) and generate an API Key. After that you will be presented with an App ID, which you will use for this notebook."
   ]
  },
  {
   "cell_type": "markdown",
   "metadata": {},
   "source": [
    "In this notebook, we showcase a few examples that demonstrate function calling using the Converse API. These examples illustrate how customers can execute API calls for various use cases, including text generation, mathematical reasoning, and image generation"
   ]
  },
  {
   "cell_type": "code",
   "execution_count": null,
   "metadata": {
    "tags": []
   },
   "outputs": [],
   "source": [
    "%pip install boto3==1.35.11 colorama==0.4.6 --quiet "
   ]
  },
  {
   "cell_type": "markdown",
   "metadata": {},
   "source": [
    "## Building an agentic workflow\n",
    "\n",
    "### 1. Defining a Wolfram Alpha function\n",
    "\n",
    "Before we start working with LLama models on Bedrock, let's write a simple code snippet to query Wolfram Alpha.  The following function uses the `urllib` package to send api requests for matching queries on Wolfram Alpha Platform based on a search term."
   ]
  },
  {
   "cell_type": "code",
   "execution_count": 1,
   "metadata": {},
   "outputs": [],
   "source": [
    "import io\n",
    "import os\n",
    "import json\n",
    "from typing import List\n",
    "\n",
    "\n",
    "import boto3\n",
    "import getpass\n",
    "import requests\n",
    "import urllib.parse\n",
    "from PIL import Image\n",
    "from colorama import Fore\n",
    "from datetime import datetime\n",
    "from botocore.exceptions import ClientError\n",
    "\n",
    "\n",
    "session = boto3.Session()\n",
    "region = session.region_name"
   ]
  },
  {
   "cell_type": "markdown",
   "metadata": {},
   "source": [
    "Before you continue, please add your App ID below:"
   ]
  },
  {
   "cell_type": "code",
   "execution_count": 2,
   "metadata": {},
   "outputs": [
    {
     "name": "stdout",
     "output_type": "stream",
     "text": [
      "Wolfram Alpha App ID: ········\n"
     ]
    }
   ],
   "source": [
    "app_id = getpass.getpass('Wolfram Alpha App ID:')"
   ]
  },
  {
   "cell_type": "code",
   "execution_count": 3,
   "metadata": {
    "tags": []
   },
   "outputs": [
    {
     "name": "stdout",
     "output_type": "stream",
     "text": [
      "\u001b[33mQuestion: Convert 25 miles per hour to meters per second\n",
      "\u001b[34mResult 1: 'convert 25 mph (miles per hour) to meters per second' from NA (NA).\n",
      "\u001b[34mResult 2: '11.18 m/s (meters per second)' from NA (NA).\n",
      "\u001b[34mResult 3: '600 mi/d (miles per day)' from NA (NA).\n",
      "\u001b[34mResult 4: ' ≈ 0.9 × maximum speed of the world's fastest human (fastest 20 meter split by Usain Bolt in the 100-meter dash) ( 12.35 m/s )' from NA (NA).\n",
      "\u001b[34mResult 5: 'speed' from NA (NA).\n",
      "\u001b[34mResult 6: '[length] [time]^(-1)' from NA (NA).\n",
      "\u001b[34mResult 7: 'Time to travel 1 meter from t = d/v:\n",
      " | 89 ms (milliseconds)' from NA (NA).\n",
      "\u001b[32m============================\n",
      "Best Result: 11.18 m/s (meters per second)\n",
      "============================\n"
     ]
    }
   ],
   "source": [
    "question = \"Convert 25 miles per hour to meters per second\"\n",
    "\n",
    "print(f\"{Fore.YELLOW}Question: {question}\")\n",
    "\n",
    "query = urllib.parse.quote_plus(question)\n",
    "query_url = f\"http://api.wolframalpha.com/v2/query?\" \\\n",
    "             f\"appid={app_id}\" \\\n",
    "             f\"&input={query}\" \\\n",
    "             f\"&format=plaintext\" \\\n",
    "             f\"&output=json\"\n",
    "\n",
    "r = requests.get(query_url).json()\n",
    "\n",
    "outputs_with_reference = []\n",
    "outputs_without_reference = []\n",
    "if 'pods' in r[\"queryresult\"]:\n",
    "    pods = r[\"queryresult\"][\"pods\"]\n",
    "\n",
    "    for idx, pod in enumerate(pods):\n",
    "        subpods = pod['subpods'][0]\n",
    "        if 'datasources' in subpods:\n",
    "            datasource = \", \".join(subpods[\"datasources\"][\"datasource\"])\n",
    "        else:\n",
    "            datasource = \"NA\"\n",
    "        if 'microsources' in subpods:\n",
    "            microsource = subpods[\"microsources\"][\"microsource\"]\n",
    "        else:\n",
    "            microsource = \"NA\"\n",
    "        plaintext = subpods[\"plaintext\"]\n",
    "\n",
    "        if datasource == \"NA\":\n",
    "            outputs_without_reference.append(plaintext)\n",
    "        elif (datasource != \"NA\") and len(plaintext) > 0:\n",
    "            outputs_with_reference.append(plaintext)\n",
    "        print(f\"{Fore.BLUE}Result {idx + 1}: '{plaintext}' from {datasource} ({microsource}).\")\n",
    "\n",
    "    if len(outputs_with_reference) > 0:\n",
    "        best_result = outputs_with_reference[0]\n",
    "    else:\n",
    "        best_result = outputs_without_reference[1]\n",
    "else:\n",
    "    best_result = \"No results were found\"\n",
    "\n",
    "print(f\"{Fore.GREEN}============================\")\n",
    "print(f\"Best Result: {best_result}\")\n",
    "print(f\"============================\")"
   ]
  },
  {
   "cell_type": "markdown",
   "metadata": {},
   "source": [
    "The code utilizes the Wolfram Alpha Full Results API to perform the unit conversion of `25 miles per hour to meters per second`. It makes a GET request to the Wolfram Alpha API endpoint at http://api.wolframalpha.com/v2/query, passing several parameters:\n",
    "\n",
    "1. The `App ID` for authentication to access the Wolfram Alpha API.\n",
    "2. The input query `25 miles per hour to meters per second` in the `input` field.\n",
    "3. The `format` parameter set to `plaintext` to request the result in text format, rather than an image.\n",
    "4. The `output` parameter set to `JSON` to receive the response in JSON format, instead of the default XML.\n",
    "\n",
    "The response from Wolfram Alpha can be quite complex, so the easiest approach is to first print out the full response and then identify the useful fields to extract the best result."
   ]
  },
  {
   "cell_type": "markdown",
   "metadata": {},
   "source": [
    "### 2. Writing the tool definition\n",
    "Next up, we need to define our tool using the proper JSON Schema format.  This is a very simple tool definition because the function expects a single argument: the `query` string.  "
   ]
  },
  {
   "cell_type": "code",
   "execution_count": 4,
   "metadata": {
    "tags": []
   },
   "outputs": [],
   "source": [
    "toolConfig = {\n",
    "  \"tools\": [\n",
    "    {\n",
    "      \"toolSpec\": {\n",
    "        \"name\": \"run_math_operations\",\n",
    "        \"description\": \"run_math_operations\",\n",
    "        \"inputSchema\": {\n",
    "          \"json\": {\n",
    "            \"type\": \"object\",\n",
    "            \"properties\": {\n",
    "              \"query\": {\n",
    "                \"type\": \"string\",\n",
    "                \"description\": \"User's question\"\n",
    "              }\n",
    "            },\n",
    "            \"required\": [\"query\"]\n",
    "          }\n",
    "        }\n",
    "      }\n",
    "    }\n",
    "  ]\n",
    "}"
   ]
  },
  {
   "cell_type": "markdown",
   "metadata": {},
   "source": [
    "Below we incorporate our prior code as a function within the `ToolList` class."
   ]
  },
  {
   "cell_type": "code",
   "execution_count": 5,
   "metadata": {
    "tags": []
   },
   "outputs": [],
   "source": [
    "class ToolsList:\n",
    "    app_id = app_id\n",
    "    \n",
    "    def run_math_operations(self, query) -> str:\n",
    "        \"A tool to respond to math operations using Wolfram Alpha API\"\n",
    "        query = urllib.parse.quote_plus(query)\n",
    "        query_url = f\"http://api.wolframalpha.com/v2/query?\" \\\n",
    "                     f\"appid={self.app_id}\" \\\n",
    "                     f\"&input={query}\" \\\n",
    "                     f\"&format=plaintext\" \\\n",
    "                     f\"&output=json\"\n",
    "\n",
    "        r = requests.get(query_url).json()\n",
    "\n",
    "        outputs_with_reference = []\n",
    "        outputs_without_reference = []\n",
    "        if 'pods' in r[\"queryresult\"]:\n",
    "            pods = r[\"queryresult\"][\"pods\"]\n",
    "\n",
    "            for idx, pod in enumerate(pods):\n",
    "                subpods = pod['subpods'][0]\n",
    "                if 'datasources' in subpods:\n",
    "                    datasource = \", \".join(subpods[\"datasources\"][\"datasource\"])\n",
    "                else:\n",
    "                    datasource = \"NA\"\n",
    "                if 'microsources' in subpods:\n",
    "                    microsource = subpods[\"microsources\"][\"microsource\"]\n",
    "                else:\n",
    "                    microsource = \"NA\"\n",
    "                plaintext = subpods[\"plaintext\"]\n",
    "\n",
    "                if datasource == \"NA\":\n",
    "                    outputs_without_reference.append(plaintext)\n",
    "                elif (datasource != \"NA\") and len(plaintext) > 0:\n",
    "                    outputs_with_reference.append(plaintext)\n",
    "\n",
    "            if len(outputs_with_reference) > 0:\n",
    "                best_result = outputs_with_reference[0]\n",
    "            else:\n",
    "                best_result = outputs_without_reference[1]\n",
    "        else:\n",
    "            best_result = \"No results were found\"\n",
    "        return best_result"
   ]
  },
  {
   "cell_type": "markdown",
   "metadata": {
    "tags": []
   },
   "source": [
    "### 3. Provide Llama 3.1 with the tool and user prompt\n",
    "\n",
    "Next, we'll tell Llama 3.1 it has access to the Wolfram Alpha tool and ask it to answer a question we know it could struggle to answer without the tool, like `Convert 25 miles per hour to meters per second`"
   ]
  },
  {
   "cell_type": "code",
   "execution_count": 6,
   "metadata": {
    "tags": []
   },
   "outputs": [],
   "source": [
    "modelId = 'meta.llama3-1-70b-instruct-v1:0'\n",
    "# modelId = 'meta.llama3-1-405b-instruct-v1:0'\n",
    "# modelId = 'meta.llama3-1-8b-instruct-v1:0'\n",
    "\n",
    "bedrock_client = boto3.client(\n",
    "    service_name='bedrock-runtime',\n",
    "    region_name=region\n",
    ")"
   ]
  },
  {
   "cell_type": "markdown",
   "metadata": {},
   "source": [
    "First, let's try it without the tool:"
   ]
  },
  {
   "cell_type": "code",
   "execution_count": 7,
   "metadata": {
    "tags": []
   },
   "outputs": [
    {
     "name": "stdout",
     "output_type": "stream",
     "text": [
      "\u001b[32mResponse:\n",
      " \n",
      "\n",
      "To convert 25 miles per hour to meters per second, we need to perform two conversions:\n",
      "\n",
      "1. Miles to meters:\n",
      "1 mile = 1609.34 meters\n",
      "25 miles = 25 x 1609.34 = 40,233.5 meters\n",
      "2. Hours to seconds:\n",
      "1 hour = 3600 seconds\n",
      "25 hours = 25 x 3600 = 90,000 seconds\n",
      "\n",
      "Now, we can convert 25 miles per hour to meters per second:\n",
      "\n",
      "25 miles/hour = 40,233.5 meters / 90,000 seconds\n",
      "= 0.447 meters/second\n",
      "\n",
      "Therefore, 25 miles per hour is equivalent to approximately 0.447 meters per second.\n"
     ]
    }
   ],
   "source": [
    "question = \"Convert 25 miles per hour to meters per second\"\n",
    "messages = [{\"role\": \"user\", \"content\": [{\"text\": question}]}]\n",
    "\n",
    "converse_api_params = {\n",
    "    \"modelId\": modelId,\n",
    "    \"messages\": messages,\n",
    "    \"inferenceConfig\": {\"temperature\": 0.0, \"maxTokens\": 2048},\n",
    "}\n",
    "\n",
    "response = bedrock_client.converse(**converse_api_params)\n",
    "print(f\"{Fore.GREEN}Response:\\n {response['output']['message']['content'][0]['text']}\")"
   ]
  },
  {
   "cell_type": "markdown",
   "metadata": {},
   "source": [
    "**The expected answer is 11.18 m/s (meters per second). As we can see, the model did not get the user's query right.**\n",
    "\n",
    "Now, let's make use of the tool."
   ]
  },
  {
   "cell_type": "code",
   "execution_count": 8,
   "metadata": {
    "tags": []
   },
   "outputs": [],
   "source": [
    "question = \"Convert 25 miles per hour to meters per second\"\n",
    "messages = [{\"role\": \"user\", \"content\": [{\"text\": question}]}]\n",
    "\n",
    "converse_api_params = {\n",
    "    \"modelId\": modelId,\n",
    "    \"messages\": messages,\n",
    "    \"inferenceConfig\": {\"temperature\": 0.0, \"maxTokens\": 2048},\n",
    "    \"toolConfig\": toolConfig\n",
    "}\n",
    "\n",
    "response = bedrock_client.converse(**converse_api_params)"
   ]
  },
  {
   "cell_type": "markdown",
   "metadata": {},
   "source": [
    "### 4. Llama 3.1 uses the tool (API response)\n",
    "\n",
    "Let's look at the response we got back.  Llama 3.1 wants to use our tool!"
   ]
  },
  {
   "cell_type": "code",
   "execution_count": 9,
   "metadata": {
    "tags": []
   },
   "outputs": [
    {
     "name": "stdout",
     "output_type": "stream",
     "text": [
      "\u001b[32mResponse:\n",
      " [{'toolUse': {'toolUseId': 'tooluse_AwxlWiqMQNGue4alCXe62Q', 'name': 'run_math_operations', 'input': {'query': '25 miles per hour to meters per second'}}}]\n"
     ]
    }
   ],
   "source": [
    "print(f\"{Fore.GREEN}Response:\\n {response['output']['message']['content']}\")"
   ]
  },
  {
   "cell_type": "markdown",
   "metadata": {},
   "source": [
    "Llama 3.1's response contains a block with the tool use: \n",
    "\n",
    "* A `toolUse` value calling our `run_math_operations` tool with the `query` \"25 miles per hour to meters per second\"\n",
    "\n",
    "```\n",
    "{'toolUse': {'toolUseId': 'tooluse_T-LlliJ1RNWKUv3q1GV3kw',\n",
    "   'name': 'run_math_operations',\n",
    "   'input': {'query': '25 miles per hour to meters per second'}}}\n",
    "```\n"
   ]
  },
  {
   "cell_type": "markdown",
   "metadata": {},
   "source": [
    "### 5. Extract tool input(s), run code, and return results (API request)\n",
    "\n",
    "Now that Llama 3.1 has responded telling us it wants to use a tool, it's time for us to actually run the underlying functionality AND respond back to Llama 3.1 with the corresponding Wolfram Alpha content.\n",
    "\n",
    "**We need to pay special attention to make sure we update our `messages` list**"
   ]
  },
  {
   "cell_type": "markdown",
   "metadata": {},
   "source": [
    "We'll begin by updating our `messages` list to include Llama 3.1's most recent response:"
   ]
  },
  {
   "cell_type": "code",
   "execution_count": 10,
   "metadata": {
    "tags": []
   },
   "outputs": [],
   "source": [
    "messages.append({\"role\": \"assistant\", \"content\": response['output']['message']['content']})"
   ]
  },
  {
   "cell_type": "code",
   "execution_count": 11,
   "metadata": {
    "tags": []
   },
   "outputs": [
    {
     "name": "stdout",
     "output_type": "stream",
     "text": [
      "\u001b[32mMessages:\n",
      "\n",
      "{'role': 'user', 'content': [{'text': 'Convert 25 miles per hour to meters per second'}]}\n",
      "{'role': 'assistant', 'content': [{'toolUse': {'toolUseId': 'tooluse_AwxlWiqMQNGue4alCXe62Q', 'name': 'run_math_operations', 'input': {'query': '25 miles per hour to meters per second'}}}]}\n"
     ]
    }
   ],
   "source": [
    "print(f\"{Fore.GREEN}Messages:\\n\")\n",
    "for m in messages:\n",
    "    print(f\"{m}\")"
   ]
  },
  {
   "cell_type": "markdown",
   "metadata": {},
   "source": [
    "Next, we'll extract the specific tool and arguments that Llama 3.1 wants to use:"
   ]
  },
  {
   "cell_type": "code",
   "execution_count": 12,
   "metadata": {
    "tags": []
   },
   "outputs": [
    {
     "name": "stdout",
     "output_type": "stream",
     "text": [
      "\u001b[32mTool Id: tooluse_AwxlWiqMQNGue4alCXe62Q\n",
      "\u001b[32mTool name: run_math_operations\n",
      "\u001b[32mTool input {'query': '25 miles per hour to meters per second'}\n"
     ]
    }
   ],
   "source": [
    "# This is a simple way to get the tool use information\n",
    "tool_use = response['output']['message']['content'][-1]\n",
    "tool_id = tool_use['toolUse']['toolUseId']\n",
    "tool_name = tool_use['toolUse']['name']\n",
    "tool_inputs = tool_use['toolUse']['input']\n",
    "\n",
    "print(f\"{Fore.GREEN}Tool Id: {tool_id}\")\n",
    "print(f\"{Fore.GREEN}Tool name: {tool_name}\")\n",
    "print(f\"{Fore.GREEN}Tool input {tool_inputs}\")"
   ]
  },
  {
   "cell_type": "markdown",
   "metadata": {},
   "source": [
    "Next, we'll make sure Llama 3.1 is calling the `run_math_operations` tool we're expecting. We'll take the `query` Llama 3.1 came up with and pass that to the `run_math_operations` function we wrote earlier."
   ]
  },
  {
   "cell_type": "code",
   "execution_count": 13,
   "metadata": {
    "tags": []
   },
   "outputs": [
    {
     "name": "stdout",
     "output_type": "stream",
     "text": [
      "\u001b[32mSearching Wolfram Alpha for: 25 miles per hour to meters per second\n",
      "\u001b[32mWOLFRAM ALPHA RESPONSE:\n",
      "\u001b[32m11.18 m/s (meters per second)\n"
     ]
    }
   ],
   "source": [
    "if tool_name == \"run_math_operations\":\n",
    "    search_term = tool_inputs[\"query\"]\n",
    "    tool_result = getattr(ToolsList(), tool_name)(**tool_inputs) or \"\"\n",
    "    print(f\"{Fore.GREEN}Searching Wolfram Alpha for: {search_term}\")\n",
    "    print(f\"{Fore.GREEN}WOLFRAM ALPHA RESPONSE:\")\n",
    "    print(f\"{Fore.GREEN}{tool_result}\")"
   ]
  },
  {
   "cell_type": "markdown",
   "metadata": {},
   "source": [
    "Now that we've executed the function Llama 3.1 wanted us to call, it's time to respond back to Llama 3.1 with the Wolfram Alpha  results.\n",
    "\n",
    "As we know, when Llama 3.1 wants to use a tool, it responds to us with a `stop_reason` of `tool_use` and one or more `tool_use` content blocks in the API response that include:\n",
    "* `id`: A unique identifier for this particular tool use block. This will be used to match up the tool results later.\n",
    "* `name`: The name of the tool being used.\n",
    "* `input`: An object containing the input being passed to the tool, conforming to the tool's `input_schema`.\n",
    "\n",
    "Once we have executed our underlying tool function, we need to respond back to Llama 3.1 with a particular format as well. Specifically, to continue the conversation, we need to send a new message with the **role of `user`** and a content block **containing the `tool_result` type**, along with the following information:\n",
    "* `toolUseId`: The id of the tool use request this is a result for.\n",
    "* `content`: The result of the tool, as a string (e.g. \"content\": \"11.18 m/s\") or list of nested content blocks (e.g. \"content\": [{\"type\": \"text\", \"text\": \"11.18 m/s\"}]\\). \n",
    "* `status` (optional): Set to **success** or **error** based on the tool execution results.\n",
    "\n",
    "Here's an example of what a properly formatted `toolResult` message looks like: "
   ]
  },
  {
   "cell_type": "markdown",
   "metadata": {},
   "source": [
    "```json\n",
    "{\n",
    "    \"role\": \"user\",\n",
    "    \"content\": [\n",
    "        {\n",
    "            \"toolResult\": {\n",
    "                \"toolUseId\": \"tooluse_nsHIrq58TYC_GGssJEo9Xw\",\n",
    "                \"content\": [\n",
    "                    {\n",
    "                        \"json\": {\n",
    "                            \"query\": \"11.18 m/s\"\n",
    "                        }\n",
    "                    }\n",
    "                ]\n",
    "            }\n",
    "        }\n",
    "    ]\n",
    "}\n",
    "```"
   ]
  },
  {
   "cell_type": "markdown",
   "metadata": {},
   "source": [
    "Let's do this now for our Wolfram Alpha example. We need to form a properly constructed tool response message to send our Wolfra Alpha result back to Llama 3.1:"
   ]
  },
  {
   "cell_type": "code",
   "execution_count": 14,
   "metadata": {
    "tags": []
   },
   "outputs": [],
   "source": [
    "tool_response = {\n",
    "    \"role\": \"user\",\n",
    "    \"content\": [\n",
    "        {\n",
    "            \"toolResult\": {\n",
    "                \"toolUseId\": tool_id,\n",
    "                \"content\": [\n",
    "                    {\n",
    "                        \"text\": tool_result\n",
    "                        }\n",
    "                ]\n",
    "            }\n",
    "        }\n",
    "    ]\n",
    "}"
   ]
  },
  {
   "cell_type": "code",
   "execution_count": 15,
   "metadata": {
    "tags": []
   },
   "outputs": [
    {
     "name": "stdout",
     "output_type": "stream",
     "text": [
      "\u001b[32m{'role': 'user', 'content': [{'toolResult': {'toolUseId': 'tooluse_AwxlWiqMQNGue4alCXe62Q', 'content': [{'text': '11.18 m/s (meters per second)'}]}}]}\n"
     ]
    }
   ],
   "source": [
    "print(f\"{Fore.GREEN}{tool_response}\")"
   ]
  },
  {
   "cell_type": "markdown",
   "metadata": {},
   "source": [
    "Next, we need to add our `tool_response` message to our messages list: "
   ]
  },
  {
   "cell_type": "code",
   "execution_count": 16,
   "metadata": {
    "tags": []
   },
   "outputs": [],
   "source": [
    "messages.append(tool_response)"
   ]
  },
  {
   "cell_type": "code",
   "execution_count": 17,
   "metadata": {
    "tags": []
   },
   "outputs": [
    {
     "name": "stdout",
     "output_type": "stream",
     "text": [
      "\u001b[32mMessages:\n",
      "\n",
      "{'role': 'user', 'content': [{'text': 'Convert 25 miles per hour to meters per second'}]}\n",
      "{'role': 'assistant', 'content': [{'toolUse': {'toolUseId': 'tooluse_AwxlWiqMQNGue4alCXe62Q', 'name': 'run_math_operations', 'input': {'query': '25 miles per hour to meters per second'}}}]}\n",
      "{'role': 'user', 'content': [{'toolResult': {'toolUseId': 'tooluse_AwxlWiqMQNGue4alCXe62Q', 'content': [{'text': '11.18 m/s (meters per second)'}]}}]}\n"
     ]
    }
   ],
   "source": [
    "print(f\"{Fore.GREEN}Messages:\\n\")\n",
    "for m in messages:\n",
    "    print(f\"{m}\")"
   ]
  },
  {
   "cell_type": "markdown",
   "metadata": {},
   "source": [
    "Our `messages` list now looks like this: \n",
    "\n",
    "* User: `Convert 25 miles per hour to meters per second`\n",
    "* Assistant: I want to use the `run_math_operations` tool with `query` \"25 miles per hour to meters per second\"\n",
    "* User: Here's the tool result that contains the Wolfram Alpha you asked for"
   ]
  },
  {
   "cell_type": "markdown",
   "metadata": {},
   "source": [
    "### 5. Llama 3.1 uses the tool result to formulate a response: (API response)\n",
    "\n",
    "Finally, we can use our updated `messages` list and send a new request to Llama 3.1:"
   ]
  },
  {
   "cell_type": "code",
   "execution_count": 18,
   "metadata": {
    "tags": []
   },
   "outputs": [],
   "source": [
    "converse_api_params = {\n",
    "    \"modelId\": modelId,\n",
    "    \"messages\": messages,\n",
    "    \"inferenceConfig\": {\"temperature\": 0.0, \"maxTokens\": 1000},\n",
    "    \"toolConfig\": toolConfig #The toolConfig which contains our query_wolframalpha_tool details\n",
    "}\n",
    "\n",
    "follow_up_response = bedrock_client.converse(**converse_api_params)"
   ]
  },
  {
   "cell_type": "code",
   "execution_count": 19,
   "metadata": {
    "tags": []
   },
   "outputs": [
    {
     "name": "stdout",
     "output_type": "stream",
     "text": [
      "\u001b[32mMessages:\n",
      " \n",
      "\n",
      "The conversion of 25 miles per hour to meters per second is 11.18 m/s.\n"
     ]
    }
   ],
   "source": [
    "print(f\"{Fore.GREEN}Messages:\\n {follow_up_response['output']['message']['content'][0]['text']}\")"
   ]
  },
  {
   "cell_type": "markdown",
   "metadata": {},
   "source": [
    "Llama 3.1 now has the information needed to answer the initial question and responds back with:\n",
    "\n",
    "> 'The conversion of 25 miles per hour to meters per second is 11.18 m/s.'\n",
    "\n",
    "We have now completed all 5 steps of the process! "
   ]
  },
  {
   "cell_type": "markdown",
   "metadata": {},
   "source": [
    "## Working with multiple tool use\n",
    "\n",
    "Now that we have experimented with tool use, it is time to incorporate more functions into our tool use list. Below, we include a new tool called `render_plots` to help us generate a plot based on a given mathematical function."
   ]
  },
  {
   "cell_type": "code",
   "execution_count": 20,
   "metadata": {
    "tags": []
   },
   "outputs": [],
   "source": [
    "toolConfig = {\n",
    "  \"tools\": [\n",
    "    {\n",
    "      \"toolSpec\": {\n",
    "        \"name\": \"run_math_operations\",\n",
    "        \"description\": \"Run math operations\",\n",
    "        \"inputSchema\": {\n",
    "          \"json\": {\n",
    "            \"type\": \"object\",\n",
    "            \"properties\": {\n",
    "              \"query\": {\n",
    "                \"type\": \"string\",\n",
    "                \"description\": \"User's question\"\n",
    "              }\n",
    "            },\n",
    "            \"required\": [\"query\"]\n",
    "          }\n",
    "        }\n",
    "      }\n",
    "    },\n",
    "    {\n",
    "      \"toolSpec\": {\n",
    "        \"name\": \"render_plots\",\n",
    "        \"description\": \"Render functions as a plot\",\n",
    "        \"inputSchema\": {\n",
    "          \"json\": {\n",
    "            \"type\": \"object\",\n",
    "            \"properties\": {\n",
    "              \"function\": {\n",
    "                \"type\": \"string\",\n",
    "                \"description\": \"User's function to be plotted\"\n",
    "              }\n",
    "            },\n",
    "            \"required\": [\"function\"]\n",
    "          }\n",
    "        }\n",
    "      }\n",
    "    }\n",
    "  ]\n",
    "}"
   ]
  },
  {
   "cell_type": "markdown",
   "metadata": {},
   "source": [
    "Below we incorporate our prior code as a function within the ToolList class."
   ]
  },
  {
   "cell_type": "code",
   "execution_count": 21,
   "metadata": {
    "tags": []
   },
   "outputs": [],
   "source": [
    "class ToolsList:\n",
    "    app_id = app_id\n",
    "    \n",
    "    def run_math_operations(self, query) -> str:\n",
    "        \"A tool to respond to math operations using Wolfram Alpha API\"\n",
    "        query = urllib.parse.quote_plus(query)\n",
    "        query_url = f\"http://api.wolframalpha.com/v2/query?\" \\\n",
    "                     f\"appid={self.app_id}\" \\\n",
    "                     f\"&input={query}\" \\\n",
    "                     f\"&format=plaintext\" \\\n",
    "                     f\"&output=json\"\n",
    "\n",
    "        r = requests.get(query_url).json()\n",
    "\n",
    "        outputs_with_reference = []\n",
    "        outputs_without_reference = []\n",
    "        if 'pods' in r[\"queryresult\"]:\n",
    "            pods = r[\"queryresult\"][\"pods\"]\n",
    "\n",
    "            for idx, pod in enumerate(pods):\n",
    "                subpods = pod['subpods'][0]\n",
    "                if 'datasources' in subpods:\n",
    "                    datasource = \", \".join(subpods[\"datasources\"][\"datasource\"])\n",
    "                else:\n",
    "                    datasource = \"NA\"\n",
    "                if 'microsources' in subpods:\n",
    "                    microsource = subpods[\"microsources\"][\"microsource\"]\n",
    "                else:\n",
    "                    microsource = \"NA\"\n",
    "                plaintext = subpods[\"plaintext\"]\n",
    "\n",
    "                if datasource == \"NA\":\n",
    "                    outputs_without_reference.append(plaintext)\n",
    "                elif (datasource != \"NA\") and len(plaintext) > 0:\n",
    "                    outputs_with_reference.append(plaintext)\n",
    "\n",
    "            if len(outputs_with_reference) > 0:\n",
    "                best_result = outputs_with_reference[0]\n",
    "            else:\n",
    "                best_result = outputs_without_reference[1]\n",
    "        else:\n",
    "            best_result = \"No results were found\"\n",
    "        return best_result\n",
    "    \n",
    "    def render_plots(self, function) -> str:\n",
    "        \"A tool to render functions as a plot using Wolfram Alpha API\"\n",
    "        query = f\"plot {function}\"\n",
    "        query_url = f\"http://api.wolframalpha.com/v2/query?\" \\\n",
    "                    f\"appid={self.app_id}\" \\\n",
    "                    f\"&input={query}\" \\\n",
    "                    f\"&output=json\" \\\n",
    "                    f\"&includepodid=3DPlot\" \\\n",
    "                    f\"&includepodid=ContourPlot\"\n",
    "\n",
    "        r = requests.get(query_url).json()\n",
    "\n",
    "        pods = r[\"queryresult\"][\"pods\"]\n",
    "        plot_3d_url = pods[0][\"subpods\"][0][\"img\"][\"src\"]\n",
    "        plot_contour_url = pods[1][\"subpods\"][0][\"img\"][\"src\"]\n",
    "        img_data = requests.get(plot_3d_url).content\n",
    "\n",
    "        return img_data"
   ]
  },
  {
   "cell_type": "markdown",
   "metadata": {},
   "source": [
    "## Improving the code\n",
    "\n",
    "At a bare minimum, we probably want to put all the above code into a reusable function so we can try it out a few times. In our code below we also automated the code to run more than one tool."
   ]
  },
  {
   "cell_type": "code",
   "execution_count": 22,
   "metadata": {
    "tags": []
   },
   "outputs": [],
   "source": [
    "class BedrockLLM():\n",
    "    def __init__(\n",
    "        self,\n",
    "        region_name: str = 'us-west-2',\n",
    "        model_id: str = \"meta.llama3-1-70b-instruct-v1:0\",\n",
    "        temperature: float = 0.7,\n",
    "        max_tokens: int = 2048,\n",
    "        top_p: float = 0.95\n",
    "     ) -> None:\n",
    "        self.bedrock_client = boto3.client('bedrock-runtime', region_name=region_name)\n",
    "        self.model_id = model_id\n",
    "        self.temperature = temperature\n",
    "        self.max_tokens = max_tokens\n",
    "        self.top_p = top_p\n",
    "\n",
    "    def invoke(\n",
    "        self, \n",
    "        prompt: str = \"\",\n",
    "        system_prompt: str = None,\n",
    "        messages: List = [],\n",
    "        tool_config: dict = {},\n",
    "        ToolsList: object = object()\n",
    "    ) -> str:\n",
    "        \"\"\"\n",
    "        Sends messages to a model.\n",
    "        Args:\n",
    "            prompt (str): The prompt to send to the model.\n",
    "            system_prompt (str): The system prompt for the model to use.\n",
    "            messages (list): The messages to send to the model.\n",
    "            tool_config (dict): A dictionary with a list of tools available for the model.\n",
    "            ToolsList (object): Python Class with tools that can be executed by the model.\n",
    "        Returns:\n",
    "            response (str|bytes): The conversation that the model generated.\n",
    "        \"\"\"\n",
    "\n",
    "        print(f\"{Fore.BLUE}Generating message with model {self.model_id}\")\n",
    "        \n",
    "        if len(messages) == 0:\n",
    "            messages = [\n",
    "                {\n",
    "                    \"role\": \"user\",\n",
    "                    \"content\": [{\"text\": prompt}]\n",
    "                }\n",
    "            ]\n",
    "\n",
    "        # Base inference parameters to use.\n",
    "        inference_config = {\n",
    "            \"temperature\": self.temperature,\n",
    "            \"maxTokens\": self.max_tokens,\n",
    "            \"topP\": self.top_p,\n",
    "        }\n",
    "        \n",
    "        params = {\n",
    "            \"modelId\": self.model_id,\n",
    "            \"messages\": messages,\n",
    "            \"inferenceConfig\": inference_config\n",
    "        }\n",
    "        \n",
    "        if system_prompt:\n",
    "            # Setup the system prompts and messages\n",
    "            system_prompts = [{\"text\": system_prompt}]\n",
    "            params[\"system\"] = system_prompts\n",
    "        \n",
    "        if len(tool_config) > 0:\n",
    "            params[\"toolConfig\"] = tool_config\n",
    "\n",
    "        # Send the message.\n",
    "        response = self.bedrock_client.converse(**params)\n",
    "        \n",
    "        # Return the response\n",
    "        assistant_message = response['output']['message']\n",
    "        \n",
    "        # Add the intermediate output to the prompt:\n",
    "        messages.append(assistant_message)\n",
    "\n",
    "        #If the LLM stops because it wants to use a tool:\n",
    "        if response['stopReason'] == \"tool_use\":\n",
    "            function_calling = next((c['toolUse'] for c in assistant_message['content'] if 'toolUse' in c), None)\n",
    "            # Get the tool name and arguments:\n",
    "            tool_name = function_calling['name']\n",
    "            tool_args = function_calling['input'] or {}\n",
    "            \n",
    "            print(f\"{Fore.BLUE}Parameters for searching in Wolfram Alpha: {tool_args}\")\n",
    "\n",
    "            # Run the tool:\n",
    "            tool_response = getattr(ToolsList(), tool_name)(**tool_args) or \"\"\n",
    "            if tool_response:\n",
    "                tool_status = 'success'\n",
    "            else:\n",
    "                tool_status = 'error'\n",
    "            \n",
    "            if type(tool_response) is str:\n",
    "                print(f\"{Fore.BLUE}Tool response:\")\n",
    "                print(f\"{Fore.BLUE}{tool_response}\")\n",
    "                # Add the tool result to the prompt:\n",
    "                messages.append(\n",
    "                    {\n",
    "                        \"role\": \"user\",\n",
    "                        \"content\": [\n",
    "                            {\n",
    "                                'toolResult': {\n",
    "                                    'toolUseId': function_calling['toolUseId'],\n",
    "                                    'content': [\n",
    "                                        {\n",
    "                                            \"text\": tool_response\n",
    "                                        }\n",
    "                                    ],\n",
    "                                    'status': tool_status\n",
    "                                }\n",
    "                            }\n",
    "                        ]\n",
    "                    }\n",
    "                )\n",
    "\n",
    "\n",
    "                params['messages'] = messages\n",
    "\n",
    "                # Invoke the model one more time:\n",
    "                response = self.bedrock_client.converse(**params)\n",
    "\n",
    "                # Return the response\n",
    "                assistant_message = response['output']['message']\n",
    "            else:\n",
    "                print(f\"{Fore.BLUE}Tool response is an image\")\n",
    "                assistant_message = None\n",
    "\n",
    "        # Log token usage.\n",
    "        token_usage = response['usage']\n",
    "        print(f\"{Fore.BLUE}Input tokens: {token_usage['inputTokens']}\")\n",
    "        print(f\"{Fore.BLUE}Output tokens: {token_usage['outputTokens']}\")\n",
    "        print(f\"{Fore.BLUE}Total tokens: {token_usage['totalTokens']}\")\n",
    "        print(f\"{Fore.BLUE}Stop reason: {response['stopReason']}\")\n",
    "        \n",
    "        if assistant_message:\n",
    "            output = assistant_message['content'][0]['text']\n",
    "        else:\n",
    "            output = tool_response\n",
    "\n",
    "        return output"
   ]
  },
  {
   "cell_type": "markdown",
   "metadata": {},
   "source": [
    "## Improving our prompt\n",
    "\n",
    "As we saw in a previous lesson, sometimes Llama 3.1 is overly eager to use tools.  An easy wasy to fix this is through the system prompt.\n",
    "\n",
    "\n",
    "We could add a system prompt that looks something like this:"
   ]
  },
  {
   "cell_type": "code",
   "execution_count": 23,
   "metadata": {
    "tags": []
   },
   "outputs": [],
   "source": [
    "system_prompt = \"\"\"\n",
    "    You will be asked a question by the user.\n",
    "    If answering the question requires data you were not trained on, you can use the tools provided to you to better answer user's question. \n",
    "    If you can answer the question without needing to get more information, please do so. \n",
    "    Only call the tool when needed.\n",
    "    \"\"\""
   ]
  },
  {
   "cell_type": "code",
   "execution_count": 24,
   "metadata": {
    "tags": []
   },
   "outputs": [],
   "source": [
    "llm = BedrockLLM()"
   ]
  },
  {
   "cell_type": "markdown",
   "metadata": {},
   "source": [
    "### 1. General knowledge"
   ]
  },
  {
   "cell_type": "markdown",
   "metadata": {},
   "source": [
    "Let's try asking a question:"
   ]
  },
  {
   "cell_type": "code",
   "execution_count": 25,
   "metadata": {
    "tags": []
   },
   "outputs": [
    {
     "name": "stdout",
     "output_type": "stream",
     "text": [
      "\u001b[34mGenerating message with model meta.llama3-1-70b-instruct-v1:0\n",
      "\u001b[34mInput tokens: 185\n",
      "\u001b[34mOutput tokens: 9\n",
      "\u001b[34mTotal tokens: 194\n",
      "\u001b[34mStop reason: end_turn\n",
      "\u001b[32mResponse:\n",
      " \n",
      "\n",
      "The capital of France is Paris.\n"
     ]
    }
   ],
   "source": [
    "response = llm.invoke(\n",
    "    prompt=\"What is the capital of France?\",\n",
    "    system_prompt=system_prompt,\n",
    "    tool_config=toolConfig,\n",
    "    ToolsList=ToolsList\n",
    ")\n",
    "\n",
    "if type(response) is str:\n",
    "    print(f\"{Fore.GREEN}Response:\\n {response}\")\n",
    "else:\n",
    "    img = Image.open(io.BytesIO(response))\n",
    "    img.show()"
   ]
  },
  {
   "cell_type": "markdown",
   "metadata": {},
   "source": [
    "It worked! Llama 3.1 did not use our tool when it wasn't needed.  Let's make sure it still works when answering questions that do require access to more complex reasoning:"
   ]
  },
  {
   "cell_type": "markdown",
   "metadata": {},
   "source": [
    "### 2. Tool use - Mathematical reasoning"
   ]
  },
  {
   "cell_type": "code",
   "execution_count": 26,
   "metadata": {
    "tags": []
   },
   "outputs": [
    {
     "name": "stdout",
     "output_type": "stream",
     "text": [
      "\u001b[34mGenerating message with model meta.llama3-1-70b-instruct-v1:0\n",
      "\u001b[34mParameters for searching in Wolfram Alpha: {'query': 'simplify (2x^2 + 3x - 4)/(x - 1)'}\n",
      "\u001b[34mTool response:\n",
      "\u001b[34m(2 x^2)/(x - 1) + (3 x)/(x - 1) - 4/(x - 1)\n",
      "\u001b[34mInput tokens: 317\n",
      "\u001b[34mOutput tokens: 36\n",
      "\u001b[34mTotal tokens: 353\n",
      "\u001b[34mStop reason: end_turn\n",
      "\u001b[32mResponse:\n",
      " \n",
      "\n",
      "The simplified expression is (2 x^2)/(x - 1) + (3 x)/(x - 1) - 4/(x - 1).\n"
     ]
    }
   ],
   "source": [
    "response = llm.invoke(\n",
    "    prompt=\"Simplify the expression (2x^2 + 3x - 4)/(x - 1)\",\n",
    "    system_prompt=system_prompt,\n",
    "    tool_config=toolConfig,\n",
    "    ToolsList=ToolsList\n",
    ")\n",
    "if type(response) is str:\n",
    "    print(f\"{Fore.GREEN}Response:\\n {response}\")\n",
    "else:\n",
    "    img = Image.open(io.BytesIO(response))\n",
    "    img.show()"
   ]
  },
  {
   "cell_type": "markdown",
   "metadata": {},
   "source": [
    "Excellent! Llama 3.1 called our Wolfram alpha function to then run the math operation. Now, let's try with a different question that requires plotting a function using another tool."
   ]
  },
  {
   "cell_type": "markdown",
   "metadata": {},
   "source": [
    "### 3. Tool use - Image generation"
   ]
  },
  {
   "cell_type": "code",
   "execution_count": 27,
   "metadata": {},
   "outputs": [
    {
     "name": "stdout",
     "output_type": "stream",
     "text": [
      "\u001b[34mGenerating message with model meta.llama3-1-70b-instruct-v1:0\n",
      "\u001b[34mParameters for searching in Wolfram Alpha: {'function': 'sin x cos y'}\n",
      "\u001b[34mTool response is an image\n",
      "\u001b[34mInput tokens: 183\n",
      "\u001b[34mOutput tokens: 22\n",
      "\u001b[34mTotal tokens: 205\n",
      "\u001b[34mStop reason: tool_use\n"
     ]
    },
    {
     "data": {
      "image/png": "[encoded data removed]",
      "text/plain": [
       "<PIL.GifImagePlugin.GifImageFile image mode=P size=330x259>"
      ]
     },
     "metadata": {},
     "output_type": "display_data"
    }
   ],
   "source": [
    "response = llm.invoke(\n",
    "    prompt=\"Plot sin x cos y\",\n",
    "    system_prompt=system_prompt,\n",
    "    tool_config=toolConfig,\n",
    "    ToolsList=ToolsList\n",
    ")\n",
    "if type(response) is str:\n",
    "    print(f\"{Fore.GREEN}Response:\\n {response}\")\n",
    "else:\n",
    "    img = Image.open(io.BytesIO(response))\n",
    "    img.show()"
   ]
  },
  {
   "cell_type": "markdown",
   "metadata": {},
   "source": [
    "Perfect! The model was able to identify the function to be rendered and used our wolfram alpha tool to generate a plot."
   ]
  },
  {
   "cell_type": "code",
   "execution_count": null,
   "metadata": {},
   "outputs": [],
   "source": []
  }
 ],
 "metadata": {
  "kernelspec": {
   "display_name": "conda_pytorch_p310",
   "language": "python",
   "name": "conda_pytorch_p310"
  },
  "language_info": {
   "codemirror_mode": {
    "name": "ipython",
    "version": 3
   },
   "file_extension": ".py",
   "mimetype": "text/x-python",
   "name": "python",
   "nbconvert_exporter": "python",
   "pygments_lexer": "ipython3",
   "version": "3.10.14"
  }
 },
 "nbformat": 4,
 "nbformat_minor": 4
}
