{
 "cells": [
  {
   "cell_type": "markdown",
   "id": "d93d42ac-4a17-4d20-b6a6-706c06f26c93",
   "metadata": {},
   "source": [
    "# Deploy Custom Llama 3 8B to SageMaker Endpoint with Benchmark Across GPU Instances"
   ]
  },
  {
   "cell_type": "markdown",
   "id": "9f517f46-eb28-472f-840a-d7a3df1c0e25",
   "metadata": {},
   "source": [
    "This notebook is intended to show how we can deploy a llama 3 8b instruct model into Amazon SageMaker realtime endpoint and perform benchmarking across instance types. Instead of using SageMaker Jumpstart, this notebook deploys local model weights. You can use this notebook to deploy your tuned model whose weight is stored locally. If you do not have any model weights stored locally, this notebook has an option to download the original model weight from HuggingFace first into local, before deploying it.\n",
    "\n",
    "The model is to be deployed into ml.g5, ml.g6, and ml.g6e instance families in SageMaker realtime endpoint. This notebook has 5 experiments:\n",
    "- Deploying model into a single A10G GPU instance with lower vCPU and RAM\n",
    "- Deploying model into a single A10G GPU instance with higher vCPU and RAM\n",
    "- Deploying model into a multi A10G GPU instance (with tensor parallellism)\n",
    "- Deploying model into a single L4 GPU instance\n",
    "- Deploying model into a single L40S GPU instance\n",
    "\n",
    "This notebook focuses on deploying models into SageMaker realtime endpoint with DJL - LMI serving, with vLLM. Other methods exist, including using TensorRT, TGI, and neuronx for inferentia, which are not covered in this notebook.\n",
    "\n",
    "For each experiment, this notebook perform performance test with [llmeter](https://github.com/awslabs/llmeter/blob/main/llmeter/endpoints/sagemaker.py). At the end the notebook tries to compare the performance across the experiments, along with the performance per dollar cost."
   ]
  },
  {
   "cell_type": "markdown",
   "id": "27bbd474-da40-407e-a435-839799e5ab04",
   "metadata": {},
   "source": [
    "## 0. Preparation"
   ]
  },
  {
   "cell_type": "markdown",
   "id": "fe1961ca-2441-434f-be64-4f1614ec4c35",
   "metadata": {},
   "source": [
    "**Install required libraries**"
   ]
  },
  {
   "cell_type": "code",
   "execution_count": null,
   "id": "09de5d30-3589-4d20-859a-2d11029937f7",
   "metadata": {
    "execution": {
     "iopub.execute_input": "2025-09-26T03:13:14.483865Z",
     "iopub.status.busy": "2025-09-26T03:13:14.483573Z",
     "iopub.status.idle": "2025-09-26T03:13:34.984109Z",
     "shell.execute_reply": "2025-09-26T03:13:34.983295Z",
     "shell.execute_reply.started": "2025-09-26T03:13:14.483844Z"
    },
    "scrolled": true
   },
   "outputs": [],
   "source": [
    "!pip install huggingface_hub sagemaker boto3\n",
    "!pip install llmeter"
   ]
  },
  {
   "cell_type": "code",
   "execution_count": null,
   "id": "b429e22c-6396-406a-af53-c379628dae8b",
   "metadata": {
    "execution": {
     "iopub.execute_input": "2025-09-26T03:13:34.985814Z",
     "iopub.status.busy": "2025-09-26T03:13:34.985461Z",
     "iopub.status.idle": "2025-09-26T03:13:38.643267Z",
     "shell.execute_reply": "2025-09-26T03:13:38.642513Z",
     "shell.execute_reply.started": "2025-09-26T03:13:34.985778Z"
    },
    "scrolled": true
   },
   "outputs": [],
   "source": [
    "!pip install -U boto3\n",
    "!pip install -U sagemaker"
   ]
  },
  {
   "cell_type": "markdown",
   "id": "1ffef688-e04d-4916-a4dc-41685ebb7bd4",
   "metadata": {},
   "source": [
    "**[Optional] Install git-lfs to download large files**\n",
    "\n",
    "This is only needed if you need to download the original model weights from HuggingFace\n",
    "\n",
    "**If you already have your tuned LLM weights** there is **NO NEED** to install this"
   ]
  },
  {
   "cell_type": "code",
   "execution_count": null,
   "id": "e5cc173e-af0f-41a3-b342-ed17baf8202f",
   "metadata": {
    "execution": {
     "iopub.execute_input": "2025-09-26T03:13:38.644284Z",
     "iopub.status.busy": "2025-09-26T03:13:38.644045Z",
     "iopub.status.idle": "2025-09-26T03:13:48.561034Z",
     "shell.execute_reply": "2025-09-26T03:13:48.560295Z",
     "shell.execute_reply.started": "2025-09-26T03:13:38.644260Z"
    },
    "scrolled": true
   },
   "outputs": [],
   "source": [
    "!sudo apt-get update\n",
    "!curl -s https://packagecloud.io/install/repositories/github/git-lfs/script.deb.sh | sudo bash\n",
    "!sudo apt-get install git-lfs\n",
    "!git lfs install"
   ]
  },
  {
   "cell_type": "markdown",
   "id": "e98d8aa4-34b5-4273-9de6-7d8c2fcb05c8",
   "metadata": {},
   "source": [
    "**Stop!!! Restart kernel**"
   ]
  },
  {
   "cell_type": "code",
   "execution_count": null,
   "id": "9571b939-413e-4e58-b343-f468f8c0e637",
   "metadata": {
    "execution": {
     "iopub.execute_input": "2025-09-26T03:13:48.562946Z",
     "iopub.status.busy": "2025-09-26T03:13:48.562616Z",
     "iopub.status.idle": "2025-09-26T03:13:48.567418Z",
     "shell.execute_reply": "2025-09-26T03:13:48.566687Z",
     "shell.execute_reply.started": "2025-09-26T03:13:48.562912Z"
    }
   },
   "outputs": [],
   "source": [
    "import boto3\n",
    "boto3.__version__"
   ]
  },
  {
   "cell_type": "code",
   "execution_count": null,
   "id": "2df84fad-d572-47ae-81fd-e1a722794877",
   "metadata": {
    "execution": {
     "iopub.execute_input": "2025-09-26T03:13:48.568613Z",
     "iopub.status.busy": "2025-09-26T03:13:48.568283Z",
     "iopub.status.idle": "2025-09-26T03:13:48.573068Z",
     "shell.execute_reply": "2025-09-26T03:13:48.572487Z",
     "shell.execute_reply.started": "2025-09-26T03:13:48.568585Z"
    }
   },
   "outputs": [],
   "source": [
    "import sagemaker\n",
    "sagemaker.__version__"
   ]
  },
  {
   "cell_type": "markdown",
   "id": "40c1422d-9770-4253-b409-c08b0585ce75",
   "metadata": {},
   "source": [
    "**Import libraries and initialize variables**"
   ]
  },
  {
   "cell_type": "code",
   "execution_count": null,
   "id": "1971d60a-197f-4ae4-80de-0a737e1845f7",
   "metadata": {
    "execution": {
     "iopub.execute_input": "2025-09-26T03:13:48.573971Z",
     "iopub.status.busy": "2025-09-26T03:13:48.573718Z",
     "iopub.status.idle": "2025-09-26T03:13:48.578631Z",
     "shell.execute_reply": "2025-09-26T03:13:48.578093Z",
     "shell.execute_reply.started": "2025-09-26T03:13:48.573945Z"
    },
    "scrolled": true
   },
   "outputs": [],
   "source": [
    "import os\n",
    "import json\n",
    "import glob\n",
    "from pathlib import Path\n",
    "import boto3\n",
    "import sagemaker\n",
    "from sagemaker.model import Model\n",
    "from sagemaker.huggingface import HuggingFaceModel\n",
    "from sagemaker import image_uris, serializers, Predictor\n",
    "from huggingface_hub import snapshot_download\n",
    "from huggingface_hub import notebook_login\n",
    "import tarfile\n",
    "from datetime import datetime\n",
    "from llmeter.endpoints.base import InvocationResponse, Endpoint\n",
    "from llmeter.endpoints import SageMakerEndpoint\n",
    "from llmeter.experiments import LoadTest\n",
    "from llmeter.runner import Runner"
   ]
  },
  {
   "cell_type": "code",
   "execution_count": null,
   "id": "37d4346c-d65b-4aec-9ae9-830f872f8f06",
   "metadata": {
    "execution": {
     "iopub.execute_input": "2025-09-26T03:13:48.579575Z",
     "iopub.status.busy": "2025-09-26T03:13:48.579317Z",
     "iopub.status.idle": "2025-09-26T03:13:48.583238Z",
     "shell.execute_reply": "2025-09-26T03:13:48.582710Z",
     "shell.execute_reply.started": "2025-09-26T03:13:48.579550Z"
    }
   },
   "outputs": [],
   "source": [
    "region_name = \"us-west-2\""
   ]
  },
  {
   "cell_type": "markdown",
   "id": "7d0cc181",
   "metadata": {},
   "source": [
    "The step below contains manual action for the HF_TOKEN"
   ]
  },
  {
   "cell_type": "code",
   "execution_count": null,
   "id": "1638d26e-b8c0-458c-8cef-9d759f865e1c",
   "metadata": {
    "execution": {
     "iopub.execute_input": "2025-09-26T03:13:48.584192Z",
     "iopub.status.busy": "2025-09-26T03:13:48.583923Z",
     "iopub.status.idle": "2025-09-26T03:13:49.205769Z",
     "shell.execute_reply": "2025-09-26T03:13:49.205035Z",
     "shell.execute_reply.started": "2025-09-26T03:13:48.584166Z"
    },
    "scrolled": true
   },
   "outputs": [],
   "source": [
    "# Configuration\n",
    "HF_TOKEN = \"PLACEHOLDER\"  # Replace with your HF token or get from environment variable (more secure)\n",
    "MODEL_NAME = \"meta-llama/Meta-Llama-3-8B-Instruct\"\n",
    "sess = sagemaker.Session()\n",
    "role = sagemaker.get_execution_role()\n",
    "bucket_name = sess.default_bucket()\n",
    "prefix = \"llama3-8b-instruct\"\n",
    "\n",
    "print(f\"SageMaker role: {role}\")\n",
    "print(f\"S3 bucket: {bucket_name}\")"
   ]
  },
  {
   "cell_type": "markdown",
   "id": "68bd4f0d-48b7-4479-a410-ddf3c3739473",
   "metadata": {},
   "source": [
    "**Define sample input for inference test**"
   ]
  },
  {
   "cell_type": "code",
   "execution_count": null,
   "id": "fbb11395-a68a-40cd-9e47-fe3108d2b649",
   "metadata": {
    "execution": {
     "iopub.execute_input": "2025-09-26T03:13:49.206772Z",
     "iopub.status.busy": "2025-09-26T03:13:49.206480Z",
     "iopub.status.idle": "2025-09-26T03:13:49.211397Z",
     "shell.execute_reply": "2025-09-26T03:13:49.210884Z",
     "shell.execute_reply.started": "2025-09-26T03:13:49.206744Z"
    }
   },
   "outputs": [],
   "source": [
    "texts = [open(f).read() for f in glob.glob('./sample_payloads/transcript_*.txt')]"
   ]
  },
  {
   "cell_type": "code",
   "execution_count": null,
   "id": "66768bf4-9cef-4a1b-99f1-93aef835f3cd",
   "metadata": {
    "execution": {
     "iopub.execute_input": "2025-09-26T03:13:49.214138Z",
     "iopub.status.busy": "2025-09-26T03:13:49.213945Z",
     "iopub.status.idle": "2025-09-26T03:13:49.218132Z",
     "shell.execute_reply": "2025-09-26T03:13:49.217405Z",
     "shell.execute_reply.started": "2025-09-26T03:13:49.214121Z"
    }
   },
   "outputs": [],
   "source": [
    "text = texts[0]\n",
    "text"
   ]
  },
  {
   "cell_type": "code",
   "execution_count": null,
   "id": "c448609f-5387-4d38-a9b2-6b6e07a91c56",
   "metadata": {
    "execution": {
     "iopub.execute_input": "2025-09-26T03:13:49.219490Z",
     "iopub.status.busy": "2025-09-26T03:13:49.219221Z",
     "iopub.status.idle": "2025-09-26T03:13:49.223724Z",
     "shell.execute_reply": "2025-09-26T03:13:49.223097Z",
     "shell.execute_reply.started": "2025-09-26T03:13:49.219463Z"
    }
   },
   "outputs": [],
   "source": [
    "input_estimated_number_of_tokens = len(text) / 4\n",
    "\n",
    "print(f\"There are ~ {input_estimated_number_of_tokens} tokens in the input\")"
   ]
  },
  {
   "cell_type": "markdown",
   "id": "bc330773-c676-4079-81ff-3358f7654d76",
   "metadata": {},
   "source": [
    "## 1. [Optional] Download original model weight"
   ]
  },
  {
   "cell_type": "markdown",
   "id": "05443fba-afec-4d33-a9a4-576cf27d4bfc",
   "metadata": {},
   "source": [
    "**Important**: This whole section is intended to fetch original LLM weights from HuggingFace. If you already have your own LLM weights since you might already tuned the model, you can substitute this step by simply adding code to point `model_snapshot_path` variable to the folder where your model weights reside. For example `model_snapshot_path = \"./tuned_llm\"`"
   ]
  },
  {
   "cell_type": "code",
   "execution_count": null,
   "id": "c7af03f7-e9d0-43f3-9ceb-68043de46bbd",
   "metadata": {
    "execution": {
     "iopub.execute_input": "2025-09-26T03:13:49.224754Z",
     "iopub.status.busy": "2025-09-26T03:13:49.224487Z",
     "iopub.status.idle": "2025-09-26T03:13:49.244015Z",
     "shell.execute_reply": "2025-09-26T03:13:49.243469Z",
     "shell.execute_reply.started": "2025-09-26T03:13:49.224728Z"
    }
   },
   "outputs": [],
   "source": [
    "notebook_login()"
   ]
  },
  {
   "cell_type": "markdown",
   "id": "3c6a57e4-5eea-45d0-9103-28aa5f7f0398",
   "metadata": {},
   "source": [
    "**Download model**"
   ]
  },
  {
   "cell_type": "code",
   "execution_count": null,
   "id": "a34d8e27-5766-484c-9850-0afa1a19bee6",
   "metadata": {
    "execution": {
     "iopub.execute_input": "2025-09-26T03:13:49.245523Z",
     "iopub.status.busy": "2025-09-26T03:13:49.245332Z",
     "iopub.status.idle": "2025-09-26T03:21:38.666433Z",
     "shell.execute_reply": "2025-09-26T03:21:38.664446Z",
     "shell.execute_reply.started": "2025-09-26T03:13:49.245506Z"
    },
    "scrolled": true
   },
   "outputs": [],
   "source": [
    "# Download model from Hugging Face\n",
    "print(\"Downloading Llama 3 8B Instruct model...\")\n",
    "local_model_path = Path(\"./llama3-8b-instruct\")\n",
    "\n",
    "snapshot_download(\n",
    "    repo_id=MODEL_NAME,\n",
    "    cache_dir=local_model_path\n",
    ")\n",
    "\n",
    "print(f\"Model downloaded to: {local_model_path}\")"
   ]
  },
  {
   "cell_type": "code",
   "execution_count": null,
   "id": "69e4d4ec-2067-4d1d-84c0-8a68d3a1d374",
   "metadata": {
    "execution": {
     "iopub.execute_input": "2025-09-26T03:21:38.668309Z",
     "iopub.status.busy": "2025-09-26T03:21:38.667353Z",
     "iopub.status.idle": "2025-09-26T03:21:38.676324Z",
     "shell.execute_reply": "2025-09-26T03:21:38.675745Z",
     "shell.execute_reply.started": "2025-09-26T03:21:38.668268Z"
    }
   },
   "outputs": [],
   "source": [
    "model_snapshot_path = list(local_model_path.glob(\"**/snapshots/*\"))[0]"
   ]
  },
  {
   "cell_type": "code",
   "execution_count": null,
   "id": "8d872b7d-7ed3-4a3c-9bed-6220c59df7a4",
   "metadata": {
    "execution": {
     "iopub.execute_input": "2025-09-26T03:21:38.677487Z",
     "iopub.status.busy": "2025-09-26T03:21:38.677198Z",
     "iopub.status.idle": "2025-09-26T03:21:38.757794Z",
     "shell.execute_reply": "2025-09-26T03:21:38.757131Z",
     "shell.execute_reply.started": "2025-09-26T03:21:38.677458Z"
    }
   },
   "outputs": [],
   "source": [
    "# Use this when you want to manually point this to your tuned LLM weight folder\n",
    "\n",
    "# model_snapshot_path = \"some-folder-path\""
   ]
  },
  {
   "cell_type": "markdown",
   "id": "2a5c04cc-f16b-4b22-ac2b-96070f97de8e",
   "metadata": {},
   "source": [
    "## 2. Upload model to S3"
   ]
  },
  {
   "cell_type": "code",
   "execution_count": null,
   "id": "d3cecf61-156b-405a-b42d-93b41c78b874",
   "metadata": {
    "execution": {
     "iopub.execute_input": "2025-09-26T03:21:38.758632Z",
     "iopub.status.busy": "2025-09-26T03:21:38.758428Z",
     "iopub.status.idle": "2025-09-26T03:25:53.953770Z",
     "shell.execute_reply": "2025-09-26T03:25:53.953020Z",
     "shell.execute_reply.started": "2025-09-26T03:21:38.758613Z"
    },
    "scrolled": true
   },
   "outputs": [],
   "source": [
    "timestamp = datetime.now().strftime(\"%Y%m%d-%H%M%S\")\n",
    "s3_model_prefix = f\"custom-llama3-8b-instruct/{timestamp}/model\"\n",
    "\n",
    "print(f\"Uploading to S3: {s3_model_prefix}\")\n",
    "\n",
    "!aws s3 cp --recursive {model_snapshot_path} s3://{bucket_name}/{s3_model_prefix}\n",
    "print(\"Upload completed\")"
   ]
  },
  {
   "cell_type": "code",
   "execution_count": null,
   "id": "308693e7-5ade-4ee4-a4c7-184c83245005",
   "metadata": {
    "execution": {
     "iopub.execute_input": "2025-09-26T03:25:53.954766Z",
     "iopub.status.busy": "2025-09-26T03:25:53.954548Z",
     "iopub.status.idle": "2025-09-26T03:25:53.958246Z",
     "shell.execute_reply": "2025-09-26T03:25:53.957479Z",
     "shell.execute_reply.started": "2025-09-26T03:25:53.954744Z"
    }
   },
   "outputs": [],
   "source": [
    "s3_uri = f\"s3://{bucket_name}/{s3_model_prefix}/\""
   ]
  },
  {
   "cell_type": "markdown",
   "id": "b9f65a72-ab0d-4098-8384-bf7c9a7b90b7",
   "metadata": {},
   "source": [
    "## 3. Experiment 1: Deploy to single A10G GPU & lower vCPU + RAM"
   ]
  },
  {
   "cell_type": "markdown",
   "id": "f285ba99-4645-44ae-b118-acda1397505e",
   "metadata": {},
   "source": [
    "**Using ml.g5.xlarge** with 1 GPU accelerator (24 GB VRAM), 4 vCPU and 16 GB RAM\n",
    "\n",
    "**Price per hour (on-demand)** in Oregon region at the writing of this is around \"$1.408\""
   ]
  },
  {
   "cell_type": "code",
   "execution_count": null,
   "id": "6d0eaef9-0926-46de-a8d4-3d74dae7cd89",
   "metadata": {
    "execution": {
     "iopub.execute_input": "2025-10-02T03:12:25.574360Z",
     "iopub.status.busy": "2025-10-02T03:12:25.574073Z",
     "iopub.status.idle": "2025-10-02T03:12:25.577763Z",
     "shell.execute_reply": "2025-10-02T03:12:25.576812Z",
     "shell.execute_reply.started": "2025-10-02T03:12:25.574336Z"
    }
   },
   "outputs": [],
   "source": [
    "exp_1 = {\n",
    "    \"instance_type\": \"ml.g5.xlarge\",\n",
    "    \"vram\": 24,\n",
    "    \"vcpu\": 4,\n",
    "    \"ram\": 16,\n",
    "    \"hourly_compute_price_in_sin\": 1.408\n",
    "}"
   ]
  },
  {
   "cell_type": "markdown",
   "id": "ebf8eb28-bd43-4608-8d44-6d7618c553c8",
   "metadata": {},
   "source": [
    "**Write and upload serving.properties for DJL configuration**"
   ]
  },
  {
   "cell_type": "markdown",
   "id": "9856c99a-7184-49bf-93a1-e87cc2fc4b8e",
   "metadata": {},
   "source": [
    "**Important**: Make sure the tensor_parallel_degree config and other relevant config is well configured according to the instance type that you intend to use for the deployment. Different instance type may have different number of accelerator and VRAM per accelerator"
   ]
  },
  {
   "cell_type": "code",
   "execution_count": null,
   "id": "f976d355-6429-4367-80fc-8f608ae79d09",
   "metadata": {
    "execution": {
     "iopub.execute_input": "2025-09-26T03:25:53.965384Z",
     "iopub.status.busy": "2025-09-26T03:25:53.964828Z",
     "iopub.status.idle": "2025-09-26T03:25:53.972048Z",
     "shell.execute_reply": "2025-09-26T03:25:53.971503Z",
     "shell.execute_reply.started": "2025-09-26T03:25:53.965356Z"
    }
   },
   "outputs": [],
   "source": [
    "exp_1_serving_properties_content= f\"\"\"engine=Python\n",
    "option.entryPoint=djl_python.huggingface\n",
    "option.model_id={s3_uri}\n",
    "option.max_rolling_batch_size=32\n",
    "option.tensor_parallel_degree=1\n",
    "option.rolling_batch=auto\n",
    "option.enable_mixed_precision_accumulation=true\n",
    "option.model_loading_timeout=1000\"\"\"\n",
    "open('serving.properties', 'w').write(exp_1_serving_properties_content)"
   ]
  },
  {
   "cell_type": "markdown",
   "id": "8f369e3c-49c6-4f69-a4fb-15794e1bd4b5",
   "metadata": {},
   "source": [
    "**Package the serving.properties into a tar.gz file and then upload to S3**"
   ]
  },
  {
   "cell_type": "code",
   "execution_count": null,
   "id": "d72a9863-8155-4d7d-a375-7170cc405639",
   "metadata": {
    "execution": {
     "iopub.execute_input": "2025-09-26T03:25:53.973275Z",
     "iopub.status.busy": "2025-09-26T03:25:53.972776Z",
     "iopub.status.idle": "2025-09-26T03:25:54.016772Z",
     "shell.execute_reply": "2025-09-26T03:25:54.016180Z",
     "shell.execute_reply.started": "2025-09-26T03:25:53.973246Z"
    }
   },
   "outputs": [],
   "source": [
    "%%sh\n",
    "mkdir exp_1_model\n",
    "mv serving.properties exp_1_model/\n",
    "tar czvf exp_1_model.tar.gz exp_1_model/\n",
    "rm -rf exp_1_model"
   ]
  },
  {
   "cell_type": "code",
   "execution_count": null,
   "id": "e63822b7-a645-424a-b78a-6fd6d144ebf8",
   "metadata": {
    "execution": {
     "iopub.execute_input": "2025-09-26T03:25:54.018009Z",
     "iopub.status.busy": "2025-09-26T03:25:54.017569Z",
     "iopub.status.idle": "2025-09-26T03:25:54.139929Z",
     "shell.execute_reply": "2025-09-26T03:25:54.139317Z",
     "shell.execute_reply.started": "2025-09-26T03:25:54.017979Z"
    }
   },
   "outputs": [],
   "source": [
    "exp_1_s3_code_prefix = \"llama3-8b-exp-1/code\"\n",
    "exp_1_code_artifact = sess.upload_data(\"exp_1_model.tar.gz\", bucket_name, exp_1_s3_code_prefix)\n",
    "print(f\"S3 Code or Model tar ball uploaded to --- &gt; {exp_1_code_artifact}\")"
   ]
  },
  {
   "cell_type": "markdown",
   "id": "cf8461b9-14eb-4409-bb6d-734b1639486f",
   "metadata": {},
   "source": [
    "**Set inference container image**\n",
    "\n",
    "Use SageMaker LMI with DJL and vLLM"
   ]
  },
  {
   "cell_type": "code",
   "execution_count": null,
   "id": "21938d07-264d-4283-805a-7769bccb6242",
   "metadata": {
    "execution": {
     "iopub.execute_input": "2025-09-26T03:25:54.140721Z",
     "iopub.status.busy": "2025-09-26T03:25:54.140518Z",
     "iopub.status.idle": "2025-09-26T03:25:54.145448Z",
     "shell.execute_reply": "2025-09-26T03:25:54.144826Z",
     "shell.execute_reply.started": "2025-09-26T03:25:54.140703Z"
    }
   },
   "outputs": [],
   "source": [
    "exp_1_image_uri = f\"763104351884.dkr.ecr.{sess.boto_session.region_name}.amazonaws.com/djl-inference:0.32.0-lmi14.0.0-cu126\""
   ]
  },
  {
   "cell_type": "markdown",
   "id": "afd4494e-1f1f-45f4-bf5a-3639612bf677",
   "metadata": {},
   "source": [
    "**Create SageMaker Model object**\n",
    "\n",
    "**Important**: Make sure that the IAM role passed here allows SageMaker to assume it (Trust Policy) and allows necessary permissions (e.g. accessing model location in S3, downloading container image from ECR, publishing logs and metrics to CloudWatch)"
   ]
  },
  {
   "cell_type": "code",
   "execution_count": null,
   "id": "c384c979-e706-4568-b7cc-32a5c2e9eb02",
   "metadata": {
    "execution": {
     "iopub.execute_input": "2025-09-26T03:25:54.146615Z",
     "iopub.status.busy": "2025-09-26T03:25:54.146347Z",
     "iopub.status.idle": "2025-09-26T03:25:54.151674Z",
     "shell.execute_reply": "2025-09-26T03:25:54.150101Z",
     "shell.execute_reply.started": "2025-09-26T03:25:54.146586Z"
    }
   },
   "outputs": [],
   "source": [
    "exp_1_model = Model(image_uri=exp_1_image_uri, model_data=exp_1_code_artifact, role=role)"
   ]
  },
  {
   "cell_type": "markdown",
   "id": "726ed130-1a02-4055-825f-86deddaee74d",
   "metadata": {},
   "source": [
    "**Deploy the model**"
   ]
  },
  {
   "cell_type": "code",
   "execution_count": null,
   "id": "2349aa68-54a1-48cc-92c5-594881dc122e",
   "metadata": {
    "execution": {
     "iopub.execute_input": "2025-09-26T03:25:54.152744Z",
     "iopub.status.busy": "2025-09-26T03:25:54.152464Z"
    }
   },
   "outputs": [],
   "source": [
    "timestamp = datetime.now().strftime(\"%Y%m%d%H%M%S\")\n",
    "exp_1_endpoint_name= f\"llama3-8b-exp-1-{timestamp}\"\n",
    "exp_1_instance_type = exp_1['instance_type']\n",
    "\n",
    "exp_1_model.deploy(\n",
    "    instance_type=exp_1_instance_type,\n",
    "    initial_instance_count=1,\n",
    "    endpoint_name=exp_1_endpoint_name,\n",
    "    container_startup_health_check_timeout=1000\n",
    ")"
   ]
  },
  {
   "cell_type": "markdown",
   "id": "8efca5b6-af02-446e-b98b-9a6ff6663a8e",
   "metadata": {},
   "source": [
    "**Do inference test**"
   ]
  },
  {
   "cell_type": "code",
   "execution_count": null,
   "id": "b39bf22c-7a97-45e8-8421-d7ff705c0924",
   "metadata": {},
   "outputs": [],
   "source": [
    "# payload\n",
    "exp_1_input_data = {\n",
    "    \"inputs\": text, \n",
    "    \"parameters\": {\"max_new_tokens\":512, \"do_sample\":\"true\"}\n",
    "}\n",
    "\n",
    "# predictor class\n",
    "exp_1_predictor = sagemaker.Predictor(\n",
    "    endpoint_name=exp_1_endpoint_name,\n",
    "    serializer=serializers.JSONSerializer()\n",
    ")\n",
    "\n",
    "# post request\n",
    "exp_1_response = exp_1_predictor.predict(exp_1_input_data)\n",
    "exp_1_response_data = json.loads(exp_1_response)\n",
    "print(exp_1_response_data)"
   ]
  },
  {
   "cell_type": "markdown",
   "id": "b7766489-38b0-4982-b19d-18fd31cc6975",
   "metadata": {},
   "source": [
    "**Test performance with LLMeter**"
   ]
  },
  {
   "cell_type": "code",
   "execution_count": null,
   "id": "a748a4c3-33d0-4315-bbb9-20bb1873a4f1",
   "metadata": {},
   "outputs": [],
   "source": [
    "exp_1_sagemaker_endpoint = SageMakerEndpoint(\n",
    "    exp_1_endpoint_name,\n",
    "    model_id=MODEL_NAME,\n",
    "    generated_text_jmespath=\"generated_text\",\n",
    ")"
   ]
  },
  {
   "cell_type": "code",
   "execution_count": null,
   "id": "b9c967a8-2586-4231-b528-4dac0eef51b5",
   "metadata": {
    "scrolled": true
   },
   "outputs": [],
   "source": [
    "exp_1_payloads = [exp_1_sagemaker_endpoint.create_payload(t) for t in texts]"
   ]
  },
  {
   "cell_type": "code",
   "execution_count": null,
   "id": "91aec01a-6242-4d45-bb7e-91384e2ece66",
   "metadata": {},
   "outputs": [],
   "source": [
    "exp_1_load_test = LoadTest(\n",
    "    endpoint=exp_1_sagemaker_endpoint,\n",
    "    payload=exp_1_payloads,\n",
    "    sequence_of_clients=[1, 5, 10],\n",
    "    output_path=f\"outputs/{prefix}_exp_1/load_test\",\n",
    "    min_requests_per_run=30,\n",
    "    min_requests_per_client=10\n",
    ")"
   ]
  },
  {
   "cell_type": "code",
   "execution_count": null,
   "id": "1f04893b-6bb7-4e6e-83c7-288f05426cdc",
   "metadata": {
    "execution": {
     "iopub.status.idle": "2025-09-26T03:40:37.923791Z"
    },
    "scrolled": true
   },
   "outputs": [],
   "source": [
    "exp_1_load_test_results = await exp_1_load_test.run()"
   ]
  },
  {
   "cell_type": "code",
   "execution_count": null,
   "id": "7bc263f8-2814-492a-b550-66659efe293b",
   "metadata": {
    "execution": {
     "iopub.execute_input": "2025-09-26T03:40:37.924998Z",
     "iopub.status.busy": "2025-09-26T03:40:37.924488Z"
    }
   },
   "outputs": [],
   "source": [
    "exp_1_figures = exp_1_load_test_results.plot_results()"
   ]
  },
  {
   "cell_type": "markdown",
   "id": "cecc8bf1-3465-4586-831e-b7c3932b16b1",
   "metadata": {},
   "source": [
    "## 4. Experiment 2: Deploy to single A10G GPU & higher vCPU + RAM"
   ]
  },
  {
   "cell_type": "markdown",
   "id": "19c529bf-1503-4011-8778-ed5a29d9cea2",
   "metadata": {},
   "source": [
    "**Using ml.g5.8xlarge** with 1 GPU accelerator (24 GB VRAM), 32 vCPU and 128 GB RAM\n",
    "\n",
    "**Price per hour (on-demand)** in Oregon region at the writing of this is around \"$3.06\""
   ]
  },
  {
   "cell_type": "code",
   "execution_count": null,
   "id": "1442abea-88a1-494e-8b9a-b8e828360d43",
   "metadata": {
    "execution": {
     "iopub.execute_input": "2025-10-02T03:13:25.422095Z",
     "iopub.status.busy": "2025-10-02T03:13:25.421827Z",
     "iopub.status.idle": "2025-10-02T03:13:25.425398Z",
     "shell.execute_reply": "2025-10-02T03:13:25.424450Z",
     "shell.execute_reply.started": "2025-10-02T03:13:25.422074Z"
    }
   },
   "outputs": [],
   "source": [
    "exp_2 = {\n",
    "    \"instance_type\": \"ml.g5.8xlarge\",\n",
    "    \"vram\": 24,\n",
    "    \"vcpu\": 32,\n",
    "    \"ram\": 128,\n",
    "    \"hourly_compute_price_in_sin\": 3.06\n",
    "}"
   ]
  },
  {
   "cell_type": "markdown",
   "id": "04c49bad-0037-4be1-ad3d-27f7b8acba79",
   "metadata": {},
   "source": [
    "**Write and upload serving.properties for DJL configuration**"
   ]
  },
  {
   "cell_type": "markdown",
   "id": "41de8877-ff1f-4614-8579-c72d9c86dac6",
   "metadata": {},
   "source": [
    "**Important**: Make sure the tensor_parallel_degree config and other relevant config is well configured according to the instance type that you intend to use for the deployment. Different instance type may have different number of accelerator and VRAM per accelerator"
   ]
  },
  {
   "cell_type": "code",
   "execution_count": null,
   "id": "1babea6e-df0f-4d52-b715-630af7305f35",
   "metadata": {},
   "outputs": [],
   "source": [
    "exp_2_serving_properties_content= f\"\"\"engine=Python\n",
    "option.entryPoint=djl_python.huggingface\n",
    "option.model_id={s3_uri}\n",
    "option.max_rolling_batch_size=32\n",
    "option.tensor_parallel_degree=1\n",
    "option.rolling_batch=auto\n",
    "option.enable_mixed_precision_accumulation=true\n",
    "option.model_loading_timeout=1000\"\"\"\n",
    "open('serving.properties', 'w').write(exp_2_serving_properties_content)"
   ]
  },
  {
   "cell_type": "markdown",
   "id": "5c2b29b1-324a-4a61-9a68-1bd6e33f0a34",
   "metadata": {},
   "source": [
    "**Package the serving.properties into a tar.gz file and then upload to S3**"
   ]
  },
  {
   "cell_type": "code",
   "execution_count": null,
   "id": "3f8330b9-9d63-4bce-8a8e-39425ca38b18",
   "metadata": {},
   "outputs": [],
   "source": [
    "%%sh\n",
    "mkdir exp_2_model\n",
    "mv serving.properties exp_2_model/\n",
    "tar czvf exp_2_model.tar.gz exp_2_model/\n",
    "rm -rf exp_2_model"
   ]
  },
  {
   "cell_type": "code",
   "execution_count": null,
   "id": "e24d9007-67ab-4df2-b3fd-bfacf9a96b53",
   "metadata": {},
   "outputs": [],
   "source": [
    "exp_2_s3_code_prefix = \"llama3-8b-exp-2/code\"\n",
    "exp_2_code_artifact = sess.upload_data(\"exp_2_model.tar.gz\", bucket_name, exp_2_s3_code_prefix)\n",
    "print(f\"S3 Code or Model tar ball uploaded to --- &gt; {exp_2_code_artifact}\")"
   ]
  },
  {
   "cell_type": "markdown",
   "id": "d5e8af46-3b36-48f7-817c-1dace7e32cd9",
   "metadata": {},
   "source": [
    "**Set inference container image**\n",
    "\n",
    "Use SageMaker LMI with DJL and vLLM"
   ]
  },
  {
   "cell_type": "code",
   "execution_count": null,
   "id": "f9bf9b86-48b8-4845-9ccc-657704ad1084",
   "metadata": {},
   "outputs": [],
   "source": [
    "exp_2_image_uri = f\"763104351884.dkr.ecr.{sess.boto_session.region_name}.amazonaws.com/djl-inference:0.32.0-lmi14.0.0-cu126\""
   ]
  },
  {
   "cell_type": "markdown",
   "id": "f59de4b4-06fb-4130-8823-a097aa41b59a",
   "metadata": {},
   "source": [
    "**Create SageMaker Model object**\n",
    "\n",
    "**Important**: Make sure that the IAM role passed here allows SageMaker to assume it (Trust Policy) and allows necessary permissions (e.g. accessing model location in S3, downloading container image from ECR, publishing logs and metrics to CloudWatch)"
   ]
  },
  {
   "cell_type": "code",
   "execution_count": null,
   "id": "8c97f0cc-5fc5-4185-821f-8a788deed1ce",
   "metadata": {},
   "outputs": [],
   "source": [
    "exp_2_model = Model(image_uri=exp_2_image_uri, model_data=exp_2_code_artifact, role=role)"
   ]
  },
  {
   "cell_type": "markdown",
   "id": "4944ff7d-d42c-4895-b7b9-b278f6c394e7",
   "metadata": {},
   "source": [
    "**Deploy the model**"
   ]
  },
  {
   "cell_type": "code",
   "execution_count": null,
   "id": "7d6f5543-606f-41a0-92fb-dfcc4f1d348b",
   "metadata": {
    "execution": {
     "iopub.status.idle": "2025-09-26T03:49:12.647622Z"
    }
   },
   "outputs": [],
   "source": [
    "timestamp = datetime.now().strftime(\"%Y%m%d%H%M%S\")\n",
    "exp_2_endpoint_name= f\"llama3-8b-exp-2-{timestamp}\"\n",
    "exp_2_instance_type = exp_2['instance_type']\n",
    "\n",
    "exp_2_model.deploy(\n",
    "    instance_type=exp_2_instance_type,\n",
    "    initial_instance_count=1,\n",
    "    endpoint_name=exp_2_endpoint_name,\n",
    "    container_startup_health_check_timeout=1000\n",
    ")"
   ]
  },
  {
   "cell_type": "markdown",
   "id": "53eff025-4d6d-4e0b-b1f7-b7305263232d",
   "metadata": {},
   "source": [
    "**Do inference test**"
   ]
  },
  {
   "cell_type": "code",
   "execution_count": null,
   "id": "302a695b-79b3-4314-9695-032d70463f15",
   "metadata": {
    "execution": {
     "iopub.execute_input": "2025-09-26T03:49:12.648804Z",
     "iopub.status.busy": "2025-09-26T03:49:12.648332Z",
     "iopub.status.idle": "2025-09-26T03:49:15.489667Z"
    }
   },
   "outputs": [],
   "source": [
    "# payload\n",
    "exp_2_input_data = {\n",
    "    \"inputs\": text, \n",
    "    \"parameters\": {\"max_new_tokens\":512, \"do_sample\":\"true\"}\n",
    "}\n",
    "\n",
    "# predictor class\n",
    "exp_2_predictor = sagemaker.Predictor(\n",
    "    endpoint_name=exp_2_endpoint_name,\n",
    "    serializer=serializers.JSONSerializer()\n",
    ")\n",
    "\n",
    "# post request\n",
    "exp_2_response = exp_2_predictor.predict(exp_2_input_data)\n",
    "exp_2_response_data = json.loads(exp_2_response)\n",
    "print(exp_2_response_data)"
   ]
  },
  {
   "cell_type": "markdown",
   "id": "6a637885-a31f-432a-8be0-017e6e686ebf",
   "metadata": {},
   "source": [
    "**Test performance with LLMeter**"
   ]
  },
  {
   "cell_type": "code",
   "execution_count": null,
   "id": "a9283ae6-c222-4ef1-8ccd-dada31fce17d",
   "metadata": {
    "execution": {
     "iopub.execute_input": "2025-09-26T03:49:15.490591Z",
     "iopub.status.busy": "2025-09-26T03:49:15.490297Z",
     "iopub.status.idle": "2025-09-26T03:49:15.554114Z"
    }
   },
   "outputs": [],
   "source": [
    "exp_2_sagemaker_endpoint = SageMakerEndpoint(\n",
    "    exp_2_endpoint_name,\n",
    "    model_id=MODEL_NAME,\n",
    "    generated_text_jmespath=\"generated_text\",\n",
    ")"
   ]
  },
  {
   "cell_type": "code",
   "execution_count": null,
   "id": "de0c24f2-5eca-4c9c-a74b-2e3fdc04ef3b",
   "metadata": {
    "execution": {
     "iopub.execute_input": "2025-09-26T03:49:15.555098Z",
     "iopub.status.busy": "2025-09-26T03:49:15.554733Z",
     "iopub.status.idle": "2025-09-26T03:49:15.558453Z"
    },
    "scrolled": true
   },
   "outputs": [],
   "source": [
    "exp_2_payloads = [exp_2_sagemaker_endpoint.create_payload(t) for t in texts]"
   ]
  },
  {
   "cell_type": "code",
   "execution_count": null,
   "id": "ce6b66a1-d98b-450a-b95b-0225486126e9",
   "metadata": {
    "execution": {
     "iopub.execute_input": "2025-09-26T03:49:15.559696Z",
     "iopub.status.busy": "2025-09-26T03:49:15.559376Z",
     "iopub.status.idle": "2025-09-26T03:49:15.562899Z"
    }
   },
   "outputs": [],
   "source": [
    "exp_2_load_test = LoadTest(\n",
    "    endpoint=exp_2_sagemaker_endpoint,\n",
    "    payload=exp_2_payloads,\n",
    "    sequence_of_clients=[1, 5, 10],\n",
    "    output_path=f\"outputs/{prefix}_exp_2/load_test\",\n",
    "    min_requests_per_run=30,\n",
    "    min_requests_per_client=10\n",
    ")"
   ]
  },
  {
   "cell_type": "code",
   "execution_count": null,
   "id": "0ebc9bff-26a3-4b6e-93c7-bf37a297054d",
   "metadata": {
    "execution": {
     "iopub.execute_input": "2025-09-26T03:49:15.563870Z",
     "iopub.status.busy": "2025-09-26T03:49:15.563551Z",
     "iopub.status.idle": "2025-09-26T03:52:21.995192Z"
    },
    "scrolled": true
   },
   "outputs": [],
   "source": [
    "exp_2_load_test_results = await exp_2_load_test.run()"
   ]
  },
  {
   "cell_type": "code",
   "execution_count": null,
   "id": "51b609a9-d5b2-4922-b560-32eae2348e93",
   "metadata": {
    "execution": {
     "iopub.execute_input": "2025-09-26T03:52:21.996446Z",
     "iopub.status.busy": "2025-09-26T03:52:21.995931Z"
    }
   },
   "outputs": [],
   "source": [
    "exp_2_figures = exp_2_load_test_results.plot_results()"
   ]
  },
  {
   "cell_type": "markdown",
   "id": "08b471df-7da6-4b54-a351-39e4ab11c3d5",
   "metadata": {},
   "source": [
    "## 5. Experiment 3: Deploy to multi A10G GPU"
   ]
  },
  {
   "cell_type": "markdown",
   "id": "2715d130-7b69-4b72-98f8-e7999ce79c32",
   "metadata": {},
   "source": [
    "**Using ml.g5.12xlarge** with 4 GPU accelerator (96 GB total VRAM), 48 vCPU and 192 GB RAM\n",
    "\n",
    "**Price per hour (on-demand)** in Oregon region at the writing of this is around \"$7.09\""
   ]
  },
  {
   "cell_type": "code",
   "execution_count": null,
   "id": "e358292f-b4ce-47d2-a730-b0ec8bce3523",
   "metadata": {
    "execution": {
     "iopub.execute_input": "2025-10-02T03:13:44.670850Z",
     "iopub.status.busy": "2025-10-02T03:13:44.670590Z",
     "iopub.status.idle": "2025-10-02T03:13:44.674057Z",
     "shell.execute_reply": "2025-10-02T03:13:44.673215Z",
     "shell.execute_reply.started": "2025-10-02T03:13:44.670829Z"
    }
   },
   "outputs": [],
   "source": [
    "exp_3 = {\n",
    "    \"instance_type\": \"ml.g5.12xlarge\",\n",
    "    \"vram\": 96,\n",
    "    \"vcpu\": 48,\n",
    "    \"ram\": 192,\n",
    "    \"hourly_compute_price_in_sin\": 7.09\n",
    "}"
   ]
  },
  {
   "cell_type": "markdown",
   "id": "4c7e2cdb-9b48-4611-ac2f-3e771a22b82c",
   "metadata": {},
   "source": [
    "**Write and upload serving.properties for DJL configuration**"
   ]
  },
  {
   "cell_type": "markdown",
   "id": "f3872b2a-dcf8-4889-bc3c-b0659399a879",
   "metadata": {},
   "source": [
    "**Important**: Make sure the tensor_parallel_degree config and other relevant config is well configured according to the instance type that you intend to use for the deployment. Different instance type may have different number of accelerator and VRAM per accelerator"
   ]
  },
  {
   "cell_type": "code",
   "execution_count": null,
   "id": "befb652b-25ab-4671-bafe-7a52a87ce5ca",
   "metadata": {
    "execution": {
     "iopub.execute_input": "2025-09-26T03:52:22.671293Z",
     "iopub.status.busy": "2025-09-26T03:52:22.670906Z",
     "iopub.status.idle": "2025-09-26T03:52:22.675818Z"
    }
   },
   "outputs": [],
   "source": [
    "exp_3_serving_properties_content= f\"\"\"engine=Python\n",
    "option.entryPoint=djl_python.huggingface\n",
    "option.model_id={s3_uri}\n",
    "option.max_rolling_batch_size=32\n",
    "option.tensor_parallel_degree=4\n",
    "option.rolling_batch=auto\n",
    "option.enable_mixed_precision_accumulation=true\n",
    "option.model_loading_timeout=1000\"\"\"\n",
    "open('serving.properties', 'w').write(exp_3_serving_properties_content)"
   ]
  },
  {
   "cell_type": "markdown",
   "id": "e9cc7284-af51-4f94-a7e1-7326d4e02afe",
   "metadata": {},
   "source": [
    "**Package the serving.properties into a tar.gz file and then upload to S3**"
   ]
  },
  {
   "cell_type": "code",
   "execution_count": null,
   "id": "6c21cb62-aa58-4e4e-a2b9-cc8781218af5",
   "metadata": {
    "execution": {
     "iopub.execute_input": "2025-09-26T03:52:22.676737Z",
     "iopub.status.busy": "2025-09-26T03:52:22.676367Z",
     "iopub.status.idle": "2025-09-26T03:52:22.718661Z"
    }
   },
   "outputs": [],
   "source": [
    "%%sh\n",
    "mkdir exp_3_model\n",
    "mv serving.properties exp_3_model/\n",
    "tar czvf exp_3_model.tar.gz exp_3_model/\n",
    "rm -rf exp_3_model"
   ]
  },
  {
   "cell_type": "code",
   "execution_count": null,
   "id": "194cef5e-9683-4ba4-8e45-d5e064455901",
   "metadata": {
    "execution": {
     "iopub.execute_input": "2025-09-26T03:52:22.719450Z",
     "iopub.status.busy": "2025-09-26T03:52:22.719249Z",
     "iopub.status.idle": "2025-09-26T03:52:22.789333Z"
    }
   },
   "outputs": [],
   "source": [
    "exp_3_s3_code_prefix = \"llama3-8b-exp-3/code\"\n",
    "exp_3_code_artifact = sess.upload_data(\"exp_3_model.tar.gz\", bucket_name, exp_3_s3_code_prefix)\n",
    "print(f\"S3 Code or Model tar ball uploaded to --- &gt; {exp_3_code_artifact}\")"
   ]
  },
  {
   "cell_type": "markdown",
   "id": "b4286ae1-b59a-4ea5-99d5-3ca22e3eb6ac",
   "metadata": {},
   "source": [
    "**Set inference container image**\n",
    "\n",
    "Use SageMaker LMI with DJL and vLLM"
   ]
  },
  {
   "cell_type": "code",
   "execution_count": null,
   "id": "a835c50d-902d-4da8-8f2a-7214e68990bd",
   "metadata": {
    "execution": {
     "iopub.execute_input": "2025-09-26T03:52:22.790603Z",
     "iopub.status.busy": "2025-09-26T03:52:22.790189Z",
     "iopub.status.idle": "2025-09-26T03:52:22.794373Z"
    }
   },
   "outputs": [],
   "source": [
    "exp_3_image_uri = f\"763104351884.dkr.ecr.{sess.boto_session.region_name}.amazonaws.com/djl-inference:0.32.0-lmi14.0.0-cu126\""
   ]
  },
  {
   "cell_type": "markdown",
   "id": "eb75cd4b-7b64-4995-be8b-9ba44fa4be27",
   "metadata": {},
   "source": [
    "**Create SageMaker Model object**\n",
    "\n",
    "**Important**: Make sure that the IAM role passed here allows SageMaker to assume it (Trust Policy) and allows necessary permissions (e.g. accessing model location in S3, downloading container image from ECR, publishing logs and metrics to CloudWatch)"
   ]
  },
  {
   "cell_type": "code",
   "execution_count": null,
   "id": "e602d719-aabd-48bc-a797-89317d48f44d",
   "metadata": {
    "execution": {
     "iopub.execute_input": "2025-09-26T03:52:22.795433Z",
     "iopub.status.busy": "2025-09-26T03:52:22.795160Z",
     "iopub.status.idle": "2025-09-26T03:52:22.798517Z"
    }
   },
   "outputs": [],
   "source": [
    "exp_3_model = Model(image_uri=exp_3_image_uri, model_data=exp_3_code_artifact, role=role)"
   ]
  },
  {
   "cell_type": "markdown",
   "id": "f43316a2-28ab-4f23-b354-1680cb6d99b6",
   "metadata": {},
   "source": [
    "**Deploy the model**"
   ]
  },
  {
   "cell_type": "code",
   "execution_count": null,
   "id": "a6d93d28-09b7-41e0-969d-70414699d913",
   "metadata": {
    "execution": {
     "iopub.execute_input": "2025-09-26T03:52:22.799527Z",
     "iopub.status.busy": "2025-09-26T03:52:22.799219Z",
     "iopub.status.idle": "2025-09-26T04:00:25.710034Z"
    }
   },
   "outputs": [],
   "source": [
    "timestamp = datetime.now().strftime(\"%Y%m%d%H%M%S\")\n",
    "exp_3_endpoint_name= f\"llama3-8b-exp-3-{timestamp}\"\n",
    "exp_3_instance_type = exp_3['instance_type']\n",
    "\n",
    "exp_3_model.deploy(\n",
    "    instance_type=exp_3_instance_type,\n",
    "    initial_instance_count=1,\n",
    "    endpoint_name=exp_3_endpoint_name,\n",
    "    container_startup_health_check_timeout=1000\n",
    ")"
   ]
  },
  {
   "cell_type": "markdown",
   "id": "be24496b-6821-4adf-8a9f-2c331d2429a3",
   "metadata": {},
   "source": [
    "**Do inference test**"
   ]
  },
  {
   "cell_type": "code",
   "execution_count": null,
   "id": "979a662d-8474-4a7f-9e57-5058637f067a",
   "metadata": {
    "execution": {
     "iopub.execute_input": "2025-09-26T04:00:25.711036Z",
     "iopub.status.busy": "2025-09-26T04:00:25.710734Z",
     "iopub.status.idle": "2025-09-26T04:00:27.086318Z"
    }
   },
   "outputs": [],
   "source": [
    "# payload\n",
    "exp_3_input_data = {\n",
    "    \"inputs\": text, \n",
    "    \"parameters\": {\"max_new_tokens\":512, \"do_sample\":\"true\"}\n",
    "}\n",
    "\n",
    "# predictor class\n",
    "exp_3_predictor = sagemaker.Predictor(\n",
    "    endpoint_name=exp_3_endpoint_name,\n",
    "    serializer=serializers.JSONSerializer()\n",
    ")\n",
    "\n",
    "# post request\n",
    "exp_3_response = exp_3_predictor.predict(exp_3_input_data)\n",
    "exp_3_response_data = json.loads(exp_3_response)\n",
    "print(exp_3_response_data)"
   ]
  },
  {
   "cell_type": "markdown",
   "id": "1098b476-4dfc-4a5e-88e0-2709e7435ad8",
   "metadata": {},
   "source": [
    "**Test performance with LLMeter**"
   ]
  },
  {
   "cell_type": "code",
   "execution_count": null,
   "id": "f1257082-7d74-4c15-a443-8d4a6177e984",
   "metadata": {
    "execution": {
     "iopub.execute_input": "2025-09-26T04:00:27.087488Z",
     "iopub.status.busy": "2025-09-26T04:00:27.087049Z",
     "iopub.status.idle": "2025-09-26T04:00:27.150720Z"
    }
   },
   "outputs": [],
   "source": [
    "exp_3_sagemaker_endpoint = SageMakerEndpoint(\n",
    "    exp_3_endpoint_name,\n",
    "    model_id=MODEL_NAME,\n",
    "    generated_text_jmespath=\"generated_text\",\n",
    ")"
   ]
  },
  {
   "cell_type": "code",
   "execution_count": null,
   "id": "63072e90-4411-49bb-841a-9167d6da0af5",
   "metadata": {
    "execution": {
     "iopub.execute_input": "2025-09-26T04:00:27.151590Z",
     "iopub.status.busy": "2025-09-26T04:00:27.151311Z",
     "iopub.status.idle": "2025-09-26T04:00:27.155167Z"
    }
   },
   "outputs": [],
   "source": [
    "exp_3_payloads = [exp_3_sagemaker_endpoint.create_payload(t) for t in texts]"
   ]
  },
  {
   "cell_type": "code",
   "execution_count": null,
   "id": "fa57fecb-30ad-4858-8a83-f7f4b82cefa8",
   "metadata": {
    "execution": {
     "iopub.execute_input": "2025-09-26T04:00:27.156430Z",
     "iopub.status.busy": "2025-09-26T04:00:27.155994Z",
     "iopub.status.idle": "2025-09-26T04:00:27.159877Z"
    }
   },
   "outputs": [],
   "source": [
    "exp_3_load_test = LoadTest(\n",
    "    endpoint=exp_3_sagemaker_endpoint,\n",
    "    payload=exp_3_payloads,\n",
    "    sequence_of_clients=[1, 5, 10],\n",
    "    output_path=f\"outputs/{prefix}_exp_3/load_test\",\n",
    "    min_requests_per_run=30,\n",
    "    min_requests_per_client=10\n",
    ")"
   ]
  },
  {
   "cell_type": "code",
   "execution_count": null,
   "id": "09a770f8-e858-4a2a-96af-e3e39627f044",
   "metadata": {
    "execution": {
     "iopub.execute_input": "2025-09-26T04:00:27.160795Z",
     "iopub.status.busy": "2025-09-26T04:00:27.160476Z",
     "iopub.status.idle": "2025-09-26T04:02:37.530866Z"
    },
    "scrolled": true
   },
   "outputs": [],
   "source": [
    "exp_3_load_test_results = await exp_3_load_test.run()"
   ]
  },
  {
   "cell_type": "code",
   "execution_count": null,
   "id": "62abb2f2-0ece-4b7d-b135-490c134ee813",
   "metadata": {
    "execution": {
     "iopub.execute_input": "2025-09-26T04:02:37.532070Z",
     "iopub.status.busy": "2025-09-26T04:02:37.531736Z"
    }
   },
   "outputs": [],
   "source": [
    "exp_3_figures = exp_3_load_test_results.plot_results()"
   ]
  },
  {
   "cell_type": "markdown",
   "id": "32e33564-3da3-4eb2-a792-9ba3c273a028",
   "metadata": {},
   "source": [
    "## 6. Experiment 4: Deploy to single L4 GPU with lower vCPU and RAM"
   ]
  },
  {
   "cell_type": "markdown",
   "id": "5a96d11d-e69b-4890-baf6-2aeb2401ad05",
   "metadata": {},
   "source": [
    "**Using ml.g6.xlarge** with 1 GPU accelerator (24 GB total VRAM), 4 vCPU and 16 GB RAM\n",
    "\n",
    "**Price per hour (on-demand)** in Oregon region at the writing of this is around \"$1.1267\""
   ]
  },
  {
   "cell_type": "code",
   "execution_count": null,
   "id": "9c61ece3-260c-4695-ae70-1b3ce5a326c8",
   "metadata": {
    "execution": {
     "iopub.execute_input": "2025-10-02T03:14:40.174142Z",
     "iopub.status.busy": "2025-10-02T03:14:40.173883Z",
     "iopub.status.idle": "2025-10-02T03:14:40.177408Z",
     "shell.execute_reply": "2025-10-02T03:14:40.176621Z",
     "shell.execute_reply.started": "2025-10-02T03:14:40.174123Z"
    }
   },
   "outputs": [],
   "source": [
    "exp_4 = {\n",
    "    \"instance_type\": \"ml.g6.xlarge\",\n",
    "    \"vram\": 24,\n",
    "    \"vcpu\": 4,\n",
    "    \"ram\": 16,\n",
    "    \"hourly_compute_price_in_sin\": 1.1267\n",
    "}"
   ]
  },
  {
   "cell_type": "markdown",
   "id": "8e20d1bf-3de3-4a1c-b26d-8526569bba5b",
   "metadata": {},
   "source": [
    "**Write and upload serving.properties for DJL configuration**"
   ]
  },
  {
   "cell_type": "markdown",
   "id": "61329732-1c05-48c7-88c9-25cd642c8afd",
   "metadata": {},
   "source": [
    "**Important**: Make sure the tensor_parallel_degree config and other relevant config is well configured according to the instance type that you intend to use for the deployment. Different instance type may have different number of accelerator and VRAM per accelerator"
   ]
  },
  {
   "cell_type": "code",
   "execution_count": null,
   "id": "fe80042e-971a-4ee4-b615-fd72f8a833f8",
   "metadata": {},
   "outputs": [],
   "source": [
    "exp_4_serving_properties_content= f\"\"\"engine=Python\n",
    "option.entryPoint=djl_python.huggingface\n",
    "option.model_id={s3_uri}\n",
    "option.max_rolling_batch_size=32\n",
    "option.tensor_parallel_degree=1\n",
    "option.rolling_batch=auto\n",
    "option.enable_mixed_precision_accumulation=true\n",
    "option.model_loading_timeout=1000\"\"\"\n",
    "open('serving.properties', 'w').write(exp_4_serving_properties_content)"
   ]
  },
  {
   "cell_type": "markdown",
   "id": "f9017b1c-47f5-49db-a920-d5aca689978e",
   "metadata": {},
   "source": [
    "**Package the serving.properties into a tar.gz file and then upload to S3**"
   ]
  },
  {
   "cell_type": "code",
   "execution_count": null,
   "id": "57c8ee22-a7ba-4b58-b228-7f55bc75646e",
   "metadata": {},
   "outputs": [],
   "source": [
    "%%sh\n",
    "mkdir exp_4_model\n",
    "mv serving.properties exp_4_model/\n",
    "tar czvf exp_4_model.tar.gz exp_4_model/\n",
    "rm -rf exp_4_model"
   ]
  },
  {
   "cell_type": "code",
   "execution_count": null,
   "id": "74876508-0233-4e9f-af5b-aae71f2a7ec7",
   "metadata": {},
   "outputs": [],
   "source": [
    "exp_4_s3_code_prefix = \"llama3-8b-exp-4/code\"\n",
    "exp_4_code_artifact = sess.upload_data(\"exp_4_model.tar.gz\", bucket_name, exp_4_s3_code_prefix)\n",
    "print(f\"S3 Code or Model tar ball uploaded to --- &gt; {exp_4_code_artifact}\")"
   ]
  },
  {
   "cell_type": "markdown",
   "id": "0a6776b1-cfcf-4e30-9837-cc17776ea77e",
   "metadata": {},
   "source": [
    "**Set inference container image**\n",
    "\n",
    "Use SageMaker LMI with DJL and vLLM"
   ]
  },
  {
   "cell_type": "code",
   "execution_count": null,
   "id": "e77f7c02-3257-4297-95bc-13a10d3f75b9",
   "metadata": {},
   "outputs": [],
   "source": [
    "exp_4_image_uri = f\"763104351884.dkr.ecr.{sess.boto_session.region_name}.amazonaws.com/djl-inference:0.32.0-lmi14.0.0-cu126\""
   ]
  },
  {
   "cell_type": "markdown",
   "id": "46b72993-a80f-4a43-a4a1-d5f7bd36acc9",
   "metadata": {},
   "source": [
    "**Create SageMaker Model object**\n",
    "\n",
    "**Important**: Make sure that the IAM role passed here allows SageMaker to assume it (Trust Policy) and allows necessary permissions (e.g. accessing model location in S3, downloading container image from ECR, publishing logs and metrics to CloudWatch)"
   ]
  },
  {
   "cell_type": "code",
   "execution_count": null,
   "id": "babbdfb4-cf76-462e-ba0b-c2b2ba94a27d",
   "metadata": {},
   "outputs": [],
   "source": [
    "exp_4_model = Model(image_uri=exp_4_image_uri, model_data=exp_4_code_artifact, role=role)"
   ]
  },
  {
   "cell_type": "markdown",
   "id": "8c924b11-69f0-4cc9-b19a-755270f01e83",
   "metadata": {},
   "source": [
    "**Deploy the model**"
   ]
  },
  {
   "cell_type": "code",
   "execution_count": null,
   "id": "995e91a0-55c9-4699-ab3b-ed79e0cb90ca",
   "metadata": {
    "execution": {
     "iopub.status.idle": "2025-09-26T04:12:41.919322Z"
    }
   },
   "outputs": [],
   "source": [
    "timestamp = datetime.now().strftime(\"%Y%m%d%H%M%S\")\n",
    "exp_4_endpoint_name= f\"llama3-8b-exp-4-{timestamp}\"\n",
    "exp_4_instance_type = exp_4['instance_type']\n",
    "\n",
    "exp_4_model.deploy(\n",
    "    instance_type=exp_4_instance_type,\n",
    "    initial_instance_count=1,\n",
    "    endpoint_name=exp_4_endpoint_name,\n",
    "    container_startup_health_check_timeout=1000\n",
    ")"
   ]
  },
  {
   "cell_type": "markdown",
   "id": "6a0aaba7-13bc-452c-af36-106c63213439",
   "metadata": {},
   "source": [
    "**Do inference test**"
   ]
  },
  {
   "cell_type": "code",
   "execution_count": null,
   "id": "5efeb5a1-2bec-45b2-b82a-36ff9cea6016",
   "metadata": {
    "execution": {
     "iopub.execute_input": "2025-09-26T04:12:41.920539Z",
     "iopub.status.busy": "2025-09-26T04:12:41.920005Z",
     "iopub.status.idle": "2025-09-26T04:12:46.152702Z"
    }
   },
   "outputs": [],
   "source": [
    "# payload\n",
    "exp_4_input_data = {\n",
    "    \"inputs\": text, \n",
    "    \"parameters\": {\"max_new_tokens\":512, \"do_sample\":\"true\"}\n",
    "}\n",
    "\n",
    "# predictor class\n",
    "exp_4_predictor = sagemaker.Predictor(\n",
    "    endpoint_name=exp_4_endpoint_name,\n",
    "    serializer=serializers.JSONSerializer()\n",
    ")\n",
    "\n",
    "# post request\n",
    "exp_4_response = exp_4_predictor.predict(exp_4_input_data)\n",
    "exp_4_response_data = json.loads(exp_4_response)\n",
    "print(exp_4_response_data)"
   ]
  },
  {
   "cell_type": "markdown",
   "id": "ce13839e-b62f-4fba-b6b0-8d2c404e9857",
   "metadata": {},
   "source": [
    "**Test performance with LLMeter**"
   ]
  },
  {
   "cell_type": "code",
   "execution_count": null,
   "id": "bb08c5ec-1035-45a4-b5e6-5e16aea9a672",
   "metadata": {
    "execution": {
     "iopub.execute_input": "2025-09-26T04:12:46.153529Z",
     "iopub.status.busy": "2025-09-26T04:12:46.153235Z",
     "iopub.status.idle": "2025-09-26T04:12:46.219786Z"
    }
   },
   "outputs": [],
   "source": [
    "exp_4_sagemaker_endpoint = SageMakerEndpoint(\n",
    "    exp_4_endpoint_name,\n",
    "    model_id=MODEL_NAME,\n",
    "    generated_text_jmespath=\"generated_text\",\n",
    ")"
   ]
  },
  {
   "cell_type": "code",
   "execution_count": null,
   "id": "7dcec12d-0bd5-4942-a125-ac2cffb8abc9",
   "metadata": {
    "execution": {
     "iopub.execute_input": "2025-09-26T04:12:46.220706Z",
     "iopub.status.busy": "2025-09-26T04:12:46.220421Z",
     "iopub.status.idle": "2025-09-26T04:12:46.224623Z"
    }
   },
   "outputs": [],
   "source": [
    "exp_4_payloads = [exp_4_sagemaker_endpoint.create_payload(t) for t in texts]"
   ]
  },
  {
   "cell_type": "code",
   "execution_count": null,
   "id": "de0c692b-f399-4298-a587-c6fe7ac76e03",
   "metadata": {
    "execution": {
     "iopub.execute_input": "2025-09-26T04:12:46.225635Z",
     "iopub.status.busy": "2025-09-26T04:12:46.225317Z",
     "iopub.status.idle": "2025-09-26T04:12:46.228856Z"
    }
   },
   "outputs": [],
   "source": [
    "exp_4_load_test = LoadTest(\n",
    "    endpoint=exp_4_sagemaker_endpoint,\n",
    "    payload=exp_4_payloads,\n",
    "    sequence_of_clients=[1, 5, 10],\n",
    "    output_path=f\"outputs/{prefix}_exp_4/load_test\",\n",
    "    min_requests_per_run=30,\n",
    "    min_requests_per_client=10\n",
    ")"
   ]
  },
  {
   "cell_type": "code",
   "execution_count": null,
   "id": "7bcdee4f-6125-4a4b-88df-8c5926fd64b8",
   "metadata": {
    "execution": {
     "iopub.execute_input": "2025-09-26T04:12:46.230028Z",
     "iopub.status.busy": "2025-09-26T04:12:46.229704Z",
     "iopub.status.idle": "2025-09-26T04:17:38.838633Z"
    },
    "scrolled": true
   },
   "outputs": [],
   "source": [
    "exp_4_load_test_results = await exp_4_load_test.run()"
   ]
  },
  {
   "cell_type": "code",
   "execution_count": null,
   "id": "505d9328-87a5-47be-9521-4cb85f535246",
   "metadata": {
    "execution": {
     "iopub.execute_input": "2025-09-26T04:17:38.839731Z",
     "iopub.status.busy": "2025-09-26T04:17:38.839442Z"
    },
    "scrolled": true
   },
   "outputs": [],
   "source": [
    "exp_4_figures = exp_4_load_test_results.plot_results()"
   ]
  },
  {
   "cell_type": "markdown",
   "id": "ddfd8cfe-c783-4122-9cc6-6544bf06f207",
   "metadata": {},
   "source": [
    "## 7. Experiment 5: Deploy to single L40S GPU with lower vCPU and RAM"
   ]
  },
  {
   "cell_type": "markdown",
   "id": "70c25ada-4526-4b86-8efd-ea5f990bf794",
   "metadata": {},
   "source": [
    "**Using ml.g6e.xlarge** with 1 GPU accelerator (48 GB total VRAM), 4 vCPU and 32 GB RAM\n",
    "\n",
    "**Price per hour (on-demand)** in Oregon region at the writing of this is around \"$2.6054\""
   ]
  },
  {
   "cell_type": "code",
   "execution_count": null,
   "id": "2bb684b4-045b-44c1-8177-7c21ef89fed6",
   "metadata": {
    "execution": {
     "iopub.execute_input": "2025-10-02T03:14:55.938385Z",
     "iopub.status.busy": "2025-10-02T03:14:55.938117Z",
     "iopub.status.idle": "2025-10-02T03:14:55.941896Z",
     "shell.execute_reply": "2025-10-02T03:14:55.941008Z",
     "shell.execute_reply.started": "2025-10-02T03:14:55.938364Z"
    }
   },
   "outputs": [],
   "source": [
    "exp_5 = {\n",
    "    \"instance_type\": \"ml.g6e.xlarge\",\n",
    "    \"vram\": 48,\n",
    "    \"vcpu\": 4,\n",
    "    \"ram\": 32,\n",
    "    \"hourly_compute_price_in_sin\": 2.6054\n",
    "}"
   ]
  },
  {
   "cell_type": "markdown",
   "id": "afcb614f-3467-450c-8b44-135751969025",
   "metadata": {},
   "source": [
    "**Write and upload serving.properties for DJL configuration**"
   ]
  },
  {
   "cell_type": "markdown",
   "id": "27585a81-0a6f-4912-87ce-b382e3184c09",
   "metadata": {},
   "source": [
    "**Important**: Make sure the tensor_parallel_degree config and other relevant config is well configured according to the instance type that you intend to use for the deployment. Different instance type may have different number of accelerator and VRAM per accelerator"
   ]
  },
  {
   "cell_type": "code",
   "execution_count": null,
   "id": "67e2f4e3-f41f-4b6b-a860-aac5041c6faa",
   "metadata": {
    "execution": {
     "iopub.execute_input": "2025-10-01T06:20:28.454098Z",
     "iopub.status.busy": "2025-10-01T06:20:28.453839Z",
     "iopub.status.idle": "2025-10-01T06:20:28.459273Z",
     "shell.execute_reply": "2025-10-01T06:20:28.458586Z",
     "shell.execute_reply.started": "2025-10-01T06:20:28.454077Z"
    }
   },
   "outputs": [],
   "source": [
    "exp_5_serving_properties_content= f\"\"\"engine=Python\n",
    "option.entryPoint=djl_python.huggingface\n",
    "option.model_id={s3_uri}\n",
    "option.max_rolling_batch_size=32\n",
    "option.tensor_parallel_degree=1\n",
    "option.rolling_batch=auto\n",
    "option.enable_mixed_precision_accumulation=true\n",
    "option.model_loading_timeout=1000\"\"\"\n",
    "open('serving.properties', 'w').write(exp_5_serving_properties_content)"
   ]
  },
  {
   "cell_type": "markdown",
   "id": "3e825f12-c000-478c-b251-1fb7c994e125",
   "metadata": {},
   "source": [
    "**Package the serving.properties into a tar.gz file and then upload to S3**"
   ]
  },
  {
   "cell_type": "code",
   "execution_count": null,
   "id": "e6cbdf3d-b72a-4c42-8d36-b8587935f9ce",
   "metadata": {
    "execution": {
     "iopub.execute_input": "2025-10-01T06:20:29.026326Z",
     "iopub.status.busy": "2025-10-01T06:20:29.026070Z",
     "iopub.status.idle": "2025-10-01T06:20:29.058188Z",
     "shell.execute_reply": "2025-10-01T06:20:29.057174Z",
     "shell.execute_reply.started": "2025-10-01T06:20:29.026306Z"
    }
   },
   "outputs": [],
   "source": [
    "%%sh\n",
    "mkdir exp_5_model\n",
    "mv serving.properties exp_5_model/\n",
    "tar czvf exp_5_model.tar.gz exp_5_model/\n",
    "rm -rf exp_5_model"
   ]
  },
  {
   "cell_type": "code",
   "execution_count": null,
   "id": "6de3a0b3-8037-4e32-a5ae-e592769d83e9",
   "metadata": {
    "execution": {
     "iopub.execute_input": "2025-10-01T06:20:29.275595Z",
     "iopub.status.busy": "2025-10-01T06:20:29.275340Z",
     "iopub.status.idle": "2025-10-01T06:20:29.340510Z",
     "shell.execute_reply": "2025-10-01T06:20:29.339816Z",
     "shell.execute_reply.started": "2025-10-01T06:20:29.275575Z"
    }
   },
   "outputs": [],
   "source": [
    "exp_5_s3_code_prefix = \"llama3-8b-exp-5/code\"\n",
    "exp_5_code_artifact = sess.upload_data(\"exp_5_model.tar.gz\", bucket_name, exp_5_s3_code_prefix)\n",
    "print(f\"S3 Code or Model tar ball uploaded to --- &gt; {exp_5_code_artifact}\")"
   ]
  },
  {
   "cell_type": "markdown",
   "id": "b7a3847e-50a3-4d36-86d6-59b43b1dd234",
   "metadata": {},
   "source": [
    "**Set inference container image**\n",
    "\n",
    "Use SageMaker LMI with DJL and vLLM"
   ]
  },
  {
   "cell_type": "code",
   "execution_count": null,
   "id": "ee240072-4866-473c-8bef-514d654da90b",
   "metadata": {
    "execution": {
     "iopub.execute_input": "2025-10-01T06:20:30.162632Z",
     "iopub.status.busy": "2025-10-01T06:20:30.162376Z",
     "iopub.status.idle": "2025-10-01T06:20:30.165930Z",
     "shell.execute_reply": "2025-10-01T06:20:30.165148Z",
     "shell.execute_reply.started": "2025-10-01T06:20:30.162612Z"
    }
   },
   "outputs": [],
   "source": [
    "exp_5_image_uri = f\"763104351884.dkr.ecr.{sess.boto_session.region_name}.amazonaws.com/djl-inference:0.32.0-lmi14.0.0-cu126\""
   ]
  },
  {
   "cell_type": "markdown",
   "id": "7dbe3027-8b7c-4e61-99f1-a86201f52bef",
   "metadata": {},
   "source": [
    "**Create SageMaker Model object**\n",
    "\n",
    "**Important**: Make sure that the IAM role passed here allows SageMaker to assume it (Trust Policy) and allows necessary permissions (e.g. accessing model location in S3, downloading container image from ECR, publishing logs and metrics to CloudWatch)"
   ]
  },
  {
   "cell_type": "code",
   "execution_count": null,
   "id": "bdfa0f8a-04e9-4409-b1db-3d6935ab760f",
   "metadata": {
    "execution": {
     "iopub.execute_input": "2025-10-01T06:20:30.541196Z",
     "iopub.status.busy": "2025-10-01T06:20:30.540940Z",
     "iopub.status.idle": "2025-10-01T06:20:30.544882Z",
     "shell.execute_reply": "2025-10-01T06:20:30.544026Z",
     "shell.execute_reply.started": "2025-10-01T06:20:30.541176Z"
    }
   },
   "outputs": [],
   "source": [
    "exp_5_model = Model(image_uri=exp_5_image_uri, model_data=exp_5_code_artifact, role=role)"
   ]
  },
  {
   "cell_type": "markdown",
   "id": "c6470090-9118-4feb-859c-42ef7c856486",
   "metadata": {},
   "source": [
    "**Deploy the model**"
   ]
  },
  {
   "cell_type": "code",
   "execution_count": null,
   "id": "cfb6c0b0-16af-47d3-b89f-69ced24d347d",
   "metadata": {
    "execution": {
     "iopub.execute_input": "2025-10-01T06:20:31.175894Z",
     "iopub.status.busy": "2025-10-01T06:20:31.175635Z",
     "iopub.status.idle": "2025-10-01T06:30:34.517323Z",
     "shell.execute_reply": "2025-10-01T06:30:34.516667Z",
     "shell.execute_reply.started": "2025-10-01T06:20:31.175874Z"
    }
   },
   "outputs": [],
   "source": [
    "timestamp = datetime.now().strftime(\"%Y%m%d%H%M%S\")\n",
    "exp_5_endpoint_name= f\"llama3-8b-exp-5-{timestamp}\"\n",
    "exp_5_instance_type = exp_5['instance_type']\n",
    "\n",
    "exp_5_model.deploy(\n",
    "    instance_type=exp_5_instance_type,\n",
    "    initial_instance_count=1,\n",
    "    endpoint_name=exp_5_endpoint_name,\n",
    "    container_startup_health_check_timeout=1000\n",
    ")"
   ]
  },
  {
   "cell_type": "markdown",
   "id": "7718abe2-10b8-4ec3-9888-dc48b5282d2b",
   "metadata": {},
   "source": [
    "**Do inference test**"
   ]
  },
  {
   "cell_type": "code",
   "execution_count": null,
   "id": "f1e12a6e-a41c-4043-8974-56ff9f59849b",
   "metadata": {
    "execution": {
     "iopub.execute_input": "2025-10-01T06:30:34.518793Z",
     "iopub.status.busy": "2025-10-01T06:30:34.518370Z",
     "iopub.status.idle": "2025-10-01T06:30:36.397158Z",
     "shell.execute_reply": "2025-10-01T06:30:36.396490Z",
     "shell.execute_reply.started": "2025-10-01T06:30:34.518764Z"
    }
   },
   "outputs": [],
   "source": [
    "# payload\n",
    "exp_5_input_data = {\n",
    "    \"inputs\": text, \n",
    "    \"parameters\": {\"max_new_tokens\":512, \"do_sample\":\"true\"}\n",
    "}\n",
    "\n",
    "# predictor class\n",
    "exp_5_predictor = sagemaker.Predictor(\n",
    "    endpoint_name=exp_5_endpoint_name,\n",
    "    serializer=serializers.JSONSerializer()\n",
    ")\n",
    "\n",
    "# post request\n",
    "exp_5_response = exp_5_predictor.predict(exp_5_input_data)\n",
    "exp_5_response_data = json.loads(exp_5_response)\n",
    "print(exp_5_response_data)"
   ]
  },
  {
   "cell_type": "markdown",
   "id": "805b4ca6-0476-4831-a339-b67e07efbeeb",
   "metadata": {},
   "source": [
    "**Test performance with LLMeter**"
   ]
  },
  {
   "cell_type": "code",
   "execution_count": null,
   "id": "2093cbd1-631d-4802-9b35-f2a04080ffaf",
   "metadata": {
    "execution": {
     "iopub.execute_input": "2025-10-01T06:30:36.398212Z",
     "iopub.status.busy": "2025-10-01T06:30:36.397922Z",
     "iopub.status.idle": "2025-10-01T06:30:36.460180Z",
     "shell.execute_reply": "2025-10-01T06:30:36.459590Z",
     "shell.execute_reply.started": "2025-10-01T06:30:36.398184Z"
    }
   },
   "outputs": [],
   "source": [
    "exp_5_sagemaker_endpoint = SageMakerEndpoint(\n",
    "    exp_5_endpoint_name,\n",
    "    model_id=MODEL_NAME,\n",
    "    generated_text_jmespath=\"generated_text\",\n",
    ")"
   ]
  },
  {
   "cell_type": "code",
   "execution_count": null,
   "id": "3cfd45e2-5179-49cc-9bb0-870e65875af3",
   "metadata": {
    "execution": {
     "iopub.execute_input": "2025-10-01T06:30:36.462333Z",
     "iopub.status.busy": "2025-10-01T06:30:36.461490Z",
     "iopub.status.idle": "2025-10-01T06:30:36.465569Z",
     "shell.execute_reply": "2025-10-01T06:30:36.464771Z",
     "shell.execute_reply.started": "2025-10-01T06:30:36.462310Z"
    }
   },
   "outputs": [],
   "source": [
    "exp_5_payloads = [exp_5_sagemaker_endpoint.create_payload(t) for t in texts]"
   ]
  },
  {
   "cell_type": "code",
   "execution_count": null,
   "id": "58a34029-b27e-4083-b58a-a2f050081ffc",
   "metadata": {
    "execution": {
     "iopub.execute_input": "2025-10-01T06:30:36.466838Z",
     "iopub.status.busy": "2025-10-01T06:30:36.466229Z",
     "iopub.status.idle": "2025-10-01T06:30:36.470185Z",
     "shell.execute_reply": "2025-10-01T06:30:36.469619Z",
     "shell.execute_reply.started": "2025-10-01T06:30:36.466811Z"
    }
   },
   "outputs": [],
   "source": [
    "exp_5_load_test = LoadTest(\n",
    "    endpoint=exp_5_sagemaker_endpoint,\n",
    "    payload=exp_5_payloads,\n",
    "    sequence_of_clients=[1, 5, 10],\n",
    "    output_path=f\"outputs/{prefix}_exp_5/load_test\",\n",
    "    min_requests_per_run=30,\n",
    "    min_requests_per_client=10\n",
    ")"
   ]
  },
  {
   "cell_type": "code",
   "execution_count": null,
   "id": "a209d6f4-3ddc-4dd2-abc4-1b4eaf58692a",
   "metadata": {
    "execution": {
     "iopub.execute_input": "2025-10-01T06:30:36.471348Z",
     "iopub.status.busy": "2025-10-01T06:30:36.470929Z",
     "iopub.status.idle": "2025-10-01T06:32:18.666091Z",
     "shell.execute_reply": "2025-10-01T06:32:18.665329Z",
     "shell.execute_reply.started": "2025-10-01T06:30:36.471321Z"
    },
    "scrolled": true
   },
   "outputs": [],
   "source": [
    "exp_5_load_test_results = await exp_5_load_test.run()"
   ]
  },
  {
   "cell_type": "code",
   "execution_count": null,
   "id": "354262fe-e669-47cd-a4fd-b86a21fb7dbf",
   "metadata": {
    "execution": {
     "iopub.execute_input": "2025-10-01T06:32:18.667119Z",
     "iopub.status.busy": "2025-10-01T06:32:18.666828Z"
    }
   },
   "outputs": [],
   "source": [
    "exp_5_figures = exp_5_load_test_results.plot_results()"
   ]
  },
  {
   "cell_type": "markdown",
   "id": "26cb964d-7aab-4188-bc3f-116ddfc9569c",
   "metadata": {},
   "source": [
    "## 8. Performance and cost analysis"
   ]
  },
  {
   "cell_type": "code",
   "execution_count": null,
   "id": "62fb490a-0f42-4661-8391-938bd648857c",
   "metadata": {
    "execution": {
     "iopub.execute_input": "2025-10-02T03:17:34.074008Z",
     "iopub.status.busy": "2025-10-02T03:17:34.073745Z",
     "iopub.status.idle": "2025-10-02T03:17:34.083746Z",
     "shell.execute_reply": "2025-10-02T03:17:34.083157Z",
     "shell.execute_reply.started": "2025-10-02T03:17:34.073988Z"
    }
   },
   "outputs": [],
   "source": [
    "exp_1['load_test_output'] = {}\n",
    "for i in [1,5,10]:\n",
    "    with open(max(Path(f\"outputs/{prefix}_exp_1/load_test\").glob(\"*\"), key=lambda x: x.name) / f\"000{i:02d}-clients/stats.json\") as f:\n",
    "        exp_1['load_test_output'][i] = json.load(f)\n",
    "\n",
    "exp_2['load_test_output'] = {}\n",
    "for i in [1,5,10]:\n",
    "    with open(max(Path(f\"outputs/{prefix}_exp_2/load_test\").glob(\"*\"), key=lambda x: x.name) / f\"000{i:02d}-clients/stats.json\") as f:\n",
    "        exp_2['load_test_output'][i] = json.load(f)\n",
    "\n",
    "exp_3['load_test_output'] = {}\n",
    "for i in [1,5,10]:\n",
    "    with open(max(Path(f\"outputs/{prefix}_exp_3/load_test\").glob(\"*\"), key=lambda x: x.name) / f\"000{i:02d}-clients/stats.json\") as f:\n",
    "        exp_3['load_test_output'][i] = json.load(f)\n",
    "\n",
    "exp_4['load_test_output'] = {}\n",
    "for i in [1,5,10]:\n",
    "    with open(max(Path(f\"outputs/{prefix}_exp_4/load_test\").glob(\"*\"), key=lambda x: x.name) / f\"000{i:02d}-clients/stats.json\") as f:\n",
    "        exp_4['load_test_output'][i] = json.load(f)\n",
    "\n",
    "exp_5['load_test_output'] = {}\n",
    "for i in [1,5,10]:\n",
    "    with open(max(Path(f\"outputs/{prefix}_exp_5/load_test\").glob(\"*\"), key=lambda x: x.name) / f\"000{i:02d}-clients/stats.json\") as f:\n",
    "        exp_5['load_test_output'][i] = json.load(f)\n"
   ]
  },
  {
   "cell_type": "code",
   "execution_count": null,
   "id": "5a2db0c8-72bf-4800-818f-28331ca8906f",
   "metadata": {
    "execution": {
     "iopub.execute_input": "2025-10-02T03:36:02.249510Z",
     "iopub.status.busy": "2025-10-02T03:36:02.249250Z",
     "iopub.status.idle": "2025-10-02T03:36:02.273360Z",
     "shell.execute_reply": "2025-10-02T03:36:02.272716Z",
     "shell.execute_reply.started": "2025-10-02T03:36:02.249489Z"
    }
   },
   "outputs": [],
   "source": [
    "import pandas as pd\n",
    "\n",
    "experiments = {'exp_1': exp_1, 'exp_2': exp_2, 'exp_3': exp_3, 'exp_4': exp_4, 'exp_5': exp_5}\n",
    "\n",
    "data = []\n",
    "for exp_name, exp_data in experiments.items():\n",
    "    row = [exp_name, exp_data['instance_type'], exp_data['vram'], exp_data['vcpu'], exp_data['ram'], exp_data['hourly_compute_price_in_sin']]\n",
    "    for client in [1, 5, 10]:\n",
    "        if client in exp_data['load_test_output']:\n",
    "            lt = exp_data['load_test_output'][client]\n",
    "            rpm = lt['requests_per_minute']\n",
    "            input_tpm = lt['average_input_tokens_per_minute']\n",
    "            output_tpm = lt['average_output_tokens_per_minute']\n",
    "            total_tpm = input_tpm + output_tpm\n",
    "            rpm_per_dollar = rpm / exp_data['hourly_compute_price_in_sin'] * 60\n",
    "            tpm_per_dollar = total_tpm / exp_data['hourly_compute_price_in_sin'] * 60\n",
    "            row.extend([rpm, input_tpm, output_tpm, total_tpm, rpm_per_dollar, tpm_per_dollar])\n",
    "        else:\n",
    "            row.extend([None] * 6)\n",
    "    data.append(row)\n",
    "\n",
    "basic_cols = ['Experiment', 'Instance Type', 'VRAM (GB)', 'vCPU', 'RAM (GB)', 'Hourly Price ($)']\n",
    "metric_cols = ['Requests/min', 'Input Tokens/min', 'Output Tokens/min', 'Total Tokens/min', 'Requests/$', 'Total Tokens/$']\n",
    "columns = pd.MultiIndex.from_tuples(\n",
    "    [(col, '') for col in basic_cols] + \n",
    "    [(f'Client {c}', metric) for c in [1, 5, 10] for metric in metric_cols]\n",
    ")\n",
    "\n",
    "df = pd.DataFrame(data, columns=columns)\n",
    "styled_df = df.style.format({col: '{:,.2f}' for col in df.select_dtypes(include='number').columns})\n",
    "\n",
    "def color_clients(s):\n",
    "    colors = [''] * len(s)\n",
    "    for i, client in enumerate([1, 5, 10]):\n",
    "        start_col = 7 + i * 6\n",
    "        end_col = start_col + 6\n",
    "        color = ['background-color: #e6f3ff', 'background-color: #ffe6e6', 'background-color: #e6ffe6'][i]\n",
    "        for j in range(start_col, end_col):\n",
    "            if j < len(colors):\n",
    "                colors[j] = color\n",
    "    return colors\n",
    "\n",
    "styled_df = styled_df.apply(color_clients, axis=1)\n",
    "styled_df"
   ]
  },
  {
   "cell_type": "markdown",
   "id": "83aae337-5908-48b0-8395-5c32698ee265",
   "metadata": {},
   "source": [
    "## 7. Cleanup"
   ]
  },
  {
   "cell_type": "markdown",
   "id": "5974f060-0055-4bac-8599-d4ece030e562",
   "metadata": {},
   "source": [
    "If needed, you can do cleanup by deleting the SageMaker AI's endpoints using your AWS Console that were deployed by this notebook. You can also delete the endpoint configuration in addition to the endpoints."
   ]
  },
  {
   "cell_type": "code",
   "execution_count": null,
   "id": "1d4f8b17-aa9e-4da1-b7cf-47369607c54e",
   "metadata": {},
   "outputs": [],
   "source": []
  },
  {
   "cell_type": "code",
   "execution_count": null,
   "id": "c6d4f9a7-6607-40ac-b6ce-b02274ded54a",
   "metadata": {},
   "outputs": [],
   "source": []
  },
  {
   "cell_type": "code",
   "execution_count": null,
   "id": "380c8f6a-819e-47a6-bbbe-245f44cb1e5e",
   "metadata": {},
   "outputs": [],
   "source": []
  }
 ],
 "metadata": {
  "kernelspec": {
   "display_name": "Python 3 (ipykernel)",
   "language": "python",
   "name": "python3"
  },
  "language_info": {
   "codemirror_mode": {
    "name": "ipython",
    "version": 3
   },
   "file_extension": ".py",
   "mimetype": "text/x-python",
   "name": "python",
   "nbconvert_exporter": "python",
   "pygments_lexer": "ipython3",
   "version": "3.12.9"
  }
 },
 "nbformat": 4,
 "nbformat_minor": 5
}
