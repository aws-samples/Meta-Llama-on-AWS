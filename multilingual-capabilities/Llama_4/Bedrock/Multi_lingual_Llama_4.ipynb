{
 "cells": [
  {
   "cell_type": "markdown",
   "id": "a611416f-45b7-4f5e-b7a5-fa1b1cb0b6a3",
   "metadata": {},
   "source": [
    "# Llama 4: Using the Multilingual capabilities for real-world use cases"
   ]
  },
  {
   "cell_type": "markdown",
   "id": "7ddd2fe9-ded1-4682-9347-6486d1bf5dbe",
   "metadata": {
    "tags": []
   },
   "source": [
    "This notebook should work well with the Data Science 3.0 kernel in SageMaker Studio.\n",
    "\n",
    "This guide is designed to assist you in leveraging Llama 3.1's multilingual / translation capabilities with Bedrock Converse API for practical use cases for scenarios where English may not be needed. Our goal is to demonstrate how Llama 3.1 can be used for native lanugages to cover a broader expansion of regions globally. This notebook will provide a strong foundation for creating multilingual / translation applications.\n",
    "\n",
    "We will begin by reviewing how to leverage the Amazon Bedrock Converse API. Once we are familiarized with the Converse API, we will generate some sample prompts to be used to explore Llama 3.1's new capability to address multilingual scenarios."
   ]
  },
  {
   "cell_type": "markdown",
   "id": "6baf1453-083b-4001-8b0e-2eb53f4fd30d",
   "metadata": {
    "tags": []
   },
   "source": [
    "## Llama 4: Advanced AI models for Enterprise Applications"
   ]
  },
  {
   "cell_type": "markdown",
   "id": "464111b1-8c95-4bce-9345-421a60af527f",
   "metadata": {
    "tags": []
   },
   "source": [
    "Llama 4 is a powerful family of large language models developed by Meta, specifically designed for enterprise applications. Available in two variants—Scout and Maverick—these models represent significant advancements in AI capabilities. Llama 4 has the following Key Features and Capabilities: \n",
    "\n",
    "- Multimodal Understanding: Accepts text plus up to 5 images as input, delivering text responses with sophisticated visual comprehension\n",
    "- Extensive Multilingual Support: Proficient in Arabic, English, French, German, Hindi, Indonesian, Italian, Portuguese, Spanish, Tagalog, Thai, and Vietnamese (image understanding is English-only)\n",
    "- Mixture-of-Experts Architecture: Utilizes an innovative design where only 17B parameters are active during computation, despite larger total parameter counts\n",
    "Enterprise-Ready Applications: Optimized for coding tasks, tool-calling, multimodal understanding, and powering agentic systems\n",
    "\n",
    "## Model Comparison\n",
    "| Feature | Llama 4 Scout | Llama 4 Maverick |\n",
    "|---------|---------------|------------------|\n",
    "| Active parameters | 17B | 17B |\n",
    "| Total parameters | 109B | 400B |\n",
    "| Number of experts | 16 | 128 |\n",
    "| Single GPU capability | Yes (INT4-quantized on H100) | No |\n",
    "| Maximum context length | 10M tokens | 1M tokens |\n",
    "\n",
    "These models represent a significant advancement over previous Llama versions, with substantially improved reasoning capabilities, multimodal understanding, and performance on complex enterprise tasks. The mixture-of-experts architecture allows for impressive capabilities while maintaining efficient computation during inference."
   ]
  },
  {
   "cell_type": "markdown",
   "id": "3dd2c034-a9b7-4ba8-b4db-2eb03f54f99e",
   "metadata": {},
   "source": [
    "## Multilingual Capabilities with Llama 4"
   ]
  },
  {
   "cell_type": "markdown",
   "id": "e9105c8a-0734-47a2-8e95-7e6671022f63",
   "metadata": {},
   "source": [
    "Llama 4 represents a significant advancement in multilingual AI capabilities, leveraging a novel training technique called MetaP to enhance its linguistic range and performance. This innovative approach allows for the precise calibration of critical model hyper-parameters, including per-layer learning rates and initialization scales, with remarkable consistency across varying batch sizes, model architectures, and training volumes.\n",
    "\n",
    "\n",
    "The multilingual capabilities of Llama 4 are particularly impressive, having been pre-trained on an extensive corpus spanning 200 languages. More than half of these languages are represented by over 1 billion tokens each, resulting in a training dataset with 10 times more multilingual content than its predecessor, Llama 3. This extensive linguistic coverage makes Llama 4 exceptionally well-suited for global applications requiring cross-lingual understanding and generation.\n",
    "\n",
    "\n",
    "Llama 4 Maverick, the flagship model in this series, features a sophisticated mixture-of-experts architecture with 17 billion active parameters distributed across 128 experts, totaling 400 billion parameters. Despite this complexity, it delivers superior performance at a more competitive price point compared to Llama 3.3 70B. Independent benchmarks confirm Llama 4 Maverick's excellence across multiple domains, outperforming comparable models like GPT-4o and Gemini 2.0 in coding, reasoning, multilingual tasks, long-context handling, and image processing. It even rivals the much larger DeepSeek v3.1 model in specialized coding and reasoning challenges.\n",
    "\n",
    "In this notebook, we will go over a few practical real-world use cases (add one more sentences)"
   ]
  },
  {
   "cell_type": "markdown",
   "id": "61225d7f-b887-47ee-9f52-3455b4a5ba11",
   "metadata": {},
   "source": [
    "## Prerequisites:\n",
    "- AWS SDK for Python (Boto3): Ensure you have the Boto3 library installed.\n",
    "- Amazon Bedrock Model ID: Obtain the model ID for the conversational AI model you wish to use.\n",
    "- AWS Credentials: Configure your AWS credentials to authenticate API requests."
   ]
  },
  {
   "cell_type": "markdown",
   "id": "7488c400-9fbd-4ffc-812f-bbdd1d83b6f1",
   "metadata": {},
   "source": [
    "## Import necessary libraries\n",
    "\n",
    "In the next cell, we will set up our environment by importing the boto3 library and necessary libraries that we will need to confiure our bedrock client to invoke our llama 4 model within the Amazon Bedrock Converse API."
   ]
  },
  {
   "cell_type": "code",
   "execution_count": 1,
   "id": "d837fe60-6869-4430-8457-342ca9492bcb",
   "metadata": {
    "tags": []
   },
   "outputs": [],
   "source": [
    "import boto3\n",
    "from boto3 import client\n",
    "from botocore.config import Config\n",
    "import json\n",
    "import re\n",
    "import logging\n",
    "from botocore.exceptions import ClientError\n",
    "logger = logging.getLogger(__name__)\n",
    "logging.basicConfig(level=logging.INFO)"
   ]
  },
  {
   "cell_type": "code",
   "execution_count": 2,
   "id": "eb76dfbe-83b8-4855-a197-5a1f0303e8d3",
   "metadata": {
    "tags": []
   },
   "outputs": [
    {
     "name": "stderr",
     "output_type": "stream",
     "text": [
      "INFO:botocore.credentials:Found credentials in shared credentials file: ~/.aws/credentials\n"
     ]
    }
   ],
   "source": [
    "config = Config(read_timeout=2000)\n",
    "bedrock_client = boto3.client(service_name='bedrock-runtime', region_name=\"us-east-1\", config=config)"
   ]
  },
  {
   "cell_type": "markdown",
   "id": "f8dc6873-974e-498b-b7c0-bdb3bb29b01d",
   "metadata": {},
   "source": [
    "## Instantiate llama 4 model "
   ]
  },
  {
   "cell_type": "code",
   "execution_count": 3,
   "id": "097393a5-c646-4102-9210-61e1b20eb9b9",
   "metadata": {
    "tags": []
   },
   "outputs": [],
   "source": [
    "meta_llama_4_maverick = 'us.meta.llama4-maverick-17b-instruct-v1:0'\n",
    "meta_llama_4_scout = 'us.meta.llama4-scout-17b-instruct-v1:0'\n",
    "\n",
    "model_id = meta_llama_4_scout"
   ]
  },
  {
   "cell_type": "markdown",
   "id": "db6dd3d2-c7b9-4850-a65a-f63326506418",
   "metadata": {},
   "source": [
    "## Prompting with Amazon Bedrock Converse API\n",
    "\n",
    "The Amazon Bedrock Converse API can be used to invoke large language models on Amazon Bedrock by extracting away the special stop tokens and facilitate the creation of conversational applications by enabling the exchange of messages between users and Amazon Bedrock models.\n",
    "\n",
    "**Key features include:**\n",
    "- **Consistent Interface:**\n",
    "The Converse API provides a uniform interface that works across all Amazon Bedrock models supporting messages. This consistency allows developers to write code once and use it with different models without needing to adjust for model-specific differences.\n",
    "\n",
    "- **Turn-Based Conversations:**\n",
    "The API supports multi-turn conversations, where a series of messages are exchanged between the user (acting as the user role) and the model (acting as the assistant role). This enables the development of chatbots and other conversational agents that can maintain context over multiple interactions.\n",
    "\n",
    "- **Tool Use (Function Calling):**\n",
    "The Converse API supports tool use, allowing models to request the invocation of external functions or tools. This is particularly useful for tasks that require interaction with external APIs or services. The model generates a JSON structure with the necessary parameters, which the calling application then uses to invoke the specified tool"
   ]
  },
  {
   "cell_type": "markdown",
   "id": "155dc769-4221-4355-b9fe-23f1ef468a70",
   "metadata": {
    "tags": []
   },
   "source": [
    "## Prompting with the Bedrock Converse API\n",
    "\n",
    "After setting your model ID as llama 4 scout model, to start interfacing with the converse API - you can put the prompt input inside the content section.\n",
    "\n",
    "Listed below is an example of how you can change / assign the different roles and add input to the role."
   ]
  },
  {
   "cell_type": "markdown",
   "id": "d4445564-13a7-4710-a206-a2a3f75246a5",
   "metadata": {
    "tags": []
   },
   "source": [
    "#### Prompting with Converse API on Bedrock\n",
    "\n",
    "```\n",
    "{\n",
    "    \"role\": \"user | assistant\",\n",
    "    \"content\": [\n",
    "        {\n",
    "            \"text\": \"string\"\n",
    "        }\n",
    "    ]\n",
    "}\n",
    "```\n",
    "\n",
    "In the next cell, we will use llama 4 to generate a few questions that we will use to be allow us to have a conversation in French."
   ]
  },
  {
   "cell_type": "code",
   "execution_count": 16,
   "id": "b13bd9c4-7dd1-4ca8-8008-807b7e380400",
   "metadata": {},
   "outputs": [],
   "source": [
    "# Prepare your payload with the messages format\n",
    "payload = {\n",
    "    \"messages\": [\n",
    "        {\n",
    "            \"role\": \"user\",\n",
    "            \"content\": [\n",
    "                {\n",
    "                    \"text\": \"You are a helpful AI assistant.\"\n",
    "                }\n",
    "            ]\n",
    "        },\n",
    "        {\n",
    "            \"role\": \"user\",\n",
    "            \"content\": [\n",
    "                {\n",
    "                    \"text\": \"Can you provide me few example prompts of questions I would need to ask if I were to go on a trip to Paris.\"\n",
    "                }\n",
    "            ]\n",
    "        }\n",
    "    ]\n",
    "\n",
    "}"
   ]
  },
  {
   "cell_type": "code",
   "execution_count": 17,
   "id": "6edcfac6-2df4-4343-bfe2-94995ba8e434",
   "metadata": {
    "tags": []
   },
   "outputs": [
    {
     "name": "stdout",
     "output_type": "stream",
     "text": [
      "Paris, the City of Light. Here are some example prompts of questions you may want to ask if you're planning a trip to Paris:\n",
      "\n",
      "**Pre-Trip Planning**\n",
      "\n",
      "1. What are the best times to visit Paris, considering weather and tourist season?\n",
      "2. How do I get to Paris from the airport (e.g., Charles de Gaulle, Orly)?\n",
      "3. What are the must-see attractions in Paris, and how can I prioritize them?\n",
      "4. What are the different types of accommodations available in Paris (e.g., hotels, hostels, apartments)?\n",
      "5. How do I purchase a Paris Museum Pass, and is it worth it?\n",
      "\n",
      "**Getting Around**\n",
      "\n",
      "1. What is the best way to navigate the Paris metro system?\n",
      "2. How do I buy a carnet of tickets or a Paris Visite pass?\n",
      "3. Are there bike-sharing services available in Paris?\n",
      "4. Can I use credit cards or cash to pay for public transportation?\n",
      "5. How do I hail a taxi or book a ride-hailing service in Paris?\n",
      "\n",
      "**Safety and Etiquette**\n",
      "\n",
      "1. What are some common scams to watch out for in Paris?\n",
      "2. How do I stay safe in crowded areas like train stations and tourist attractions?\n",
      "3. What are some basic French phrases I should know to communicate with locals?\n",
      "4. Are there any specific dress code rules for visiting churches or museums?\n",
      "5. How do I handle tipping in Paris (e.g., restaurants, cafes, tour guides)?\n",
      "\n",
      "**Food and Drink**\n",
      "\n",
      "1. What are some must-try French dishes and desserts?\n",
      "2. How do I order food and drinks at a traditional Parisian cafe?\n",
      "3. Are there any good markets or grocery stores for buying snacks and supplies?\n",
      "4. Can I drink tap water in Paris?\n",
      "5. What are some popular wine bars or wine tastings in Paris?\n",
      "\n",
      "**Budgeting and Costs**\n",
      "\n",
      "1. What is the average cost of a meal in Paris?\n",
      "2. How much should I budget for accommodations and transportation?\n",
      "3. Are there any free museums or attractions in Paris?\n",
      "4. Can I negotiate prices at markets or with street vendors?\n",
      "5. How do I avoid touristy areas with inflated prices?\n",
      "\n",
      "**Special Interests**\n",
      "\n",
      "1. What are the best art museums in Paris (e.g., Louvre, Orsay, Rodin)?\n",
      "2. Are there any guided tours available for specific interests (e.g., history, architecture, food)?\n",
      "3. Can I visit the Eiffel Tower at night?\n",
      "4. What are some popular day trips from Paris (e.g., Versailles, Disneyland)?\n",
      "5. Are there any parks or gardens in Paris that are worth visiting?\n",
      "\n",
      "These are just a few examples of questions you may want to ask when planning your trip to Paris. Feel free to modify them or add more specific questions based on your interests and needs!\n"
     ]
    }
   ],
   "source": [
    "response = bedrock_client.converse(\n",
    "    modelId=model_id,\n",
    "    messages=payload[\"messages\"],  # Wrap the message in a list\n",
    "    inferenceConfig={\n",
    "        \"maxTokens\": 2000,\n",
    "        \"temperature\": 0,\n",
    "        \"topP\": .5\n",
    "    }\n",
    ")\n",
    "\n",
    "print(response[\"output\"][\"message\"][\"content\"][0][\"text\"])"
   ]
  },
  {
   "cell_type": "markdown",
   "id": "3ef34616-04b2-4e7d-b715-aaa805050303",
   "metadata": {},
   "source": [
    "In the cell above, we can see that Llama 4 was able to successfully generate some sample questions in English. We will use these questions later on in the notebook to prompt Llama 3.1 to have a full conversation in French. But first, let's go into a few of the multilingual translation basics."
   ]
  },
  {
   "cell_type": "markdown",
   "id": "db34a263-5afd-448a-8519-ff449e8d3347",
   "metadata": {},
   "source": [
    "## Multi-lingual use case capabilities: Translation"
   ]
  },
  {
   "cell_type": "markdown",
   "id": "6259dfb4-bfa4-411e-95db-a11bf06e5895",
   "metadata": {},
   "source": [
    "Llama 4 supports a variety of languages, allowing developers to build applications and services that cater to users from diverse linguistic backgrounds by offering multilingual capabilities that can be leveraged to create localized user interfaces and provide language-specific content. Specifically, Llama 4 supports languages such as English, French, German, Spanish, Italian, Portuguese, Hindi and Thai.\n",
    "\n",
    "For translating telephone conversations into different languages like Hindi, Arabic, Korean, and Japanese, Llama 4 can be utilized effectively. In the next cell, we will demonstrate how a bank teller and customer conversation that is held in English can be translated to various languages."
   ]
  },
  {
   "cell_type": "code",
   "execution_count": 6,
   "id": "07b6c958-4de1-4cb2-af51-83112137579d",
   "metadata": {
    "tags": []
   },
   "outputs": [],
   "source": [
    "conversation = \"\"\"\n",
    "Customer: \"Hi, I recently opened a new account with your bank and I love the online banking features! Can you guide me on how to set up different alerts for each type of transaction I make?\"\n",
    "Teller: \"Hello! I'm glad to hear you're enjoying our services. Setting up transaction alerts is simple. You can customize them through our online banking portal. Let me walk you through the process.\"\n",
    "Customer: \"I'm trying to use the mobile banking app, but it doesn't seem to be registering my login attempts. Could you help me figure out what might be going wrong?\"\n",
    "Teller: \"Of course! Let's troubleshoot this together. First, ensure that your username and password are correct. If you're still having issues, try resetting your password or updating the app to the latest version.\" \n",
    "Customer: \"I'm considering opening a savings account and I'm curious about the interest rates. What options are available and what are their main differences?\"\n",
    "Teller: \"Great question! We offer several savings account options with varying interest rates. Our standard savings account has a competitive rate, while our high-yield account offers a higher rate for larger balances. I can provide more details on each.\"\n",
    "Customer: \"I wanted to report a small issue where my debit card was a bit sticky. However, your quick-start guide was super helpful and I fixed it easily by following the cleaning tips. Just thought you might want to know!\"\n",
    "Teller: \"Thanks for letting us know. I'm glad the guide was helpful. If you encounter any more issues, feel free to reach out, and we'll be happy to assist further.\" \n",
    "Customer: \"My new debit card stopped working within a week of receiving it. None of the transactions go through, and I need a solution or a replacement as soon as possible.\"\n",
    "Teller: \"I'm sorry to hear that. Let's resolve this quickly. Please check if the card is activated and try using a different ATM. If it still doesn't work, we'll issue a replacement card right away.\" \n",
    "Customer: \"I've noticed that the numbers on my debit card are starting to fade after several months of use. Is this covered by the warranty?\"\n",
    "Teller: \"Yes, card wear and tear is covered. Please bring your card to our branch, and we'll assist you with a replacement at no charge.\" \n",
    "Customer: \"I had an issue where my account settings would reset every time I logged in. I figured out it was due to a browser conflict and resolved it by clearing my cache. Just wanted to ask if there are any new updates coming soon?\"\n",
    "Teller: \"Good job on resolving the issue. We do roll out updates regularly to improve our online services. Keep an eye on our website or subscribe to our newsletter for the latest updates.\" \n",
    "Customer: \"I've been having trouble with the online banking portal not saving my preferences, and it's starting to get frustrating. What can be done to ensure my settings are saved permanently?\"\n",
    "Teller: \"I understand your frustration. Make sure you're using the latest version of your browser. Also, try adjusting your browser settings to allow cookies, which can help save your preferences.\"\n",
    "\"\"\""
   ]
  },
  {
   "cell_type": "markdown",
   "id": "6664b865-9b41-49c1-b70c-4becdae5c1ae",
   "metadata": {},
   "source": [
    "Here we will allow llama 4 to translate each of the following transcripted calls into different langauges by creating different prompts for Hindi, Spanish, german and italian. These prompts will all be used to ingest the conversation and translate into the native given language."
   ]
  },
  {
   "cell_type": "code",
   "execution_count": 7,
   "id": "9eec770a-5e60-47a3-8ec2-d962be30a3e7",
   "metadata": {
    "tags": []
   },
   "outputs": [],
   "source": [
    "#prompts for language tasks/ translation\n",
    "\n",
    "hindi_prompt = f\"\"\"\n",
    "Translate the following conversation into Hindi. Your responses must be numbered, only in Hindi, and must adhere to only translating the conversation.\n",
    "\n",
    "{conversation}\n",
    "\"\"\"\n",
    "\n",
    "spanish_prompt = f\"\"\"\n",
    "Translate the following conversation into Spanish. Your responses must be numbered, only in Spanish, and must adhere to only translating the conversation.\n",
    "\n",
    "{conversation}\n",
    "\"\"\"\n",
    "\n",
    "german_prompt = f\"\"\"\n",
    "Translate the following conversation into German. Your responses must be numbered, only in German, and must adhere to only translating the conversation.\n",
    "\n",
    "{conversation}\n",
    "\"\"\"\n",
    "\n",
    "italian_prompt = f\"\"\"\n",
    "Translate the following conversation into Italian. Your responses must be numbered, only in Italian, and must adhere to only translating the conversation.\n",
    "\n",
    "{conversation}\n",
    "\"\"\""
   ]
  },
  {
   "cell_type": "code",
   "execution_count": 8,
   "id": "e2827e8c-6122-47f3-a4ce-23148ab181a3",
   "metadata": {
    "tags": []
   },
   "outputs": [
    {
     "name": "stdout",
     "output_type": "stream",
     "text": [
      "1. ग्राहक: \"नमस्ते, मैंने हाल ही में आपके बैंक में एक नया खाता खोला है और मुझे ऑनलाइन बैंकिंग सुविधाएँ बहुत पसंद हैं! क्या आप मुझे बता सकते हैं कि मैं प्रत्येक प्रकार के लेन-देन के लिए अलग-अलग अलर्ट कैसे सेट कर सकता हूँ?\"\n",
      "2. टेलर: \"नमस्ते! मुझे यह जानकर खुशी हुई कि आप हमारी सेवाओं का आनंद ले रहे हैं। लेन-देन के लिए अलर्ट सेट करना आसान है। आप उन्हें हमारे ऑनलाइन बैंकिंग पोर्टल के माध्यम से अनुकूलित कर सकते हैं। मैं आपको इस प्रक्रिया के बारे में बता सकता हूँ।\"\n",
      "3. ग्राहक: \"मैं मोबाइल बैंकिंग ऐप का उपयोग करने की कोशिश कर रहा हूँ, लेकिन यह मेरे लॉगिन प्रयासों को पंजीकृत नहीं कर रहा है। क्या आप मुझे यह पता लगाने में मदद कर सकते हैं कि क्या गलत हो रहा है?\"\n",
      "4. टेलर: \"बिल्कुल! आइए हम इसे एक साथ हल करें। पहले, सुनिश्चित करें कि आपका उपयोगकर्ता नाम और पासवर्ड सही हैं। यदि आप अभी भी समस्याओं का सामना कर रहे हैं, तो अपना पासवर्ड रीसेट करने या ऐप को नवीनतम संस्करण में अपडेट करने का प्रयास करें।\"\n",
      "5. ग्राहक: \"मैं एक बचत खाता खोलने पर विचार कर रहा हूँ और मैं ब्याज दरों के बारे में उत्सुक हूँ। कौन से विकल्प उपलब्ध हैं और उनके मुख्य अंतर क्या हैं?\"\n",
      "6. टेलर: \"बहुत अच्छा प्रश्न! हम विभिन्न ब्याज दरों के साथ कई बचत खाता विकल्प प्रदान करते हैं। हमारे मानक बचत खाते में एक प्रतिस्पर्धी दर है, जबकि हमारे उच्च-उपज खाते में बड़ी शेष राशि के लिए एक उच्च दर प्रदान की जाती है। मैं आपको प्रत्येक के बारे में अधिक जानकारी प्रदान कर सकता हूँ।\"\n",
      "7. ग्राहक: \"मैं एक छोटी सी समस्या की रिपोर्ट करना चाहता था जहाँ मेरा डेबिट कार्ड थोड़ा चिपचिपा था। हालांकि, आपका त्वरित-प्रारंभ गाइड बहुत मददगार था और मैंने इसे आसानी से साफ़ करने के सुझावों का पालन करके ठीक कर दिया। बस आपको पता होना चाहिए!\"\n",
      "8. टेलर: \"हमें बताने के लिए धन्यवाद। मुझे खुशी है कि गाइड मददगार था। यदि आप किसी और समस्या का सामना करते हैं, तो कृपया हमसे संपर्क करने में संकोच न करें, और हम आगे आपकी सहायता करने में प्रसन्न होंगे।\"\n",
      "9. ग्राहक: \"मेरा नया डेबिट कार्ड प्राप्त होने के एक सप्ताह के भीतर काम करना बंद कर दिया। कोई भी लेन-देन नहीं हो रहा है, और मुझे जल्द से जल्द एक समाधान या प्रतिस्थापन की आवश्यकता है।\"\n",
      "10. टेलर: \"मुझे यह सुनकर खेद है। आइए इसे जल्दी से हल करें। कृपया जाँच करें कि कार्ड सक्रिय है या नहीं और एक अलग एटीएम का उपयोग करने का प्रयास करें। यदि यह अभी भी काम नहीं करता है, तो हम तुरंत एक प्रतिस्थापन कार्ड जारी करेंगे।\"\n",
      "11. ग्राहक: \"मैंने देखा है कि मेरे डेबिट कार्ड पर संख्याएँ कई महीनों के उपयोग के बाद फीकी पड़ने लगी हैं। क्या यह वारंटी द्वारा कवर किया गया है?\"\n",
      "12. टेलर: \"हाँ, कार्ड की टूट-फूट वारंटी द्वारा कवर की जाती है। कृपया अपना कार्ड हमारी शाखा में लाएं, और हम आपको बिना किसी शुल्क के एक प्रतिस्थापन प्रदान करेंगे।\"\n",
      "13. ग्राहक: \"मुझे एक समस्या थी जहाँ मेरी खाता सेटिंग्स हर बार लॉग इन करने पर रीसेट हो जाती थीं। मैंने पाया कि यह ब्राउज़र संघर्ष के कारण था और मैंने अपनी कैशे को साफ़ करके इसे हल किया। मैं बस पूछना चाहता था कि क्या जल्द ही कोई नए अपडेट आ रहे हैं?\"\n",
      "14. टेलर: \"समस्या को हल करने के लिए अच्छा काम किया। हम अपनी ऑनलाइन सेवाओं में सुधार करने के लिए नियमित रूप से अपडेट जारी करते हैं। हमारी वेबसाइट पर नज़र रखें या हमारे न्यूज़लेटर की सदस्यता लें ताकि आपको नवीनतम अपडेट मिल सकें।\"\n",
      "15. ग्राहक: \"मुझे ऑनलाइन बैंकिंग पोर्टल के साथ समस्या हो रही है जो मेरी प्राथमिकताओं को सहेज नहीं रहा है, और यह निराशाजनक होने लगा है। मेरी सेटिंग्स को स्थायी रूप से सहेजने के लिए क्या किया जा सकता है?\"\n",
      "16. टेलर: \"मैं आपकी निराशा को समझता हूँ। सुनिश्चित करें कि आप अपने ब्राउज़र का नवीनतम संस्करण उपयोग कर रहे हैं। इसके अलावा, अपनी ब्राउज़र सेटिंग्स को समायोजित करने का प्रयास करें ताकि कुकीज़ को अनुमति दी जा सके, जो आपकी प्राथमिकताओं को सहेजने में मदद कर सकती हैं।\"\n"
     ]
    }
   ],
   "source": [
    "def converse(prompt, inference_config):\n",
    "    messages = [{\"role\": \"user\", \"content\": [{\"text\": prompt}]}]\n",
    "    response = bedrock_client.converse(\n",
    "        messages=messages,\n",
    "        modelId=model_id,\n",
    "        inferenceConfig=inference_config\n",
    "    )\n",
    "    generated_text = response['output']['message']['content'][0]['text']\n",
    "    print(generated_text)\n",
    "    return generated_text, response\n",
    "\n",
    "inference_config = {\"temperature\": 0.0, \"maxTokens\": 2048, \"topP\": 0.1}\n",
    "\n",
    "#hindi prompt with llama 4\n",
    "generated_text, response = converse(hindi_prompt, inference_config)"
   ]
  },
  {
   "cell_type": "code",
   "execution_count": 9,
   "id": "4efee676-1c62-42e3-95d0-166e2914f029",
   "metadata": {
    "tags": []
   },
   "outputs": [
    {
     "name": "stdout",
     "output_type": "stream",
     "text": [
      "1. Cliente: \"Hola, recientemente abrí una nueva cuenta con su banco y me encantan las características de banca en línea. ¿Puede guiarme sobre cómo configurar alertas diferentes para cada tipo de transacción que realice?\"\n",
      "2. Cajero: \"¡Hola! Me alegra escuchar que está disfrutando de nuestros servicios. Configurar alertas de transacciones es simple. Puede personalizarlas a través de nuestro portal de banca en línea. Permítame guiarlo a través del proceso.\"\n",
      "3. Cliente: \"Estoy tratando de usar la aplicación de banca móvil, pero no parece registrar mis intentos de inicio de sesión. ¿Podría ayudarme a descubrir qué podría estar saliendo mal?\"\n",
      "4. Cajero: \"¡Por supuesto! Vamos a solucionar esto juntos. Primero, asegúrese de que su nombre de usuario y contraseña sean correctos. Si sigue teniendo problemas, intente restablecer su contraseña o actualizar la aplicación a la última versión.\"\n",
      "5. Cliente: \"Estoy considerando abrir una cuenta de ahorros y estoy curioso sobre las tasas de interés. ¿Qué opciones están disponibles y cuáles son sus principales diferencias?\"\n",
      "6. Cajero: \"Excelente pregunta. Ofrecemos varias opciones de cuentas de ahorros con tasas de interés variables. Nuestra cuenta de ahorros estándar tiene una tasa competitiva, mientras que nuestra cuenta de alto rendimiento ofrece una tasa más alta para saldos más grandes. Puedo proporcionar más detalles sobre cada una.\"\n",
      "7. Cliente: \"Quería informar un pequeño problema donde mi tarjeta de débito estaba un poco atascada. Sin embargo, su guía de inicio rápido fue muy útil y la solucioné fácilmente siguiendo los consejos de limpieza. ¡Solo pensé que podría querer saberlo!\"\n",
      "8. Cajero: \"Gracias por hacérmelo saber. Me alegra que la guía fuera útil. Si encuentra más problemas, no dude en hacérmelo saber y estaremos encantados de ayudarlo más.\"\n",
      "9. Cliente: \"Mi nueva tarjeta de débito dejó de funcionar dentro de una semana de recibirla. Ninguna de las transacciones se realiza y necesito una solución o un reemplazo lo antes posible.\"\n",
      "10. Cajero: \"Lo siento mucho. Vamos a resolver esto rápidamente. Por favor, verifique si la tarjeta está activada y trate de usar un cajero automático diferente. Si sigue sin funcionar, emitiremos una tarjeta de reemplazo de inmediato.\"\n",
      "11. Cliente: \"He notado que los números de mi tarjeta de débito están empezando a desvanecerse después de varios meses de uso. ¿Está esto cubierto por la garantía?\"\n",
      "12. Cajero: \"Sí, el desgaste y el deterioro de la tarjeta están cubiertos. Por favor, traiga su tarjeta a nuestra sucursal y lo ayudaremos con un reemplazo sin cargo.\"\n",
      "13. Cliente: \"Tuve un problema donde mis configuraciones de cuenta se restablecían cada vez que iniciaba sesión. Descubrí que se debía a un conflicto del navegador y lo resolví borrando mi caché. Solo quería preguntar si hay alguna actualización próximamente?\"\n",
      "14. Cajero: \"Buen trabajo al resolver el problema. Realizamos actualizaciones periódicamente para mejorar nuestros servicios en línea. Manténgase atento a nuestro sitio web o suscríbase a nuestro boletín para las últimas actualizaciones.\"\n",
      "15. Cliente: \"He estado teniendo problemas con el portal de banca en línea que no guarda mis preferencias y está empezando a ser frustrante. ¿Qué se puede hacer para garantizar que mis configuraciones se guarden de forma permanente?\"\n",
      "16. Cajero: \"Entiendo su frustración. Asegúrese de estar utilizando la última versión de su navegador. También, intente ajustar la configuración de su navegador para permitir cookies, lo que puede ayudar a guardar sus preferencias.\"\n"
     ]
    }
   ],
   "source": [
    "#spanish prompt with llama 4\n",
    "generated_text, response = converse(spanish_prompt, inference_config)"
   ]
  },
  {
   "cell_type": "code",
   "execution_count": 10,
   "id": "253b1ad1-29a6-422d-9f6e-f38c75cf30d0",
   "metadata": {
    "tags": []
   },
   "outputs": [
    {
     "name": "stdout",
     "output_type": "stream",
     "text": [
      "1. Kunde: \"Hallo, ich habe kürzlich ein neues Konto bei Ihrer Bank eröffnet und liebe die Online-Banking-Funktionen! Könnten Sie mich durch den Prozess führen, wie ich verschiedene Benachrichtigungen für jede Art von Transaktion einrichten kann?\"\n",
      "2. Bankmitarbeiter: \"Hallo! Ich bin froh zu hören, dass Sie unsere Dienstleistungen genießen. Das Einrichten von Transaktionsbenachrichtigungen ist einfach. Sie können sie über unser Online-Banking-Portal anpassen. Lassen Sie mich Ihnen den Prozess erklären.\"\n",
      "3. Kunde: \"Ich versuche, die Mobile-Banking-App zu verwenden, aber es scheint nicht, dass meine Anmeldeversuche registriert werden. Könnten Sie mir helfen, herauszufinden, was falsch läuft?\"\n",
      "4. Bankmitarbeiter: \"Natürlich! Lassen Sie uns das gemeinsam beheben. Stellen Sie zunächst sicher, dass Ihr Benutzername und Passwort korrekt sind. Wenn Sie immer noch Probleme haben, versuchen Sie, Ihr Passwort zurückzusetzen oder die App auf die neueste Version zu aktualisieren.\"\n",
      "5. Kunde: \"Ich überlege, ein Sparkonto zu eröffnen und bin neugierig auf die Zinssätze. Welche Optionen stehen zur Verfügung und was sind ihre Hauptunterschiede?\"\n",
      "6. Bankmitarbeiter: \"Große Frage! Wir bieten mehrere Sparkonto-Optionen mit unterschiedlichen Zinssätzen an. Unser Standard-Sparkonto hat einen wettbewerbsfähigen Satz, während unser Hochzins-Konto einen höheren Satz für größere Guthaben bietet. Ich kann Ihnen mehr Details zu jedem Konto geben.\"\n",
      "7. Kunde: \"Ich wollte ein kleines Problem melden, bei dem meine Debitkarte ein bisschen klemmte. Ihr Schnellstartleitfaden war jedoch super hilfreich und ich habe es leicht behoben, indem ich den Reinigungstipps gefolgt bin. Ich dachte nur, Sie sollten es wissen!\"\n",
      "8. Bankmitarbeiter: \"Vielen Dank für die Information. Ich bin froh, dass der Leitfaden hilfreich war. Wenn Sie weitere Probleme haben, zögern Sie nicht, uns zu kontaktieren, und wir werden Ihnen gerne weiterhelfen.\"\n",
      "9. Kunde: \"Meine neue Debitkarte funktioniert innerhalb einer Woche nach Erhalt nicht mehr. Keine der Transaktionen geht durch, und ich benötige eine Lösung oder einen Ersatz so schnell wie möglich.\"\n",
      "10. Bankmitarbeiter: \"Es tut mir leid zu hören, dass. Lassen Sie uns das schnell lösen. Bitte überprüfen Sie, ob die Karte aktiviert ist, und versuchen Sie, eine andere Bankomat zu verwenden. Wenn es immer noch nicht funktioniert, werden wir sofort eine Ersatzkarte ausstellen.\"\n",
      "11. Kunde: \"Ich habe bemerkt, dass die Zahlen auf meiner Debitkarte nach mehreren Monaten Gebrauch zu verblassen beginnen. Ist dies durch die Garantie abgedeckt?\"\n",
      "12. Bankmitarbeiter: \"Ja, Kartenabnutzung ist abgedeckt. Bitte bringen Sie Ihre Karte zu unserer Filiale, und wir werden Ihnen bei einem kostenlosen Ersatz helfen.\"\n",
      "13. Kunde: \"Ich hatte ein Problem, bei dem meine Kontoeinstellungen jedes Mal zurückgesetzt wurden, wenn ich mich einloggte. Ich habe herausgefunden, dass es an einem Browserkonflikt lag und habe es gelöst, indem ich meinen Cache leerte. Ich wollte nur fragen, ob es bald neue Updates gibt?\"\n",
      "14. Bankmitarbeiter: \"Gut gemacht, dass Sie das Problem gelöst haben. Wir führen regelmäßig Updates durch, um unsere Online-Dienste zu verbessern. Behalten Sie unsere Website im Auge oder abonnieren Sie unseren Newsletter, um über die neuesten Updates informiert zu werden.\"\n",
      "15. Kunde: \"Ich habe Probleme mit dem Online-Banking-Portal, das meine Einstellungen nicht speichert, und es wird langsam frustrierend. Was kann getan werden, um sicherzustellen, dass meine Einstellungen permanent gespeichert werden?\"\n",
      "16. Bankmitarbeiter: \"Ich verstehe Ihre Frustration. Stellen Sie sicher, dass Sie die neueste Version Ihres Browsers verwenden. Versuchen Sie auch, Ihre Browser-Einstellungen anzupassen, um Cookies zuzulassen, was dazu beitragen kann, Ihre Einstellungen zu speichern.\"\n"
     ]
    }
   ],
   "source": [
    "#german prompt with llama 4\n",
    "generated_text, response = converse(german_prompt, inference_config)"
   ]
  },
  {
   "cell_type": "code",
   "execution_count": 11,
   "id": "168c9a1b-ff1c-4bbe-99e8-e4770f6517b4",
   "metadata": {
    "tags": []
   },
   "outputs": [
    {
     "name": "stdout",
     "output_type": "stream",
     "text": [
      "1. Cliente: \"Ciao, ho recentemente aperto un nuovo conto con la vostra banca e adoro le funzionalità di online banking! Potreste guidarmi su come impostare avvisi diversi per ogni tipo di transazione che faccio?\"\n",
      "2. Impiegato: \"Ciao! Sono felice di sentire che state apprezzando i nostri servizi. Impostare avvisi di transazione è semplice. Potete personalizzarli tramite il nostro portale di online banking. Lasciate che vi spieghi il processo.\"\n",
      "3. Cliente: \"Sto cercando di utilizzare l'app di mobile banking, ma non sembra registrare i miei tentativi di accesso. Potreste aiutarmi a capire cosa potrebbe andare storto?\"\n",
      "4. Impiegato: \"Certo! Risolviamo questo insieme. Innanzitutto, assicuratevi che il vostro nome utente e la vostra password siano corretti. Se continuate ad avere problemi, provate a reimpostare la vostra password o ad aggiornare l'app all'ultima versione.\"\n",
      "5. Cliente: \"Sto pensando di aprire un conto di risparmio e sono curioso sulle tassi di interesse. Quali opzioni sono disponibili e quali sono le loro principali differenze?\"\n",
      "6. Impiegato: \"Ottima domanda! Offriamo diverse opzioni di conto di risparmio con tassi di interesse variabili. Il nostro conto di risparmio standard ha un tasso competitivo, mentre il nostro conto ad alto rendimento offre un tasso più alto per saldi più grandi. Posso fornire maggiori dettagli su ciascuno.\"\n",
      "7. Cliente: \"Volevo segnalare un piccolo problema con la mia carta di debito che era un po' bloccata. Tuttavia, la vostra guida rapida è stata molto utile e l'ho risolto facilmente seguendo i consigli per la pulizia. Volevo solo farvelo sapere!\"\n",
      "8. Impiegato: \"Grazie per averci fatto sapere. Sono felice che la guida sia stata utile. Se incontrate altri problemi, non esitate a contattarci e saremo felici di assistervi ulteriormente.\"\n",
      "9. Cliente: \"La mia nuova carta di debito ha smesso di funzionare entro una settimana dalla ricezione. Nessuna delle transazioni va a buon fine e ho bisogno di una soluzione o di una sostituzione il prima possibile.\"\n",
      "10. Impiegato: \"Mi dispiace sentire questo. Risolviamo questo velocemente. Controllate se la carta è attivata e provate ad utilizzare un altro ATM. Se non funziona ancora, emetteremo una carta sostitutiva subito.\"\n",
      "11. Cliente: \"Ho notato che i numeri sulla mia carta di debito stanno iniziando a sbiadire dopo diversi mesi di utilizzo. È coperto dalla garanzia?\"\n",
      "12. Impiegato: \"Sì, l'usura della carta è coperta. Portate la vostra carta alla nostra filiale e vi assisteremo con una sostituzione senza alcun costo.\"\n",
      "13. Cliente: \"Ho avuto un problema con le impostazioni del mio conto che si resettavano ogni volta che accedevo. Ho capito che era dovuto a un conflitto del browser e l'ho risolto cancellando la cache. Volevo solo chiedere se ci sono aggiornamenti imminenti?\"\n",
      "14. Impiegato: \"Bravo per aver risolto il problema. Noi effettuiamo aggiornamenti regolari per migliorare i nostri servizi online. Tenete d'occhio il nostro sito web o iscrivetevi alla nostra newsletter per gli ultimi aggiornamenti.\"\n",
      "15. Cliente: \"Sto avendo problemi con il portale di online banking che non salva le mie preferenze e sto iniziando a frustrarmi. Cosa si può fare per assicurarsi che le mie impostazioni siano salvate permanentemente?\"\n",
      "16. Impiegato: \"Capisco la vostra frustrazione. Assicuratevi di utilizzare l'ultima versione del vostro browser. Inoltre, provate ad aggiustare le impostazioni del browser per consentire i cookie, il che può aiutare a salvare le vostre preferenze.\"\n"
     ]
    }
   ],
   "source": [
    "# italian prompt with llama 4\n",
    "generated_text_italian, response = converse(italian_prompt, inference_config)"
   ]
  },
  {
   "cell_type": "markdown",
   "id": "e9924e1e-df0c-4eef-9683-9bac3ba7580f",
   "metadata": {},
   "source": [
    "## Translation evaluation with Larger Maverick model"
   ]
  },
  {
   "cell_type": "code",
   "execution_count": 12,
   "id": "e305f4aa-b506-4a2f-8e26-e1df8073fb7e",
   "metadata": {
    "tags": []
   },
   "outputs": [],
   "source": [
    "eval_model = meta_llama_4_maverick"
   ]
  },
  {
   "cell_type": "code",
   "execution_count": 13,
   "id": "1e71a32f-77a7-439f-a8da-cabe637d6ef2",
   "metadata": {
    "tags": []
   },
   "outputs": [],
   "source": [
    "# Evaluate the generated text using the maverick model\n",
    "eval_prompt = f\"\"\"The {conversation} text was translated from English to italian \n",
    "by converting the conversation into {generated_text_italian} text, is this an accurate translation? \n",
    "Highlight any useful translations in English that could make the new language more accurate.\"\"\""
   ]
  },
  {
   "cell_type": "code",
   "execution_count": 14,
   "id": "e8fc4468-3fe5-49e3-84b1-f9283124b1a5",
   "metadata": {
    "tags": []
   },
   "outputs": [
    {
     "name": "stdout",
     "output_type": "stream",
     "text": [
      "The provided Italian translation is generally accurate. However, there are a few minor adjustments that could be made to improve its accuracy and naturalness.\n",
      "\n",
      "1. Cliente: \"Ciao, ho recentemente aperto un nuovo conto con la vostra banca e adoro le funzionalità di online banking! Potreste guidarmi su come impostare avvisi diversi per ogni tipo di transazione che faccio?\"\n",
      "   - The translation is accurate. \"Guidarmi\" is a good translation for \"guide me.\"\n",
      "\n",
      "2. Impiegato: \"Ciao! Sono felice di sentire che state apprezzando i nostri servizi. Impostare avvisi di transazione è semplice. Potete personalizzarli tramite il nostro portale di online banking. Lasciate che vi spieghi il processo.\"\n",
      "   - \"Sono felice di sentire\" is a good translation for \"I'm glad to hear.\" Consider using \"configurare\" instead of \"impostare\" for setting up transaction alerts to provide a more technical tone.\n",
      "\n",
      "3. Cliente: \"Sto cercando di utilizzare l'app di mobile banking, ma non sembra registrare i miei tentativi di accesso. Potreste aiutarmi a capire cosa potrebbe andare storto?\"\n",
      "   - The translation is accurate. \"Tentativi di accesso\" is a good translation for \"login attempts.\"\n",
      "\n",
      "4. Impiegato: \"Certo! Risolviamo questo insieme. Innanzitutto, assicuratevi che il vostro nome utente e la vostra password siano corretti. Se continuate ad avere problemi, provate a reimpostare la vostra password o ad aggiornare l'app all'ultima versione.\"\n",
      "   - \"Risolviamo questo insieme\" is a good translation for \"Let's troubleshoot this together.\" Consider using \"reiniziare la password\" or simply \"resettare la password\" for \"reset your password.\"\n",
      "\n",
      "5. Cliente: \"Sto pensando di aprire un conto di risparmio e sono curioso sulle tassi di interesse. Quali opzioni sono disponibili e quali sono le loro principali differenze?\"\n",
      "   - The translation is mostly accurate. Consider using \"tassi di interesse offerti\" for \"interest rates\" to be more specific.\n",
      "\n",
      "6. Impiegato: \"Ottima domanda! Offriamo diverse opzioni di conto di risparmio con tassi di interesse variabili. Il nostro conto di risparmio standard ha un tasso competitivo, mentre il nostro conto ad alto rendimento offre un tasso più alto per saldi più grandi. Posso fornire maggiori dettagli su ciascuno.\"\n",
      "   - The translation is accurate. \"Tassi di interesse variabili\" is a good translation for \"varying interest rates.\"\n",
      "\n",
      "7. Cliente: \"Volevo segnalare un piccolo problema con la mia carta di debito che era un po' bloccata. Tuttavia, la vostra guida rapida è stata molto utile e l'ho risolto facilmente seguendo i consigli per la pulizia. Volevo solo farvelo sapere!\"\n",
      "   - The translation is accurate. \"Segnalare\" is a good translation for \"report.\"\n",
      "\n",
      "8. Impiegato: \"Grazie per averci fatto sapere. Sono felice che la guida sia stata utile. Se incontrate altri problemi, non esitate a contattarci e saremo felici di assistervi ulteriormente.\"\n",
      "   - The translation is accurate. \"Non esitate a contattarci\" is a good translation for \"feel free to reach out.\"\n",
      "\n",
      "9. Cliente: \"La mia nuova carta di debito ha smesso di funzionare entro una settimana dalla ricezione. Nessuna delle transazioni va a buon fine e ho bisogno di una soluzione o di una sostituzione il prima possibile.\"\n",
      "   - The translation is accurate. \"Sostituzione il prima possibile\" is a good translation for \"replacement as soon as possible.\"\n",
      "\n",
      "10. Impiegato: \"Mi dispiace sentire questo. Risolviamo questo velocemente. Controllate se la carta è attivata e provate ad utilizzare un altro ATM. Se non funziona ancora, emetteremo una carta sostitutiva subito.\"\n",
      "    - The translation is accurate. \"Emetteremo una carta sostitutiva\" is a good translation for \"we'll issue a replacement card.\"\n",
      "\n",
      "11. Cliente: \"Ho notato che i numeri sulla mia carta di debito stanno iniziando a sbiadire dopo diversi mesi di utilizzo. È coperto dalla garanzia?\"\n",
      "    - The translation is mostly accurate. Consider using \"consumo\" or \"uso regolare\" instead of \"utilizzo\" to describe the normal wear and tear.\n",
      "\n",
      "12. Impiegato: \"Sì, l'usura della carta è coperta. Portate la vostra carta alla nostra filiale e vi assisteremo con una sostituzione senza alcun costo.\"\n",
      "    - The translation is accurate. \"Usura della carta\" is a good translation for \"card wear and tear.\"\n",
      "\n",
      "13. Cliente: \"Ho avuto un problema con le impostazioni del mio conto che si resettavano ogni volta che accedevo. Ho capito che era dovuto a un conflitto del browser e l'ho risolto cancellando la cache. Volevo solo chiedere se ci sono aggiornamenti imminenti?\"\n",
      "    - The translation is accurate. \"Conflitto del browser\" is a good translation for \"browser conflict.\"\n",
      "\n",
      "14. Impiegato: \"Bravo per aver risolto il problema. Noi effettuiamo aggiornamenti regolari per migliorare i nostri servizi online. Tenete d'occhio il nostro sito web o iscrivetevi alla nostra newsletter per gli ultimi aggiornamenti.\"\n",
      "    - The translation is accurate. \"Effettuiamo aggiornamenti regolari\" is a good translation for \"we roll out updates regularly.\"\n",
      "\n",
      "15. Cliente: \"Sto avendo problemi con il portale di online banking che non salva le mie preferenze e sto iniziando a frustrarmi. Cosa si può fare per assicurarsi che le mie impostazioni siano salvate permanentemente?\"\n",
      "    - The translation is accurate. \"Non salva le mie preferenze\" is a good translation for \"not saving my preferences.\"\n",
      "\n",
      "16. Impiegato: \"Capisco la vostra frustrazione. Assicuratevi di utilizzare l'ultima versione del vostro browser. Inoltre, provate ad aggiustare le impostazioni del browser per consentire i cookie, il che può aiutare a salvare le vostre preferenze.\"\n",
      "    - The translation is accurate. \"Aggiustare le impostazioni del browser\" is a good translation for \"adjusting your browser settings.\"\n",
      "\n",
      "Some useful translations that could make the new language more accurate include:\n",
      "- Using \"configurare\" instead of \"impostare\" for setting up or configuring something.\n",
      "- Using \"reiniziare la password\" or \"resettare la password\" for resetting a password.\n",
      "- Using \"tassi di interesse offerti\" for interest rates to be more specific.\n",
      "- Using \"consumo\" or \"uso regolare\" to describe normal wear and tear.\n",
      "\n",
      "Overall, the Italian translation is accurate and effectively conveys the original conversation. Minor adjustments can be made to improve its naturalness and technical tone.\n"
     ]
    }
   ],
   "source": [
    "def converse(prompt, inference_config):\n",
    "    messages = [{\"role\": \"user\", \"content\": [{\"text\": prompt}]}]\n",
    "    response = bedrock_client.converse(\n",
    "        messages=messages,\n",
    "        modelId=eval_model,\n",
    "        inferenceConfig=inference_config\n",
    "    )\n",
    "    generated_text = response['output']['message']['content'][0]['text']\n",
    "    print(generated_text)\n",
    "    return generated_text, response\n",
    "\n",
    "inference_config = {\"temperature\": 0.0, \"maxTokens\": 2048, \"topP\": 0.1}\n",
    "\n",
    "\n",
    "generated_text, response = converse(eval_prompt, inference_config)"
   ]
  },
  {
   "cell_type": "markdown",
   "id": "c670b513-f970-4062-9d24-9ab155bb9cb2",
   "metadata": {},
   "source": [
    "## Multilingual Chatbot functionality\n",
    "\n",
    "LLama 4's multilingual capabilities not only allow developers to translate content from one language to another, but also enables for multilingual chatbots. This is useful for scenarios where developers want to expand globally and create a chatbot to be used to speak in entirely different native languages other than english.\n",
    "\n",
    "If you remember earlier in the notebook, we generated some sample questions that a tourist may have when they look to travel Paris. In the next cell, we will store the questions (in english) as a prompt, have Llama 4 translate the questions in French, and answer the questions in French."
   ]
  },
  {
   "cell_type": "code",
   "execution_count": 18,
   "id": "20c609ad-7994-4ad5-ab1c-2a79f3ce8462",
   "metadata": {},
   "outputs": [
    {
     "name": "stdout",
     "output_type": "stream",
     "text": [
      "Paris, the City of Light. Here are some example prompts of questions you may want to ask if you're planning a trip to Paris:\n",
      "\n",
      "**Pre-Trip Planning**\n",
      "\n",
      "1. What are the best times to visit Paris, considering weather and tourist season?\n",
      "2. How do I get to Paris from the airport (e.g., Charles de Gaulle, Orly)?\n",
      "3. What are the must-see attractions in Paris, and how can I prioritize them?\n",
      "4. What are the different types of accommodations available in Paris (e.g., hotels, hostels, apartments)?\n",
      "5. How do I purchase a Paris Museum Pass, and is it worth it?\n",
      "\n",
      "**Getting Around**\n",
      "\n",
      "1. What is the best way to navigate the Paris metro system?\n",
      "2. How do I buy a carnet of tickets or a Paris Visite pass?\n",
      "3. Are there bike-sharing services available in Paris?\n",
      "4. Can I use credit cards or cash to pay for public transportation?\n",
      "5. How do I hail a taxi or book a ride-hailing service in Paris?\n",
      "\n",
      "**Safety and Etiquette**\n",
      "\n",
      "1. What are some common scams to watch out for in Paris?\n",
      "2. How do I stay safe in crowded areas like train stations and tourist attractions?\n",
      "3. What are some basic French phrases I should know to communicate with locals?\n",
      "4. Are there any specific dress code rules for visiting churches or museums?\n",
      "5. How do I handle tipping in Paris (e.g., restaurants, cafes, tour guides)?\n",
      "\n",
      "**Food and Drink**\n",
      "\n",
      "1. What are some must-try French dishes and desserts?\n",
      "2. How do I order food and drinks at a traditional Parisian cafe?\n",
      "3. Are there any good markets or grocery stores for buying snacks and supplies?\n",
      "4. Can I drink tap water in Paris?\n",
      "5. What are some popular wine bars or wine tastings in Paris?\n",
      "\n",
      "**Budgeting and Costs**\n",
      "\n",
      "1. What is the average cost of a meal in Paris?\n",
      "2. How much should I budget for accommodations and transportation?\n",
      "3. Are there any free museums or attractions in Paris?\n",
      "4. Can I negotiate prices at markets or with street vendors?\n",
      "5. How do I avoid touristy areas with inflated prices?\n",
      "\n",
      "**Special Interests**\n",
      "\n",
      "1. What are the best art museums in Paris (e.g., Louvre, Orsay, Rodin)?\n",
      "2. Are there any guided tours available for specific interests (e.g., history, architecture, food)?\n",
      "3. Can I visit the Eiffel Tower at night?\n",
      "4. What are some popular day trips from Paris (e.g., Versailles, Disneyland)?\n",
      "5. Are there any parks or gardens in Paris that are worth visiting?\n",
      "\n",
      "These are just a few examples of questions you may want to ask when planning your trip to Paris. Feel free to modify them or add more specific questions based on your interests and needs!\n"
     ]
    }
   ],
   "source": [
    "# Extract the 'text' content from the response\n",
    "text_content = response['output']['message']['content'][0]['text']\n",
    "\n",
    "# Replace newline escape sequences ('\\\\n') with actual newline characters\n",
    "formatted_text = text_content.replace('\\\\n', '\\n')\n",
    "\n",
    "# Print the formatted text\n",
    "print(formatted_text)\n",
    "\n",
    "questions = f\"\"\"\n",
    "\n",
    "{formatted_text}\n",
    "\"\"\""
   ]
  },
  {
   "cell_type": "code",
   "execution_count": 19,
   "id": "d53e3899-532b-401a-b9f8-1e71d89f1422",
   "metadata": {
    "tags": []
   },
   "outputs": [],
   "source": [
    "# Define the message to translate and answer the questions in French\n",
    "translated_convo = {\n",
    "    \"role\": \"user\",\n",
    "    \"content\": [\n",
    "        {\"text\": f\"Please translate the following questions into French. Once you translate the questions, please answer the questions in French as well.\\n\\n{questions}\"}\n",
    "    ]\n",
    "}"
   ]
  },
  {
   "cell_type": "code",
   "execution_count": 20,
   "id": "74c7a460-3202-4828-a751-29a920207ec2",
   "metadata": {
    "tags": []
   },
   "outputs": [],
   "source": [
    "# Send the request to the model\n",
    "response = bedrock_client.converse(\n",
    "    modelId=model_id,\n",
    "    messages=[translated_convo],  # Wrap the message in a list\n",
    "    inferenceConfig={\n",
    "        \"maxTokens\": 2000,\n",
    "        \"temperature\": 0,\n",
    "        \"topP\": 0.5\n",
    "    }\n",
    ")"
   ]
  },
  {
   "cell_type": "code",
   "execution_count": 21,
   "id": "ab94d12d-1790-498d-8008-7d1371fae51b",
   "metadata": {
    "tags": []
   },
   "outputs": [
    {
     "name": "stdout",
     "output_type": "stream",
     "text": [
      "Here are the translations of the questions into French, followed by the answers:\n",
      "\n",
      "**Préparation du voyage**\n",
      "\n",
      "1. Quels sont les meilleurs moments pour visiter Paris, en tenant compte du temps et de la saison touristique ?\n",
      "\n",
      "Réponse : Les meilleurs moments pour visiter Paris sont le printemps (avril-mai) et l'automne (septembre-octobre), lorsque le temps est doux et les foules sont moins importantes.\n",
      "\n",
      "2. Comment puis-je me rendre à Paris depuis l'aéroport (par exemple, Charles de Gaulle, Orly) ?\n",
      "\n",
      "Réponse : Vous pouvez prendre un train (RER B ou Le Bus Direct), un bus ou un taxi pour vous rendre à Paris depuis les aéroports. Le RER B est une option économique et pratique.\n",
      "\n",
      "3. Quels sont les incontournables à voir à Paris, et comment puis-je les prioriser ?\n",
      "\n",
      "Réponse : Les incontournables à voir à Paris incluent la Tour Eiffel, le Louvre, Notre-Dame, le Montmartre et les Champs-Élysées. Il est recommandé de prioriser les attractions en fonction de vos intérêts et de votre temps.\n",
      "\n",
      "4. Quels sont les différents types d'hébergements disponibles à Paris (par exemple, hôtels, auberges, appartements) ?\n",
      "\n",
      "Réponse : Paris propose une large gamme d'hébergements, des hôtels de luxe aux auberges de jeunesse et aux appartements en location.\n",
      "\n",
      "5. Comment puis-je acheter un Paris Museum Pass, et en vaut-il la peine ?\n",
      "\n",
      "Réponse : Le Paris Museum Pass peut être acheté en ligne ou dans les musées participants. Il permet l'accès à de nombreux musées et attractions, et peut être rentable si vous prévoyez de visiter plusieurs sites.\n",
      "\n",
      "**Se déplacer**\n",
      "\n",
      "1. Quelle est la meilleure façon de naviguer dans le système de métro parisien ?\n",
      "\n",
      "Réponse : La meilleure façon de naviguer dans le système de métro parisien est d'utiliser un plan de métro et de télécharger une application de navigation, comme Citymapper.\n",
      "\n",
      "2. Comment puis-je acheter un carnet de tickets ou un passe Paris Visite ?\n",
      "\n",
      "Réponse : Vous pouvez acheter un carnet de tickets ou un passe Paris Visite dans les stations de métro ou en ligne.\n",
      "\n",
      "3. Y a-t-il des services de partage de vélos disponibles à Paris ?\n",
      "\n",
      "Réponse : Oui, Paris propose un service de partage de vélos appelé Vélib'.\n",
      "\n",
      "4. Puis-je utiliser des cartes de crédit ou de l'argent liquide pour payer les transports en commun ?\n",
      "\n",
      "Réponse : Oui, vous pouvez utiliser des cartes de crédit ou de l'argent liquide pour payer les transports en commun à Paris.\n",
      "\n",
      "5. Comment puis-je héler un taxi ou réserver un service de VTC à Paris ?\n",
      "\n",
      "Réponse : Vous pouvez héler un taxi en le hélant dans la rue ou en réservant un service de VTC comme Uber.\n",
      "\n",
      "**Sécurité et étiquette**\n",
      "\n",
      "1. Quels sont les escroqueries courantes à surveiller à Paris ?\n",
      "\n",
      "Réponse : Les escroqueries courantes à surveiller à Paris incluent les pickpockets, les faux mendiants et les vendeurs de rue qui vous proposent des produits de qualité médiocre.\n",
      "\n",
      "2. Comment puis-je rester en sécurité dans les zones bondées comme les gares et les attractions touristiques ?\n",
      "\n",
      "Réponse : Pour rester en sécurité dans les zones bondées, il est recommandé de rester vigilant, de garder un œil sur vos biens et d'éviter de vous éloigner de votre groupe.\n",
      "\n",
      "3. Quels sont les phrases françaises de base que je devrais connaître pour communiquer avec les locaux ?\n",
      "\n",
      "Réponse : Les phrases françaises de base à connaître incluent \"bonjour\" (bonjour), \"merci\" (merci), \"excusez-moi\" (excusez-moi) et \"pouvez-vous m'aider ?\" (pouvez-vous m'aider ?).\n",
      "\n",
      "4. Y a-t-il des règles de code vestimentaire spécifiques pour visiter les églises ou les musées ?\n",
      "\n",
      "Réponse : Oui, il est recommandé de s'habiller modestement pour visiter les églises et les musées à Paris.\n",
      "\n",
      "5. Comment puis-je gérer les pourboires à Paris (par exemple, restaurants, cafés, guides touristiques) ?\n",
      "\n",
      "Réponse : Les pourboires à Paris sont généralement de 5-10% dans les restaurants et les cafés, et de 10-15% pour les guides touristiques.\n",
      "\n",
      "**Nourriture et boisson**\n",
      "\n",
      "1. Quels sont les plats français incontournables et les desserts ?\n",
      "\n",
      "Réponse : Les plats français incontournables incluent la ratatouille, le coq au vin et les croissants, tandis que les desserts incluent les macarons, les madeleines et la crème brûlée.\n",
      "\n",
      "2. Comment puis-je commander de la nourriture et des boissons dans un café parisien traditionnel ?\n",
      "\n",
      "Réponse : Pour commander de la nourriture et des boissons dans un café parisien traditionnel, il suffit de dire \"je voudrais...\" (je voudrais...) et de préciser votre commande.\n",
      "\n",
      "3. Y a-t-il des marchés ou des épiceries pour acheter des snacks et des provisions ?\n",
      "\n",
      "Réponse : Oui, Paris propose de nombreux marchés et épiceries, comme le marché aux puces de Saint-Ouen et les épiceries de quartier.\n",
      "\n",
      "4. Puis-je boire l'eau du robinet à Paris ?\n",
      "\n",
      "Réponse : Oui, l'eau du robinet est potable à Paris.\n",
      "\n",
      "5. Quels sont les bars à vin ou les dégustations de vin populaires à Paris ?\n",
      "\n",
      "Réponse : Les bars à vin et les dégustations de vin populaires à Paris incluent le Bar à vin de la Grande Épicerie et les dégustations de vin au Musée du Vin.\n",
      "\n",
      "**Budget et coûts**\n",
      "\n",
      "1. Quel est le coût moyen d'un repas à Paris ?\n",
      "\n",
      "Réponse : Le coût moyen d'un repas à Paris est de 15-30 euros par personne.\n",
      "\n",
      "2. Combien devrais-je budgétiser pour les hébergements et les transports ?\n",
      "\n",
      "Réponse : Il est recommandé de budgétiser 80-150 euros par nuit pour les hébergements et 10-20 euros par jour pour les transports.\n",
      "\n",
      "3. Y a-t-il des musées ou des attractions gratuits à Paris ?\n",
      "\n",
      "Réponse : Oui, certains musées et attractions sont gratuits à Paris, comme le musée d'Art moderne de la Ville de Paris et le parc des Buttes-Chaumont.\n",
      "\n",
      "4. Puis-je négocier les prix dans les marchés ou avec les vendeurs de rue ?\n",
      "\n",
      "Réponse : Oui, il est possible de négocier les prix dans les marchés et avec les vendeurs de rue à Paris.\n",
      "\n",
      "5. Comment puis-je éviter les zones touristiques avec des prix gonflés ?\n",
      "\n",
      "Réponse : Pour éviter les zones touristiques avec des prix gonflés, il est recommandé de se promener dans les quartiers moins connus de Paris et de rechercher des restaurants et des magasins locaux.\n",
      "\n",
      "**Intérêts spéciaux**\n",
      "\n",
      "1. Quels sont les meilleurs musées d'art à Paris (par exemple, Louvre, Orsay, Rodin) ?\n",
      "\n",
      "Réponse : Les meilleurs musées d'art à Paris incluent le Louvre, le Musée d'Orsay et le Musée Rodin.\n",
      "\n",
      "2. Y a-t-il des visites guidées disponibles pour des intérêts spécifiques (par exemple, histoire, architecture, nourriture) ?\n",
      "\n",
      "Réponse : Oui, il existe des visites guidées disponibles pour des intérêts spécifiques à Paris, comme les visites guidées du Louvre ou les visites de dégustation de nourriture.\n",
      "\n",
      "3. Puis-je visiter la Tour Eiffel la nuit ?\n",
      "\n",
      "Réponse : Oui, la Tour Eiffel est ouverte la nuit et propose une vue imprenable sur la ville.\n",
      "\n",
      "4. Quels sont les meilleurs jours de sortie de Paris (par exemple, Versailles, Disneyland) ?\n",
      "\n",
      "Réponse : Les meilleurs jours de sortie de Paris incluent une visite à Versailles, Disneyland et la Vallée de la Loire.\n",
      "\n",
      "5. Y a-t-il des parcs ou des jardins à Paris qui valent la peine d'être visités ?\n",
      "\n",
      "Réponse : Oui, Paris propose de nombreux parcs et jardins qui valent la peine d'être visités, comme le parc des Buttes-Chaumont et le jardin du Luxembourg.\n"
     ]
    }
   ],
   "source": [
    "# Extract the 'text' content from the response\n",
    "text_content = response['output']['message']['content'][0]['text']\n",
    "\n",
    "# Replace newline escape sequences ('\\\\n') with actual newline characters\n",
    "formatted_text = text_content.replace('\\\\n', '\\n')\n",
    "\n",
    "# Print the formatted text\n",
    "print(formatted_text)"
   ]
  },
  {
   "cell_type": "markdown",
   "id": "f0d9c86d-ad45-498b-8503-7070cf911a29",
   "metadata": {},
   "source": [
    "## Conclusion\n",
    "\n",
    "In conclusion, Llama 4 represents a significant advancement in multilingual capabilities, enabling the creation of sophisticated multilingual chatbots and translation services. The model supports a wide array of languages, including English, French, German, Hindi, Italian, Portuguese, Spanish, and Thai, making it a versatile tool for global applications. Its ability to handle complex tasks with a context length of up to 3.5M tokens with the Scout model allows it to manage long conversations and provide accurate translations, which are crucial for developing multilingual chatbots.\n",
    "\n",
    "Overall, Llama 4's multilingual capabilities not only facilitate effective translation across different languages but also enable the development of intelligent conversational agents that can interact seamlessly with users worldwide. This makes it an invaluable resource for businesses and developers looking to expand their reach in diverse linguistic markets."
   ]
  },
  {
   "cell_type": "markdown",
   "id": "5f2cb635-c9d0-46d4-bbae-bb0f673a1257",
   "metadata": {},
   "source": [
    "---\n",
    "## Distributors\n",
    "- Amazon Web Services\n",
    "- Meta"
   ]
  }
 ],
 "metadata": {
  "kernelspec": {
   "display_name": "conda_tensorflow2_p310",
   "language": "python",
   "name": "conda_tensorflow2_p310"
  },
  "language_info": {
   "codemirror_mode": {
    "name": "ipython",
    "version": 3
   },
   "file_extension": ".py",
   "mimetype": "text/x-python",
   "name": "python",
   "nbconvert_exporter": "python",
   "pygments_lexer": "ipython3",
   "version": "3.10.16"
  }
 },
 "nbformat": 4,
 "nbformat_minor": 5
}
