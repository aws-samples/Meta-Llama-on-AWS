{
 "cells": [
  {
   "cell_type": "markdown",
   "id": "a611416f-45b7-4f5e-b7a5-fa1b1cb0b6a3",
   "metadata": {},
   "source": [
    "# Llama 4: Using the Multilingual capabilities for real-world use cases"
   ]
  },
  {
   "cell_type": "markdown",
   "id": "7ddd2fe9-ded1-4682-9347-6486d1bf5dbe",
   "metadata": {
    "tags": []
   },
   "source": [
    "This notebook should work well with the Data Science 3.0 kernel in SageMaker Studio.\n",
    "\n",
    "This guide is designed to assist you in leveraging Llama 3.1's multilingual / translation capabilities with Bedrock Converse API for practical use cases for scenarios where English may not be needed. Our goal is to demonstrate how Llama 3.1 can be used for native lanugages to cover a broader expansion of regions globally. This notebook will provide a strong foundation for creating multilingual / translation applications.\n",
    "\n",
    "We will begin by reviewing how to leverage the Amazon Bedrock Converse API. Once we are familiarized with the Converse API, we will generate some sample prompts to be used to explore Llama 3.1's new capability to address multilingual scenarios."
   ]
  },
  {
   "cell_type": "markdown",
   "id": "6baf1453-083b-4001-8b0e-2eb53f4fd30d",
   "metadata": {
    "tags": []
   },
   "source": [
    "## Llama 4: Advanced AI models for Enterprise Applications"
   ]
  },
  {
   "cell_type": "markdown",
   "id": "464111b1-8c95-4bce-9345-421a60af527f",
   "metadata": {
    "tags": []
   },
   "source": [
    "Llama 4 is a powerful family of large language models developed by Meta, specifically designed for enterprise applications. Available in two variants—Scout and Maverick—these models represent significant advancements in AI capabilities. Llama 4 has the following Key Features and Capabilities: \n",
    "\n",
    "- Multimodal Understanding: Accepts text plus up to 5 images as input, delivering text responses with sophisticated visual comprehension\n",
    "- Extensive Multilingual Support: Proficient in Arabic, English, French, German, Hindi, Indonesian, Italian, Portuguese, Spanish, Tagalog, Thai, and Vietnamese (image understanding is English-only)\n",
    "- Mixture-of-Experts Architecture: Utilizes an innovative design where only 17B parameters are active during computation, despite larger total parameter counts\n",
    "Enterprise-Ready Applications: Optimized for coding tasks, tool-calling, multimodal understanding, and powering agentic systems\n",
    "\n",
    "## Model Comparison\n",
    "| Feature | Llama 4 Scout | Llama 4 Maverick |\n",
    "|---------|---------------|------------------|\n",
    "| Active parameters | 17B | 17B |\n",
    "| Total parameters | 109B | 400B |\n",
    "| Number of experts | 16 | 128 |\n",
    "| Single GPU capability | Yes (INT4-quantized on H100) | No |\n",
    "| Maximum context length | 10M tokens | 1M tokens |\n",
    "\n",
    "These models represent a significant advancement over previous Llama versions, with substantially improved reasoning capabilities, multimodal understanding, and performance on complex enterprise tasks. The mixture-of-experts architecture allows for impressive capabilities while maintaining efficient computation during inference."
   ]
  },
  {
   "cell_type": "markdown",
   "id": "3dd2c034-a9b7-4ba8-b4db-2eb03f54f99e",
   "metadata": {},
   "source": [
    "## Multilingual Capabilities with Llama 4"
   ]
  },
  {
   "cell_type": "markdown",
   "id": "e9105c8a-0734-47a2-8e95-7e6671022f63",
   "metadata": {},
   "source": [
    "Llama 4 represents a significant advancement in multilingual AI capabilities, leveraging a novel training technique called MetaP to enhance its linguistic range and performance. This innovative approach allows for the precise calibration of critical model hyper-parameters, including per-layer learning rates and initialization scales, with remarkable consistency across varying batch sizes, model architectures, and training volumes.\n",
    "\n",
    "\n",
    "The multilingual capabilities of Llama 4 are particularly impressive, having been pre-trained on an extensive corpus spanning 200 languages. More than half of these languages are represented by over 1 billion tokens each, resulting in a training dataset with 10 times more multilingual content than its predecessor, Llama 3. This extensive linguistic coverage makes Llama 4 exceptionally well-suited for global applications requiring cross-lingual understanding and generation.\n",
    "\n",
    "\n",
    "Llama 4 Maverick, the flagship model in this series, features a sophisticated mixture-of-experts architecture with 17 billion active parameters distributed across 128 experts, totaling 400 billion parameters. Despite this complexity, it delivers superior performance at a more competitive price point compared to Llama 3.3 70B. Independent benchmarks confirm Llama 4 Maverick's excellence across multiple domains, outperforming comparable models like GPT-4o and Gemini 2.0 in coding, reasoning, multilingual tasks, long-context handling, and image processing. It even rivals the much larger DeepSeek v3.1 model in specialized coding and reasoning challenges.\n",
    "\n",
    "In this notebook, we will go over a few practical real-world use cases (add one more sentences)"
   ]
  },
  {
   "cell_type": "markdown",
   "id": "61225d7f-b887-47ee-9f52-3455b4a5ba11",
   "metadata": {},
   "source": [
    "## Prerequisites:\n",
    "- AWS SDK for Python (Boto3): Ensure you have the Boto3 library installed.\n",
    "- Amazon Bedrock Model ID: Obtain the model ID for the conversational AI model you wish to use.\n",
    "- AWS Credentials: Configure your AWS credentials to authenticate API requests."
   ]
  },
  {
   "cell_type": "markdown",
   "id": "7488c400-9fbd-4ffc-812f-bbdd1d83b6f1",
   "metadata": {},
   "source": [
    "## Import necessary libraries\n",
    "\n",
    "In the next cell, we will set up our environment by importing the boto3 library and necessary libraries that we will need to confiure our bedrock client to invoke our llama 4 model within the Amazon Bedrock Converse API."
   ]
  },
  {
   "cell_type": "code",
   "execution_count": 47,
   "id": "d837fe60-6869-4430-8457-342ca9492bcb",
   "metadata": {
    "tags": []
   },
   "outputs": [],
   "source": [
    "import boto3\n",
    "from boto3 import client\n",
    "from botocore.config import Config\n",
    "import json\n",
    "import re\n",
    "import logging\n",
    "from botocore.exceptions import ClientError\n",
    "logger = logging.getLogger(__name__)\n",
    "logging.basicConfig(level=logging.INFO)"
   ]
  },
  {
   "cell_type": "code",
   "execution_count": 19,
   "id": "eb76dfbe-83b8-4855-a197-5a1f0303e8d3",
   "metadata": {
    "tags": []
   },
   "outputs": [],
   "source": [
    "config = Config(read_timeout=2000)\n",
    "bedrock_client = boto3.client(service_name='bedrock-runtime', region_name=\"us-east-1\", config=config)"
   ]
  },
  {
   "cell_type": "markdown",
   "id": "f8dc6873-974e-498b-b7c0-bdb3bb29b01d",
   "metadata": {},
   "source": [
    "## Instantiate llama 4 model "
   ]
  },
  {
   "cell_type": "code",
   "execution_count": 20,
   "id": "097393a5-c646-4102-9210-61e1b20eb9b9",
   "metadata": {
    "tags": []
   },
   "outputs": [],
   "source": [
    "meta_llama_4_maverick = 'us.meta.llama4-maverick-17b-instruct-v1:0'\n",
    "meta_llama_4_scout = 'us.meta.llama4-scout-17b-instruct-v1:0'\n",
    "\n",
    "model_id = meta_llama_4_scout"
   ]
  },
  {
   "cell_type": "markdown",
   "id": "db6dd3d2-c7b9-4850-a65a-f63326506418",
   "metadata": {},
   "source": [
    "## Prompting with Amazon Bedrock Converse API\n",
    "\n",
    "The Amazon Bedrock Converse API can be used to invoke large language models on Amazon Bedrock by extracting away the special stop tokens and facilitate the creation of conversational applications by enabling the exchange of messages between users and Amazon Bedrock models.\n",
    "\n",
    "**Key features include:**\n",
    "- **Consistent Interface:**\n",
    "The Converse API provides a uniform interface that works across all Amazon Bedrock models supporting messages. This consistency allows developers to write code once and use it with different models without needing to adjust for model-specific differences.\n",
    "\n",
    "- **Turn-Based Conversations:**\n",
    "The API supports multi-turn conversations, where a series of messages are exchanged between the user (acting as the user role) and the model (acting as the assistant role). This enables the development of chatbots and other conversational agents that can maintain context over multiple interactions.\n",
    "\n",
    "- **Tool Use (Function Calling):**\n",
    "The Converse API supports tool use, allowing models to request the invocation of external functions or tools. This is particularly useful for tasks that require interaction with external APIs or services. The model generates a JSON structure with the necessary parameters, which the calling application then uses to invoke the specified tool"
   ]
  },
  {
   "cell_type": "markdown",
   "id": "155dc769-4221-4355-b9fe-23f1ef468a70",
   "metadata": {
    "tags": []
   },
   "source": [
    "## Prompting with the Bedrock Converse API\n",
    "\n",
    "After setting your model ID as llama 4 scout model, to start interfacing with the converse API - you can put the prompt input inside the content section.\n",
    "\n",
    "Listed below is an example of how you can change / assign the different roles and add input to the role."
   ]
  },
  {
   "cell_type": "markdown",
   "id": "d4445564-13a7-4710-a206-a2a3f75246a5",
   "metadata": {
    "tags": []
   },
   "source": [
    "#### Prompting with Converse API on Bedrock\n",
    "\n",
    "```\n",
    "{\n",
    "    \"role\": \"user | assistant\",\n",
    "    \"content\": [\n",
    "        {\n",
    "            \"text\": \"string\"\n",
    "        }\n",
    "    ]\n",
    "}\n",
    "```\n",
    "\n",
    "In the next cell, we will use llama 4 to generate a few questions that we will use to be allow us to have a conversation in French."
   ]
  },
  {
   "cell_type": "code",
   "execution_count": 31,
   "id": "b13bd9c4-7dd1-4ca8-8008-807b7e380400",
   "metadata": {},
   "outputs": [],
   "source": [
    "# Prepare your payload with the messages format\n",
    "payload = {\n",
    "    \"messages\": [\n",
    "        {\n",
    "            \"role\": \"user\",\n",
    "            \"content\": [\n",
    "                {\n",
    "                    \"text\": \"You are a helpful AI assistant.\"\n",
    "                }\n",
    "            ]\n",
    "        },\n",
    "        {\n",
    "            \"role\": \"user\",\n",
    "            \"content\": [\n",
    "                {\n",
    "                    \"text\": \"What are three key benefits of large language models for businesses?\"\n",
    "                }\n",
    "            ]\n",
    "        }\n",
    "    ]\n",
    "\n",
    "}"
   ]
  },
  {
   "cell_type": "code",
   "execution_count": 32,
   "id": "6edcfac6-2df4-4343-bfe2-94995ba8e434",
   "metadata": {
    "tags": []
   },
   "outputs": [
    {
     "name": "stdout",
     "output_type": "stream",
     "text": [
      "Large language models (LLMs) have been increasingly adopted by businesses due to their potential to drive efficiency, innovation, and growth. Here are three key benefits of LLMs for businesses:\n",
      "\n",
      "1. **Improved Customer Experience**: LLMs can be used to power chatbots, virtual assistants, and other customer-facing applications, enabling businesses to provide 24/7 support, respond to customer inquiries, and offer personalized recommendations. By automating routine customer interactions, businesses can free up human customer support agents to focus on more complex issues, leading to improved customer satisfaction and loyalty.\n",
      "\n",
      "2. **Enhanced Content Generation and Productivity**: LLMs can generate high-quality content, such as product descriptions, blog posts, and social media updates, at scale and with minimal human input. This can help businesses to reduce content creation costs, improve content consistency, and accelerate their content marketing efforts. Additionally, LLMs can assist with tasks such as language translation, summarization, and proofreading, further boosting productivity and efficiency.\n",
      "\n",
      "3. **Data-Driven Insights and Decision-Making**: LLMs can be used to analyze and process large volumes of unstructured data, such as customer feedback, reviews, and social media posts, to extract valuable insights and sentiment analysis. This can help businesses to better understand their customers, identify market trends, and make data-driven decisions. By leveraging LLMs, businesses can gain a competitive edge by uncovering hidden patterns and opportunities in their data.\n",
      "\n",
      "These benefits can have a significant impact on businesses, enabling them to improve customer engagement, increase productivity, and drive informed decision-making. As LLMs continue to evolve, we can expect to see even more innovative applications and benefits emerge.\n"
     ]
    }
   ],
   "source": [
    "response = bedrock_client.converse(\n",
    "    modelId=model_id,\n",
    "    messages=payload[\"messages\"],  # Wrap the message in a list\n",
    "    inferenceConfig={\n",
    "        \"maxTokens\": 2000,\n",
    "        \"temperature\": 0,\n",
    "        \"topP\": .5\n",
    "    }\n",
    ")\n",
    "\n",
    "print(response[\"output\"][\"message\"][\"content\"][0][\"text\"])"
   ]
  },
  {
   "cell_type": "markdown",
   "id": "3ef34616-04b2-4e7d-b715-aaa805050303",
   "metadata": {},
   "source": [
    "In the cell above, we can see that Llama 4 was able to successfully generate some sample questions in English. We will use these questions later on in the notebook to prompt Llama 3.1 to have a full conversation in French. But first, let's go into a few of the multilingual translation basics."
   ]
  },
  {
   "cell_type": "markdown",
   "id": "db34a263-5afd-448a-8519-ff449e8d3347",
   "metadata": {},
   "source": [
    "## Multi-lingual use case capabilities: Translation"
   ]
  },
  {
   "cell_type": "markdown",
   "id": "6259dfb4-bfa4-411e-95db-a11bf06e5895",
   "metadata": {},
   "source": [
    "Llama 4 supports a variety of languages, allowing developers to build applications and services that cater to users from diverse linguistic backgrounds by offering multilingual capabilities that can be leveraged to create localized user interfaces and provide language-specific content. Specifically, Llama 4 supports languages such as English, French, German, Spanish, Italian, Portuguese, Hindi and Thai.\n",
    "\n",
    "For translating telephone conversations into different languages like Hindi, Arabic, Korean, and Japanese, Llama 4 can be utilized effectively. In the next cell, we will demonstrate how a bank teller and customer conversation that is held in English can be translated to various languages."
   ]
  },
  {
   "cell_type": "code",
   "execution_count": 34,
   "id": "07b6c958-4de1-4cb2-af51-83112137579d",
   "metadata": {
    "tags": []
   },
   "outputs": [],
   "source": [
    "conversation = \"\"\"\n",
    "Customer: \"Hi, I recently opened a new account with your bank and I love the online banking features! Can you guide me on how to set up different alerts for each type of transaction I make?\"\n",
    "Teller: \"Hello! I'm glad to hear you're enjoying our services. Setting up transaction alerts is simple. You can customize them through our online banking portal. Let me walk you through the process.\"\n",
    "Customer: \"I'm trying to use the mobile banking app, but it doesn't seem to be registering my login attempts. Could you help me figure out what might be going wrong?\"\n",
    "Teller: \"Of course! Let's troubleshoot this together. First, ensure that your username and password are correct. If you're still having issues, try resetting your password or updating the app to the latest version.\" \n",
    "Customer: \"I'm considering opening a savings account and I'm curious about the interest rates. What options are available and what are their main differences?\"\n",
    "Teller: \"Great question! We offer several savings account options with varying interest rates. Our standard savings account has a competitive rate, while our high-yield account offers a higher rate for larger balances. I can provide more details on each.\"\n",
    "Customer: \"I wanted to report a small issue where my debit card was a bit sticky. However, your quick-start guide was super helpful and I fixed it easily by following the cleaning tips. Just thought you might want to know!\"\n",
    "Teller: \"Thanks for letting us know. I'm glad the guide was helpful. If you encounter any more issues, feel free to reach out, and we'll be happy to assist further.\" \n",
    "Customer: \"My new debit card stopped working within a week of receiving it. None of the transactions go through, and I need a solution or a replacement as soon as possible.\"\n",
    "Teller: \"I'm sorry to hear that. Let's resolve this quickly. Please check if the card is activated and try using a different ATM. If it still doesn't work, we'll issue a replacement card right away.\" \n",
    "Customer: \"I've noticed that the numbers on my debit card are starting to fade after several months of use. Is this covered by the warranty?\"\n",
    "Teller: \"Yes, card wear and tear is covered. Please bring your card to our branch, and we'll assist you with a replacement at no charge.\" \n",
    "Customer: \"I had an issue where my account settings would reset every time I logged in. I figured out it was due to a browser conflict and resolved it by clearing my cache. Just wanted to ask if there are any new updates coming soon?\"\n",
    "Teller: \"Good job on resolving the issue. We do roll out updates regularly to improve our online services. Keep an eye on our website or subscribe to our newsletter for the latest updates.\" \n",
    "Customer: \"I've been having trouble with the online banking portal not saving my preferences, and it's starting to get frustrating. What can be done to ensure my settings are saved permanently?\"\n",
    "Teller: \"I understand your frustration. Make sure you're using the latest version of your browser. Also, try adjusting your browser settings to allow cookies, which can help save your preferences.\"\n",
    "\"\"\""
   ]
  },
  {
   "cell_type": "markdown",
   "id": "6664b865-9b41-49c1-b70c-4becdae5c1ae",
   "metadata": {},
   "source": [
    "Here we will allow llama 4 to translate each of the following transcripted calls into different langauges by creating different prompts for Hindi, Spanish, german and italian. These prompts will all be used to ingest the conversation and translate into the native given language."
   ]
  },
  {
   "cell_type": "code",
   "execution_count": 35,
   "id": "9eec770a-5e60-47a3-8ec2-d962be30a3e7",
   "metadata": {
    "tags": []
   },
   "outputs": [],
   "source": [
    "#prompts for language tasks/ translation\n",
    "\n",
    "hindi_prompt = f\"\"\"\n",
    "Translate the following conversation into Hindi. Your responses must be numbered, only in Hindi, and must adhere to only translating the conversation.\n",
    "\n",
    "{conversation}\n",
    "\"\"\"\n",
    "\n",
    "spanish_prompt = f\"\"\"\n",
    "Translate the following conversation into Spanish. Your responses must be numbered, only in Spanish, and must adhere to only translating the conversation.\n",
    "\n",
    "{conversation}\n",
    "\"\"\"\n",
    "\n",
    "german_prompt = f\"\"\"\n",
    "Translate the following conversation into German. Your responses must be numbered, only in German, and must adhere to only translating the conversation.\n",
    "\n",
    "{conversation}\n",
    "\"\"\"\n",
    "\n",
    "italian_prompt = f\"\"\"\n",
    "Translate the following conversation into Italian. Your responses must be numbered, only in Italian, and must adhere to only translating the conversation.\n",
    "\n",
    "{conversation}\n",
    "\"\"\""
   ]
  },
  {
   "cell_type": "code",
   "execution_count": 48,
   "id": "e2827e8c-6122-47f3-a4ce-23148ab181a3",
   "metadata": {
    "tags": []
   },
   "outputs": [
    {
     "name": "stdout",
     "output_type": "stream",
     "text": [
      "1. ग्राहक: \"नमस्ते, मैंने हाल ही में आपके बैंक में एक नया खाता खोला है और मुझे ऑनलाइन बैंकिंग सुविधाएं बहुत पसंद हैं! क्या आप मुझे बता सकते हैं कि मैं अपने प्रत्येक लेनदेन के लिए अलग-अलग अलर्ट कैसे सेट कर सकता हूं?\"\n",
      "2. टेलर: \"नमस्ते! मुझे यह जानकर खुशी हुई कि आप हमारी सेवाओं का आनंद ले रहे हैं। लेनदेन अलर्ट सेट करना आसान है। आप हमारे ऑनलाइन बैंकिंग पोर्टल के माध्यम से उन्हें अनुकूलित कर सकते हैं। मैं आपको इस प्रक्रिया के बारे में बताऊंगा।\"\n",
      "3. ग्राहक: \"मैं मोबाइल बैंकिंग ऐप का उपयोग करने की कोशिश कर रहा हूं, लेकिन यह मेरे लॉगिन प्रयासों को पंजीकृत नहीं कर रहा है। क्या आप मुझे यह पता लगाने में मदद कर सकते हैं कि क्या गलत हो रहा है?\"\n",
      "4. टेलर: \"बिल्कुल! आइए इसे एक साथ हल करें। सबसे पहले, सुनिश्चित करें कि आपका उपयोगकर्ता नाम और पासवर्ड सही है। यदि आपको अभी भी समस्याएं आ रही हैं, तो अपना पासवर्ड रीसेट करने या ऐप को नवीनतम संस्करण में अपडेट करने का प्रयास करें।\"\n",
      "5. ग्राहक: \"मैं एक बचत खाता खोलने पर विचार कर रहा हूं और मैं ब्याज दरों के बारे में उत्सुक हूं। क्या विकल्प उपलब्ध हैं और उनके मुख्य अंतर क्या हैं?\"\n",
      "6. टेलर: \"बढ़िया सवाल! हम विभिन्न ब्याज दरों के साथ कई बचत खाता विकल्प प्रदान करते हैं। हमारा मानक बचत खाता एक प्रतिस्पर्धी दर के साथ आता है, जबकि हमारा उच्च-उपज खाता बड़े बैलेंस के लिए उच्च दर प्रदान करता है। मैं आपको प्रत्येक के बारे में अधिक जानकारी दे सकता हूं।\"\n",
      "7. ग्राहक: \"मैं एक छोटी सी समस्या की रिपोर्ट करना चाहता था जहां मेरा डेबिट कार्ड थोड़ा चिपचिपा था। हालांकि, आपकी क्विक-स्टार्ट गाइड बहुत मददगार थी और मैंने सफाई युक्तियों का पालन करके इसे आसानी से ठीक कर लिया। बस सोचा कि आप जानना चाहेंगे!\"\n",
      "8. टेलर: \"धन्यवाद कि आपने हमें बताया। मुझे खुशी है कि गाइड मददगार थी। यदि आपको और कोई समस्या आती है, तो कृपया संपर्क करने में संकोच न करें, और हम आगे आपकी सहायता करने में खुश होंगे।\"\n",
      "9. ग्राहक: \"मेरा नया डेबिट कार्ड प्राप्त करने के एक सप्ताह के भीतर काम करना बंद कर दिया। कोई भी लेनदेन नहीं हो रहा है, और मुझे जल्द से जल्द समाधान या प्रतिस्थापन की आवश्यकता है।\"\n",
      "10. टेलर: \"मुझे यह जानकर खेद है। आइए इसे जल्दी से हल करें। कृपया जांचें कि कार्ड सक्रिय है और एक अलग एटीएम का उपयोग करने का प्रयास करें। यदि यह अभी भी काम नहीं करता है, तो हम तुरंत एक प्रतिस्थापन कार्ड जारी करेंगे।\"\n",
      "11. ग्राहक: \"मैंने देखा है कि मेरे डेबिट कार्ड पर नंबर कई महीनों के उपयोग के बाद फीके पड़ने लगे हैं। क्या यह वारंटी के तहत कवर किया गया है?\"\n",
      "12. टेलर: \"हां, कार्ड का टूट-फूट कवर किया गया है। कृपया अपना कार्ड हमारे शाखा में लाएं, और हम आपको बिना किसी शुल्क के प्रतिस्थापन में सहायता करेंगे।\"\n",
      "13. ग्राहक: \"मुझे एक समस्या थी जहां मेरा खाता सेटिंग्स हर बार लॉग इन करने पर रीसेट हो जाता था। मैंने पता लगाया कि यह एक ब्राउज़र संघर्ष के कारण था और अपने कैश को साफ़ करके इसे हल किया। बस पूछना चाहता था कि क्या कोई नए अपडेट आ रहे हैं?\"\n",
      "14. टेलर: \"समस्या का समाधान करने के लिए बधाई। हम अपनी ऑनलाइन सेवाओं में सुधार के लिए नियमित रूप से अपडेट जारी करते हैं। हमारी वेबसाइट पर नज़र रखें या नवीनतम अपडेट के लिए हमारे न्यूज़लेटर की सदस्यता लें।\"\n",
      "15. ग्राहक: \"मुझे ऑनलाइन बैंकिंग पोर्टल के साथ परेशानी हो रही है जो मेरी पसंद को सहेज नहीं रहा है, और यह निराशाजनक होने लगा है। मेरी सेटिंग्स को स्थायी रूप से सहेजने के लिए क्या किया जा सकता है?\"\n",
      "16. टेलर: \"मैं आपकी निराशा समझता हूं। सुनिश्चित करें कि आप अपने ब्राउज़र के नवीनतम संस्करण का उपयोग कर रहे हैं। इसके अलावा, कुकीज़ को अनुमति देने के लिए अपने ब्राउज़र सेटिंग्स को समायोजित करने का प्रयास करें, जो आपकी पसंद को सहेजने में मदद कर सकता है।\"\n"
     ]
    }
   ],
   "source": [
    "def converse(prompt, inference_config):\n",
    "    messages = [{\"role\": \"user\", \"content\": [{\"text\": prompt}]}]\n",
    "    response = bedrock_client.converse(\n",
    "        messages=messages,\n",
    "        modelId=model_id,\n",
    "        inferenceConfig=inference_config\n",
    "    )\n",
    "    generated_text = response['output']['message']['content'][0]['text']\n",
    "    print(generated_text)\n",
    "    return generated_text, response\n",
    "\n",
    "inference_config = {\"temperature\": 0.0, \"maxTokens\": 2048, \"topP\": 0.1}\n",
    "\n",
    "#hindi prompt with llama 4\n",
    "generated_text, response = converse(hindi_prompt, inference_config)"
   ]
  },
  {
   "cell_type": "code",
   "execution_count": 37,
   "id": "4efee676-1c62-42e3-95d0-166e2914f029",
   "metadata": {
    "tags": []
   },
   "outputs": [
    {
     "name": "stdout",
     "output_type": "stream",
     "text": [
      "1. Cliente: \"Hola, recientemente abrí una nueva cuenta con su banco y me encantan las características de la banca en línea. ¿Puede guiarme sobre cómo configurar diferentes alertas para cada tipo de transacción que realizo?\"\n",
      "2. Cajero: \"Hola. Me alegra saber que está disfrutando de nuestros servicios. Configurar alertas de transacciones es sencillo. Puede personalizarlas a través de nuestro portal de banca en línea. Déjeme explicarle el proceso.\"\n",
      "3. Cliente: \"Estoy intentando usar la aplicación de banca móvil, pero no parece estar registrando mis intentos de inicio de sesión. ¿Podría ayudarme a descubrir qué podría estar saliendo mal?\"\n",
      "4. Cajero: \"Por supuesto. Vamos a solucionar esto juntos. Primero, asegúrese de que su nombre de usuario y contraseña sean correctos. Si todavía tiene problemas, intente restablecer su contraseña o actualizar la aplicación a la última versión.\"\n",
      "5. Cliente: \"Estoy considerando abrir una cuenta de ahorros y estoy curioso sobre las tasas de interés. ¿Qué opciones están disponibles y cuáles son sus principales diferencias?\"\n",
      "6. Cajero: \"Gran pregunta. Ofrecemos varias opciones de cuentas de ahorros con tasas de interés variables. Nuestra cuenta de ahorros estándar tiene una tasa competitiva, mientras que nuestra cuenta de alto rendimiento ofrece una tasa más alta para saldos más grandes. Puedo proporcionarle más detalles sobre cada una.\"\n",
      "7. Cliente: \"Quería informar sobre un pequeño problema en el que mi tarjeta de débito estaba un poco pegajosa. Sin embargo, su guía de inicio rápido fue muy útil y la arreglé fácilmente siguiendo los consejos de limpieza. Solo pensé que podrían querer saberlo.\"\n",
      "8. Cajero: \"Gracias por hacérnoslo saber. Me alegra que la guía fuera útil. Si tiene algún otro problema, no dude en hacérnoslo saber y estaremos encantados de ayudarlo más.\"\n",
      "9. Cliente: \"Mi nueva tarjeta de débito dejó de funcionar dentro de una semana después de recibirla. Ninguna de las transacciones se procesa y necesito una solución o un reemplazo lo antes posible.\"\n",
      "10. Cajero: \"Lo siento mucho. Vamos a resolver esto rápidamente. Por favor, verifique si la tarjeta está activada e intente usar un cajero automático diferente. Si todavía no funciona, emitiremos una tarjeta de reemplazo de inmediato.\"\n",
      "11. Cliente: \"He notado que los números en mi tarjeta de débito están empezando a desvanecerse después de varios meses de uso. ¿Está cubierto por la garantía?\"\n",
      "12. Cajero: \"Sí, el desgaste de la tarjeta está cubierto. Por favor, traiga su tarjeta a nuestra sucursal y le ayudaremos con un reemplazo sin cargo.\"\n",
      "13. Cliente: \"Tuve un problema en el que mis configuraciones de cuenta se restablecían cada vez que iniciaba sesión. Descubrí que se debía a un conflicto del navegador y lo resolví borrando mi caché. Solo quería preguntar si hay alguna actualización nueva próximamente.\"\n",
      "14. Cajero: \"Buen trabajo al resolver el problema. Realizamos actualizaciones periódicas para mejorar nuestros servicios en línea. Mantenga un ojo en nuestro sitio web o suscríbase a nuestro boletín para obtener las últimas actualizaciones.\"\n",
      "15. Cliente: \"He estado teniendo problemas con el portal de banca en línea que no guarda mis preferencias y está empezando a ser frustrante. ¿Qué se puede hacer para asegurarse de que mis configuraciones se guarden de forma permanente?\"\n",
      "16. Cajero: \"Entiendo su frustración. Asegúrese de estar utilizando la última versión de su navegador. Además, intente ajustar la configuración de su navegador para permitir cookies, lo que puede ayudar a guardar sus preferencias.\"\n"
     ]
    }
   ],
   "source": [
    "#spanish prompt with llama 4\n",
    "generated_text, response = converse(spanish_prompt, inference_config)"
   ]
  },
  {
   "cell_type": "code",
   "execution_count": 38,
   "id": "253b1ad1-29a6-422d-9f6e-f38c75cf30d0",
   "metadata": {
    "tags": []
   },
   "outputs": [
    {
     "name": "stdout",
     "output_type": "stream",
     "text": [
      "1. Kunde: \"Hallo, ich habe kürzlich ein neues Konto bei Ihrer Bank eröffnet und liebe die Online-Banking-Funktionen! Können Sie mir helfen, verschiedene Benachrichtigungen für jede Art von Transaktion, die ich durchführe, einzurichten?\"\n",
      "2. Bankangestellter: \"Hallo! Ich bin froh, dass Sie unsere Dienstleistungen genießen. Das Einrichten von Transaktionsbenachrichtigungen ist einfach. Sie können diese über unser Online-Banking-Portal anpassen. Lassen Sie mich Sie durch den Prozess führen.\"\n",
      "3. Kunde: \"Ich versuche, die Mobile-Banking-App zu verwenden, aber es scheint, als ob meine Anmeldeversuche nicht registriert werden. Könnten Sie mir helfen, herauszufinden, was möglicherweise schief läuft?\"\n",
      "4. Bankangestellter: \"Natürlich! Lassen Sie uns dies gemeinsam beheben. Stellen Sie zunächst sicher, dass Ihr Benutzername und Passwort korrekt sind. Wenn Sie weiterhin Probleme haben, versuchen Sie, Ihr Passwort zurückzusetzen oder die App auf die neueste Version zu aktualisieren.\"\n",
      "5. Kunde: \"Ich überlege, ein Sparkonto zu eröffnen, und bin neugierig auf die Zinssätze. Welche Optionen sind verfügbar und was sind ihre Hauptunterschiede?\"\n",
      "6. Bankangestellter: \"Gute Frage! Wir bieten mehrere Sparkonto-Optionen mit unterschiedlichen Zinssätzen an. Unser Standard-Sparkonto hat einen wettbewerbsfähigen Zinssatz, während unser Hochzins-Konto einen höheren Zinssatz für größere Guthaben bietet. Ich kann Ihnen weitere Details zu jedem Konto geben.\"\n",
      "7. Kunde: \"Ich wollte ein kleines Problem melden, bei dem meine Debitkarte ein bisschen klebrig war. Ihr Schnellstartguide war jedoch sehr hilfreich, und ich konnte es leicht beheben, indem ich die Reinigungstipps befolgte. Ich dachte nur, Sie sollten es wissen!\"\n",
      "8. Bankangestellter: \"Danke, dass Sie uns informiert haben. Ich bin froh, dass der Guide hilfreich war. Wenn Sie weitere Probleme haben, zögern Sie nicht, uns zu kontaktieren, und wir helfen Ihnen gerne weiter.\"\n",
      "9. Kunde: \"Meine neue Debitkarte funktionierte innerhalb einer Woche nach Erhalt nicht mehr. Keine der Transaktionen wird durchgeführt, und ich benötige so schnell wie möglich eine Lösung oder einen Ersatz.\"\n",
      "10. Bankangestellter: \"Es tut mir leid, das zu hören. Lassen Sie uns dies schnell beheben. Bitte überprüfen Sie, ob die Karte aktiviert ist, und versuchen Sie, einen anderen Geldautomaten zu verwenden. Wenn es immer noch nicht funktioniert, stellen wir Ihnen sofort eine Ersatzkarte aus.\"\n",
      "11. Kunde: \"Ich habe bemerkt, dass die Zahlen auf meiner Debitkarte nach mehreren Monaten des Gebrauchs zu verblassen beginnen. Ist dies durch die Garantie abgedeckt?\"\n",
      "12. Bankangestellter: \"Ja, der Verschleiß der Karte ist abgedeckt. Bitte bringen Sie Ihre Karte zu unserer Filiale, und wir helfen Ihnen bei einem kostenlosen Ersatz.\"\n",
      "13. Kunde: \"Ich hatte ein Problem, bei dem meine Kontoeinstellungen jedes Mal zurückgesetzt wurden, wenn ich mich anmeldete. Ich fand heraus, dass es aufgrund eines Browserkonflikts war und löste es, indem ich meinen Cache leerte. Ich wollte nur fragen, ob bald neue Updates kommen?\"\n",
      "14. Bankangestellter: \"Gut gemacht, dass Sie das Problem gelöst haben. Wir führen regelmäßig Updates durch, um unsere Online-Dienstleistungen zu verbessern. Behalten Sie unsere Website im Auge oder abonnieren Sie unseren Newsletter, um die neuesten Updates zu erhalten.\"\n",
      "15. Kunde: \"Ich hatte Probleme mit dem Online-Banking-Portal, das meine Einstellungen nicht speichert, und es wird langsam frustrierend. Was kann getan werden, um sicherzustellen, dass meine Einstellungen dauerhaft gespeichert werden?\"\n",
      "16. Bankangestellter: \"Ich verstehe Ihre Frustration. Stellen Sie sicher, dass Sie die neueste Version Ihres Browsers verwenden. Versuchen Sie außerdem, Ihre Browsereinstellungen anzupassen, um Cookies zuzulassen, was dazu beitragen kann, Ihre Einstellungen zu speichern.\"<|eot_id|>\n"
     ]
    }
   ],
   "source": [
    "#german prompt with llama 4\n",
    "generated_text, response = converse(german_prompt, inference_config)"
   ]
  },
  {
   "cell_type": "code",
   "execution_count": 49,
   "id": "168c9a1b-ff1c-4bbe-99e8-e4770f6517b4",
   "metadata": {
    "tags": []
   },
   "outputs": [
    {
     "name": "stdout",
     "output_type": "stream",
     "text": [
      "1. Cliente: \"Ciao, ho recentemente aperto un nuovo conto con la vostra banca e adoro le funzionalità di banking online! Potete guidarmi su come impostare diversi avvisi per ogni tipo di transazione che faccio?\"\n",
      "2. Bancario: \"Ciao! Sono felice di sentire che stai godendo dei nostri servizi. Impostare avvisi di transazione è semplice. Puoi personalizzarli attraverso il nostro portale di banking online. Lasciami guidarti attraverso il processo.\"\n",
      "3. Cliente: \"Sto cercando di utilizzare l'app di mobile banking, ma non sembra registrare i miei tentativi di accesso. Potreste aiutarmi a capire cosa potrebbe andare storto?\"\n",
      "4. Bancario: \"Certo! Risolviamo questo insieme. Innanzitutto, assicurati che il tuo nome utente e la password siano corretti. Se continui ad avere problemi, prova a reimpostare la password o ad aggiornare l'app all'ultima versione.\"\n",
      "5. Cliente: \"Sto considerando di aprire un conto di risparmio e sono curioso riguardo ai tassi di interesse. Quali opzioni sono disponibili e quali sono le loro principali differenze?\"\n",
      "6. Bancario: \"Ottima domanda! Offriamo diverse opzioni di conto di risparmio con tassi di interesse variabili. Il nostro conto di risparmio standard ha un tasso competitivo, mentre il nostro conto ad alto rendimento offre un tasso più alto per saldi più grandi. Posso fornirti maggiori dettagli su ciascuno.\"\n",
      "7. Cliente: \"Volevo segnalare un piccolo problema in cui la mia carta di debito era un po' appiccicosa. Tuttavia, la vostra guida rapida è stata molto utile e l'ho risolto facilmente seguendo i consigli di pulizia. Solo pensavo che potreste volerlo sapere!\"\n",
      "8. Bancario: \"Grazie per averci informato. Sono felice che la guida sia stata utile. Se incontri altri problemi, non esitare a contattarci e saremo felici di assisterti ulteriormente.\"\n",
      "9. Cliente: \"La mia nuova carta di debito ha smesso di funzionare entro una settimana dalla ricezione. Nessuna delle transazioni va a buon fine e ho bisogno di una soluzione o di una sostituzione il prima possibile.\"\n",
      "10. Bancario: \"Mi dispiace sentire questo. Risolviamo questo rapidamente. Per favore, controlla se la carta è attivata e prova a utilizzare un ATM diverso. Se continua a non funzionare, emetteremo una carta di sostituzione immediatamente.\"\n",
      "11. Cliente: \"Ho notato che i numeri sulla mia carta di debito stanno iniziando a sbiadire dopo diversi mesi di utilizzo. È coperto dalla garanzia?\"\n",
      "12. Bancario: \"Sì, l'usura della carta è coperta. Per favore, porta la tua carta al nostro sportello e ti assisteremo con una sostituzione senza alcun addebito.\"\n",
      "13. Cliente: \"Ho avuto un problema in cui le impostazioni del mio conto si reimpostavano ogni volta che accedevo. Ho capito che era dovuto a un conflitto del browser e l'ho risolto cancellando la mia cache. Volevo solo chiedere se ci sono aggiornamenti nuovi in arrivo presto?\"\n",
      "14. Bancario: \"Bravo per aver risolto il problema. Noi implementiamo regolarmente aggiornamenti per migliorare i nostri servizi online. Tieni d'occhio il nostro sito web o iscriviti alla nostra newsletter per gli ultimi aggiornamenti.\"\n",
      "15. Cliente: \"Ho avuto problemi con il portale di banking online che non salva le mie preferenze e sta iniziando a diventare frustrante. Cosa si può fare per assicurarsi che le mie impostazioni vengano salvate permanentemente?\"\n",
      "16. Bancario: \"Capisco la tua frustrazione. Assicurati di utilizzare l'ultima versione del tuo browser. Inoltre, prova a regolare le impostazioni del browser per consentire i cookie, che possono aiutare a salvare le tue preferenze.\"\n"
     ]
    }
   ],
   "source": [
    "# italian prompt with llama 4\n",
    "generated_text_italian, response = converse(italian_prompt, inference_config)"
   ]
  },
  {
   "cell_type": "markdown",
   "id": "e9924e1e-df0c-4eef-9683-9bac3ba7580f",
   "metadata": {},
   "source": [
    "## Translation evaluation with Larger Maverick model"
   ]
  },
  {
   "cell_type": "code",
   "execution_count": 40,
   "id": "e305f4aa-b506-4a2f-8e26-e1df8073fb7e",
   "metadata": {
    "tags": []
   },
   "outputs": [],
   "source": [
    "eval_model = meta_llama_4_maverick"
   ]
  },
  {
   "cell_type": "code",
   "execution_count": 50,
   "id": "1e71a32f-77a7-439f-a8da-cabe637d6ef2",
   "metadata": {
    "tags": []
   },
   "outputs": [],
   "source": [
    "# Evaluate the generated text using the maverick model\n",
    "eval_prompt = f\"\"\"The {conversation} text was translated from English to italian \n",
    "by converting the conversation into {generated_text_italian} text, is this an accurate translation? \n",
    "Highlight any useful translations in English that could make the new language more accurate.\"\"\""
   ]
  },
  {
   "cell_type": "code",
   "execution_count": 42,
   "id": "e8fc4468-3fe5-49e3-84b1-f9283124b1a5",
   "metadata": {
    "tags": []
   },
   "outputs": [
    {
     "name": "stdout",
     "output_type": "stream",
     "text": [
      "The provided Italian translation is generally accurate. However, there are a few minor adjustments that could be made to improve its accuracy and naturalness.\n",
      "\n",
      "1. Cliente: \"Ciao, ho recentemente aperto un nuovo conto con la vostra banca e adoro le funzionalità di banking online! Potete guidarmi su come impostare diversi avvisi per ogni tipo di transazione che faccio?\"\n",
      "   - The translation is accurate. \"Banking online\" could be translated to \"online banking\" as \"servizi di online banking\" for a more natural tone.\n",
      "\n",
      "2. Cliente: \"Sto cercando di utilizzare l'app di mobile banking, ma non sembra registrare i miei tentativi di accesso.\"\n",
      "   - \"Mobile banking app\" is more naturally translated as \"app di banking mobile\" or simply \"l'app mobile\" in informal contexts, but \"l'app di mobile banking\" is acceptable.\n",
      "\n",
      "3. Bancario: \"Certo! Risolviamo questo insieme.\"\n",
      "   - A more natural translation could be \"Certo! Vediamo di risolvere insieme\" to convey a sense of collaborative troubleshooting.\n",
      "\n",
      "4. Cliente: \"Volevo segnalare un piccolo problema in cui la mia carta di debito era un po' appiccicosa.\"\n",
      "   - \"Sticky\" is translated to \"appiccicosa,\" which is correct, but a more common description for a debit card being sticky might be \"un po' bloccata\" or \"difficile da utilizzare\" depending on the context.\n",
      "\n",
      "5. Cliente: \"La mia nuova carta di debito ha smesso di funzionare entro una settimana dalla ricezione.\"\n",
      "   - The translation is accurate. However, \"dalla ricezione\" could be more naturally phrased as \"dopo averla ricevuta\" in some contexts.\n",
      "\n",
      "6. Bancario: \"Mi dispiace sentire questo. Risolviamo questo rapidamente.\"\n",
      "   - A more natural way to say this could be \"Mi dispiace sentire questo. Sistemiamo la cosa il prima possibile\" to convey a sense of urgency.\n",
      "\n",
      "7. Cliente: \"Ho notato che i numeri sulla mia carta di debito stanno iniziando a sbiadire dopo diversi mesi di utilizzo.\"\n",
      "   - The translation is accurate. \"Sbiadire\" is a good translation for \"fade.\"\n",
      "\n",
      "8. Bancario: \"Sì, l'usura della carta è coperta.\"\n",
      "   - This could be more naturally phrased as \"Sì, la garanzia copre l'usura della carta\" to make it clear that the warranty covers wear and tear.\n",
      "\n",
      "9. Cliente: \"Ho avuto un problema in cui le impostazioni del mio conto si reimpostavano ogni volta che accedevo.\"\n",
      "   - \"Si reimpostavano\" is a good translation for \"would reset.\" An alternative could be \"venivano ripristinate.\"\n",
      "\n",
      "10. Bancario: \"Bravo per aver risolto il problema.\"\n",
      "    - \"Bravo\" is a good translation for \"Good job.\" However, in a more formal banking context, \"Complimenti\" or \"Sono contento che tu abbia risolto il problema\" might be more appropriate.\n",
      "\n",
      "11. Cliente: \"Ho avuto problemi con il portale di banking online che non salva le mie preferenze...\"\n",
      "    - Similar to point 1, \"portale di online banking\" or \"piattaforma di online banking\" could be used for a more natural tone.\n",
      "\n",
      "Some useful translations that could make the new language more accurate include:\n",
      "- Using \"servizi di online banking\" instead of \"banking online\" for a more natural tone.\n",
      "- Translating \"mobile banking app\" to \"app di mobile banking\" or \"l'app mobile\" depending on the context.\n",
      "- Using phrases like \"Vediamo di risolvere insieme\" for a more collaborative tone.\n",
      "- Being mindful of the context when translating terms like \"sticky\" and \"fade\" to ensure they are used naturally in Italian.\n",
      "\n",
      "Overall, the translation is accurate and conveys the original conversation's meaning effectively. Minor adjustments can enhance its naturalness and fluency in Italian.\n"
     ]
    }
   ],
   "source": [
    "def converse(prompt, inference_config):\n",
    "    messages = [{\"role\": \"user\", \"content\": [{\"text\": prompt}]}]\n",
    "    response = bedrock_client.converse(\n",
    "        messages=messages,\n",
    "        modelId=eval_model,\n",
    "        inferenceConfig=inference_config\n",
    "    )\n",
    "    generated_text = response['output']['message']['content'][0]['text']\n",
    "    print(generated_text)\n",
    "    return generated_text, response\n",
    "\n",
    "inference_config = {\"temperature\": 0.0, \"maxTokens\": 2048, \"topP\": 0.1}\n",
    "\n",
    "\n",
    "generated_text, response = converse(eval_prompt, inference_config)"
   ]
  },
  {
   "cell_type": "markdown",
   "id": "c670b513-f970-4062-9d24-9ab155bb9cb2",
   "metadata": {},
   "source": [
    "## Multilingual Chatbot functionality\n",
    "\n",
    "LLama 4's multilingual capabilities not only allow developers to translate content from one language to another, but also enables for multilingual chatbots. This is useful for scenarios where developers want to expand globally and create a chatbot to be used to speak in entirely different native languages other than english.\n",
    "\n",
    "If you remember earlier in the notebook, we generated some sample questions that a tourist may have when they look to travel Paris. In the next cell, we will store the questions (in english) as a prompt, have Llama 4 translate the questions in French, and answer the questions in French."
   ]
  },
  {
   "cell_type": "code",
   "execution_count": 43,
   "id": "e0cce7a1-a6ec-4832-b2e9-1beb412d0f46",
   "metadata": {
    "tags": []
   },
   "outputs": [],
   "source": [
    "questions = f\"\"\"\n",
    "\n",
    "{formatted_text}\n",
    "\"\"\""
   ]
  },
  {
   "cell_type": "code",
   "execution_count": 44,
   "id": "d53e3899-532b-401a-b9f8-1e71d89f1422",
   "metadata": {
    "tags": []
   },
   "outputs": [],
   "source": [
    "# Define the message to translate and answer the questions in French\n",
    "translated_convo = {\n",
    "    \"role\": \"user\",\n",
    "    \"content\": [\n",
    "        {\"text\": f\"Please translate the following questions into French. Once you translate the questions, please answer the questions in French as well.\\n\\n{questions}\"}\n",
    "    ]\n",
    "}"
   ]
  },
  {
   "cell_type": "code",
   "execution_count": 45,
   "id": "74c7a460-3202-4828-a751-29a920207ec2",
   "metadata": {
    "tags": []
   },
   "outputs": [],
   "source": [
    "# Send the request to the model\n",
    "response = bedrock_client.converse(\n",
    "    modelId=model_id,\n",
    "    messages=[translated_convo],  # Wrap the message in a list\n",
    "    inferenceConfig={\n",
    "        \"maxTokens\": 2000,\n",
    "        \"temperature\": 0,\n",
    "        \"topP\": 0.5\n",
    "    }\n",
    ")"
   ]
  },
  {
   "cell_type": "code",
   "execution_count": 46,
   "id": "ab94d12d-1790-498d-8008-7d1371fae51b",
   "metadata": {
    "tags": []
   },
   "outputs": [
    {
     "name": "stdout",
     "output_type": "stream",
     "text": [
      "Here are the translations of the three key benefits into questions in French, followed by the answers:\n",
      "\n",
      "**Questions :**\n",
      "1. Comment les grands modèles de langage (LLM) améliorent-ils l'expérience client ?\n",
      "2. De quelle manière les LLM améliorent-ils la génération de contenu et la productivité ?\n",
      "3. Comment les LLM contribuent-ils à une prise de décision basée sur les données ?\n",
      "\n",
      "**Réponses :**\n",
      "1. Les LLM améliorent l'expérience client en alimentant les chatbots, les assistants virtuels et d'autres applications destinées aux clients, permettant aux entreprises de fournir un soutien 24/7, de répondre aux demandes des clients et d'offrir des recommandations personnalisées. En automatisant les interactions routinières avec les clients, les entreprises peuvent libérer les agents de soutien client humains pour se concentrer sur des problèmes plus complexes, ce qui conduit à une satisfaction et une fidélité accrues des clients.\n",
      "\n",
      "2. Les LLM améliorent la génération de contenu et la productivité en générant du contenu de haute qualité, tel que des descriptions de produits, des articles de blog et des mises à jour sur les réseaux sociaux, à grande échelle et avec un minimum d'intervention humaine. Cela peut aider les entreprises à réduire les coûts de création de contenu, à améliorer la cohérence du contenu et à accélérer leurs efforts de marketing de contenu. De plus, les LLM peuvent aider à des tâches telles que la traduction de langues, la synthèse et la relecture, ce qui améliore encore la productivité et l'efficacité.\n",
      "\n",
      "3. Les LLM contribuent à une prise de décision basée sur les données en analysant et en traitant de grands volumes de données non structurées, telles que les commentaires des clients, les critiques et les publications sur les réseaux sociaux, pour extraire des informations précieuses et une analyse des sentiments. Cela peut aider les entreprises à mieux comprendre leurs clients, à identifier les tendances du marché et à prendre des décisions basées sur les données. En tirant parti des LLM, les entreprises peuvent acquérir un avantage concurrentiel en découvrant des modèles et des opportunités cachés dans leurs données.\n"
     ]
    }
   ],
   "source": [
    "# Extract the 'text' content from the response\n",
    "text_content = response['output']['message']['content'][0]['text']\n",
    "\n",
    "# Replace newline escape sequences ('\\\\n') with actual newline characters\n",
    "formatted_text_2 = text_content.replace('\\\\n', '\\n')\n",
    "\n",
    "# Print the formatted text\n",
    "print(formatted_text_2)"
   ]
  },
  {
   "cell_type": "markdown",
   "id": "f0d9c86d-ad45-498b-8503-7070cf911a29",
   "metadata": {},
   "source": [
    "## Conclusion\n",
    "\n",
    "In conclusion, Llama 4 represents a significant advancement in multilingual capabilities, enabling the creation of sophisticated multilingual chatbots and translation services. The model supports a wide array of languages, including English, French, German, Hindi, Italian, Portuguese, Spanish, and Thai, making it a versatile tool for global applications. Its ability to handle complex tasks with a context length of up to 3.5M tokens allows it to manage long conversations and provide accurate translations, which are crucial for developing multilingual chatbots.\n",
    "\n",
    "Overall, Llama 4's multilingual capabilities not only facilitate effective translation across different languages but also enable the development of intelligent conversational agents that can interact seamlessly with users worldwide. This makes it an invaluable resource for businesses and developers looking to expand their reach in diverse linguistic markets."
   ]
  },
  {
   "cell_type": "markdown",
   "id": "5f2cb635-c9d0-46d4-bbae-bb0f673a1257",
   "metadata": {},
   "source": [
    "---\n",
    "## Distributors\n",
    "- Amazon Web Services\n",
    "- Meta"
   ]
  }
 ],
 "metadata": {
  "kernelspec": {
   "display_name": "conda_tensorflow2_p310",
   "language": "python",
   "name": "conda_tensorflow2_p310"
  },
  "language_info": {
   "codemirror_mode": {
    "name": "ipython",
    "version": 3
   },
   "file_extension": ".py",
   "mimetype": "text/x-python",
   "name": "python",
   "nbconvert_exporter": "python",
   "pygments_lexer": "ipython3",
   "version": "3.10.16"
  }
 },
 "nbformat": 4,
 "nbformat_minor": 5
}
