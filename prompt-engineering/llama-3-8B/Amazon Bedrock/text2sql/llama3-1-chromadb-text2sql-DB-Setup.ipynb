{
 "cells": [
  {
   "cell_type": "markdown",
   "id": "4901509a-8316-47a3-879b-544a43b37ef3",
   "metadata": {},
   "source": [
    "# Best-practices for prompt engineering Text-to-SQL on Llama3.1\n",
    "---"
   ]
  },
  {
   "cell_type": "markdown",
   "id": "aa596a49-ce47-4053-a93d-699bdef52426",
   "metadata": {},
   "source": [
    "## Introduction"
   ]
  },
  {
   "cell_type": "markdown",
   "id": "d4b488b5-d05b-45d2-84fb-6bc80cc30241",
   "metadata": {},
   "source": [
    "In this notebook we will set up two differnet database products\n",
    " - RDS for MySQL\n",
    " - RDS for PostgreSQL\n",
    "\n",
    "In each of the above, we will create a single database with two tables and some sample data."
   ]
  },
  {
   "cell_type": "markdown",
   "id": "ab3b33e6",
   "metadata": {},
   "source": [
    "## Contents\n",
    "\n",
    "1. [Getting Started](#Getting-Started)\n",
    "    + [Install Dependencies](#Step-0-Install-Dependencies)\n",
    "    + [Setup Database](#Step-1-Set-up-database)\n",
    "    + [Build Database](#Step-2-Build-Database)\n",
    "    + [Cleanup Resources](#Step-3-Cleanup-Resources)\n",
    "\n",
    "---"
   ]
  },
  {
   "cell_type": "markdown",
   "id": "4c1a6bb4",
   "metadata": {},
   "source": [
    "## Pre-requisites:\n",
    "\n",
    "1. Use kernel either `conda_python3`, `conda_pytorch_p310` or `conda_tensorflow2_p310`.\n",
    "2. Install the required packages."
   ]
  },
  {
   "cell_type": "markdown",
   "id": "b51b2317-d90d-481f-8d51-464a93650978",
   "metadata": {
    "tags": []
   },
   "source": [
    "## Getting Started"
   ]
  },
  {
   "cell_type": "markdown",
   "id": "64cd1931-c19d-4c30-bfef-19cbc59724f7",
   "metadata": {
    "tags": []
   },
   "source": [
    "### Step 0 Install Dependencies\n",
    "\n",
    "Here, we will install all the required dependencies to run this notebook."
   ]
  },
  {
   "cell_type": "code",
   "execution_count": 1,
   "id": "e6d52454-073b-4a5a-b293-924419e1c8d1",
   "metadata": {
    "tags": []
   },
   "outputs": [],
   "source": [
    "!pip install boto3==1.34.127 -qU --force --quiet --no-warn-conflicts\n",
    "!pip install mysql-connector-python==8.4.0 -qU --force --quiet --no-warn-conflicts\n",
    "!pip install psycopg2==2.9.9 -qU --force --quiet --no-warn-conflicts"
   ]
  },
  {
   "cell_type": "markdown",
   "id": "e097885d-9818-4015-b273-4fe30415cdfd",
   "metadata": {},
   "source": [
    "**Note:** *When installing libraries using the pip, you may encounter errors or warnings during the installation process. These are generally not critical and can be safely ignored. However, after installing the libraries, it is recommended to restart the kernel or computing environment you are working in. Restarting the kernel ensures that the newly installed libraries are loaded properly and available for use in your code or workflow.*"
   ]
  },
  {
   "cell_type": "markdown",
   "id": "37ea1457-e5a3-46b1-870f-ba7e73662ec2",
   "metadata": {},
   "source": [
    "<div class='alert alert-block alert-info'><b>NOTE:</b> Restart the kernel with the updated packages that are installed through the dependencies above</div>"
   ]
  },
  {
   "cell_type": "code",
   "execution_count": null,
   "id": "b7518a54-885b-4403-ac4b-d5aab2ebb3ef",
   "metadata": {
    "tags": []
   },
   "outputs": [],
   "source": [
    "# Restart the kernel\n",
    "import os\n",
    "os._exit(00)"
   ]
  },
  {
   "cell_type": "markdown",
   "id": "90afba42-5061-4464-9ec9-8641992a7d66",
   "metadata": {},
   "source": [
    "#### Import the required modules to run the notbook"
   ]
  },
  {
   "cell_type": "code",
   "execution_count": 1,
   "id": "756999dd-ac11-4b3a-8e43-2c4cdc2ad9b2",
   "metadata": {
    "tags": []
   },
   "outputs": [],
   "source": [
    "import boto3\n",
    "import json\n",
    "import mysql.connector as MySQLdb\n",
    "from typing import Dict, List, Any\n",
    "import yaml\n",
    "import psycopg2 as PGdb\n",
    "from psycopg2.extensions import ISOLATION_LEVEL_AUTOCOMMIT\n"
   ]
  },
  {
   "cell_type": "markdown",
   "id": "0b12765f-10a8-4aae-9e62-4ee7f4e526cc",
   "metadata": {
    "tags": []
   },
   "source": [
    "### Step 1 Set up database"
   ]
  },
  {
   "cell_type": "markdown",
   "id": "7a2493f9-833f-40ff-a9db-b81f47e37c66",
   "metadata": {},
   "source": [
    "Here, we retrieve the services that are already deployed as a part of the cloudformation template to be used in building the application. The services include,\n",
    "\n",
    "+ Secret ARN with RDS for MySQL and RDS for PostgreSQL Database credentials\n",
    "+ Database Endpoints"
   ]
  },
  {
   "cell_type": "code",
   "execution_count": 2,
   "id": "6d355be7-9365-41d5-8f63-153898c7c169",
   "metadata": {
    "tags": []
   },
   "outputs": [],
   "source": [
    "stackname = \"text2sql\"  # If your stack name differs from \"text2sql\", please modify."
   ]
  },
  {
   "cell_type": "code",
   "execution_count": 3,
   "id": "bca002c7-3416-4ac5-b9a1-2b730557fb65",
   "metadata": {
    "tags": []
   },
   "outputs": [],
   "source": [
    "cfn = boto3.client('cloudformation')\n",
    "\n",
    "response = cfn.describe_stack_resources(\n",
    "    StackName=stackname\n",
    ")\n",
    "cfn_outputs = cfn.describe_stacks(StackName=stackname)['Stacks'][0]['Outputs']\n",
    "\n",
    "# Get rds secret arn and database endpoint from cloudformation outputs\n",
    "for output in cfn_outputs:\n",
    "    if 'SecretArnMySQL' in output['OutputKey']:\n",
    "        mySQL_secret_id = output['OutputValue']\n",
    "\n",
    "    if 'DatabaseEndpointMySQL' in output['OutputKey']:\n",
    "        mySQL_db_host = output['OutputValue']\n",
    "\n",
    "    if 'SecretArnPG' in output['OutputKey']:\n",
    "        pg_secret_id = output['OutputValue']\n",
    "\n",
    "    if 'DatabaseEndpointPG' in output['OutputKey']:\n",
    "        pg_db_host = output['OutputValue']"
   ]
  },
  {
   "cell_type": "code",
   "execution_count": 4,
   "id": "60e5601b-287b-421e-8711-ef73d5c09cf2",
   "metadata": {
    "tags": []
   },
   "outputs": [],
   "source": [
    "secrets_client = boto3.client('secretsmanager')\n",
    "\n",
    "# Get MySQL credentials from Secrets Manager\n",
    "credentials = json.loads(secrets_client.get_secret_value(SecretId=mySQL_secret_id)['SecretString'])\n",
    "\n",
    "# Get password and username from secrets\n",
    "mySQL_db_password = credentials['password']\n",
    "mySQL_db_user = credentials['username']\n",
    "mySQL_db_name = \"airline_db\"\n",
    "\n",
    "# Get PostgreSQL credentials from Secrets Manager\n",
    "credentials = json.loads(secrets_client.get_secret_value(SecretId=pg_secret_id)['SecretString'])\n",
    "\n",
    "# Get password and username from secrets\n",
    "pg_db_password = credentials['password']\n",
    "pg_db_user = credentials['username']\n",
    "pg_db_name = \"airline_db\"\n"
   ]
  },
  {
   "cell_type": "markdown",
   "id": "0c970c8c-f566-430f-b12b-e669cc7241eb",
   "metadata": {
    "tags": []
   },
   "source": [
    "##### Establish the database connection (MySQL DB)"
   ]
  },
  {
   "cell_type": "code",
   "execution_count": 5,
   "id": "705ab665-9b2e-4141-b7fb-df3329ac61c2",
   "metadata": {
    "tags": []
   },
   "outputs": [],
   "source": [
    "mySQL_db_conn = MySQLdb.connect(\n",
    "    host=mySQL_db_host,\n",
    "    user=mySQL_db_user,\n",
    "    password=mySQL_db_password\n",
    ")\n"
   ]
  },
  {
   "cell_type": "markdown",
   "id": "d5934167-da56-48c4-905a-51f515d8f680",
   "metadata": {
    "tags": []
   },
   "source": [
    "##### Check connection (MySQL DB)"
   ]
  },
  {
   "cell_type": "code",
   "execution_count": 6,
   "id": "09ede071-2cdc-4f0c-9042-5acb59909459",
   "metadata": {
    "tags": []
   },
   "outputs": [
    {
     "name": "stdout",
     "output_type": "stream",
     "text": [
      "('information_schema',)\n",
      "('mysql',)\n",
      "('performance_schema',)\n",
      "('sys',)\n"
     ]
    }
   ],
   "source": [
    "mySQL_db_cursor = mySQL_db_conn.cursor()\n",
    "\n",
    "mySQL_db_cursor.execute(\"SHOW DATABASES\")\n",
    "\n",
    "for tmp_db_name in mySQL_db_cursor:\n",
    "    print(tmp_db_name)\n",
    "    "
   ]
  },
  {
   "cell_type": "markdown",
   "id": "703f0a9b-337c-4679-a8f5-de9cde93c778",
   "metadata": {
    "tags": []
   },
   "source": [
    "##### Establish the database connection (PostgresSQL DB)"
   ]
  },
  {
   "cell_type": "code",
   "execution_count": 7,
   "id": "5e307b8d-2dd9-43ce-939d-5764c5f6bb5a",
   "metadata": {
    "tags": []
   },
   "outputs": [],
   "source": [
    "# PostgreSQL DB Setup\n",
    "pg_db_conn = PGdb.connect(\n",
    "    host=pg_db_host,\n",
    "    user=pg_db_user,\n",
    "    password=pg_db_password\n",
    ")\n",
    "\n",
    "# In this experiment we will create database in PostgreSQL programmatically\n",
    "# this step is added only to avoid transaction errors.\n",
    "pg_db_conn.set_isolation_level(ISOLATION_LEVEL_AUTOCOMMIT)\n"
   ]
  },
  {
   "cell_type": "markdown",
   "id": "c3bcdeb9-ac60-4bf5-8242-e32876676bd7",
   "metadata": {
    "tags": []
   },
   "source": [
    "##### Check connection (PostgreSQL DB)"
   ]
  },
  {
   "cell_type": "code",
   "execution_count": 8,
   "id": "b4e4e079-9cc3-432f-a5b7-a62739d1e7d2",
   "metadata": {
    "tags": []
   },
   "outputs": [
    {
     "name": "stdout",
     "output_type": "stream",
     "text": [
      "('template0',)\n",
      "('template1',)\n",
      "('postgres',)\n",
      "('rdsadmin',)\n"
     ]
    }
   ],
   "source": [
    "pg_db_cursor = pg_db_conn.cursor()\n",
    "\n",
    "pg_db_cursor.execute(\"SELECT datname FROM pg_database;\")\n",
    "\n",
    "for tmp_db_name in pg_db_cursor:\n",
    "    print(tmp_db_name)\n",
    "    "
   ]
  },
  {
   "cell_type": "markdown",
   "id": "8b4a8a54-2782-4c4f-8524-6fef2cfa880a",
   "metadata": {
    "tags": []
   },
   "source": [
    "### Step 2 Build Database\n",
    "Now the notebook will drop the test table and also the test database if it exists. It then proceeds with creation of the table.\n",
    "Then it will insert test data for use in our prompting examples."
   ]
  },
  {
   "cell_type": "markdown",
   "id": "ad1cb5ef-41ea-43d9-ace9-8ca9c2dda260",
   "metadata": {
    "tags": []
   },
   "source": [
    "#### Load table schema settings"
   ]
  },
  {
   "cell_type": "code",
   "execution_count": 9,
   "id": "2579b20a-eb9c-4146-88e7-d4936d8d3038",
   "metadata": {
    "tags": []
   },
   "outputs": [],
   "source": [
    "def load_settings(file_path):\n",
    "    \"\"\"\n",
    "    Reads a YAML file and returns its contents as a Python object.\n",
    "\n",
    "    Args:\n",
    "        file_path (str): The path to the YAML file.\n",
    "\n",
    "    Returns:\n",
    "        obj: The contents of the YAML file as a Python object.\n",
    "    \"\"\"\n",
    "    try:\n",
    "        with open(file_path, 'r') as file:\n",
    "            data = yaml.safe_load(file)\n",
    "        return data\n",
    "    except FileNotFoundError:\n",
    "        print(f\"Error: The file '{file_path}' does not exist.\")\n",
    "    except yaml.YAMLError as exc:\n",
    "        print(f\"Error: Failed to parse the YAML file '{file_path}': {exc}\")\n",
    "        "
   ]
  },
  {
   "cell_type": "code",
   "execution_count": 10,
   "id": "2fcf569e-6c76-4eee-8be7-cc0ab13a3802",
   "metadata": {
    "tags": []
   },
   "outputs": [],
   "source": [
    "# MySQL Table Setup\n",
    "\n",
    "# Load table settings\n",
    "settings_airplanes = load_settings('schemas/airplanes.yml')\n",
    "table_airplanes = settings_airplanes['table_name']\n",
    "table_schema_airplanes = settings_airplanes['table_schema']\n",
    "\n",
    "# Load table settings\n",
    "settings_flights = load_settings('schemas/flights.yml')\n",
    "table_flights = settings_flights['table_name']\n",
    "table_schema_flights = settings_flights['table_schema']\n",
    "\n",
    "# Load table settings\n",
    "settings_airplane_flights = load_settings('schemas/airplanes-flights.yml')\n"
   ]
  },
  {
   "cell_type": "code",
   "execution_count": 11,
   "id": "eced0d7d-b30b-4763-8a25-9d731cd9ba36",
   "metadata": {
    "tags": []
   },
   "outputs": [],
   "source": [
    "# PostgreSQL Table Setup\n",
    "\n",
    "# Load table settings\n",
    "pg_settings_airplanes = load_settings('schemas/airplanes-pg.yml')\n",
    "pg_table_airplanes = pg_settings_airplanes['table_name']\n",
    "pg_table_schema_airplanes = pg_settings_airplanes['table_schema']\n",
    "\n",
    "# Load table settings\n",
    "pg_settings_flights = load_settings('schemas/flights-pg.yml')\n",
    "pg_table_flights = pg_settings_flights['table_name']\n",
    "pg_table_schema_flights = pg_settings_flights['table_schema']\n",
    "\n",
    "# Load table settings\n",
    "pg_settings_airplane_flights = load_settings('schemas/airplanes-flights-pg.yml')\n"
   ]
  },
  {
   "cell_type": "markdown",
   "id": "c4d18b1b-a668-4090-93b9-6a286bae3fe7",
   "metadata": {},
   "source": [
    "#### Clean up database"
   ]
  },
  {
   "cell_type": "code",
   "execution_count": 12,
   "id": "874cf1ed-bc91-4c5b-88d8-e38d3eae3d3a",
   "metadata": {
    "tags": []
   },
   "outputs": [],
   "source": [
    "# Delete flights' table\n",
    "mySQL_db_cursor.execute(f\"DROP TABLE IF EXISTS {mySQL_db_name}.{table_flights}\")\n",
    "# Delete airplanes' table\n",
    "mySQL_db_cursor.execute(f\"DROP TABLE IF EXISTS {mySQL_db_name}.{table_airplanes}\")\n",
    "# Delete database\n",
    "mySQL_db_cursor.execute(f\"DROP DATABASE IF EXISTS {mySQL_db_name}\")\n"
   ]
  },
  {
   "cell_type": "code",
   "execution_count": 13,
   "id": "466d8771-8e3a-484c-b7ba-adb3eac077e8",
   "metadata": {
    "tags": []
   },
   "outputs": [],
   "source": [
    "# PostgreSQL DB Setup\n",
    "# Delete flights' table\n",
    "pg_db_cursor.execute(f\"DROP TABLE IF EXISTS {pg_db_name}.{table_flights}\")\n",
    "# Delete airplanes' table\n",
    "pg_db_cursor.execute(f\"DROP TABLE IF EXISTS {pg_db_name}.{table_airplanes}\")\n",
    "# Delete database\n",
    "pg_db_cursor.execute(f\"DROP DATABASE IF EXISTS {pg_db_name}\")\n",
    "\n",
    "# PostgreSQL DB Setup\n",
    "# Delete flights' table\n",
    "pg_db_cursor.execute(f\"DROP TABLE IF EXISTS {table_flights}\")\n",
    "# Delete airplanes' table\n",
    "pg_db_cursor.execute(f\"DROP TABLE IF EXISTS {table_airplanes}\")\n",
    "# Delete database\n",
    "pg_db_cursor.execute(f\"DROP DATABASE IF EXISTS {pg_db_name}\")\n"
   ]
  },
  {
   "cell_type": "markdown",
   "id": "5f396b2e-b25b-4192-82e5-cf5e5e2f128c",
   "metadata": {},
   "source": [
    "#### Create database and tables "
   ]
  },
  {
   "cell_type": "markdown",
   "id": "575393ec-9d71-4d7b-8971-d52bb6abcd32",
   "metadata": {},
   "source": [
    "##### MySQL DB"
   ]
  },
  {
   "cell_type": "code",
   "execution_count": 14,
   "id": "e0b56ee0-7f4a-4672-97c4-98caf6cbdba5",
   "metadata": {
    "tags": []
   },
   "outputs": [],
   "source": [
    "# Create database `airline_db` - MySQL DB\n",
    "mySQL_db_cursor.execute(f\"CREATE DATABASE {mySQL_db_name}\")\n",
    "\n",
    "# Create table to hold data on fictitious airplanes information called `airplanes`\n",
    "mySQL_db_cursor.execute(table_schema_airplanes)\n",
    "\n",
    "# Create table to hold data on fictitious flights information called `flights`\n",
    "mySQL_db_cursor.execute(table_schema_flights)\n"
   ]
  },
  {
   "cell_type": "markdown",
   "id": "9aecc457-e9bc-48d7-85c7-3c69b1a359f0",
   "metadata": {},
   "source": [
    "##### PostgreSQL DB"
   ]
  },
  {
   "cell_type": "code",
   "execution_count": 15,
   "id": "c0e78bdc-c26d-4029-907b-8d9768d9e501",
   "metadata": {
    "tags": []
   },
   "outputs": [],
   "source": [
    "# Create database `airline_db` - PostgresSQL DB\n",
    "pg_db_cursor.execute(f\"CREATE DATABASE {pg_db_name};\")\n",
    "pg_db_cursor.close()\n",
    "pg_db_conn.close()\n",
    "\n",
    "# Reconnect to the database.\n",
    "pg_db_conn = PGdb.connect(\n",
    "    host=pg_db_host,\n",
    "    database=pg_db_name,\n",
    "    user=pg_db_user,\n",
    "    password=pg_db_password\n",
    ")\n",
    "\n",
    "# PostgreSQL DB Setup\n",
    "pg_db_conn.set_isolation_level(ISOLATION_LEVEL_AUTOCOMMIT)\n",
    "pg_db_cursor = pg_db_conn.cursor()\n",
    "\n",
    "# Create table to hold data on fictitious airplanes information called `airplanes`\n",
    "pg_db_cursor.execute(pg_table_schema_airplanes)\n",
    "\n",
    "# Create table to hold data on fictitious flights information called `flights`\n",
    "pg_db_cursor.execute(pg_table_schema_flights)\n"
   ]
  },
  {
   "cell_type": "markdown",
   "id": "3c01ebc7-2ac0-412b-8984-e79651661f0a",
   "metadata": {},
   "source": [
    "#### Read sample data"
   ]
  },
  {
   "cell_type": "code",
   "execution_count": 16,
   "id": "8405e146-790e-46f8-9c1b-6d38319d7ebf",
   "metadata": {
    "tags": []
   },
   "outputs": [],
   "source": [
    "# Read sample data for the airplanes' table\n",
    "with open('sample_data/airplanes.json', 'r') as f:\n",
    "    data_airplanes = json.load(f)\n",
    "    "
   ]
  },
  {
   "cell_type": "code",
   "execution_count": 17,
   "id": "050ca63b-6081-4b16-812e-4cac4eb46418",
   "metadata": {
    "tags": []
   },
   "outputs": [],
   "source": [
    "# Read sample data for the flights' table\n",
    "with open('sample_data/flights.json', 'r') as f:\n",
    "    data_flights = json.load(f)\n",
    "    "
   ]
  },
  {
   "cell_type": "markdown",
   "id": "c55a902c",
   "metadata": {},
   "source": [
    "#### Ingest sample data into database"
   ]
  },
  {
   "cell_type": "markdown",
   "id": "83732e2c-3d80-4d35-9322-23e29f8c122c",
   "metadata": {},
   "source": [
    "##### MySQL DB"
   ]
  },
  {
   "cell_type": "code",
   "execution_count": 18,
   "id": "9b525973-4700-4c2d-8f5f-7c213ccc5a87",
   "metadata": {
    "tags": []
   },
   "outputs": [],
   "source": [
    "# Insert airplanes' data into MySQL database\n",
    "for data in data_airplanes:\n",
    "    sql = f\"\"\"\n",
    "        INSERT INTO {mySQL_db_name}.{table_airplanes} \n",
    "        (Airplane_id, Producer, Type) \n",
    "        VALUES (\n",
    "        {data['Airplane_id']},\n",
    "        '{data['Producer']}',\n",
    "        '{data['Type']}'\n",
    "        )\n",
    "        \"\"\"\n",
    "    mySQL_db_cursor.execute(sql)\n",
    "mySQL_db_conn.commit()\n"
   ]
  },
  {
   "cell_type": "code",
   "execution_count": 19,
   "id": "1bea4d6e-714e-48af-8141-3911f762a336",
   "metadata": {
    "tags": []
   },
   "outputs": [],
   "source": [
    "# Insert flights' data into MySQL database\n",
    "for data in data_flights:\n",
    "    sql = f\"\"\"\n",
    "        INSERT INTO {mySQL_db_name}.{table_flights}\n",
    "        (Flight_number, Arrival_time, Arrival_date, Departure_time, Departure_date, Destination, Airplane_id) \n",
    "        VALUES (\n",
    "        '{data['Flight_number']}',\n",
    "        '{data['Arrival_time']}',\n",
    "        '{data['Arrival_date']}',\n",
    "        '{data['Departure_time']}',\n",
    "        '{data['Departure_date']}',\n",
    "        '{data['Destination']}',\n",
    "        {data['Airplane_id']}\n",
    "        )\n",
    "        \"\"\"\n",
    "    mySQL_db_cursor.execute(sql)\n",
    "mySQL_db_conn.commit()\n"
   ]
  },
  {
   "cell_type": "markdown",
   "id": "48a02938-a4f5-495d-b2ba-610f17d91ba4",
   "metadata": {
    "tags": []
   },
   "source": [
    "##### PostgreSQL DB"
   ]
  },
  {
   "cell_type": "code",
   "execution_count": 20,
   "id": "a3d39e0b-5acd-4271-8599-8e5f8a36bd40",
   "metadata": {
    "tags": []
   },
   "outputs": [],
   "source": [
    "# Insert airplanes' data into PG database\n",
    "for data in data_airplanes:\n",
    "    sql = f\"\"\"\n",
    "        INSERT INTO {table_airplanes} \n",
    "        (Airplane_id, Producer, Type) \n",
    "        VALUES (\n",
    "        {data['Airplane_id']},\n",
    "        '{data['Producer']}',\n",
    "        '{data['Type']}'\n",
    "        )\n",
    "        \"\"\"\n",
    "\n",
    "    pg_db_cursor.execute(sql)\n",
    "pg_db_conn.commit()\n"
   ]
  },
  {
   "cell_type": "code",
   "execution_count": 21,
   "id": "1a724030-08b2-43a0-b606-2088bf85c704",
   "metadata": {
    "tags": []
   },
   "outputs": [],
   "source": [
    "# Insert flights' data into PG database\n",
    "for data in data_flights:\n",
    "    sql = f\"\"\"\n",
    "        INSERT INTO {table_flights}\n",
    "        (Flight_number, Arrival_time, Arrival_date, Departure_time, Departure_date, Destination, Airplane_id) \n",
    "        VALUES (\n",
    "        '{data['Flight_number']}',\n",
    "        '{data['Arrival_time']}',\n",
    "        '{data['Arrival_date']}',\n",
    "        '{data['Departure_time']}',\n",
    "        '{data['Departure_date']}',\n",
    "        '{data['Destination']}',\n",
    "        {data['Airplane_id']}\n",
    "        )\n",
    "        \"\"\"\n",
    "    pg_db_cursor.execute(sql)\n",
    "pg_db_conn.commit()\n"
   ]
  },
  {
   "cell_type": "markdown",
   "id": "714660a4",
   "metadata": {},
   "source": [
    "#### Verify our database connection works and we can retrieve records from our table."
   ]
  },
  {
   "cell_type": "markdown",
   "id": "6463be31-9a8f-411f-8fa6-3ffb59848407",
   "metadata": {},
   "source": [
    "##### MySQL DB"
   ]
  },
  {
   "cell_type": "code",
   "execution_count": 22,
   "id": "9792a67b-591b-4364-8caa-10ecb3ba70d3",
   "metadata": {
    "tags": []
   },
   "outputs": [
    {
     "name": "stdout",
     "output_type": "stream",
     "text": [
      "(1, 'Boeing', '737')\n",
      "(2, 'Airbus', 'A320')\n",
      "(3, 'Embraer', 'E195')\n",
      "(4, 'Bombardier', 'CRJ900')\n",
      "(5, 'Boeing', '777')\n",
      "(6, 'Airbus', 'A330')\n",
      "(7, 'Embraer', 'E175')\n",
      "(8, 'Bombardier', 'Q400')\n",
      "(9, 'Boeing', '787')\n",
      "(10, 'Airbus', 'A350')\n",
      "(11, 'Embraer', 'E190')\n",
      "(12, 'Bombardier', 'CRJ700')\n",
      "(13, 'Boeing', '757')\n",
      "(14, 'Airbus', 'A380')\n",
      "(15, 'Embraer', 'E170')\n",
      "(16, 'Bombardier', 'CRJ200')\n",
      "(17, 'Boeing', '747')\n",
      "(18, 'Airbus', 'A321')\n",
      "(19, 'Embraer', 'E145')\n",
      "(20, 'Bombardier', 'CRJ1000')\n"
     ]
    }
   ],
   "source": [
    "# MySQL Database\n",
    "mySQL_db_cursor.execute(f\"SELECT * FROM {mySQL_db_name}.{table_airplanes}\")\n",
    "sql_data = mySQL_db_cursor.fetchall()\n",
    "\n",
    "for record in sql_data:\n",
    "    print(record)\n",
    "    "
   ]
  },
  {
   "cell_type": "code",
   "execution_count": 23,
   "id": "4b1c3fd3-aac8-41d4-8790-e7a770e309f9",
   "metadata": {
    "tags": []
   },
   "outputs": [
    {
     "name": "stdout",
     "output_type": "stream",
     "text": [
      "('AA123', '2023-06-15T10:30:00', '2023-06-15', '2023-06-15T08:00:00', '2023-06-15', 'Los Angeles', 1)\n",
      "('AA234', '2023-07-02T21:15:00', '2023-07-02', '2023-07-02T18:30:00', '2023-07-02', 'Tampa', 20)\n",
      "('AA890', '2023-06-24T18:40:00', '2023-06-24', '2023-06-24T16:10:00', '2023-06-24', 'Atlanta', 5)\n",
      "('AS345', '2023-06-19T21:00:00', '2023-06-19', '2023-06-19T18:30:00', '2023-06-19', 'Seattle', 7)\n",
      "('AS789', '2023-06-27T15:50:00', '2023-06-27', '2023-06-27T13:20:00', '2023-06-27', 'Phoenix', 7)\n",
      "('DL123', '2023-06-25T22:00:00', '2023-06-25', '2023-06-25T19:30:00', '2023-06-25', 'Las Vegas', 10)\n",
      "('DL345', '2023-06-29T07:30:00', '2023-06-29', '2023-06-29T05:00:00', '2023-06-29', 'Philadelphia', 6)\n",
      "('DL567', '2023-07-03T09:40:00', '2023-07-03', '2023-07-03T07:10:00', '2023-07-03', 'San Diego', 19)\n",
      "('DL789', '2023-06-17T18:20:00', '2023-06-17', '2023-06-17T16:00:00', '2023-06-17', 'Miami', 10)\n",
      "('DL901', '2023-06-21T13:20:00', '2023-06-21', '2023-06-21T10:50:00', '2023-06-21', 'Boston', 6)\n",
      "('JB012', '2023-06-28T20:15:00', '2023-06-28', '2023-06-28T17:45:00', '2023-06-28', 'Orlando', 8)\n",
      "('JB678', '2023-06-20T07:45:00', '2023-06-20', '2023-06-20T05:15:00', '2023-06-20', 'San Francisco', 8)\n",
      "('SW234', '2023-06-22T16:35:00', '2023-06-22', '2023-06-22T14:05:00', '2023-06-22', 'Dallas', 3)\n",
      "('SW678', '2023-06-30T12:45:00', '2023-06-30', '2023-06-30T10:15:00', '2023-06-30', 'Detroit', 3)\n",
      "('UA456', '2023-06-16T14:45:00', '2023-06-16', '2023-06-16T12:15:00', '2023-06-16', 'New York', 6)\n",
      "('UA567', '2023-06-23T09:15:00', '2023-06-23', '2023-06-23T06:45:00', '2023-06-23', 'Houston', 9)\n",
      "('UA901', '2023-07-01T17:00:00', '2023-07-01', '2023-07-01T14:30:00', '2023-07-01', 'Minneapolis', 9)\n",
      "('WN012', '2023-06-18T11:10:00', '2023-06-18', '2023-06-18T09:30:00', '2023-06-18', 'Chicago', 2)\n",
      "('WN456', '2023-06-26T11:25:00', '2023-06-26', '2023-06-26T08:55:00', '2023-06-26', 'Denver', 2)\n",
      "('WN890', '2023-07-04T14:20:00', '2023-07-04', '2023-07-04T11:50:00', '2023-07-04', 'Salt Lake City', 18)\n"
     ]
    }
   ],
   "source": [
    "# MySQL Database\n",
    "mySQL_db_cursor.execute(f\"SELECT * FROM {mySQL_db_name}.{table_flights}\")\n",
    "sql_data = mySQL_db_cursor.fetchall()\n",
    "\n",
    "for record in sql_data:\n",
    "    print(record)\n",
    "    "
   ]
  },
  {
   "cell_type": "markdown",
   "id": "16d924f3-4b76-4682-b476-44f824e0b69c",
   "metadata": {},
   "source": [
    "##### PostgreSQL DB"
   ]
  },
  {
   "cell_type": "code",
   "execution_count": 24,
   "id": "ba8ac8be-d7b6-4cc5-96f2-a72418c120b2",
   "metadata": {
    "tags": []
   },
   "outputs": [
    {
     "name": "stdout",
     "output_type": "stream",
     "text": [
      "(1, 'Boeing', '737')\n",
      "(2, 'Airbus', 'A320')\n",
      "(3, 'Embraer', 'E195')\n",
      "(4, 'Bombardier', 'CRJ900')\n",
      "(5, 'Boeing', '777')\n",
      "(6, 'Airbus', 'A330')\n",
      "(7, 'Embraer', 'E175')\n",
      "(8, 'Bombardier', 'Q400')\n",
      "(9, 'Boeing', '787')\n",
      "(10, 'Airbus', 'A350')\n",
      "(11, 'Embraer', 'E190')\n",
      "(12, 'Bombardier', 'CRJ700')\n",
      "(13, 'Boeing', '757')\n",
      "(14, 'Airbus', 'A380')\n",
      "(15, 'Embraer', 'E170')\n",
      "(16, 'Bombardier', 'CRJ200')\n",
      "(17, 'Boeing', '747')\n",
      "(18, 'Airbus', 'A321')\n",
      "(19, 'Embraer', 'E145')\n",
      "(20, 'Bombardier', 'CRJ1000')\n"
     ]
    }
   ],
   "source": [
    "# PostgreSQL Database\n",
    "pg_db_cursor.execute(f\"SELECT * FROM {table_airplanes}\")\n",
    "sql_data = pg_db_cursor.fetchall()\n",
    "\n",
    "for record in sql_data:\n",
    "    print(record)\n",
    "    "
   ]
  },
  {
   "cell_type": "code",
   "execution_count": 25,
   "id": "c57b6a34-828c-46f5-9ba3-451cf61eac75",
   "metadata": {
    "tags": []
   },
   "outputs": [
    {
     "name": "stdout",
     "output_type": "stream",
     "text": [
      "('AA123', '2023-06-15T10:30:00', '2023-06-15', '2023-06-15T08:00:00', '2023-06-15', 'Los Angeles', 1)\n",
      "('UA456', '2023-06-16T14:45:00', '2023-06-16', '2023-06-16T12:15:00', '2023-06-16', 'New York', 6)\n",
      "('DL789', '2023-06-17T18:20:00', '2023-06-17', '2023-06-17T16:00:00', '2023-06-17', 'Miami', 10)\n",
      "('WN012', '2023-06-18T11:10:00', '2023-06-18', '2023-06-18T09:30:00', '2023-06-18', 'Chicago', 2)\n",
      "('AS345', '2023-06-19T21:00:00', '2023-06-19', '2023-06-19T18:30:00', '2023-06-19', 'Seattle', 7)\n",
      "('JB678', '2023-06-20T07:45:00', '2023-06-20', '2023-06-20T05:15:00', '2023-06-20', 'San Francisco', 8)\n",
      "('DL901', '2023-06-21T13:20:00', '2023-06-21', '2023-06-21T10:50:00', '2023-06-21', 'Boston', 6)\n",
      "('SW234', '2023-06-22T16:35:00', '2023-06-22', '2023-06-22T14:05:00', '2023-06-22', 'Dallas', 3)\n",
      "('UA567', '2023-06-23T09:15:00', '2023-06-23', '2023-06-23T06:45:00', '2023-06-23', 'Houston', 9)\n",
      "('AA890', '2023-06-24T18:40:00', '2023-06-24', '2023-06-24T16:10:00', '2023-06-24', 'Atlanta', 5)\n",
      "('DL123', '2023-06-25T22:00:00', '2023-06-25', '2023-06-25T19:30:00', '2023-06-25', 'Las Vegas', 10)\n",
      "('WN456', '2023-06-26T11:25:00', '2023-06-26', '2023-06-26T08:55:00', '2023-06-26', 'Denver', 2)\n",
      "('AS789', '2023-06-27T15:50:00', '2023-06-27', '2023-06-27T13:20:00', '2023-06-27', 'Phoenix', 7)\n",
      "('JB012', '2023-06-28T20:15:00', '2023-06-28', '2023-06-28T17:45:00', '2023-06-28', 'Orlando', 8)\n",
      "('DL345', '2023-06-29T07:30:00', '2023-06-29', '2023-06-29T05:00:00', '2023-06-29', 'Philadelphia', 6)\n",
      "('SW678', '2023-06-30T12:45:00', '2023-06-30', '2023-06-30T10:15:00', '2023-06-30', 'Detroit', 3)\n",
      "('UA901', '2023-07-01T17:00:00', '2023-07-01', '2023-07-01T14:30:00', '2023-07-01', 'Minneapolis', 9)\n",
      "('AA234', '2023-07-02T21:15:00', '2023-07-02', '2023-07-02T18:30:00', '2023-07-02', 'Tampa', 20)\n",
      "('DL567', '2023-07-03T09:40:00', '2023-07-03', '2023-07-03T07:10:00', '2023-07-03', 'San Diego', 19)\n",
      "('WN890', '2023-07-04T14:20:00', '2023-07-04', '2023-07-04T11:50:00', '2023-07-04', 'Salt Lake City', 18)\n"
     ]
    }
   ],
   "source": [
    "# PostgreSQL Database\n",
    "pg_db_cursor.execute(f\"SELECT * FROM {table_flights}\")\n",
    "sql_data = pg_db_cursor.fetchall()\n",
    "\n",
    "for record in sql_data:\n",
    "    print(record)\n",
    "    "
   ]
  },
  {
   "cell_type": "markdown",
   "id": "ce768358-c208-4c81-acff-ecb39b904b91",
   "metadata": {},
   "source": [
    "### Step 3: Conclusion\n",
    "\n",
    "We can observe that ChromaDB and `Amazon Titan Embedding` model were able to retrieve the correct table schemas for the previous examples.  After successfully implementing these solutions, the issue of incorrectly retrieved table schemas due to foreign key confusions was effectively addressed. The data retrieval process became more accurate and reliable, ensuring that the correct table schemas were consistently retrieved, even in the presence of complex table relationships and foreign key references."
   ]
  },
  {
   "cell_type": "markdown",
   "id": "8bd5c40f-5e79-4b0a-9c0a-fa16b8195b6b",
   "metadata": {
    "tags": []
   },
   "source": [
    "### Step 3 Cleanup Resources"
   ]
  },
  {
   "cell_type": "code",
   "execution_count": 26,
   "id": "1b500a5c-16cc-4d23-9d06-8666928daa6d",
   "metadata": {
    "tags": []
   },
   "outputs": [
    {
     "name": "stdout",
     "output_type": "stream",
     "text": [
      "CPU times: user 2.77 ms, sys: 0 ns, total: 2.77 ms\n",
      "Wall time: 2.24 ms\n"
     ]
    }
   ],
   "source": [
    "%%time\n",
    "# Cleanup Cursor and connection objects.\n",
    "mySQL_db_cursor.close()\n",
    "mySQL_db_conn.close()\n",
    "\n",
    "pg_db_cursor.close()\n",
    "pg_db_conn.close()\n"
   ]
  },
  {
   "cell_type": "markdown",
   "id": "8015474d-4387-447d-97a9-e4ae662d49d4",
   "metadata": {},
   "source": [
    "#### Thank you!\n",
    "In this part we have set up the database."
   ]
  }
 ],
 "metadata": {
  "availableInstances": [
   {
    "_defaultOrder": 0,
    "_isFastLaunch": true,
    "category": "General purpose",
    "gpuNum": 0,
    "hideHardwareSpecs": false,
    "memoryGiB": 4,
    "name": "ml.t3.medium",
    "vcpuNum": 2
   },
   {
    "_defaultOrder": 1,
    "_isFastLaunch": false,
    "category": "General purpose",
    "gpuNum": 0,
    "hideHardwareSpecs": false,
    "memoryGiB": 8,
    "name": "ml.t3.large",
    "vcpuNum": 2
   },
   {
    "_defaultOrder": 2,
    "_isFastLaunch": false,
    "category": "General purpose",
    "gpuNum": 0,
    "hideHardwareSpecs": false,
    "memoryGiB": 16,
    "name": "ml.t3.xlarge",
    "vcpuNum": 4
   },
   {
    "_defaultOrder": 3,
    "_isFastLaunch": false,
    "category": "General purpose",
    "gpuNum": 0,
    "hideHardwareSpecs": false,
    "memoryGiB": 32,
    "name": "ml.t3.2xlarge",
    "vcpuNum": 8
   },
   {
    "_defaultOrder": 4,
    "_isFastLaunch": true,
    "category": "General purpose",
    "gpuNum": 0,
    "hideHardwareSpecs": false,
    "memoryGiB": 8,
    "name": "ml.m5.large",
    "vcpuNum": 2
   },
   {
    "_defaultOrder": 5,
    "_isFastLaunch": false,
    "category": "General purpose",
    "gpuNum": 0,
    "hideHardwareSpecs": false,
    "memoryGiB": 16,
    "name": "ml.m5.xlarge",
    "vcpuNum": 4
   },
   {
    "_defaultOrder": 6,
    "_isFastLaunch": false,
    "category": "General purpose",
    "gpuNum": 0,
    "hideHardwareSpecs": false,
    "memoryGiB": 32,
    "name": "ml.m5.2xlarge",
    "vcpuNum": 8
   },
   {
    "_defaultOrder": 7,
    "_isFastLaunch": false,
    "category": "General purpose",
    "gpuNum": 0,
    "hideHardwareSpecs": false,
    "memoryGiB": 64,
    "name": "ml.m5.4xlarge",
    "vcpuNum": 16
   },
   {
    "_defaultOrder": 8,
    "_isFastLaunch": false,
    "category": "General purpose",
    "gpuNum": 0,
    "hideHardwareSpecs": false,
    "memoryGiB": 128,
    "name": "ml.m5.8xlarge",
    "vcpuNum": 32
   },
   {
    "_defaultOrder": 9,
    "_isFastLaunch": false,
    "category": "General purpose",
    "gpuNum": 0,
    "hideHardwareSpecs": false,
    "memoryGiB": 192,
    "name": "ml.m5.12xlarge",
    "vcpuNum": 48
   },
   {
    "_defaultOrder": 10,
    "_isFastLaunch": false,
    "category": "General purpose",
    "gpuNum": 0,
    "hideHardwareSpecs": false,
    "memoryGiB": 256,
    "name": "ml.m5.16xlarge",
    "vcpuNum": 64
   },
   {
    "_defaultOrder": 11,
    "_isFastLaunch": false,
    "category": "General purpose",
    "gpuNum": 0,
    "hideHardwareSpecs": false,
    "memoryGiB": 384,
    "name": "ml.m5.24xlarge",
    "vcpuNum": 96
   },
   {
    "_defaultOrder": 12,
    "_isFastLaunch": false,
    "category": "General purpose",
    "gpuNum": 0,
    "hideHardwareSpecs": false,
    "memoryGiB": 8,
    "name": "ml.m5d.large",
    "vcpuNum": 2
   },
   {
    "_defaultOrder": 13,
    "_isFastLaunch": false,
    "category": "General purpose",
    "gpuNum": 0,
    "hideHardwareSpecs": false,
    "memoryGiB": 16,
    "name": "ml.m5d.xlarge",
    "vcpuNum": 4
   },
   {
    "_defaultOrder": 14,
    "_isFastLaunch": false,
    "category": "General purpose",
    "gpuNum": 0,
    "hideHardwareSpecs": false,
    "memoryGiB": 32,
    "name": "ml.m5d.2xlarge",
    "vcpuNum": 8
   },
   {
    "_defaultOrder": 15,
    "_isFastLaunch": false,
    "category": "General purpose",
    "gpuNum": 0,
    "hideHardwareSpecs": false,
    "memoryGiB": 64,
    "name": "ml.m5d.4xlarge",
    "vcpuNum": 16
   },
   {
    "_defaultOrder": 16,
    "_isFastLaunch": false,
    "category": "General purpose",
    "gpuNum": 0,
    "hideHardwareSpecs": false,
    "memoryGiB": 128,
    "name": "ml.m5d.8xlarge",
    "vcpuNum": 32
   },
   {
    "_defaultOrder": 17,
    "_isFastLaunch": false,
    "category": "General purpose",
    "gpuNum": 0,
    "hideHardwareSpecs": false,
    "memoryGiB": 192,
    "name": "ml.m5d.12xlarge",
    "vcpuNum": 48
   },
   {
    "_defaultOrder": 18,
    "_isFastLaunch": false,
    "category": "General purpose",
    "gpuNum": 0,
    "hideHardwareSpecs": false,
    "memoryGiB": 256,
    "name": "ml.m5d.16xlarge",
    "vcpuNum": 64
   },
   {
    "_defaultOrder": 19,
    "_isFastLaunch": false,
    "category": "General purpose",
    "gpuNum": 0,
    "hideHardwareSpecs": false,
    "memoryGiB": 384,
    "name": "ml.m5d.24xlarge",
    "vcpuNum": 96
   },
   {
    "_defaultOrder": 20,
    "_isFastLaunch": false,
    "category": "General purpose",
    "gpuNum": 0,
    "hideHardwareSpecs": true,
    "memoryGiB": 0,
    "name": "ml.geospatial.interactive",
    "supportedImageNames": [
     "sagemaker-geospatial-v1-0"
    ],
    "vcpuNum": 0
   },
   {
    "_defaultOrder": 21,
    "_isFastLaunch": true,
    "category": "Compute optimized",
    "gpuNum": 0,
    "hideHardwareSpecs": false,
    "memoryGiB": 4,
    "name": "ml.c5.large",
    "vcpuNum": 2
   },
   {
    "_defaultOrder": 22,
    "_isFastLaunch": false,
    "category": "Compute optimized",
    "gpuNum": 0,
    "hideHardwareSpecs": false,
    "memoryGiB": 8,
    "name": "ml.c5.xlarge",
    "vcpuNum": 4
   },
   {
    "_defaultOrder": 23,
    "_isFastLaunch": false,
    "category": "Compute optimized",
    "gpuNum": 0,
    "hideHardwareSpecs": false,
    "memoryGiB": 16,
    "name": "ml.c5.2xlarge",
    "vcpuNum": 8
   },
   {
    "_defaultOrder": 24,
    "_isFastLaunch": false,
    "category": "Compute optimized",
    "gpuNum": 0,
    "hideHardwareSpecs": false,
    "memoryGiB": 32,
    "name": "ml.c5.4xlarge",
    "vcpuNum": 16
   },
   {
    "_defaultOrder": 25,
    "_isFastLaunch": false,
    "category": "Compute optimized",
    "gpuNum": 0,
    "hideHardwareSpecs": false,
    "memoryGiB": 72,
    "name": "ml.c5.9xlarge",
    "vcpuNum": 36
   },
   {
    "_defaultOrder": 26,
    "_isFastLaunch": false,
    "category": "Compute optimized",
    "gpuNum": 0,
    "hideHardwareSpecs": false,
    "memoryGiB": 96,
    "name": "ml.c5.12xlarge",
    "vcpuNum": 48
   },
   {
    "_defaultOrder": 27,
    "_isFastLaunch": false,
    "category": "Compute optimized",
    "gpuNum": 0,
    "hideHardwareSpecs": false,
    "memoryGiB": 144,
    "name": "ml.c5.18xlarge",
    "vcpuNum": 72
   },
   {
    "_defaultOrder": 28,
    "_isFastLaunch": false,
    "category": "Compute optimized",
    "gpuNum": 0,
    "hideHardwareSpecs": false,
    "memoryGiB": 192,
    "name": "ml.c5.24xlarge",
    "vcpuNum": 96
   },
   {
    "_defaultOrder": 29,
    "_isFastLaunch": true,
    "category": "Accelerated computing",
    "gpuNum": 1,
    "hideHardwareSpecs": false,
    "memoryGiB": 16,
    "name": "ml.g4dn.xlarge",
    "vcpuNum": 4
   },
   {
    "_defaultOrder": 30,
    "_isFastLaunch": false,
    "category": "Accelerated computing",
    "gpuNum": 1,
    "hideHardwareSpecs": false,
    "memoryGiB": 32,
    "name": "ml.g4dn.2xlarge",
    "vcpuNum": 8
   },
   {
    "_defaultOrder": 31,
    "_isFastLaunch": false,
    "category": "Accelerated computing",
    "gpuNum": 1,
    "hideHardwareSpecs": false,
    "memoryGiB": 64,
    "name": "ml.g4dn.4xlarge",
    "vcpuNum": 16
   },
   {
    "_defaultOrder": 32,
    "_isFastLaunch": false,
    "category": "Accelerated computing",
    "gpuNum": 1,
    "hideHardwareSpecs": false,
    "memoryGiB": 128,
    "name": "ml.g4dn.8xlarge",
    "vcpuNum": 32
   },
   {
    "_defaultOrder": 33,
    "_isFastLaunch": false,
    "category": "Accelerated computing",
    "gpuNum": 4,
    "hideHardwareSpecs": false,
    "memoryGiB": 192,
    "name": "ml.g4dn.12xlarge",
    "vcpuNum": 48
   },
   {
    "_defaultOrder": 34,
    "_isFastLaunch": false,
    "category": "Accelerated computing",
    "gpuNum": 1,
    "hideHardwareSpecs": false,
    "memoryGiB": 256,
    "name": "ml.g4dn.16xlarge",
    "vcpuNum": 64
   },
   {
    "_defaultOrder": 35,
    "_isFastLaunch": false,
    "category": "Accelerated computing",
    "gpuNum": 1,
    "hideHardwareSpecs": false,
    "memoryGiB": 61,
    "name": "ml.p3.2xlarge",
    "vcpuNum": 8
   },
   {
    "_defaultOrder": 36,
    "_isFastLaunch": false,
    "category": "Accelerated computing",
    "gpuNum": 4,
    "hideHardwareSpecs": false,
    "memoryGiB": 244,
    "name": "ml.p3.8xlarge",
    "vcpuNum": 32
   },
   {
    "_defaultOrder": 37,
    "_isFastLaunch": false,
    "category": "Accelerated computing",
    "gpuNum": 8,
    "hideHardwareSpecs": false,
    "memoryGiB": 488,
    "name": "ml.p3.16xlarge",
    "vcpuNum": 64
   },
   {
    "_defaultOrder": 38,
    "_isFastLaunch": false,
    "category": "Accelerated computing",
    "gpuNum": 8,
    "hideHardwareSpecs": false,
    "memoryGiB": 768,
    "name": "ml.p3dn.24xlarge",
    "vcpuNum": 96
   },
   {
    "_defaultOrder": 39,
    "_isFastLaunch": false,
    "category": "Memory Optimized",
    "gpuNum": 0,
    "hideHardwareSpecs": false,
    "memoryGiB": 16,
    "name": "ml.r5.large",
    "vcpuNum": 2
   },
   {
    "_defaultOrder": 40,
    "_isFastLaunch": false,
    "category": "Memory Optimized",
    "gpuNum": 0,
    "hideHardwareSpecs": false,
    "memoryGiB": 32,
    "name": "ml.r5.xlarge",
    "vcpuNum": 4
   },
   {
    "_defaultOrder": 41,
    "_isFastLaunch": false,
    "category": "Memory Optimized",
    "gpuNum": 0,
    "hideHardwareSpecs": false,
    "memoryGiB": 64,
    "name": "ml.r5.2xlarge",
    "vcpuNum": 8
   },
   {
    "_defaultOrder": 42,
    "_isFastLaunch": false,
    "category": "Memory Optimized",
    "gpuNum": 0,
    "hideHardwareSpecs": false,
    "memoryGiB": 128,
    "name": "ml.r5.4xlarge",
    "vcpuNum": 16
   },
   {
    "_defaultOrder": 43,
    "_isFastLaunch": false,
    "category": "Memory Optimized",
    "gpuNum": 0,
    "hideHardwareSpecs": false,
    "memoryGiB": 256,
    "name": "ml.r5.8xlarge",
    "vcpuNum": 32
   },
   {
    "_defaultOrder": 44,
    "_isFastLaunch": false,
    "category": "Memory Optimized",
    "gpuNum": 0,
    "hideHardwareSpecs": false,
    "memoryGiB": 384,
    "name": "ml.r5.12xlarge",
    "vcpuNum": 48
   },
   {
    "_defaultOrder": 45,
    "_isFastLaunch": false,
    "category": "Memory Optimized",
    "gpuNum": 0,
    "hideHardwareSpecs": false,
    "memoryGiB": 512,
    "name": "ml.r5.16xlarge",
    "vcpuNum": 64
   },
   {
    "_defaultOrder": 46,
    "_isFastLaunch": false,
    "category": "Memory Optimized",
    "gpuNum": 0,
    "hideHardwareSpecs": false,
    "memoryGiB": 768,
    "name": "ml.r5.24xlarge",
    "vcpuNum": 96
   },
   {
    "_defaultOrder": 47,
    "_isFastLaunch": false,
    "category": "Accelerated computing",
    "gpuNum": 1,
    "hideHardwareSpecs": false,
    "memoryGiB": 16,
    "name": "ml.g5.xlarge",
    "vcpuNum": 4
   },
   {
    "_defaultOrder": 48,
    "_isFastLaunch": false,
    "category": "Accelerated computing",
    "gpuNum": 1,
    "hideHardwareSpecs": false,
    "memoryGiB": 32,
    "name": "ml.g5.2xlarge",
    "vcpuNum": 8
   },
   {
    "_defaultOrder": 49,
    "_isFastLaunch": false,
    "category": "Accelerated computing",
    "gpuNum": 1,
    "hideHardwareSpecs": false,
    "memoryGiB": 64,
    "name": "ml.g5.4xlarge",
    "vcpuNum": 16
   },
   {
    "_defaultOrder": 50,
    "_isFastLaunch": false,
    "category": "Accelerated computing",
    "gpuNum": 1,
    "hideHardwareSpecs": false,
    "memoryGiB": 128,
    "name": "ml.g5.8xlarge",
    "vcpuNum": 32
   },
   {
    "_defaultOrder": 51,
    "_isFastLaunch": false,
    "category": "Accelerated computing",
    "gpuNum": 1,
    "hideHardwareSpecs": false,
    "memoryGiB": 256,
    "name": "ml.g5.16xlarge",
    "vcpuNum": 64
   },
   {
    "_defaultOrder": 52,
    "_isFastLaunch": false,
    "category": "Accelerated computing",
    "gpuNum": 4,
    "hideHardwareSpecs": false,
    "memoryGiB": 192,
    "name": "ml.g5.12xlarge",
    "vcpuNum": 48
   },
   {
    "_defaultOrder": 53,
    "_isFastLaunch": false,
    "category": "Accelerated computing",
    "gpuNum": 4,
    "hideHardwareSpecs": false,
    "memoryGiB": 384,
    "name": "ml.g5.24xlarge",
    "vcpuNum": 96
   },
   {
    "_defaultOrder": 54,
    "_isFastLaunch": false,
    "category": "Accelerated computing",
    "gpuNum": 8,
    "hideHardwareSpecs": false,
    "memoryGiB": 768,
    "name": "ml.g5.48xlarge",
    "vcpuNum": 192
   },
   {
    "_defaultOrder": 55,
    "_isFastLaunch": false,
    "category": "Accelerated computing",
    "gpuNum": 8,
    "hideHardwareSpecs": false,
    "memoryGiB": 1152,
    "name": "ml.p4d.24xlarge",
    "vcpuNum": 96
   },
   {
    "_defaultOrder": 56,
    "_isFastLaunch": false,
    "category": "Accelerated computing",
    "gpuNum": 8,
    "hideHardwareSpecs": false,
    "memoryGiB": 1152,
    "name": "ml.p4de.24xlarge",
    "vcpuNum": 96
   }
  ],
  "instance_type": "ml.t3.medium",
  "kernelspec": {
   "display_name": "conda_python3",
   "language": "python",
   "name": "conda_python3"
  },
  "language_info": {
   "codemirror_mode": {
    "name": "ipython",
    "version": 3
   },
   "file_extension": ".py",
   "mimetype": "text/x-python",
   "name": "python",
   "nbconvert_exporter": "python",
   "pygments_lexer": "ipython3",
   "version": "3.10.14"
  }
 },
 "nbformat": 4,
 "nbformat_minor": 5
}
