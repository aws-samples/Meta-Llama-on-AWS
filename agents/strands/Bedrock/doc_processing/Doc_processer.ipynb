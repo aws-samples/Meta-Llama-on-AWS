{
 "cells": [
  {
   "cell_type": "markdown",
   "id": "3eb151c0-0931-4055-8a2a-8e4d6d211fb7",
   "metadata": {},
   "source": [
    "# Intelligent Expense Processing: A Guided Tutorial on Building Agents using AWS Strands with Llama4 Scout and Maverick on Amazon Bedrock "
   ]
  },
  {
   "cell_type": "markdown",
   "id": "d0691a9f-0220-4601-a353-e5785a14b474",
   "metadata": {},
   "source": [
    "## Overview\n",
    "This comprehensive tutorial is designed to guide you through the process of developing and deploying  multi-agent systems using AWS Strands on Amazon Bedrock. Specifically, you will gain hands-on experience in:\n",
    "\n",
    "1. Creating multiple autonomous agents leveraging the Llama4 Scout and Maverick models, integrated with specialized tools on Amazon Bedrock, to demonstrate the capabilities of AWS Strands.\n",
    "2. Hosting a fully functional \"Expense processing agent\" utilizing the Amazon Bedrock AgentCore Runtime, showcasing the seamless integration of AI-driven automation and enterprise workflows.\n",
    "\n",
    "By the end of this tutorial, you will have acquired the knowledge and skills necessary to design, develop, and deploy sophisticated agent-based applications on Amazon Bedrock with Llama4 models and AWS Strands."
   ]
  },
  {
   "cell_type": "markdown",
   "id": "ab43a0c1-4bc9-4b23-8553-8afead53dda4",
   "metadata": {},
   "source": [
    "### Tutorial Architecture\n",
    "\n",
    "<center><img src='images/Agent_workshop.png'></center>"
   ]
  },
  {
   "cell_type": "markdown",
   "id": "b1f00309-3439-4a68-a3d2-42bbb82f68a1",
   "metadata": {
    "execution": {
     "iopub.execute_input": "2025-09-16T00:59:04.178394Z",
     "iopub.status.busy": "2025-09-16T00:59:04.177704Z",
     "iopub.status.idle": "2025-09-16T00:59:04.185176Z",
     "shell.execute_reply": "2025-09-16T00:59:04.184138Z",
     "shell.execute_reply.started": "2025-09-16T00:59:04.178364Z"
    }
   },
   "source": [
    "### Pre-requisites\n",
    "\n",
    "Please ensure that the current IAM role got the following permissions.\n",
    "\n",
    "    a. AgentCore full access - Please refer to (https://docs.aws.amazon.com/aws-managed-policy/latest/reference/BedrockAgentCoreFullAccess.html )\n",
    "    b. Amazon Bedrock - Please refer to (https://docs.aws.amazon.com/aws-managed-policy/latest/reference/AmazonBedrockFullAccess.html)\n",
    "    c. IAM access - Please refer to (https://docs.aws.amazon.com/aws-managed-policy/latest/reference/IAMFullAccess.html)\n",
    "    d. S3 access - Please refer to (https://docs.aws.amazon.com/aws-managed-policy/latest/reference/AmazonS3FullAccess.html)"
   ]
  },
  {
   "cell_type": "markdown",
   "id": "84f7506d-4a70-4561-8b6b-108713d985d5",
   "metadata": {},
   "source": [
    "### Install Dependencies"
   ]
  },
  {
   "cell_type": "code",
   "execution_count": null,
   "id": "1f31d2f2-2a79-43fc-bdeb-63622b7ba6eb",
   "metadata": {},
   "outputs": [],
   "source": [
    "!pip install -r requirements.txt --force --no-cache --quiet"
   ]
  },
  {
   "cell_type": "code",
   "execution_count": null,
   "id": "87b0acaf-6152-4170-8d88-148caf9e1541",
   "metadata": {},
   "outputs": [],
   "source": [
    "import sagemaker\n",
    "role = sagemaker.get_execution_role()"
   ]
  },
  {
   "cell_type": "markdown",
   "id": "db48a24d-9e62-4127-98de-242d38ea83e6",
   "metadata": {},
   "source": [
    "### Function to upload receipt images into S3 bucket"
   ]
  },
  {
   "cell_type": "code",
   "execution_count": null,
   "id": "af112760-1b3c-429c-95f0-b4203fe118aa",
   "metadata": {},
   "outputs": [],
   "source": [
    "import boto3\n",
    "import os\n",
    "\n",
    "def upload_directory_to_s3(image_dir, bucket_name, s3_prefix):\n",
    "    \"\"\"\n",
    "    Uploads all files from a local directory to an S3 bucket.\n",
    "\n",
    "    Args:\n",
    "        local_directory_path (str): The path to the local directory to upload.\n",
    "        bucket_name (str): The name of the S3 bucket.\n",
    "        s3_prefix (str, optional): An optional S3 key prefix to add to the uploaded files.\n",
    "                                   This helps in organizing files within the S3 bucket.\n",
    "    \"\"\"\n",
    "    s3_client = boto3.client('s3')\n",
    "\n",
    "    if not os.path.isdir(image_dir):\n",
    "        print(f\"Error: Local directory '{image_dir}' not found.\")\n",
    "        return\n",
    "    \n",
    "    entries = os.listdir(image_dir)\n",
    "    images = [image_dir+\"/\"+entry for entry in entries if os.path.isfile(os.path.join(image_dir, entry))]\n",
    "    \n",
    "    for img in images:\n",
    "        try:\n",
    "            s3_key = f\"{s3_prefix}/{img.split('/')[-1]}\"\n",
    "            s3_client.upload_file(img, bucket_name, s3_key)\n",
    "            print(f\"Uploaded '{img}' to 's3://{bucket_name}/{s3_prefix}'\")\n",
    "        except Exception as e:\n",
    "            print(f\"Error uploading '{img}': {e}\")\n",
    "\n"
   ]
  },
  {
   "cell_type": "markdown",
   "id": "75a1a1cf-808d-4adc-9cb6-e68eee787767",
   "metadata": {},
   "source": [
    "### Define S3 Bucket and Prefix where the images will be uploaded"
   ]
  },
  {
   "cell_type": "code",
   "execution_count": null,
   "id": "594a463d-2d15-4895-aa3c-c028bcd0b4c3",
   "metadata": {},
   "outputs": [],
   "source": [
    "# Replace with your actual directory path and S3 bucket details\n",
    "images_dir = \"./Receipt_images\" #Local dir path where the receipt images are available\n",
    "\n",
    "s3_bucket = '' #update your custom s3 bucket name here if needed\n",
    "if not s3_bucket: #If there is no custom bucket defined, consider Sagemaker's default bucket\n",
    "    import sagemaker\n",
    "    session = sagemaker.Session()\n",
    "    s3_bucket = session.default_bucket()    \n",
    "    print(s3_bucket)\n",
    "\n",
    "s3_prefix = \"doc_processing/images\" #Upload into a \"directory\" within the bucket\n",
    "\n"
   ]
  },
  {
   "cell_type": "code",
   "execution_count": null,
   "id": "44ac3394-e11f-49ee-bdd9-a918a0d4a2ed",
   "metadata": {},
   "outputs": [],
   "source": [
    "#Upload all the images from local dir to S3\n",
    "upload_directory_to_s3(images_dir, s3_bucket, s3_prefix)"
   ]
  },
  {
   "cell_type": "markdown",
   "id": "69c824cb-7867-4576-82ed-f1f3a9cc598d",
   "metadata": {},
   "source": [
    "### Define employee related variables"
   ]
  },
  {
   "cell_type": "code",
   "execution_count": null,
   "id": "55be25ec-a042-46e3-9902-043c6bf2ebc2",
   "metadata": {},
   "outputs": [],
   "source": [
    "import json\n",
    "inputs = {\"emp_first_name\": \"Jane\",\n",
    "           \"emp_last_name\": \"Doe\",\n",
    "           \"emp_num\": 12345,\n",
    "           \"cost_center\": 98763,\n",
    "           \"division\": \"Sales\",\n",
    "           \"bucket\": s3_bucket,\n",
    "           \"images_prefix\": s3_prefix\n",
    "        }\n",
    "\n",
    "inputs = json.dumps(inputs)"
   ]
  },
  {
   "cell_type": "markdown",
   "id": "05a2aa9e-4b06-4e47-b7af-7d8834d45bf7",
   "metadata": {},
   "source": [
    "#### Invoking local agent"
   ]
  },
  {
   "cell_type": "code",
   "execution_count": null,
   "id": "5c8a0ab1-3c40-450b-808b-3794a34f5a7b",
   "metadata": {},
   "outputs": [],
   "source": [
    "from src.main_local import run_expense_processor\n",
    "expense_report = run_expense_processor(inputs)"
   ]
  },
  {
   "cell_type": "code",
   "execution_count": null,
   "id": "99a6836b-102e-4d2d-9dad-8faccd1e1ef9",
   "metadata": {},
   "outputs": [],
   "source": [
    "#Function to read the output using pandas\n",
    "import pandas as pd\n",
    "\n",
    "def df_out(expense_report):\n",
    "    df = pd.json_normalize(expense_report)\n",
    "    return df"
   ]
  },
  {
   "cell_type": "code",
   "execution_count": null,
   "id": "bf31f873-3768-41fb-8afe-c2f70dd8ae3d",
   "metadata": {},
   "outputs": [],
   "source": [
    "exp_report_sum = df_out(expense_report)\n",
    "exp_report_sum"
   ]
  },
  {
   "cell_type": "code",
   "execution_count": null,
   "id": "b7f989ea-b7d7-4c84-a0e5-ed3984f577d3",
   "metadata": {},
   "outputs": [],
   "source": [
    "#Exceptions details from DF\n",
    "exp_report_sum['EXCEPTIONS_SUMMARY'][0]"
   ]
  },
  {
   "cell_type": "code",
   "execution_count": null,
   "id": "5b29c95f-9bad-40f6-a3ad-ca504eaf6c56",
   "metadata": {},
   "outputs": [],
   "source": [
    "#Expenses details from DF \n",
    "exp_report_sum['Expenses'][0]"
   ]
  },
  {
   "cell_type": "markdown",
   "id": "61122ee2-e075-4bed-a1a0-34367cb4372c",
   "metadata": {},
   "source": [
    "### Preparing your agent for deployment on AgentCore Runtime\n",
    "\n",
    "Let's now deploy our agents to AgentCore Runtime. To do so we need to add the following in out orchestrator agent ```src/main_AgentCore.py```:\n",
    "\n",
    "Please check ```src/main_local.py```and  ```src/main_AgentCore.py``` on modifications done.\n",
    "\n",
    "1. Import the Runtime App with ```from bedrock_agentcore.runtime import BedrockAgentCoreApp```\n",
    "2. Initialize the App in our code with ```app = BedrockAgentCoreApp()```\n",
    "3. Decorate the invocation function with the ```@app.entrypoint decorator```\n",
    "\n",
    "Let AgentCoreRuntime control the running of the agent with ```app.run()```\n",
    "\n",
    "#### Strands Agents with Amazon Bedrock model\n",
    "Let's start with our Strands Agent using Amazon Bedrock model. All the others will work exactly the same."
   ]
  },
  {
   "cell_type": "code",
   "execution_count": null,
   "id": "28ce12dd-8c46-4a01-8c10-d4099c351432",
   "metadata": {},
   "outputs": [],
   "source": [
    "#Local Version before making changes\n",
    "!cat src/main_local.py "
   ]
  },
  {
   "cell_type": "code",
   "execution_count": null,
   "id": "9547e020-3038-4b1e-892b-672ae0d8e064",
   "metadata": {},
   "outputs": [],
   "source": [
    "!diff src/main_local.py src/main_AgentCore.py"
   ]
  },
  {
   "cell_type": "code",
   "execution_count": null,
   "id": "bff55074-f161-4f46-bc9d-edb8065faf49",
   "metadata": {},
   "outputs": [],
   "source": [
    "#After changes specific to AgentCore Runtime\n",
    "!cat src/main_AgentCore.py "
   ]
  },
  {
   "cell_type": "markdown",
   "id": "f2d25c38-a86f-440a-8a01-a85c433d7116",
   "metadata": {},
   "source": [
    "#### Deploying the agent to AgentCore Runtime\n",
    "The CreateAgentRuntime operation supports comprehensive configuration options, letting you specify container images, environment variables and encryption settings. You can also configure protocol settings (HTTP, MCP) and authorization mechanisms to control how your clients communicate with the agent.\n",
    "\n",
    "Note: Operations best practice is to package code as container and push to ECR using CI/CD pipelines and IaC\n",
    "\n",
    "In this tutorial can will the Amazon Bedrock AgentCore Python SDK to easily package your artifacts and deploy them to AgentCore runtime.\n",
    "\n",
    "#### Configure AgentCore Runtime deployment\n",
    "First we will use our starter toolkit to configure the AgentCore Runtime deployment with an entrypoint, the execution role we just created and a requirements file. We will also configure the starter kit to auto create the Amazon ECR repository on launch.\n",
    "\n",
    "During the configure step, your docker file will be generated based on your application code\n",
    "\n",
    "<center><img src='images/configure.png'></center>"
   ]
  },
  {
   "cell_type": "markdown",
   "id": "1202762f-2ea0-4be8-842d-da716a64608b",
   "metadata": {},
   "source": [
    "#### IAM service role\n",
    "To run an AgentCore Runtime you must create a service role and add all neccessary permissions. The service role allows AgentCore Runtime to perform actions on your behalf in your AWS account. Please refer to [Documentation](https://docs.aws.amazon.com/bedrock/latest/userguide/automatic-service-roles.html.) for more details."
   ]
  },
  {
   "cell_type": "code",
   "execution_count": null,
   "id": "1cdb81ff-9b21-45e5-9243-f0782314e081",
   "metadata": {},
   "outputs": [],
   "source": [
    "#Create IAM role\n",
    "iam = boto3.client('iam')\n",
    "aws_acct = boto3.client('sts').get_caller_identity().get('Account')\n",
    "region = boto3.session.Session().region_name\n",
    "\n"
   ]
  },
  {
   "cell_type": "code",
   "execution_count": null,
   "id": "f69d8420-8895-4fbf-9dd8-948fd2dfa418",
   "metadata": {},
   "outputs": [],
   "source": [
    "AC_policy_doc= json.dumps({\n",
    "    \"Version\": \"2012-10-17\",\n",
    "    \"Statement\": [\n",
    "        {\n",
    "            \"Sid\": \"AssumeRolePolicy\",\n",
    "            \"Effect\": \"Allow\",\n",
    "            \"Principal\": {\n",
    "                \"Service\": \"bedrock-agentcore.amazonaws.com\"\n",
    "            },\n",
    "            \"Action\": \"sts:AssumeRole\",\n",
    "            \"Condition\": {\n",
    "                \"StringEquals\": {\n",
    "                    \"aws:SourceAccount\": \"{}\".format(aws_acct)\n",
    "                },\n",
    "                \"ArnLike\": {\n",
    "                    \"aws:SourceArn\": \"arn:aws:bedrock-agentcore:{}:{}:*\".format(region, aws_acct)\n",
    "                }\n",
    "            }\n",
    "        }\n",
    "    ]\n",
    "}\n",
    ")"
   ]
  },
  {
   "cell_type": "code",
   "execution_count": null,
   "id": "b81ade19-0f6e-4d21-9877-f14433c7f5e6",
   "metadata": {},
   "outputs": [],
   "source": [
    "import datetime\n",
    "\n",
    "role_name=\"AgentCoreRuntimeWorkshop-{}\".format(str(datetime.datetime.now().timestamp()).split('.')[0])\n",
    "create_role_response = iam.create_role(\n",
    "    RoleName=role_name,\n",
    "    AssumeRolePolicyDocument = AC_policy_doc\n",
    ")"
   ]
  },
  {
   "cell_type": "code",
   "execution_count": null,
   "id": "21fb1d48-a17f-4a75-83d3-13370d1185a7",
   "metadata": {},
   "outputs": [],
   "source": [
    "role_arn = create_role_response[\"Role\"][\"Arn\"]\n",
    "\n",
    "role_arn"
   ]
  },
  {
   "cell_type": "code",
   "execution_count": null,
   "id": "e306f69b-7a78-4140-98b8-f09e2b3c6893",
   "metadata": {},
   "outputs": [],
   "source": [
    "AC_permission_policy = json.dumps({\n",
    "    \"Version\": \"2012-10-17\",\n",
    "    \"Statement\": [\n",
    "        {\n",
    "            \"Sid\": \"ECRImageAccess\",\n",
    "            \"Effect\": \"Allow\",\n",
    "            \"Action\": [\n",
    "                \"ecr:BatchGetImage\",\n",
    "                \"ecr:GetDownloadUrlForLayer\"\n",
    "            ],\n",
    "            \"Resource\": [\n",
    "                \"arn:aws:ecr:{}:{}:repository/*\".format(region, aws_acct)\n",
    "            ]        \n",
    "        },\n",
    "        {\n",
    "            \"Effect\": \"Allow\",\n",
    "            \"Action\": [\n",
    "                \"logs:DescribeLogStreams\",\n",
    "                \"logs:CreateLogGroup\"\n",
    "            ],\n",
    "            \"Resource\": [\n",
    "                \"arn:aws:logs:{}:{}:log-group:/aws/bedrock-agentcore/runtimes/*\".format(region, aws_acct)\n",
    "            ]\n",
    "        },\n",
    "        {\n",
    "            \"Effect\": \"Allow\",\n",
    "            \"Action\": [\n",
    "                \"logs:DescribeLogGroups\"\n",
    "            ],\n",
    "            \"Resource\": [\n",
    "                \"arn:aws:logs:{}:{}:log-group:*\".format(region, aws_acct)\n",
    "            ]\n",
    "        },\n",
    "        {\n",
    "            \"Effect\": \"Allow\",\n",
    "            \"Action\": [\n",
    "                \"logs:CreateLogStream\",\n",
    "                \"logs:PutLogEvents\"\n",
    "            ],\n",
    "            \"Resource\": [\n",
    "                \"arn:aws:logs:{}:{}:log-group:/aws/bedrock-agentcore/runtimes/*:log-stream:*\".format(region, aws_acct)\n",
    "            ]\n",
    "        },\n",
    "        {\n",
    "            \"Sid\": \"ECRTokenAccess\",\n",
    "            \"Effect\": \"Allow\",\n",
    "            \"Action\": [\n",
    "                \"ecr:GetAuthorizationToken\"\n",
    "            ],\n",
    "            \"Resource\": \"*\"\n",
    "        },\n",
    "        {\n",
    "        \"Effect\": \"Allow\", \n",
    "        \"Action\": [ \n",
    "            \"xray:PutTraceSegments\", \n",
    "            \"xray:PutTelemetryRecords\", \n",
    "            \"xray:GetSamplingRules\", \n",
    "            \"xray:GetSamplingTargets\"\n",
    "            ],\n",
    "         \"Resource\": [ \"*\" ] \n",
    "         },\n",
    "         {\n",
    "            \"Effect\": \"Allow\",\n",
    "            \"Resource\": \"*\",\n",
    "            \"Action\": \"cloudwatch:PutMetricData\",\n",
    "            \"Condition\": {\n",
    "                \"StringEquals\": {\n",
    "                    \"cloudwatch:namespace\": \"bedrock-agentcore\"\n",
    "                }\n",
    "            }\n",
    "        },\n",
    "        {\n",
    "            \"Sid\": \"GetAgentAccessToken\",\n",
    "            \"Effect\": \"Allow\",\n",
    "            \"Action\": [\n",
    "                \"bedrock-agentcore:GetWorkloadAccessToken\",\n",
    "                \"bedrock-agentcore:GetWorkloadAccessTokenForJWT\",\n",
    "                \"bedrock-agentcore:GetWorkloadAccessTokenForUserId\"\n",
    "            ],\n",
    "            \"Resource\": [\n",
    "              \"arn:aws:bedrock-agentcore:{}:{}:workload-identity-directory/default\".format(region, aws_acct),\n",
    "              \"arn:aws:bedrock-agentcore:{}:{}:workload-identity-directory/default/workload-identity/agentName-*\".format(region, aws_acct)\n",
    "            ]\n",
    "        },\n",
    "         {\n",
    "\t\t\t\"Sid\": \"BedrockModelInvocation\",\n",
    "\t\t\t\"Effect\": \"Allow\",\n",
    "\t\t\t\"Action\": [\n",
    "\t\t\t\t\"bedrock:InvokeModel\",\n",
    "\t\t\t\t\"bedrock:InvokeModelWithResponseStream\",\n",
    "\t\t\t\t\"bedrock:ApplyGuardrail\"\n",
    "\t\t\t],\n",
    "\t\t\t\"Resource\": [\n",
    "\t\t\t\t\"arn:aws:bedrock:*::foundation-model/*\",\n",
    "\t\t\t\t\"arn:aws:bedrock:{}:{}:*\".format(region, aws_acct)\n",
    "\t\t\t]\n",
    "\t\t},\n",
    "        {\n",
    "\t\t\t\"Sid\": \"ListObjectsInBucket\",\n",
    "\t\t\t\"Effect\": \"Allow\",\n",
    "\t\t\t\"Action\": [\n",
    "\t\t\t\t\"s3:ListBucket\"\n",
    "\t\t\t],\n",
    "\t\t\t\"Resource\": [\n",
    "\t\t\t\t\"arn:aws:s3:::{}\".format(s3_bucket)\n",
    "\t\t\t]\n",
    "\t\t},\n",
    "\t\t{\n",
    "\t\t\t\"Sid\": \"AllObjectActions\",\n",
    "\t\t\t\"Effect\": \"Allow\",\n",
    "\t\t\t\"Action\": \"s3:*Object\",\n",
    "\t\t\t\"Resource\": [\n",
    "\t\t\t\t\"arn:aws:s3:::{}/*\".format(s3_bucket)\n",
    "\t\t\t]\n",
    "\t\t}\n",
    "    ]\n",
    "}\n",
    "\n",
    "                          )\n"
   ]
  },
  {
   "cell_type": "code",
   "execution_count": null,
   "id": "dddd4313-44aa-4b88-8766-4d7f7f9e75ba",
   "metadata": {},
   "outputs": [],
   "source": [
    "iam_ac_response = iam.put_role_policy(\n",
    "    RoleName=role_name,\n",
    "    PolicyName=\"agentcore-perm\",\n",
    "    PolicyDocument=AC_permission_policy\n",
    ")\n",
    "iam_ac_response"
   ]
  },
  {
   "cell_type": "code",
   "execution_count": null,
   "id": "2449c14b-9d76-49df-b453-8372a3e7f370",
   "metadata": {},
   "outputs": [],
   "source": [
    "from bedrock_agentcore_starter_toolkit import Runtime\n",
    "from boto3.session import Session\n",
    "import datetime\n",
    "import random\n",
    "\n",
    "boto_session = Session()\n",
    "region = boto_session.region_name\n",
    "\n",
    "# Get the current datetime\n",
    "now = datetime.datetime.now()\n",
    "\n",
    "# Format the datetime into a string (e.g., 'YYYYMMDD_HHMMSS')\n",
    "datetime_string = now.strftime(\"%Y%m%d%H%M%S\")\n",
    "\n",
    "# Generate a random integer (e.g., between 1000 and 9999)\n",
    "random_number = random.randint(1000, 9999)\n",
    "\n",
    "# Combine the datetime string and the random number into a single string\n",
    "random_string = f\"{datetime_string}_{random_number}\"\n",
    "\n",
    "agentcore_runtime = Runtime()\n",
    "agent_name = f\"expense_claim_processor_{random_string}\"\n",
    "response = agentcore_runtime.configure(\n",
    "    entrypoint=\"src/main_AgentCore.py\",\n",
    "    execution_role=role_arn,\n",
    "    auto_create_ecr=True,\n",
    "    requirements_file=\"requirements.txt\",\n",
    "    region=region,\n",
    "    agent_name=agent_name\n",
    ")\n"
   ]
  },
  {
   "cell_type": "markdown",
   "id": "b2e4919a-be77-431d-a1bb-6e692b3b9070",
   "metadata": {},
   "source": [
    "#### Launching agent to AgentCore Runtime\n",
    "\n",
    "Now that we've got a docker file, let's launch the agent to the AgentCore Runtime. This will create the Amazon ECR repository and the AgentCore Runtime.\n",
    "\n",
    "<center><img src='images/launch_1.png'></center>"
   ]
  },
  {
   "cell_type": "markdown",
   "id": "35b9f021-3e0f-40e0-85bb-1a9617d85988",
   "metadata": {},
   "source": [
    "#### Write a custom Dockerfile"
   ]
  },
  {
   "cell_type": "code",
   "execution_count": null,
   "id": "d08fd299-9e36-4c04-b880-df3628e2a4bb",
   "metadata": {},
   "outputs": [],
   "source": [
    "%%writefile Dockerfile\n",
    "FROM ghcr.io/astral-sh/uv:python3.12-bookworm-slim\n",
    "WORKDIR /app\n",
    "\n",
    "#COPY all dependencies\n",
    "COPY src/main_AgentCore.py /app/main_AgentCore.py\n",
    "COPY src/ocr_agent.py /app/ocr_agent.py\n",
    "COPY src/policy_checker.py /app/policy_checker.py\n",
    "COPY src/cur_convert.py /app/cur_convert.py\n",
    "COPY src/structured_out.py /app/structured_out.py\n",
    "COPY src/travel_policy.txt /app/travel_policy.txt\n",
    "\n",
    "# Configure UV for container environment\n",
    "ENV UV_SYSTEM_PYTHON=1 UV_COMPILE_BYTECODE=1\n",
    "\n",
    "COPY requirements.txt requirements.txt\n",
    "# Install from requirements file\n",
    "RUN uv pip install -r requirements.txt\n",
    "RUN uv pip install aws-opentelemetry-distro>=0.10.1\n",
    "\n",
    "# Set AWS region environment variable\n",
    "ENV AWS_REGION=us-east-1\n",
    "ENV AWS_DEFAULT_REGION=us-east-1\n",
    "\n",
    "# Signal that this is running in Docker for host binding logic\n",
    "ENV DOCKER_CONTAINER=1\n",
    "\n",
    "# Create non-root user\n",
    "RUN useradd -m -u 1000 bedrock_agentcore\n",
    "USER bedrock_agentcore\n",
    "\n",
    "EXPOSE 8080\n",
    "EXPOSE 8000\n",
    "\n",
    "# Copy entire project (respecting .dockerignore)\n",
    "COPY . .\n",
    "\n",
    "# Use the full module path\n",
    "CMD [\"opentelemetry-instrument\", \"python\", \"-m\", \"main_AgentCore\"]"
   ]
  },
  {
   "cell_type": "code",
   "execution_count": null,
   "id": "e259ba3f-f133-46b0-9652-ada930e9383e",
   "metadata": {},
   "outputs": [],
   "source": [
    "launch_result = agentcore_runtime.launch()"
   ]
  },
  {
   "cell_type": "markdown",
   "id": "ee59b7c4-feae-473a-98a6-1f51f8e372a4",
   "metadata": {},
   "source": [
    "#### Launching agent to AgentCore Runtime\n",
    "\n",
    "Now that we've got a docker file, let's launch the agent to the AgentCore Runtime. This will create the Amazon ECR repository and the AgentCore Runtime\n",
    "<center><img src='images/launch_2.png'></center>"
   ]
  },
  {
   "cell_type": "code",
   "execution_count": null,
   "id": "ef5d56b3-2907-4a09-9e5a-f249d928e505",
   "metadata": {},
   "outputs": [],
   "source": [
    "launch_result = agentcore_runtime.launch()"
   ]
  },
  {
   "cell_type": "markdown",
   "id": "40f48283-d32e-44f3-862c-69b5cc371528",
   "metadata": {},
   "source": [
    "#### Checking for the AgentCore Runtime Status\n",
    "Now that we've deployed the AgentCore Runtime, let's check for it's deployment status"
   ]
  },
  {
   "cell_type": "code",
   "execution_count": null,
   "id": "8500fee5-7ca9-40f3-9819-20ae12196a7e",
   "metadata": {},
   "outputs": [],
   "source": [
    "import time\n",
    "status_response = agentcore_runtime.status()\n",
    "status = status_response.endpoint['status']\n",
    "end_status = ['READY', 'CREATE_FAILED', 'DELETE_FAILED', 'UPDATE_FAILED']\n",
    "while status not in end_status:\n",
    "    time.sleep(10)\n",
    "    status_response = agentcore_runtime.status()\n",
    "    status = status_response.endpoint['status']\n",
    "    print(status)\n",
    "status"
   ]
  },
  {
   "cell_type": "markdown",
   "id": "4ce0ded2-0ca2-4012-9fff-24414c4f42ab",
   "metadata": {},
   "source": [
    "#### Invoking AgentCore Runtime\n",
    "Finally, we can invoke our AgentCore Runtime with a payload\n",
    "<center><img src='images/invoke.png'></center>"
   ]
  },
  {
   "cell_type": "code",
   "execution_count": null,
   "id": "4d42d0d0-c8b4-4704-9276-9e28d7430e33",
   "metadata": {},
   "outputs": [],
   "source": [
    "import json\n",
    "payload = {\"emp_first_name\": \"Jane\",\n",
    "           \"emp_last_name\": \"Doe\",\n",
    "           \"emp_num\": 12345,\n",
    "           \"cost_center\": 98763,\n",
    "           \"division\": \"Sales\",\n",
    "           \"bucket\": s3_bucket,\n",
    "           \"images_prefix\": s3_prefix\n",
    "        }\n",
    "\n",
    "payload = json.dumps(payload)"
   ]
  },
  {
   "cell_type": "code",
   "execution_count": null,
   "id": "6ecc78c3-34d0-44e0-b019-7fa7215615cc",
   "metadata": {},
   "outputs": [],
   "source": [
    "invoke_response = agentcore_runtime.invoke(payload)\n"
   ]
  },
  {
   "cell_type": "markdown",
   "id": "ec3f7bb9-afd1-481a-9860-4f81e3c5eed1",
   "metadata": {},
   "source": [
    "#### Processing invocation results\n",
    "We can now process our invocation results to include it in an application"
   ]
  },
  {
   "cell_type": "code",
   "execution_count": null,
   "id": "0a9692b7-2cc5-4262-af81-7ca09b1dbe1e",
   "metadata": {},
   "outputs": [],
   "source": [
    "response_json = json.loads(\"\".join(invoke_response['response']))\n",
    "df_result = df_out(response_json)\n",
    "df_result\n",
    "\n",
    "#Note: You can also explore the expenses within results as df_result['Expenses'] and df_result['EXCEPTIONS_SUMMARY']"
   ]
  },
  {
   "cell_type": "markdown",
   "id": "22d66f90-4324-4287-9e9e-937a72281bca",
   "metadata": {},
   "source": [
    "#### Invoking AgentCore Runtime with boto3\n",
    "Now that your AgentCore Runtime was created you can invoke it with any AWS SDK. For instance, you can use the boto3 ```invoke_agent_runtime``` method for it."
   ]
  },
  {
   "cell_type": "code",
   "execution_count": null,
   "id": "943e8d34-bb0c-470e-ac11-97ea755bb50e",
   "metadata": {},
   "outputs": [],
   "source": [
    "import boto3\n",
    "agent_arn = launch_result.agent_arn\n",
    "agentcore_client = boto3.client(\n",
    "    'bedrock-agentcore',\n",
    "    region_name=region\n",
    ")\n",
    "\n",
    "boto3_response = agentcore_client.invoke_agent_runtime(\n",
    "    agentRuntimeArn=agent_arn,\n",
    "    qualifier=\"DEFAULT\",\n",
    "    payload=payload\n",
    ")\n",
    "if \"text/event-stream\" in boto3_response.get(\"contentType\", \"\"):\n",
    "    content = []\n",
    "    for line in boto3_response[\"response\"].iter_lines(chunk_size=1):\n",
    "        if line:\n",
    "            line = line.decode(\"utf-8\")\n",
    "            if line.startswith(\"data: \"):\n",
    "                line = line[6:]\n",
    "                print(line)\n",
    "                content.append(line)\n",
    "    display(Markdown(\"\\n\".join(content)))\n",
    "else:\n",
    "    try:\n",
    "        events = []\n",
    "        for event in boto3_response.get(\"response\", []):\n",
    "            events.append(event)\n",
    "    except Exception as e:\n",
    "        events = [f\"Error reading EventStream: {e}\"]\n"
   ]
  },
  {
   "cell_type": "code",
   "execution_count": null,
   "id": "caaabb01-fbd9-4aab-905a-da3a86acb28d",
   "metadata": {},
   "outputs": [],
   "source": [
    "boto3_response_json = json.loads(\"\".join([event.decode(\"utf-8\") for event in events]))\n",
    "df_result = df_out(boto3_response_json)\n",
    "df_result\n",
    "\n",
    "#Note: You can also explore the expenses within results as df_result['Expenses'] and df_result['EXCEPTIONS_SUMMARY']"
   ]
  },
  {
   "cell_type": "markdown",
   "id": "6b12cda4-a8e7-4582-a297-91302247cb78",
   "metadata": {},
   "source": [
    "### Cleanup (Optional)\n",
    "Let's now clean up the AgentCore Runtime created"
   ]
  },
  {
   "cell_type": "code",
   "execution_count": null,
   "id": "cfbc3ef9-e809-4c66-8789-297a9c5a1bb9",
   "metadata": {},
   "outputs": [],
   "source": [
    "launch_result.ecr_uri, launch_result.agent_id, launch_result.ecr_uri.split('/')[1]"
   ]
  },
  {
   "cell_type": "code",
   "execution_count": null,
   "id": "c753e89a-098c-4680-bf06-de1a12c86adf",
   "metadata": {},
   "outputs": [],
   "source": [
    "agentcore_control_client = boto3.client(\n",
    "    'bedrock-agentcore-control',\n",
    "    region_name=region\n",
    ")\n",
    "ecr_client = boto3.client(\n",
    "    'ecr',\n",
    "    region_name=region\n",
    "    \n",
    ")\n",
    "\n",
    "runtime_delete_response = agentcore_control_client.delete_agent_runtime(\n",
    "    agentRuntimeId=launch_result.agent_id,\n",
    "    \n",
    ")\n",
    "\n",
    "response = ecr_client.delete_repository(\n",
    "    repositoryName=launch_result.ecr_uri.split('/')[1],\n",
    "    force=True\n",
    ")"
   ]
  }
 ],
 "metadata": {
  "kernelspec": {
   "display_name": "Python 3 (ipykernel)",
   "language": "python",
   "name": "python3"
  },
  "language_info": {
   "codemirror_mode": {
    "name": "ipython",
    "version": 3
   },
   "file_extension": ".py",
   "mimetype": "text/x-python",
   "name": "python",
   "nbconvert_exporter": "python",
   "pygments_lexer": "ipython3",
   "version": "3.12.9"
  }
 },
 "nbformat": 4,
 "nbformat_minor": 5
}
